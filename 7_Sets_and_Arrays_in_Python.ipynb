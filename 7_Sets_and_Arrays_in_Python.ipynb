{
  "nbformat": 4,
  "nbformat_minor": 0,
  "metadata": {
    "kernelspec": {
      "display_name": "Python 3",
      "language": "python",
      "name": "python3"
    },
    "language_info": {
      "codemirror_mode": {
        "name": "ipython",
        "version": 3
      },
      "file_extension": ".py",
      "mimetype": "text/x-python",
      "name": "python",
      "nbconvert_exporter": "python",
      "pygments_lexer": "ipython3",
      "version": "3.7.4"
    },
    "toc": {
      "base_numbering": 1,
      "nav_menu": {},
      "number_sections": true,
      "sideBar": true,
      "skip_h1_title": false,
      "title_cell": "Table of Contents",
      "title_sidebar": "Contents",
      "toc_cell": false,
      "toc_position": {},
      "toc_section_display": true,
      "toc_window_display": false
    },
    "colab": {
      "name": "7 Sets and Arrays in Python.ipynb",
      "provenance": [],
      "include_colab_link": true
    }
  },
  "cells": [
    {
      "cell_type": "markdown",
      "metadata": {
        "id": "view-in-github",
        "colab_type": "text"
      },
      "source": [
        "<a href=\"https://colab.research.google.com/github/aniruddhamodak/Python-Notes-For-Data-Science/blob/master/7_Sets_and_Arrays_in_Python.ipynb\" target=\"_parent\"><img src=\"https://colab.research.google.com/assets/colab-badge.svg\" alt=\"Open In Colab\"/></a>"
      ]
    },
    {
      "cell_type": "markdown",
      "metadata": {
        "id": "KSXQv9rnsN0B",
        "colab_type": "text"
      },
      "source": [
        "A set is a collection which is unordered and unindexed. \n",
        "--\n",
        "\n",
        "In Python sets are written with curly brackets.\n",
        "--"
      ]
    },
    {
      "cell_type": "code",
      "metadata": {
        "id": "PKduD1lSsN0D",
        "colab_type": "code",
        "colab": {
          "base_uri": "https://localhost:8080/",
          "height": 34
        },
        "outputId": "c887ca29-8b71-4cf8-ccf4-6435546a73b3"
      },
      "source": [
        "s={\"apple\", \"banana\", \"cherry\"}\n",
        "print(s)\n",
        "# print(s[0]) This will give error. It is a set and does  not support indexing."
      ],
      "execution_count": 3,
      "outputs": [
        {
          "output_type": "stream",
          "text": [
            "{'apple', 'banana', 'cherry'}\n"
          ],
          "name": "stdout"
        }
      ]
    },
    {
      "cell_type": "code",
      "metadata": {
        "id": "c1wgp-MksN0M",
        "colab_type": "code",
        "colab": {},
        "outputId": "ffa2492f-7eca-4b3f-8798-3abcebfeee92"
      },
      "source": [
        "thisset = {\"apple\", \"banana\", \"cherry\"}\n",
        "\n",
        "for x in thisset:\n",
        "  print(x)"
      ],
      "execution_count": 0,
      "outputs": [
        {
          "output_type": "stream",
          "text": [
            "banana\n",
            "apple\n",
            "cherry\n"
          ],
          "name": "stdout"
        }
      ]
    },
    {
      "cell_type": "code",
      "metadata": {
        "id": "gMjSTzOssN0Q",
        "colab_type": "code",
        "colab": {},
        "outputId": "8667e701-71b8-4b38-f436-72f5decea61a"
      },
      "source": [
        "# Check if \"banana\" is present in the set\n",
        "thisset = {\"apple\", \"banana\", \"cherry\"}\n",
        "\n",
        "print(\"banana\" in thisset)\n",
        "print(\"orange\" in thisset)"
      ],
      "execution_count": 0,
      "outputs": [
        {
          "output_type": "stream",
          "text": [
            "True\n",
            "False\n"
          ],
          "name": "stdout"
        }
      ]
    },
    {
      "cell_type": "code",
      "metadata": {
        "id": "AOAb6sNlsN0T",
        "colab_type": "code",
        "colab": {},
        "outputId": "a07314c9-93ee-46ad-9fd0-29f26e82407f"
      },
      "source": [
        "# Once a set is created, you cannot change its items, but you can add new items.\n",
        "\n",
        "# Add Items\n",
        "# To add one item to a set use the add() method.\n",
        "\n",
        "# To add more than one item to a set use the update() method.\n",
        "\n",
        "thisset = {\"apple\", \"banana\", \"cherry\"}\n",
        "\n",
        "thisset.add(\"orange\")\n",
        "\n",
        "print(thisset)"
      ],
      "execution_count": 0,
      "outputs": [
        {
          "output_type": "stream",
          "text": [
            "{'banana', 'orange', 'apple', 'cherry'}\n"
          ],
          "name": "stdout"
        }
      ]
    },
    {
      "cell_type": "code",
      "metadata": {
        "id": "jyf6nH8KsN0X",
        "colab_type": "code",
        "colab": {},
        "outputId": "ae1c62f5-9ff2-4e7b-b484-1a8dd7633f66"
      },
      "source": [
        "# Add multiple items to a set, using the update() method:\n",
        "thisset = {\"apple\", \"banana\", \"cherry\"}\n",
        "\n",
        "thisset.update([\"orange\", \"mango\", \"grapes\"])\n",
        "\n",
        "print(thisset)"
      ],
      "execution_count": 0,
      "outputs": [
        {
          "output_type": "stream",
          "text": [
            "{'orange', 'mango', 'apple', 'grapes', 'banana', 'cherry'}\n"
          ],
          "name": "stdout"
        }
      ]
    },
    {
      "cell_type": "code",
      "metadata": {
        "id": "pVfyWkLusN0e",
        "colab_type": "code",
        "colab": {},
        "outputId": "a4fc3bc4-a927-4528-a7bf-23fe47403377"
      },
      "source": [
        "# Get the number of items in a set:\n",
        "thisset = {\"apple\", \"banana\", \"cherry\"}\n",
        "\n",
        "# [6]\n",
        "len(thisset)"
      ],
      "execution_count": 0,
      "outputs": [
        {
          "output_type": "execute_result",
          "data": {
            "text/plain": [
              "3"
            ]
          },
          "metadata": {
            "tags": []
          },
          "execution_count": 11
        }
      ]
    },
    {
      "cell_type": "code",
      "metadata": {
        "id": "2SDU3g_2sN0i",
        "colab_type": "code",
        "colab": {},
        "outputId": "6b4c0d03-7fc6-4997-9fc4-891712f826e1"
      },
      "source": [
        "# Remove \"banana\" by using the remove() method:\n",
        "thisset = {\"apple\", \"banana\", \"cherry\"}\n",
        "\n",
        "# [7]\n",
        "\n",
        "thisset.remove(\"banana\")\n",
        "print(thisset)"
      ],
      "execution_count": 0,
      "outputs": [
        {
          "output_type": "stream",
          "text": [
            "{'apple', 'cherry'}\n"
          ],
          "name": "stdout"
        }
      ]
    },
    {
      "cell_type": "markdown",
      "metadata": {
        "id": "Txg5BbMYsN0n",
        "colab_type": "text"
      },
      "source": [
        "Join Two Sets\n",
        "--\n",
        "There are several ways to join two or more sets in Python.\n",
        "\n",
        "You can use the union() method that returns a new set containing all items from both sets, or the update() method that inserts all the items from one set into another:"
      ]
    },
    {
      "cell_type": "code",
      "metadata": {
        "id": "Bi-DbIAYsN0n",
        "colab_type": "code",
        "colab": {},
        "outputId": "266e956f-1747-4a78-849f-df69c4b63fa3"
      },
      "source": [
        "# The union() method returns a new set with all items from both sets:\n",
        "set1 = {\"a\", \"b\" , \"c\"}\n",
        "set2 = {1, 2, 3}\n",
        "\n",
        "# [8]\n",
        "set3 = set1.union(set2)\n",
        "\n",
        "print(set3)"
      ],
      "execution_count": 0,
      "outputs": [
        {
          "output_type": "stream",
          "text": [
            "{'c', 1, 2, 3, 'b', 'a'}\n"
          ],
          "name": "stdout"
        }
      ]
    },
    {
      "cell_type": "code",
      "metadata": {
        "id": "ob5v5FjmsN0r",
        "colab_type": "code",
        "colab": {},
        "outputId": "fc9aafde-7af8-46d1-8726-ec0f641c063e"
      },
      "source": [
        "# The update() method inserts the items in set2 into set1:\n",
        "set1 = {\"a\", \"b\" , \"c\",1}\n",
        "set2 = {1, 2, 3}\n",
        "\n",
        "set1.update(set2)\n",
        "print(set1)\n",
        "\n",
        "# Note: Both union() and update() will exclude any duplicate items."
      ],
      "execution_count": 0,
      "outputs": [
        {
          "output_type": "stream",
          "text": [
            "{'c', 1, 2, 3, 'b', 'a'}\n"
          ],
          "name": "stdout"
        }
      ]
    },
    {
      "cell_type": "code",
      "metadata": {
        "id": "Ywkq_5Q1sN0u",
        "colab_type": "code",
        "colab": {},
        "outputId": "f4871abb-de7d-4472-8031-a82bd3b4f087"
      },
      "source": [
        "set1 = {\"a\", \"b\" , \"c\",1}\n",
        "set2 = {1, 2, 3}\n",
        "# [2]\n",
        "set1 | set2\n"
      ],
      "execution_count": 0,
      "outputs": [
        {
          "output_type": "execute_result",
          "data": {
            "text/plain": [
              "{1, 2, 3, 'a', 'b', 'c'}"
            ]
          },
          "metadata": {
            "tags": []
          },
          "execution_count": 17
        }
      ]
    },
    {
      "cell_type": "code",
      "metadata": {
        "id": "SEeh54JxsN0y",
        "colab_type": "code",
        "colab": {},
        "outputId": "a6d789da-daff-4ddc-c5bc-90cd7f289bbf"
      },
      "source": [
        "set1 = {\"a\", \"b\" , \"c\"}\n",
        "set2 = {\"a\", 2, 3}\n",
        "# [4]\n",
        "set1 & set2"
      ],
      "execution_count": 0,
      "outputs": [
        {
          "output_type": "execute_result",
          "data": {
            "text/plain": [
              "{'a'}"
            ]
          },
          "metadata": {
            "tags": []
          },
          "execution_count": 18
        }
      ]
    },
    {
      "cell_type": "code",
      "metadata": {
        "id": "RRJFBIOXsN03",
        "colab_type": "code",
        "colab": {},
        "outputId": "4dceec1f-0cad-4a87-ee3a-dae8efb78ff1"
      },
      "source": [
        "x = {\"apple\", \"banana\", \"cherry\"}\n",
        "y = {\"google\", \"microsoft\", \"apple\"}\n",
        "\n",
        "z = y.difference(x)\n",
        "\n",
        "print(z)"
      ],
      "execution_count": 0,
      "outputs": [
        {
          "output_type": "stream",
          "text": [
            "{'google', 'microsoft'}\n"
          ],
          "name": "stdout"
        }
      ]
    },
    {
      "cell_type": "code",
      "metadata": {
        "id": "3Ay6xCZUsN06",
        "colab_type": "code",
        "colab": {},
        "outputId": "b010402f-33f8-4482-bf46-b3442460acf3"
      },
      "source": [
        "x = {\"apple\", \"banana\", \"cherry\"}\n",
        "y = {\"google\", \"microsoft\", \"apple\"}\n",
        "\n",
        "# [11]\n",
        "z = y-x\n",
        "print(z)"
      ],
      "execution_count": 0,
      "outputs": [
        {
          "output_type": "stream",
          "text": [
            "{'google', 'microsoft'}\n"
          ],
          "name": "stdout"
        }
      ]
    },
    {
      "cell_type": "code",
      "metadata": {
        "id": "Kr8zdpTbsN0-",
        "colab_type": "code",
        "colab": {},
        "outputId": "6522181f-a7ee-43ca-9184-5d89adc7be19"
      },
      "source": [
        "x = {\"apple\", \"banana\", \"cherry\"}\n",
        "y = {\"google\", \"microsoft\", \"apple\"}\n",
        "\n",
        "z = y+x\n",
        "\n",
        "print(z)"
      ],
      "execution_count": 0,
      "outputs": [
        {
          "output_type": "error",
          "ename": "TypeError",
          "evalue": "unsupported operand type(s) for +: 'set' and 'set'",
          "traceback": [
            "\u001b[1;31m---------------------------------------------------------------------------\u001b[0m",
            "\u001b[1;31mTypeError\u001b[0m                                 Traceback (most recent call last)",
            "\u001b[1;32m<ipython-input-23-f650c1c4f3d2>\u001b[0m in \u001b[0;36m<module>\u001b[1;34m\u001b[0m\n\u001b[0;32m      2\u001b[0m \u001b[0my\u001b[0m \u001b[1;33m=\u001b[0m \u001b[1;33m{\u001b[0m\u001b[1;34m\"google\"\u001b[0m\u001b[1;33m,\u001b[0m \u001b[1;34m\"microsoft\"\u001b[0m\u001b[1;33m,\u001b[0m \u001b[1;34m\"apple\"\u001b[0m\u001b[1;33m}\u001b[0m\u001b[1;33m\u001b[0m\u001b[1;33m\u001b[0m\u001b[0m\n\u001b[0;32m      3\u001b[0m \u001b[1;33m\u001b[0m\u001b[0m\n\u001b[1;32m----> 4\u001b[1;33m \u001b[0mz\u001b[0m \u001b[1;33m=\u001b[0m \u001b[0my\u001b[0m\u001b[1;33m+\u001b[0m\u001b[0mx\u001b[0m\u001b[1;33m\u001b[0m\u001b[1;33m\u001b[0m\u001b[0m\n\u001b[0m\u001b[0;32m      5\u001b[0m \u001b[1;33m\u001b[0m\u001b[0m\n\u001b[0;32m      6\u001b[0m \u001b[0mprint\u001b[0m\u001b[1;33m(\u001b[0m\u001b[0mz\u001b[0m\u001b[1;33m)\u001b[0m\u001b[1;33m\u001b[0m\u001b[1;33m\u001b[0m\u001b[0m\n",
            "\u001b[1;31mTypeError\u001b[0m: unsupported operand type(s) for +: 'set' and 'set'"
          ]
        }
      ]
    },
    {
      "cell_type": "markdown",
      "metadata": {
        "id": "5IsHNfrksN1D",
        "colab_type": "text"
      },
      "source": [
        "Arrays in Python\n",
        "--\n",
        "\n",
        ">Arrays are one of the data structures that help you write a number of values into a single variable, thereby reducing the burden of memorizing an enormous number of variables. \n",
        "\n",
        ">Array in Python can be created by importing array module. \n",
        "\n",
        ">array(data_type, value_list) is used to create an array with data type and value list specified in its arguments."
      ]
    },
    {
      "cell_type": "code",
      "metadata": {
        "id": "VBkoRiuJsN1E",
        "colab_type": "code",
        "colab": {},
        "outputId": "8a7961b7-a35a-416d-a5b0-39239ff9e240"
      },
      "source": [
        "import array as arr \n",
        "  \n",
        "# creating an array with integer type \n",
        "a = arr.array('i', [1, 2, 3]) \n",
        "a"
      ],
      "execution_count": 0,
      "outputs": [
        {
          "output_type": "execute_result",
          "data": {
            "text/plain": [
              "array('i', [1, 2, 3])"
            ]
          },
          "metadata": {
            "tags": []
          },
          "execution_count": 27
        }
      ]
    },
    {
      "cell_type": "code",
      "metadata": {
        "id": "ENqTYekxsN1I",
        "colab_type": "code",
        "colab": {},
        "outputId": "7c702d06-6b14-43f1-d8b8-ac7aa41b1dc1"
      },
      "source": [
        "import array as arr \n",
        "  \n",
        "# creating an array with integer type \n",
        "a = arr.array('i', [1, 2, 3,55,21]) \n",
        "for i in a:\n",
        "    print(i)"
      ],
      "execution_count": 0,
      "outputs": [
        {
          "output_type": "stream",
          "text": [
            "1\n",
            "2\n",
            "3\n",
            "55\n",
            "21\n"
          ],
          "name": "stdout"
        }
      ]
    },
    {
      "cell_type": "code",
      "metadata": {
        "id": "bqlOFeN2sN1M",
        "colab_type": "code",
        "colab": {},
        "outputId": "39e5b41f-a3c1-46fc-ca93-e23dee5592fe"
      },
      "source": [
        "# printing original array \n",
        "# print (\"The new created array is : \", end =\" \") \n",
        "for i in range (0, 3): \n",
        "    print (a[i],end=\"\\t\") \n",
        "print() "
      ],
      "execution_count": 0,
      "outputs": [
        {
          "output_type": "stream",
          "text": [
            "1\t2\t3\t\n"
          ],
          "name": "stdout"
        }
      ]
    },
    {
      "cell_type": "code",
      "metadata": {
        "id": "joiAqEaTsN1Q",
        "colab_type": "code",
        "colab": {},
        "outputId": "ef13bc8f-d316-4ea5-bd85-93e306ecb617"
      },
      "source": [
        "# creating an array with float type \n",
        "b = arr.array('d', [2.5, 3.2, 3.3]) \n",
        "  \n",
        "# printing original array \n",
        "print (\"The new created array is : \", end =\" \") \n",
        "for i in range (0, 3): \n",
        "    print (b[i], end =\" \") "
      ],
      "execution_count": 0,
      "outputs": [
        {
          "output_type": "stream",
          "text": [
            "The new created array is :  2.5 3.2 3.3 "
          ],
          "name": "stdout"
        }
      ]
    },
    {
      "cell_type": "markdown",
      "metadata": {
        "id": "GdqTNtlRsN1T",
        "colab_type": "raw"
      },
      "source": [
        "Type code --\tPython Data Type --\tByte size\n",
        "i               \tint\t               2\n",
        "I\t                int\t               2\n",
        "u\t            unicode character\t   2\n",
        "h\t                int\t               2\n",
        "H\t                int\t               2\n",
        "l\t                int\t               4\n",
        "L\t                int\t               4\n",
        "f\t                float\t           4\n",
        "d\t                float\t           8"
      ]
    },
    {
      "cell_type": "markdown",
      "metadata": {
        "id": "rzmSjqMUsN1U",
        "colab_type": "text"
      },
      "source": [
        "Is Python list same as an Array?\n",
        "--\n",
        "\n",
        "The ‘array’ data structure in core python is not very efficient or reliable. Therefore, when we talk about python arrays, we usually mean python lists.\n",
        "\n",
        "However, python does provide Numpy Arrays which are a grid of values used in Data Science. You can look into Numpy Arrays vs Lists to know more."
      ]
    },
    {
      "cell_type": "code",
      "metadata": {
        "id": "maKJydEwsN1U",
        "colab_type": "code",
        "colab": {},
        "outputId": "fd6edebe-13e7-42df-e6df-4e2bf7c42ea0"
      },
      "source": [
        "# Python program to demonstrate  \n",
        "# Adding Elements to a Array \n",
        "  \n",
        "# importing \"array\" for array creations \n",
        "import array as arr \n",
        "  \n",
        "# array with int type \n",
        "a = arr.array('i', [1, 2, 3]) \n",
        "  \n",
        "  \n",
        "print (\"Array before insertion : \", end =\" \") \n",
        "for i in range (0, 3): \n",
        "    print (a[i], end =\" \") \n",
        "print() \n",
        "  \n",
        "# inserting array using  \n",
        "# insert() function \n",
        "a.insert(1, 4) \n",
        "  \n",
        "print (\"Array after insertion : \", end =\" \") \n",
        "for i in (a): \n",
        "    print (i, end =\" \") \n",
        "print()  "
      ],
      "execution_count": 0,
      "outputs": [
        {
          "output_type": "stream",
          "text": [
            "Array before insertion :  1 2 3 \n",
            "Array after insertion :  1 4 2 3 \n"
          ],
          "name": "stdout"
        }
      ]
    },
    {
      "cell_type": "code",
      "metadata": {
        "id": "f-T4_VmpsN1Y",
        "colab_type": "code",
        "colab": {},
        "outputId": "4b52252d-8364-4b38-cdfe-a23446846c1c"
      },
      "source": [
        "# array with float type \n",
        "b = arr.array('d', [2.5, 3.2, 3.3]) \n",
        "  \n",
        "print (\"Array before insertion : \", end =\" \") \n",
        "for i in range (0, 3): \n",
        "    print (b[i], end =\" \") \n",
        "print() \n",
        "  \n",
        "# adding an element using append() \n",
        "b.append(4.4) \n",
        "  \n",
        "print (\"Array after insertion : \", end =\" \") \n",
        "for i in (b): \n",
        "    print (i, end =\" \") \n",
        "print()  "
      ],
      "execution_count": 0,
      "outputs": [
        {
          "output_type": "stream",
          "text": [
            "Array before insertion :  2.5 3.2 3.3 \n",
            "Array after insertion :  2.5 3.2 3.3 4.4 \n"
          ],
          "name": "stdout"
        }
      ]
    },
    {
      "cell_type": "markdown",
      "metadata": {
        "id": "wZaMyqjKsN1a",
        "colab_type": "text"
      },
      "source": [
        "Accessing elements from the Array\n",
        "--\n",
        "\n",
        ">In order to access the array items refer to the index number. \n",
        "\n",
        ">Use the index operator [ ] to access an item in a array. The index must be an integer."
      ]
    },
    {
      "cell_type": "code",
      "metadata": {
        "id": "c_9ms5wpsN1b",
        "colab_type": "code",
        "colab": {},
        "outputId": "8cbbb6b4-1143-4216-c8a0-33e635277a8a"
      },
      "source": [
        "# importing array module \n",
        "import array as arr \n",
        "  \n",
        "# array with int type \n",
        "a = arr.array('i', [1, 2, 3, 4, 5, 6]) \n",
        "  \n",
        "# accessing element of array \n",
        "print(\"Access element is: \", a[0]) \n",
        "  \n",
        "# accessing element of array \n",
        "print(\"Access element is: \", a[3]) \n",
        "  \n",
        "# array with float type \n",
        "b = arr.array('d', [2.5, 3.2, 3.3]) \n",
        "  \n",
        "# accessing element of array \n",
        "print(\"Access element is: \", b[1]) \n",
        "  \n",
        "# accessing element of array \n",
        "print(\"Access element is: \", b[2]) "
      ],
      "execution_count": 0,
      "outputs": [
        {
          "output_type": "stream",
          "text": [
            "Access element is:  1\n",
            "Access element is:  4\n",
            "Access element is:  3.2\n",
            "Access element is:  3.3\n"
          ],
          "name": "stdout"
        }
      ]
    },
    {
      "cell_type": "markdown",
      "metadata": {
        "id": "8g3KhoMGsN1e",
        "colab_type": "text"
      },
      "source": [
        "Removing Elements from the Array\n",
        "--\n",
        "\n",
        "Elements can be removed from the array by using built-in remove() function but an Error arises if element doesn’t exist in the set. \n",
        "\n",
        "Remove() method only removes one element at a time, to remove range of elements, iterator is used. \n",
        "\n",
        "pop() function can also be used to remove and return an element from the array, but by default it removes only the last element of the array, to remove element from a specific position of the array, index of the element is passed as an argument to the pop() method.\n",
        "\n",
        "__Note – Remove method in List will only remove the first occurrence of the searched element.__"
      ]
    },
    {
      "cell_type": "code",
      "metadata": {
        "id": "2vbSN70fsN1e",
        "colab_type": "code",
        "colab": {},
        "outputId": "7af2ff69-8e70-4d8b-8db5-4a43d60d1fb0"
      },
      "source": [
        "import array \n",
        "   \n",
        "# initializing array with array values \n",
        "# initializes array with signed integers \n",
        "arr = array.array('i', [1, 2, 3, 1, 5])  \n",
        "  \n",
        "# printing original array \n",
        "print (\"The new created array is : \", end =\"\") \n",
        "for i in range (0, 5): \n",
        "    print (arr[i], end =\" \") \n",
        "  \n",
        "print (\"\\r\") \n",
        "  \n",
        "# using pop() to remove element at 2nd position \n",
        "print (\"The popped element is : \", end =\"\") \n",
        "print (arr.pop(2)) \n",
        "  \n",
        "# printing array after popping \n",
        "print (\"The array after popping is : \", end =\"\") \n",
        "for i in range (0, 4): \n",
        "    print (arr[i], end =\" \") \n",
        "  \n",
        "print(\"\\r\") \n",
        "  \n",
        "# using remove() to remove 1st occurrence of 1 \n",
        "arr.remove(1) \n",
        "  \n",
        "# printing array after removing \n",
        "print (\"The array after removing is : \", end =\"\") \n",
        "for i in range (0, 3): \n",
        "    print (arr[i], end =\" \") "
      ],
      "execution_count": 0,
      "outputs": [
        {
          "output_type": "stream",
          "text": [
            "The new created array is : 1 2 3 1 5 \r\n",
            "The popped element is : 3\n",
            "The array after popping is : 1 2 1 5 \r\n",
            "The array after removing is : 2 1 5 "
          ],
          "name": "stdout"
        }
      ]
    },
    {
      "cell_type": "code",
      "metadata": {
        "id": "g_cQGVa8sN1h",
        "colab_type": "code",
        "colab": {},
        "outputId": "8c12d565-9dd2-467d-ff76-72f3b7e082fa"
      },
      "source": [
        "# Slicing of a Array\n",
        "import array as arr \n",
        "  \n",
        "# creating a list  \n",
        "l = [1, 2, 3, 4, 5, 6, 7, 8, 9, 10] \n",
        "  \n",
        "a = arr.array('i', l) \n",
        "print(\"Intial Array: \") \n",
        "for i in (a): \n",
        "    print(i, end =\" \") \n",
        "print()\n",
        "print(a[3:8])\n",
        "print(a[5:])\n",
        "print(a[:]) "
      ],
      "execution_count": 0,
      "outputs": [
        {
          "output_type": "stream",
          "text": [
            "Intial Array: \n",
            "1 2 3 4 5 6 7 8 9 10 \n",
            "array('i', [4, 5, 6, 7, 8])\n",
            "array('i', [6, 7, 8, 9, 10])\n",
            "array('i', [1, 2, 3, 4, 5, 6, 7, 8, 9, 10])\n"
          ],
          "name": "stdout"
        }
      ]
    },
    {
      "cell_type": "markdown",
      "metadata": {
        "id": "33RoCzHBsN1l",
        "colab_type": "text"
      },
      "source": [
        "Searching element in a Array\n",
        "--\n",
        "In order to search an element in the array we use a python in-built index() method. \n",
        "\n",
        "This function returns the index of the first occurrence of value mentioned in arguments."
      ]
    },
    {
      "cell_type": "code",
      "metadata": {
        "id": "D7M7DTzRsN1n",
        "colab_type": "code",
        "colab": {},
        "outputId": "29a04224-3965-43e6-da46-8e5d01124b69"
      },
      "source": [
        "arr = array.array('i', [1, 2, 3, 1, 2, 5])  \n",
        "  \n",
        "# printing original array \n",
        "print (\"The new created array is : \", end =\"\") \n",
        "for i in range (0, 6): \n",
        "    print (arr[i], end =\" \") \n",
        "\n",
        "print()\n",
        "print (arr.index(2)) # gives index of number 2\n",
        "  \n",
        "print (arr.index(1)) "
      ],
      "execution_count": 0,
      "outputs": [
        {
          "output_type": "stream",
          "text": [
            "The new created array is : 1 2 3 1 2 5 \n",
            "1\n",
            "0\n"
          ],
          "name": "stdout"
        }
      ]
    },
    {
      "cell_type": "markdown",
      "metadata": {
        "id": "dylD6x7usN1s",
        "colab_type": "text"
      },
      "source": [
        "Updating Elements in a Array\n",
        "--"
      ]
    },
    {
      "cell_type": "code",
      "metadata": {
        "id": "BX3qzSM4sN1u",
        "colab_type": "code",
        "colab": {},
        "outputId": "9935b306-1f7f-4c70-857f-a48e3c958256"
      },
      "source": [
        "arr = array.array('i', [1, 2, 3, 1, 2, 5])  \n",
        "  \n",
        "# printing original array \n",
        "print (\"Array before updation : \", end =\"\") \n",
        "for i in range (0, 6): \n",
        "    print (arr[i], end =\" \") \n",
        "  \n",
        "print (\"\\n\") \n",
        "  \n",
        "# updating a element in a array \n",
        "arr[2] = 6\n",
        "print(\"Array after updation : \", end =\"\") \n",
        "for i in range (0, 6): \n",
        "    print (arr[i], end =\" \") \n",
        "print() \n",
        "  \n",
        "# updating a element in a array \n",
        "arr[4] = 8\n",
        "print(\"Array after updation : \", end =\"\") \n",
        "for i in range (0, 6): \n",
        "    print (arr[i], end =\" \") "
      ],
      "execution_count": 0,
      "outputs": [
        {
          "output_type": "stream",
          "text": [
            "Array before updation : 1 2 3 1 2 5 \n",
            "\n",
            "Array after updation : 1 2 6 1 2 5 \n",
            "Array after updation : 1 2 6 1 8 5 "
          ],
          "name": "stdout"
        }
      ]
    }
  ]
}