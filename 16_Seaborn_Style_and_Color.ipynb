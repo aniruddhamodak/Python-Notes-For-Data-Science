{
  "nbformat": 4,
  "nbformat_minor": 0,
  "metadata": {
    "kernelspec": {
      "display_name": "Python 3",
      "language": "python",
      "name": "python3"
    },
    "language_info": {
      "codemirror_mode": {
        "name": "ipython",
        "version": 3
      },
      "file_extension": ".py",
      "mimetype": "text/x-python",
      "name": "python",
      "nbconvert_exporter": "python",
      "pygments_lexer": "ipython3",
      "version": "3.7.4"
    },
    "toc": {
      "base_numbering": 1,
      "nav_menu": {},
      "number_sections": true,
      "sideBar": true,
      "skip_h1_title": false,
      "title_cell": "Table of Contents",
      "title_sidebar": "Contents",
      "toc_cell": false,
      "toc_position": {},
      "toc_section_display": true,
      "toc_window_display": false
    },
    "colab": {
      "name": "16 Seaborn Style and Color.ipynb",
      "provenance": [],
      "include_colab_link": true
    }
  },
  "cells": [
    {
      "cell_type": "markdown",
      "metadata": {
        "id": "view-in-github",
        "colab_type": "text"
      },
      "source": [
        "<a href=\"https://colab.research.google.com/github/aniruddhamodak/Python-Notes-For-Data-Science/blob/master/16_Seaborn_Style_and_Color.ipynb\" target=\"_parent\"><img src=\"https://colab.research.google.com/assets/colab-badge.svg\" alt=\"Open In Colab\"/></a>"
      ]
    },
    {
      "cell_type": "markdown",
      "metadata": {
        "collapsed": true,
        "id": "BC8IXmKs1031",
        "colab_type": "text"
      },
      "source": [
        "# Style and Color\n",
        "\n",
        "We've shown a few times how to control figure aesthetics in seaborn, but let's now go over it formally:"
      ]
    },
    {
      "cell_type": "code",
      "metadata": {
        "id": "AKS_BtyC1032",
        "colab_type": "code",
        "colab": {}
      },
      "source": [
        "import seaborn as sns\n",
        "import matplotlib.pyplot as plt\n",
        "%matplotlib inline\n",
        "tips = sns.load_dataset('tips')"
      ],
      "execution_count": 0,
      "outputs": []
    },
    {
      "cell_type": "markdown",
      "metadata": {
        "id": "eMyj0w3D1037",
        "colab_type": "text"
      },
      "source": [
        "## Styles\n",
        "\n",
        "You can set particular styles:"
      ]
    },
    {
      "cell_type": "code",
      "metadata": {
        "id": "rkyy7GRK1037",
        "colab_type": "code",
        "colab": {},
        "outputId": "e901e5b5-c088-4b91-9ee3-a1ff8a5c6da7"
      },
      "source": [
        "sns.countplot(x='sex',data=tips)"
      ],
      "execution_count": 0,
      "outputs": [
        {
          "output_type": "execute_result",
          "data": {
            "text/plain": [
              "<matplotlib.axes._subplots.AxesSubplot at 0xc9fe350>"
            ]
          },
          "metadata": {
            "tags": []
          },
          "execution_count": 2
        },
        {
          "output_type": "display_data",
          "data": {
            "image/png": "[encoded data removed]",
            "text/plain": [
              "<Figure size 432x288 with 1 Axes>"
            ]
          },
          "metadata": {
            "tags": [],
            "needs_background": "light"
          }
        }
      ]
    },
    {
      "cell_type": "code",
      "metadata": {
        "id": "0pQ1IFw5104A",
        "colab_type": "code",
        "colab": {},
        "outputId": "92376fd0-6f5f-4b04-ea00-0b173bc67854"
      },
      "source": [
        "sns.set_style('white')\n",
        "sns.countplot(x='sex',data=tips)"
      ],
      "execution_count": 0,
      "outputs": [
        {
          "output_type": "execute_result",
          "data": {
            "text/plain": [
              "<matplotlib.axes._subplots.AxesSubplot at 0xda90410>"
            ]
          },
          "metadata": {
            "tags": []
          },
          "execution_count": 3
        },
        {
          "output_type": "display_data",
          "data": {
            "image/png": "[encoded data removed]",
            "text/plain": [
              "<Figure size 432x288 with 1 Axes>"
            ]
          },
          "metadata": {
            "tags": []
          }
        }
      ]
    },
    {
      "cell_type": "code",
      "metadata": {
        "id": "_7XZ7oCO104E",
        "colab_type": "code",
        "colab": {},
        "outputId": "eee99422-50f2-4ca1-9646-fa1af8bbcab8"
      },
      "source": [
        "# [4]\n",
        "sns.set_style('ticks')\n",
        "sns.countplot(x='sex',data=tips,palette='deep')"
      ],
      "execution_count": 0,
      "outputs": [
        {
          "output_type": "execute_result",
          "data": {
            "text/plain": [
              "<matplotlib.axes._subplots.AxesSubplot at 0xeb17e30>"
            ]
          },
          "metadata": {
            "tags": []
          },
          "execution_count": 4
        },
        {
          "output_type": "display_data",
          "data": {
            "image/png": "[encoded data removed]",
            "text/plain": [
              "<Figure size 432x288 with 1 Axes>"
            ]
          },
          "metadata": {
            "tags": []
          }
        }
      ]
    },
    {
      "cell_type": "markdown",
      "metadata": {
        "id": "xfA8whAL104I",
        "colab_type": "text"
      },
      "source": [
        "## Size and Aspect"
      ]
    },
    {
      "cell_type": "code",
      "metadata": {
        "id": "F_kPoWxq104J",
        "colab_type": "code",
        "colab": {},
        "outputId": "08ad3fad-60b7-43d6-d158-c59ad37da65f"
      },
      "source": [
        "# [14]\n",
        "plt.figure(figsize=(10,3))\n",
        "sns.countplot(x='sex',data=tips)"
      ],
      "execution_count": 0,
      "outputs": [
        {
          "output_type": "execute_result",
          "data": {
            "text/plain": [
              "<matplotlib.axes._subplots.AxesSubplot at 0x11868e90>"
            ]
          },
          "metadata": {
            "tags": []
          },
          "execution_count": 6
        },
        {
          "output_type": "display_data",
          "data": {
            "image/png": "[encoded data removed]",
            "text/plain": [
              "<Figure size 720x216 with 1 Axes>"
            ]
          },
          "metadata": {
            "tags": []
          }
        }
      ]
    },
    {
      "cell_type": "code",
      "metadata": {
        "id": "MqxyuUG-104M",
        "colab_type": "code",
        "colab": {},
        "outputId": "45a9b9ce-8094-4419-f98b-580ad00783be"
      },
      "source": [
        "# [16]\n",
        "sns.lmplot(x='total_bill',y='tip',size=2,aspect=4,data=tips)"
      ],
      "execution_count": 0,
      "outputs": [
        {
          "output_type": "stream",
          "text": [
            "c:\\users\\lenovo\\appdata\\local\\programs\\python\\python37-32\\lib\\site-packages\\seaborn\\regression.py:546: UserWarning: The `size` paramter has been renamed to `height`; please update your code.\n",
            "  warnings.warn(msg, UserWarning)\n"
          ],
          "name": "stderr"
        },
        {
          "output_type": "execute_result",
          "data": {
            "text/plain": [
              "<seaborn.axisgrid.FacetGrid at 0x1161df90>"
            ]
          },
          "metadata": {
            "tags": []
          },
          "execution_count": 8
        },
        {
          "output_type": "display_data",
          "data": {
            "image/png": "[encoded data removed]",
            "text/plain": [
              "<Figure size 576x144 with 1 Axes>"
            ]
          },
          "metadata": {
            "tags": []
          }
        }
      ]
    },
    {
      "cell_type": "markdown",
      "metadata": {
        "id": "N98RvLUc104Q",
        "colab_type": "text"
      },
      "source": [
        "## Scale and Context\n",
        "\n",
        "The set_context() allows you to override default parameters:"
      ]
    },
    {
      "cell_type": "code",
      "metadata": {
        "id": "D8kPfYKo104R",
        "colab_type": "code",
        "colab": {},
        "outputId": "1dcd20af-c9f4-42c0-a6fc-4f33f3b5542a"
      },
      "source": [
        "sns.set_context('poster',font_scale=0.5)\n",
        "# default context is 'notebook'\n",
        "sns.countplot(x='sex',data=tips,palette='coolwarm')"
      ],
      "execution_count": 0,
      "outputs": [
        {
          "output_type": "execute_result",
          "data": {
            "text/plain": [
              "<matplotlib.axes._subplots.AxesSubplot at 0x10bbc790>"
            ]
          },
          "metadata": {
            "tags": []
          },
          "execution_count": 11
        },
        {
          "output_type": "display_data",
          "data": {
            "image/png": "[encoded data removed]",
            "text/plain": [
              "<Figure size 432x288 with 1 Axes>"
            ]
          },
          "metadata": {
            "tags": []
          }
        }
      ]
    }
  ]
}