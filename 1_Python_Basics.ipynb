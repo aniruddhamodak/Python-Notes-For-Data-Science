{
  "nbformat": 4,
  "nbformat_minor": 0,
  "metadata": {
    "kernelspec": {
      "display_name": "Python 3",
      "language": "python",
      "name": "python3"
    },
    "language_info": {
      "codemirror_mode": {
        "name": "ipython",
        "version": 3
      },
      "file_extension": ".py",
      "mimetype": "text/x-python",
      "name": "python",
      "nbconvert_exporter": "python",
      "pygments_lexer": "ipython3",
      "version": "3.8.2"
    },
    "toc": {
      "base_numbering": 1,
      "nav_menu": {},
      "number_sections": true,
      "sideBar": true,
      "skip_h1_title": false,
      "title_cell": "Table of Contents",
      "title_sidebar": "Contents",
      "toc_cell": false,
      "toc_position": {},
      "toc_section_display": true,
      "toc_window_display": false
    },
    "colab": {
      "name": "1 Python Basics.ipynb",
      "provenance": [],
      "include_colab_link": true
    }
  },
  "cells": [
    {
      "cell_type": "markdown",
      "metadata": {
        "id": "view-in-github",
        "colab_type": "text"
      },
      "source": [
        "<a href=\"https://colab.research.google.com/github/aniruddhamodak/Python-Notes-For-Data-Science/blob/master/1_Python_Basics.ipynb\" target=\"_parent\"><img src=\"https://colab.research.google.com/assets/colab-badge.svg\" alt=\"Open In Colab\"/></a>"
      ]
    },
    {
      "cell_type": "markdown",
      "metadata": {
        "id": "o-oULOZ7tYMo",
        "colab_type": "text"
      },
      "source": [
        "Python\n",
        "--\n",
        "Python is a general-purpose interpreted, interactive, object-oriented, and high-level programming language. It was created by Guido van Rossum during 1985- 1990. \n",
        "\n",
        "Language is not named after a snake,\n",
        "but after a comedy show \"Flying Circus\" which Monty Python was a fan of.\n",
        "\n",
        "Why to Learn Python?\n",
        "Python is a high-level, interpreted, interactive and object-oriented scripting language. Python is designed to be highly readable. It uses English keywords frequently where as other languages use punctuation, and it has fewer syntactical constructions than other languages.\n",
        "\n",
        "Following are important characteristics of Python Programming −\n",
        "\n",
        "It supports functional and structured programming methods as well as OOP.\n",
        "\n",
        "It can be used as a scripting language or can be compiled to byte-code for building large applications.\n",
        "\n",
        "It provides very high-level dynamic data types and supports dynamic type checking.\n",
        "\n",
        "It supports automatic garbage collection.\n",
        "\n",
        "It can be easily integrated with C, C++, COM, ActiveX, CORBA, and Java."
      ]
    },
    {
      "cell_type": "markdown",
      "metadata": {
        "id": "xxxxKH54tYMp",
        "colab_type": "text"
      },
      "source": [
        "__Guido van Rossum started coding for Python in Dec 1989.\n",
        "\n",
        "Latest Release is Version 3.8\n",
        "\n",
        "__Features:\n",
        "Simple\n",
        "Powerful\n",
        "General Purpose\n",
        "It is very readable\n",
        "\n",
        "Python is a High level Language\n",
        "\n",
        "__Python is an Interpreter.__"
      ]
    },
    {
      "cell_type": "markdown",
      "metadata": {
        "id": "in9ncOQztYMq",
        "colab_type": "text"
      },
      "source": [
        "__Two Modes:__\n",
        "1. Interactive Mode Mode\n",
        "2. Script Mode\n",
        "\n",
        "default file extensions: \".py\"\n",
        "\n",
        "To execute a python file, say \"abc.py\", type\"\n",
        "python abc.py"
      ]
    },
    {
      "cell_type": "markdown",
      "metadata": {
        "id": "QMt-57z-tYMr",
        "colab_type": "text"
      },
      "source": [
        "Applications of Python\n",
        "--\n",
        "Easy-to-learn − Python has few keywords, simple structure, and a clearly defined syntax. This allows the student to pick up the language quickly.\n",
        "\n",
        "Easy-to-read − Python code is more clearly defined and visible to the eyes.\n",
        "\n",
        "Easy-to-maintain − Python's source code is fairly easy-to-maintain.\n",
        "\n",
        "A broad standard library − Python's bulk of the library is very portable and cross-platform compatible on UNIX, Windows, and Macintosh.\n",
        "\n",
        "Interactive Mode − Python has support for an interactive mode which allows interactive testing and debugging of snippets of code.\n",
        "\n",
        "Portable − Python can run on a wide variety of hardware platforms and has the same interface on all platforms.\n",
        "\n",
        "Extendable − You can add low-level modules to the Python interpreter. These modules enable programmers to add to or customize their tools to be more efficient.\n",
        "\n",
        "Databases − Python provides interfaces to all major commercial databases.\n",
        "\n",
        "GUI Programming − Python supports GUI applications that can be created and ported to many system calls, libraries and windows systems, such as Windows MFC, Macintosh, and the X Window system of Unix.\n",
        "\n",
        "Scalable − Python provides a better structure and support for large programs than shell scripting."
      ]
    },
    {
      "cell_type": "markdown",
      "metadata": {
        "id": "VzgUn4bQtYMs",
        "colab_type": "text"
      },
      "source": [
        "Python Data Types\n",
        "--\n",
        "Variables can hold values of different data types. Python is a dynamically typed language hence we need not define the type of the variable while declaring it. The interpreter implicitly binds the value with its type.\n",
        "\n",
        "Python enables us to check the type of the variable used in the program. Python provides us the type() function which returns the type of the variable passed."
      ]
    },
    {
      "cell_type": "code",
      "metadata": {
        "id": "qroi72d0tYMs",
        "colab_type": "code",
        "colab": {
          "base_uri": "https://localhost:8080/",
          "height": 51
        },
        "outputId": "f95babba-86e6-447d-bc80-8aad4b78354e"
      },
      "source": [
        "# type your code here\n",
        "a=10\n",
        "print(a)\n",
        "print(type(a))"
      ],
      "execution_count": 1,
      "outputs": [
        {
          "output_type": "stream",
          "text": [
            "10\n",
            "<class 'int'>\n"
          ],
          "name": "stdout"
        }
      ]
    },
    {
      "cell_type": "code",
      "metadata": {
        "id": "CrRGtEgxtYMy",
        "colab_type": "code",
        "colab": {},
        "outputId": "7e5d9e5e-5617-4f1e-bef8-55d566eeb695"
      },
      "source": [
        "# type your code here\n",
        "a=1\n",
        "b=3\n",
        "c=a+b\n",
        "print(\"Addition = \",c)\n",
        "# Addition = 4\n",
        "\n",
        "print(\"Addition = \"+\"c\")\n",
        "\n"
      ],
      "execution_count": 0,
      "outputs": [
        {
          "output_type": "stream",
          "text": [
            "Addition =  4\n",
            "Addition = c\n"
          ],
          "name": "stdout"
        }
      ]
    },
    {
      "cell_type": "code",
      "metadata": {
        "id": "2vZBlfwOtYM1",
        "colab_type": "code",
        "colab": {}
      },
      "source": [
        "# type your code here\n",
        "a=1 # here var a is assigned a value\n",
        "b=3\n",
        "c=a+b\n",
        "# Addition of a= 1 and b= 3 is c= 4\n"
      ],
      "execution_count": 0,
      "outputs": []
    },
    {
      "cell_type": "code",
      "metadata": {
        "id": "coIqcXeAtYM4",
        "colab_type": "code",
        "colab": {},
        "outputId": "7c8ea649-c547-482d-82f1-ca43fb00493a"
      },
      "source": [
        "a=180\n",
        "b=28587\n",
        "c=a+b\n",
        "# type your code here\n",
        "print(\"Addition of a= \",a,\" and b= \",b,\" is c= \",c)\n"
      ],
      "execution_count": 0,
      "outputs": [
        {
          "output_type": "stream",
          "text": [
            "Addition of a=  180  and b=  28587  is c=  28767\n"
          ],
          "name": "stdout"
        }
      ]
    },
    {
      "cell_type": "markdown",
      "metadata": {
        "id": "ileacm9ntYM7",
        "colab_type": "text"
      },
      "source": [
        "Standard data types\n",
        "--\n",
        "A variable can hold different types of values. For example, a person's name must be stored as a string whereas its id must be stored as an integer.\n",
        "\n",
        "Python provides various standard data types that define the storage method on each of them. The data types defined in Python are given below.\n",
        "\n",
        "> Numbers\n",
        "\n",
        "> String\n",
        "\n",
        "> List\n",
        "\n",
        "> Tuple\n",
        "\n",
        "> Dictionary"
      ]
    },
    {
      "cell_type": "markdown",
      "metadata": {
        "id": "Tonp_fYqtYM8",
        "colab_type": "text"
      },
      "source": [
        "Numbers\n",
        "--\n",
        "Number stores numeric values. Python creates Number objects when a number is assigned to a variable. For example;\n",
        "\n",
        "a = 3 , b = 5  #a and b are number objects  \n",
        "Python supports 4 types of numeric data.\n",
        "\n",
        "int (signed integers like 10, 2, 29, etc.)\n",
        "\n",
        "long (long integers used for a higher range of values like 908090800L, -0x1929292L, etc.)\n",
        "\n",
        "float (float is used to store floating point numbers like 1.9, 9.902, 15.2, etc.)\n",
        "\n",
        "complex (complex numbers like 2.14j, 2.0 + 2.3j, etc.)\n",
        "\n",
        "Python allows us to use a lower-case L to be used with long integers. However, we must always use an upper-case L to avoid confusion.\n",
        "\n",
        "A complex number contains an ordered pair, i.e., x + iy where x and y denote the real and imaginary parts respectively)."
      ]
    },
    {
      "cell_type": "code",
      "metadata": {
        "id": "5MCLpTETtYM9",
        "colab_type": "code",
        "colab": {},
        "outputId": "98ec7d2a-775c-4ecd-ea3a-4fb155ef5ed1"
      },
      "source": [
        "a=3+46j\n",
        "type(a)"
      ],
      "execution_count": 0,
      "outputs": [
        {
          "output_type": "execute_result",
          "data": {
            "text/plain": [
              "complex"
            ]
          },
          "metadata": {
            "tags": []
          },
          "execution_count": 5
        }
      ]
    },
    {
      "cell_type": "code",
      "metadata": {
        "id": "3JWdJNd2tYNA",
        "colab_type": "code",
        "colab": {},
        "outputId": "0198bd59-92e0-4120-e81b-b1c5538f1f38"
      },
      "source": [
        "type(\"Hello World\")"
      ],
      "execution_count": 0,
      "outputs": [
        {
          "output_type": "execute_result",
          "data": {
            "text/plain": [
              "str"
            ]
          },
          "metadata": {
            "tags": []
          },
          "execution_count": 6
        }
      ]
    },
    {
      "cell_type": "code",
      "metadata": {
        "id": "UYIHJNGytYNF",
        "colab_type": "code",
        "colab": {},
        "outputId": "531dc6ef-b3a9-4bad-fa13-5929ca293224"
      },
      "source": [
        "type(17)"
      ],
      "execution_count": 0,
      "outputs": [
        {
          "output_type": "execute_result",
          "data": {
            "text/plain": [
              "int"
            ]
          },
          "metadata": {
            "tags": []
          },
          "execution_count": 7
        }
      ]
    },
    {
      "cell_type": "code",
      "metadata": {
        "id": "uvDx16W7tYNI",
        "colab_type": "code",
        "colab": {},
        "outputId": "0233067a-5f04-478b-d37a-9f2d274054d7"
      },
      "source": [
        "type(3.2)"
      ],
      "execution_count": 0,
      "outputs": [
        {
          "output_type": "execute_result",
          "data": {
            "text/plain": [
              "float"
            ]
          },
          "metadata": {
            "tags": []
          },
          "execution_count": 8
        }
      ]
    },
    {
      "cell_type": "code",
      "metadata": {
        "id": "oPeRuzS4tYNL",
        "colab_type": "code",
        "colab": {},
        "outputId": "d2f2c255-878e-4b1b-91d8-49f3e9a2dff2"
      },
      "source": [
        "# type your code here\n",
        "type(\"3.2\")"
      ],
      "execution_count": 0,
      "outputs": [
        {
          "output_type": "execute_result",
          "data": {
            "text/plain": [
              "str"
            ]
          },
          "metadata": {
            "tags": []
          },
          "execution_count": 9
        }
      ]
    },
    {
      "cell_type": "code",
      "metadata": {
        "id": "sBojjIOhtYNO",
        "colab_type": "code",
        "colab": {},
        "outputId": "f38aa308-c076-456e-8fd7-c56228c3d59a"
      },
      "source": [
        "# When you type large integers, you might be tempted to use commas.\n",
        "# type your code here\n",
        "a=1,00,000\n",
        "print(a)\n",
        "print(type(a))\n",
        "#This code wont give any erros, but it doesnt produce the right output too.\n",
        "# This is the 1st example we have seen of a semantic error."
      ],
      "execution_count": 0,
      "outputs": [
        {
          "output_type": "stream",
          "text": [
            "(1, 0, 0)\n",
            "<class 'tuple'>\n"
          ],
          "name": "stdout"
        }
      ]
    },
    {
      "cell_type": "markdown",
      "metadata": {
        "id": "ZIVPOtS6tYNS",
        "colab_type": "raw"
      },
      "source": [
        "Variable names\n",
        "Give meaningful names.\n",
        "Contain both letters and numbers.\n",
        "Underscore can appear in a name.\n",
        "\n",
        "76abc  Syntax error\n",
        "more@=1000   Syntax error\n",
        "\n",
        "Keywords cannot be variable names"
      ]
    },
    {
      "cell_type": "code",
      "metadata": {
        "id": "O7mPJnRFtYNS",
        "colab_type": "code",
        "colab": {},
        "outputId": "100e174f-c689-4dcd-f46a-17c30ab090ca"
      },
      "source": [
        "g=3\n",
        "print(g)"
      ],
      "execution_count": 0,
      "outputs": [
        {
          "output_type": "stream",
          "text": [
            "3\n"
          ],
          "name": "stdout"
        }
      ]
    },
    {
      "cell_type": "markdown",
      "metadata": {
        "id": "1JNOXijGtYNV",
        "colab_type": "text"
      },
      "source": [
        "String\n",
        "--\n",
        "The string can be defined as the sequence of characters represented in the quotation marks. In python, we can use single or double quotes to define a string.\n",
        "\n",
        "The operator * is known as repetition operator as the operation \"Python \" *2 returns \"Python Python \""
      ]
    },
    {
      "cell_type": "code",
      "metadata": {
        "id": "w78CYgWTtYNW",
        "colab_type": "code",
        "colab": {},
        "outputId": "0dfee5a7-bd47-403a-c0d9-15ec915ecbc0"
      },
      "source": [
        "str1 = 'hello Python' #string str1  \n",
        "str2 = ' how are you' #string str2  \n",
        "# type your code here\n",
        "str1[:4]+\" \"+str1[8:]\n",
        "\n",
        "# hell thon\n"
      ],
      "execution_count": 0,
      "outputs": [
        {
          "output_type": "execute_result",
          "data": {
            "text/plain": [
              "'hell thon'"
            ]
          },
          "metadata": {
            "tags": []
          },
          "execution_count": 37
        }
      ]
    },
    {
      "cell_type": "markdown",
      "metadata": {
        "id": "DlEyeeK6tYNZ",
        "colab_type": "text"
      },
      "source": [
        "Python Keywords\n",
        "--\n",
        "Python Keywords are special reserved words which convey a special meaning to the compiler/interpreter. Each keyword have a special meaning and a specific operation. These keywords can't be used as variable. \n",
        "\n",
        "Following is the List of Python Keywords.\n",
        "\n",
        "True\n",
        "\n",
        "False\n",
        "\n",
        "None\n",
        "\n",
        "and\n",
        "\n",
        "as\n",
        "\n",
        "asset\n",
        "\n",
        "def\n",
        "\n",
        "class\n",
        "\n",
        "continue\n",
        "\n",
        "break\n",
        "\n",
        "else\n",
        "\n",
        "finally\n",
        "\n",
        "elif\n",
        "\n",
        "del\n",
        "\n",
        "except\n",
        "\n",
        "global\n",
        "\n",
        "for\n",
        "\n",
        "if\n",
        "\n",
        "from\n",
        "\n",
        "import\n",
        "\n",
        "raise\n",
        "\n",
        "try\n",
        "\n",
        "or\n",
        "\n",
        "return\n",
        "\n",
        "pass\n",
        "\n",
        "nonlocal\n",
        "\n",
        "in\n",
        "\n",
        "not\n",
        "\n",
        "is\n",
        "\n",
        "lambda"
      ]
    },
    {
      "cell_type": "code",
      "metadata": {
        "id": "IQ-J-dRqtYNZ",
        "colab_type": "code",
        "colab": {},
        "outputId": "45125c62-4254-4910-8fcc-781f7c01aab2"
      },
      "source": [
        "a=5\n",
        "\"Darshan\"\n",
        "print(a)"
      ],
      "execution_count": 0,
      "outputs": [
        {
          "output_type": "stream",
          "text": [
            "5\n"
          ],
          "name": "stdout"
        }
      ]
    },
    {
      "cell_type": "markdown",
      "metadata": {
        "id": "WkhLMJDctYNc",
        "colab_type": "text"
      },
      "source": [
        "Order of Operations:\n",
        "--\n",
        "PEMDAS"
      ]
    },
    {
      "cell_type": "markdown",
      "metadata": {
        "id": "P9fKS4CTtYNd",
        "colab_type": "raw"
      },
      "source": [
        "Comments:\n",
        "\n",
        "\n",
        "# for single line comments\n",
        "\n",
        "\"\"\"This is\n",
        "   for multi-line\n",
        "   comments\"\"\""
      ]
    },
    {
      "cell_type": "markdown",
      "metadata": {
        "id": "YzmqEZCvtYNd",
        "colab_type": "raw"
      },
      "source": [
        "2+3-1\n",
        "=(2+3)-1\n",
        "=4\n",
        "\n",
        "1+1**5-2\n",
        "=1+(1**5)-2\n",
        "=1+1-2\n",
        "=0\n",
        "\n",
        "2*3/2\n",
        "=(2*3)/2\n",
        "3"
      ]
    },
    {
      "cell_type": "code",
      "metadata": {
        "id": "PLwQDdIztYNe",
        "colab_type": "code",
        "colab": {},
        "outputId": "bc26bcdc-3a45-4a19-cc04-5cc9b0af71db"
      },
      "source": [
        "3*'Tom&Jerry'"
      ],
      "execution_count": 0,
      "outputs": [
        {
          "output_type": "execute_result",
          "data": {
            "text/plain": [
              "'Tom&JerryTom&JerryTom&Jerry'"
            ]
          },
          "metadata": {
            "tags": []
          },
          "execution_count": 45
        }
      ]
    },
    {
      "cell_type": "markdown",
      "metadata": {
        "id": "VuZ2xKBAtYNh",
        "colab_type": "raw"
      },
      "source": [
        "You cannot perform Mathematical operations on strings.\n",
        "'1'-'2'\n",
        "'eggs'/'hen'\n",
        "'3'*'Tom&Jerry'"
      ]
    },
    {
      "cell_type": "markdown",
      "metadata": {
        "id": "MJ5dlFOmtYNi",
        "colab_type": "raw"
      },
      "source": [
        "With Strings,\n",
        "+ is concatenation\n",
        "* is repetition"
      ]
    },
    {
      "cell_type": "code",
      "metadata": {
        "id": "P3UXbf6ItYNj",
        "colab_type": "code",
        "colab": {}
      },
      "source": [
        "\"sdsa\"*3"
      ],
      "execution_count": 0,
      "outputs": []
    },
    {
      "cell_type": "markdown",
      "metadata": {
        "id": "h6fkFfYjtYNm",
        "colab_type": "text"
      },
      "source": [
        "End of this Module\n",
        "--"
      ]
    }
  ]
}