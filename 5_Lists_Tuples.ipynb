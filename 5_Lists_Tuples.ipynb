{
  "nbformat": 4,
  "nbformat_minor": 0,
  "metadata": {
    "kernelspec": {
      "display_name": "Python 3",
      "language": "python",
      "name": "python3"
    },
    "language_info": {
      "codemirror_mode": {
        "name": "ipython",
        "version": 3
      },
      "file_extension": ".py",
      "mimetype": "text/x-python",
      "name": "python",
      "nbconvert_exporter": "python",
      "pygments_lexer": "ipython3",
      "version": "3.7.4"
    },
    "toc": {
      "base_numbering": 1,
      "nav_menu": {},
      "number_sections": true,
      "sideBar": true,
      "skip_h1_title": false,
      "title_cell": "Table of Contents",
      "title_sidebar": "Contents",
      "toc_cell": false,
      "toc_position": {},
      "toc_section_display": true,
      "toc_window_display": false
    },
    "colab": {
      "name": "5 Lists Tuples.ipynb",
      "provenance": [],
      "include_colab_link": true
    }
  },
  "cells": [
    {
      "cell_type": "markdown",
      "metadata": {
        "id": "view-in-github",
        "colab_type": "text"
      },
      "source": [
        "<a href=\"https://colab.research.google.com/github/aniruddhamodak/Python-Notes-For-Data-Science/blob/master/5_Lists_Tuples.ipynb\" target=\"_parent\"><img src=\"https://colab.research.google.com/assets/colab-badge.svg\" alt=\"Open In Colab\"/></a>"
      ]
    },
    {
      "cell_type": "markdown",
      "metadata": {
        "id": "F-NLEFmnyWYe",
        "colab_type": "text"
      },
      "source": [
        "Lists\n",
        "--\n",
        "> It is similar to arrays.\n",
        "\n",
        "    > It can contain any type of variable of distinct type"
      ]
    },
    {
      "cell_type": "code",
      "metadata": {
        "id": "drWquJhRyWYg",
        "colab_type": "code",
        "colab": {},
        "outputId": "e1c9b9ec-7655-47cf-de89-af13627bda4c"
      },
      "source": [
        "# empty list\n",
        "st = []\n",
        "print(st)"
      ],
      "execution_count": 0,
      "outputs": [
        {
          "output_type": "stream",
          "text": [
            "[]\n"
          ],
          "name": "stdout"
        }
      ]
    },
    {
      "cell_type": "code",
      "metadata": {
        "id": "lpVIMx2dyWYm",
        "colab_type": "code",
        "colab": {},
        "outputId": "7eee471b-c0c6-4a44-ebcd-a4bb56bf8c20"
      },
      "source": [
        "st = [1,2,3,4,'Darshan']\n",
        "print(st)"
      ],
      "execution_count": 0,
      "outputs": [
        {
          "output_type": "stream",
          "text": [
            "[1, 2, 3, 4, 'Darshan']\n"
          ],
          "name": "stdout"
        }
      ]
    },
    {
      "cell_type": "code",
      "metadata": {
        "id": "5MPS9ru9yWYp",
        "colab_type": "code",
        "colab": {},
        "outputId": "59501ec3-6886-4807-9ad7-60871ded9744"
      },
      "source": [
        "st = [1,22.33,\"Machine\"]\n",
        "print(st)\n",
        "print(type(st))"
      ],
      "execution_count": 0,
      "outputs": [
        {
          "output_type": "stream",
          "text": [
            "[1, 22.33, 'Machine']\n",
            "<class 'list'>\n"
          ],
          "name": "stdout"
        }
      ]
    },
    {
      "cell_type": "code",
      "metadata": {
        "id": "nyjAs0-8yWYt",
        "colab_type": "code",
        "colab": {},
        "outputId": "c7a11c1b-a061-4123-e3af-e2fa1a19faa5"
      },
      "source": [
        "st = ['A','B','C','D','E']\n",
        "print(st[0])\n",
        "print(st[3])\n",
        "print(st[-1])\n",
        "print('A' in st)\n",
        "print('AB' in st)"
      ],
      "execution_count": 0,
      "outputs": [
        {
          "output_type": "stream",
          "text": [
            "A\n",
            "D\n",
            "E\n",
            "True\n",
            "False\n"
          ],
          "name": "stdout"
        }
      ]
    },
    {
      "cell_type": "markdown",
      "metadata": {
        "id": "_9lklSl-yWYw",
        "colab_type": "raw"
      },
      "source": [
        "Lists are mutable. It means we can change an item in a list by accessing it as a part of the assignment statement."
      ]
    },
    {
      "cell_type": "code",
      "metadata": {
        "id": "Ds5kwsaSyWYx",
        "colab_type": "code",
        "colab": {},
        "outputId": "30c3e601-d478-4cb8-ebcc-5f390e724fb2"
      },
      "source": [
        "st = ['A','B','C','D','E']\n",
        "print(st)\n",
        "st[0] = 'X'\n",
        "print(st)"
      ],
      "execution_count": 0,
      "outputs": [
        {
          "output_type": "stream",
          "text": [
            "['A', 'B', 'C', 'D', 'E']\n",
            "['X', 'B', 'C', 'D', 'E']\n"
          ],
          "name": "stdout"
        }
      ]
    },
    {
      "cell_type": "code",
      "metadata": {
        "id": "_HysHIsvyWY0",
        "colab_type": "code",
        "colab": {},
        "outputId": "78d214f4-5c99-4622-81ca-c09cfe07fb82"
      },
      "source": [
        "\"A\" in st"
      ],
      "execution_count": 0,
      "outputs": [
        {
          "output_type": "execute_result",
          "data": {
            "text/plain": [
              "False"
            ]
          },
          "metadata": {
            "tags": []
          },
          "execution_count": 7
        }
      ]
    },
    {
      "cell_type": "code",
      "metadata": {
        "scrolled": true,
        "id": "56aSKie4yWY3",
        "colab_type": "code",
        "colab": {},
        "outputId": "8836e489-2cd5-499b-88b2-c69f0187ae78"
      },
      "source": [
        "# List of lists\n",
        "l=[1,2,[100,200,['A','Z'],300],3,4,5]\n",
        "print(l)\n",
        "print(l[2])\n",
        "# [53]\n",
        "print((l[2][2][1]))"
      ],
      "execution_count": 0,
      "outputs": [
        {
          "output_type": "stream",
          "text": [
            "[1, 2, [100, 200, ['A', 'Z'], 300], 3, 4, 5]\n",
            "[100, 200, ['A', 'Z'], 300]\n",
            "Z\n"
          ],
          "name": "stdout"
        }
      ]
    },
    {
      "cell_type": "code",
      "metadata": {
        "id": "vdyG8Lq1yWY8",
        "colab_type": "code",
        "colab": {},
        "outputId": "efbc3783-aab7-4454-ae62-8e7412025c91"
      },
      "source": [
        "l=[1,2,3,4,5]\n",
        "print(l)\n",
        "l.remove(2)\n",
        "print(l)"
      ],
      "execution_count": 0,
      "outputs": [
        {
          "output_type": "stream",
          "text": [
            "[1, 2, 3, 4, 5]\n",
            "[1, 3, 4, 5]\n"
          ],
          "name": "stdout"
        }
      ]
    },
    {
      "cell_type": "code",
      "metadata": {
        "id": "uOL-sTRUyWZA",
        "colab_type": "code",
        "colab": {},
        "outputId": "a97ebd8f-18bb-420b-bcab-698a8af90a95"
      },
      "source": [
        "l=[1,2,3,4,5]\n",
        "l.remove(22)\n",
        "print(l)"
      ],
      "execution_count": 0,
      "outputs": [
        {
          "output_type": "error",
          "ename": "ValueError",
          "evalue": "list.remove(x): x not in list",
          "traceback": [
            "\u001b[1;31m---------------------------------------------------------------------------\u001b[0m",
            "\u001b[1;31mValueError\u001b[0m                                Traceback (most recent call last)",
            "\u001b[1;32m<ipython-input-14-d86ed9d35e0f>\u001b[0m in \u001b[0;36m<module>\u001b[1;34m\u001b[0m\n\u001b[0;32m      1\u001b[0m \u001b[0ml\u001b[0m\u001b[1;33m=\u001b[0m\u001b[1;33m[\u001b[0m\u001b[1;36m1\u001b[0m\u001b[1;33m,\u001b[0m\u001b[1;36m2\u001b[0m\u001b[1;33m,\u001b[0m\u001b[1;36m3\u001b[0m\u001b[1;33m,\u001b[0m\u001b[1;36m4\u001b[0m\u001b[1;33m,\u001b[0m\u001b[1;36m5\u001b[0m\u001b[1;33m]\u001b[0m\u001b[1;33m\u001b[0m\u001b[1;33m\u001b[0m\u001b[0m\n\u001b[1;32m----> 2\u001b[1;33m \u001b[0ml\u001b[0m\u001b[1;33m.\u001b[0m\u001b[0mremove\u001b[0m\u001b[1;33m(\u001b[0m\u001b[1;36m22\u001b[0m\u001b[1;33m)\u001b[0m\u001b[1;33m\u001b[0m\u001b[1;33m\u001b[0m\u001b[0m\n\u001b[0m\u001b[0;32m      3\u001b[0m \u001b[0mprint\u001b[0m\u001b[1;33m(\u001b[0m\u001b[0ml\u001b[0m\u001b[1;33m)\u001b[0m\u001b[1;33m\u001b[0m\u001b[1;33m\u001b[0m\u001b[0m\n",
            "\u001b[1;31mValueError\u001b[0m: list.remove(x): x not in list"
          ]
        }
      ]
    },
    {
      "cell_type": "code",
      "metadata": {
        "id": "NglUOIjHyWZD",
        "colab_type": "code",
        "colab": {},
        "outputId": "6e17ca79-c8e7-4407-ad4e-223c311bbf28"
      },
      "source": [
        "l=[1,2,3,4,5]\n",
        "print(l)\n",
        "# [56]\n",
        "del l[1]\n",
        "\n",
        "\n",
        "print(l)"
      ],
      "execution_count": 0,
      "outputs": [
        {
          "output_type": "stream",
          "text": [
            "[1, 2, 3, 4, 5]\n",
            "[1, 3, 4, 5]\n"
          ],
          "name": "stdout"
        }
      ]
    },
    {
      "cell_type": "markdown",
      "metadata": {
        "id": "11lEqd_yyWZH",
        "colab_type": "text"
      },
      "source": [
        "Traversing a list\n",
        "--"
      ]
    },
    {
      "cell_type": "code",
      "metadata": {
        "id": "kjjELugQyWZQ",
        "colab_type": "code",
        "colab": {},
        "outputId": "34e51a4d-c833-44e3-fef7-460b6a34d071"
      },
      "source": [
        "names=[\"Darshan\",\"Python Trainer\", \"Deep Learning Trainer\", \"ML Trainer\"]\n",
        "for i in names:\n",
        "    print(i)"
      ],
      "execution_count": 0,
      "outputs": [
        {
          "output_type": "stream",
          "text": [
            "Darshan\n",
            "Python Trainer\n",
            "Deep Learning Trainer\n",
            "ML Trainer\n"
          ],
          "name": "stdout"
        }
      ]
    },
    {
      "cell_type": "code",
      "metadata": {
        "id": "Os0sDRwPyWZY",
        "colab_type": "code",
        "colab": {},
        "outputId": "8135beaa-54cd-4fdb-bbd8-fe37a7c987bd"
      },
      "source": [
        "# pop method\n",
        "s=[1,2,3,4,5,6,7,55,44]\n",
        "s.pop()"
      ],
      "execution_count": 0,
      "outputs": [
        {
          "output_type": "execute_result",
          "data": {
            "text/plain": [
              "44"
            ]
          },
          "metadata": {
            "tags": []
          },
          "execution_count": 17
        }
      ]
    },
    {
      "cell_type": "code",
      "metadata": {
        "id": "ImaKPvSUyWZd",
        "colab_type": "code",
        "colab": {},
        "outputId": "a173c869-789e-4c0a-a5c1-396a9e3fb994"
      },
      "source": [
        "print(s)"
      ],
      "execution_count": 0,
      "outputs": [
        {
          "output_type": "stream",
          "text": [
            "[1, 2, 3, 4, 5, 6, 7, 55]\n"
          ],
          "name": "stdout"
        }
      ]
    },
    {
      "cell_type": "code",
      "metadata": {
        "id": "5Fc_ou5byWZk",
        "colab_type": "code",
        "colab": {},
        "outputId": "716ad143-eeed-4293-c209-dbc56ef46d4a"
      },
      "source": [
        "#  13\n",
        "s.pop(4)\n",
        "print(s)"
      ],
      "execution_count": 0,
      "outputs": [
        {
          "output_type": "stream",
          "text": [
            "[3, 4, 5, 6]\n"
          ],
          "name": "stdout"
        }
      ]
    },
    {
      "cell_type": "code",
      "metadata": {
        "id": "j4bJorXvyWZp",
        "colab_type": "code",
        "colab": {}
      },
      "source": [
        "s"
      ],
      "execution_count": 0,
      "outputs": []
    },
    {
      "cell_type": "code",
      "metadata": {
        "id": "dbxJJAm6yWZu",
        "colab_type": "code",
        "colab": {},
        "outputId": "def45326-2d90-4245-a47f-b7e32266960b"
      },
      "source": [
        "l1=[3,2,1,5,4]\n",
        "print(l1)\n",
        "print(l1[:])\n",
        "print(min(l1))\n",
        "print(max(l1))\n",
        "l1.insert(2,999)\n",
        "print(l1)\n",
        "l1.append(777)\n",
        "print(l1)\n",
        "l1.sort()\n",
        "print(l1)\n",
        "l1.reverse()\n",
        "print(l1)\n",
        "l1.clear()\n",
        "print(l1)"
      ],
      "execution_count": 0,
      "outputs": [
        {
          "output_type": "stream",
          "text": [
            "[3, 2, 1, 5, 4]\n",
            "[3, 2, 1, 5, 4]\n",
            "1\n",
            "5\n",
            "[3, 2, 999, 1, 5, 4]\n",
            "[3, 2, 999, 1, 5, 4, 777]\n",
            "[1, 2, 3, 4, 5, 777, 999]\n",
            "[999, 777, 5, 4, 3, 2, 1]\n",
            "[]\n"
          ],
          "name": "stdout"
        }
      ]
    },
    {
      "cell_type": "code",
      "metadata": {
        "id": "omQyi4hAyWZ2",
        "colab_type": "code",
        "colab": {},
        "outputId": "8d475ed9-6187-4372-b06c-31e14d82b683"
      },
      "source": [
        "# + concatenates list\n",
        "l1=[1,2,3]\n",
        "l2=[2,3,4]\n",
        "l1+l2"
      ],
      "execution_count": 0,
      "outputs": [
        {
          "output_type": "execute_result",
          "data": {
            "text/plain": [
              "[1, 2, 3, 2, 3, 4]"
            ]
          },
          "metadata": {
            "tags": []
          },
          "execution_count": 24
        }
      ]
    },
    {
      "cell_type": "code",
      "metadata": {
        "id": "FHeqTftzyWZ8",
        "colab_type": "code",
        "colab": {},
        "outputId": "d7aaeeee-370d-4a57-e887-1665afcaf24a"
      },
      "source": [
        "# * means repetition\n",
        "[0]*4"
      ],
      "execution_count": 0,
      "outputs": [
        {
          "output_type": "execute_result",
          "data": {
            "text/plain": [
              "[0, 0, 0, 0]"
            ]
          },
          "metadata": {
            "tags": []
          },
          "execution_count": 25
        }
      ]
    },
    {
      "cell_type": "code",
      "metadata": {
        "id": "Xj3kAIrnyWaB",
        "colab_type": "code",
        "colab": {},
        "outputId": "83b36a0c-8bec-47c2-a574-81df29e49d43"
      },
      "source": [
        "[1,2,3]*5"
      ],
      "execution_count": 0,
      "outputs": [
        {
          "output_type": "execute_result",
          "data": {
            "text/plain": [
              "[1, 2, 3, 1, 2, 3, 1, 2, 3, 1, 2, 3, 1, 2, 3]"
            ]
          },
          "metadata": {
            "tags": []
          },
          "execution_count": 26
        }
      ]
    },
    {
      "cell_type": "markdown",
      "metadata": {
        "id": "respTtuDyWaF",
        "colab_type": "text"
      },
      "source": [
        "Tuples\n",
        "--\n",
        "> Tuple is similar to a list. However, in tuples, we cannot change the elements after assignment i.e they are immutable.\n",
        "\n",
        "> Each element or value inside the tuple is called an item."
      ]
    },
    {
      "cell_type": "code",
      "metadata": {
        "id": "_cN0La2iyWaG",
        "colab_type": "code",
        "colab": {},
        "outputId": "1419f1fb-c23b-4ae2-9748-42586f484645"
      },
      "source": [
        "s = ('y','v','angle')\n",
        "print(s)\n",
        "print(type(s))"
      ],
      "execution_count": 0,
      "outputs": [
        {
          "output_type": "stream",
          "text": [
            "('y', 'v', 'angle')\n",
            "<class 'tuple'>\n"
          ],
          "name": "stdout"
        }
      ]
    },
    {
      "cell_type": "code",
      "metadata": {
        "id": "sD2bKkgWyWaI",
        "colab_type": "code",
        "colab": {},
        "outputId": "34601114-ee9c-4bbc-ca19-1453e7145d51"
      },
      "source": [
        "# empty tuple\n",
        "t = ()\n",
        "print(t)"
      ],
      "execution_count": 0,
      "outputs": [
        {
          "output_type": "stream",
          "text": [
            "()\n"
          ],
          "name": "stdout"
        }
      ]
    },
    {
      "cell_type": "code",
      "metadata": {
        "id": "z7ZLdan9yWaL",
        "colab_type": "code",
        "colab": {},
        "outputId": "bd2c7726-849b-4da8-ffdb-0a72c1675ca5"
      },
      "source": [
        "t = (1.0)\n",
        "print(t)\n",
        "print(type(t))"
      ],
      "execution_count": 0,
      "outputs": [
        {
          "output_type": "stream",
          "text": [
            "1.0\n",
            "<class 'float'>\n"
          ],
          "name": "stdout"
        }
      ]
    },
    {
      "cell_type": "code",
      "metadata": {
        "id": "m25-q34cyWaO",
        "colab_type": "code",
        "colab": {},
        "outputId": "838a2488-0394-40f1-a840-f667a80b5720"
      },
      "source": [
        "# Single value tuple must use a comma\n",
        "t = (1,)\n",
        "print(t)\n",
        "print(type(t))"
      ],
      "execution_count": 0,
      "outputs": [
        {
          "output_type": "stream",
          "text": [
            "(1,)\n",
            "<class 'tuple'>\n"
          ],
          "name": "stdout"
        }
      ]
    },
    {
      "cell_type": "code",
      "metadata": {
        "id": "nJbiaWRYyWaR",
        "colab_type": "code",
        "colab": {},
        "outputId": "3abd4281-ff89-4ce2-cf50-01d2907807f4"
      },
      "source": [
        "t = (1,2,33.4443,5,6)\n",
        "print(t[1:3])\n",
        "print(t[1:])\n",
        "print(t[:4])\n",
        "print(t[::-1])\n",
        "print(t[-5:-1])"
      ],
      "execution_count": 0,
      "outputs": [
        {
          "output_type": "stream",
          "text": [
            "(2, 33.4443)\n",
            "(2, 33.4443, 5, 6)\n",
            "(1, 2, 33.4443, 5)\n",
            "(6, 5, 33.4443, 2, 1)\n",
            "(1, 2, 33.4443, 5)\n"
          ],
          "name": "stdout"
        }
      ]
    },
    {
      "cell_type": "code",
      "metadata": {
        "id": "0Aasa-tgyWaV",
        "colab_type": "code",
        "colab": {},
        "outputId": "ca66b36b-cad8-4855-c500-ddd373914b48"
      },
      "source": [
        "t1 = (1,2,3)\n",
        "t2 = (4,5,6)\n",
        "t1+t2"
      ],
      "execution_count": 0,
      "outputs": [
        {
          "output_type": "execute_result",
          "data": {
            "text/plain": [
              "(1, 2, 3, 4, 5, 6)"
            ]
          },
          "metadata": {
            "tags": []
          },
          "execution_count": 32
        }
      ]
    },
    {
      "cell_type": "code",
      "metadata": {
        "id": "zhp04_V0yWaY",
        "colab_type": "code",
        "colab": {},
        "outputId": "8d9301c3-ac3a-483c-b391-f6a937de78a3"
      },
      "source": [
        "t1*3"
      ],
      "execution_count": 0,
      "outputs": [
        {
          "output_type": "execute_result",
          "data": {
            "text/plain": [
              "(1, 2, 3, 1, 2, 3, 1, 2, 3)"
            ]
          },
          "metadata": {
            "tags": []
          },
          "execution_count": 33
        }
      ]
    },
    {
      "cell_type": "code",
      "metadata": {
        "id": "Na7Y2EBiyWaa",
        "colab_type": "code",
        "colab": {},
        "outputId": "2ffe948a-2e81-405e-9ec4-1638a0bee8b5"
      },
      "source": [
        "3 in t1"
      ],
      "execution_count": 0,
      "outputs": [
        {
          "output_type": "execute_result",
          "data": {
            "text/plain": [
              "True"
            ]
          },
          "metadata": {
            "tags": []
          },
          "execution_count": 34
        }
      ]
    },
    {
      "cell_type": "code",
      "metadata": {
        "id": "OaxZbj3KyWad",
        "colab_type": "code",
        "colab": {},
        "outputId": "7aeb7bf5-18ff-4a6a-bad3-c3da308c6283"
      },
      "source": [
        "len(t1)"
      ],
      "execution_count": 0,
      "outputs": [
        {
          "output_type": "execute_result",
          "data": {
            "text/plain": [
              "3"
            ]
          },
          "metadata": {
            "tags": []
          },
          "execution_count": 35
        }
      ]
    },
    {
      "cell_type": "code",
      "metadata": {
        "id": "-v-V9oLQyWaf",
        "colab_type": "code",
        "colab": {},
        "outputId": "b681fb70-a3ba-461d-a0b4-9ca0c2f2aee4"
      },
      "source": [
        "min(t1)"
      ],
      "execution_count": 0,
      "outputs": [
        {
          "output_type": "execute_result",
          "data": {
            "text/plain": [
              "1"
            ]
          },
          "metadata": {
            "tags": []
          },
          "execution_count": 37
        }
      ]
    },
    {
      "cell_type": "markdown",
      "metadata": {
        "id": "AoX3es6JyWai",
        "colab_type": "text"
      },
      "source": [
        "Tuples can be used to return more than one return values.\n",
        "--"
      ]
    },
    {
      "cell_type": "code",
      "metadata": {
        "id": "YnDACRqdyWaj",
        "colab_type": "code",
        "colab": {},
        "outputId": "052ab731-2d39-4114-ac45-7bfa77fb657c"
      },
      "source": [
        "def feed(topel):\n",
        "    f1=topel+1\n",
        "    f2=topel-5\n",
        "    return f1,f2\n",
        "z=feed(2)\n",
        "print(z)\n",
        "print(type(z))"
      ],
      "execution_count": 0,
      "outputs": [
        {
          "output_type": "stream",
          "text": [
            "(3, -3)\n",
            "<class 'tuple'>\n"
          ],
          "name": "stdout"
        }
      ]
    },
    {
      "cell_type": "code",
      "metadata": {
        "id": "yUm2zaYnyWal",
        "colab_type": "code",
        "colab": {},
        "outputId": "9a586e8b-1d18-453d-9c78-d2af4362cd9f"
      },
      "source": [
        "# *args can accept any number of arguments\n",
        "# in the form of tuple\n",
        "def var(*args):\n",
        "    print(args)\n",
        "\n",
        "var([1,2,3],(4,5),76)\n",
        "var(1,2)\n",
        "var(1,3,2,1,4,3,43)"
      ],
      "execution_count": 0,
      "outputs": [
        {
          "output_type": "stream",
          "text": [
            "([1, 2, 3], (4, 5), 76)\n",
            "(1, 2)\n",
            "(1, 3, 2, 1, 4, 3, 43)\n"
          ],
          "name": "stdout"
        }
      ]
    },
    {
      "cell_type": "code",
      "metadata": {
        "id": "9n0jcathyWao",
        "colab_type": "code",
        "colab": {},
        "outputId": "b6cac308-df68-4763-a2f3-74932646a316"
      },
      "source": [
        "# + concatenation\n",
        "# * repetition\n",
        "t1=(1,2,3)\n",
        "t2=(5,6,4,1)\n",
        "print(t1+t2)\n",
        "print(t1*3)\n",
        "print(len(t1))\n",
        "print(max(t1))\n",
        "print(min(t1))\n",
        "print(tuple([1,2,3,4,5,6]))"
      ],
      "execution_count": 0,
      "outputs": [
        {
          "output_type": "stream",
          "text": [
            "(1, 2, 3, 5, 6, 4, 1)\n",
            "(1, 2, 3, 1, 2, 3, 1, 2, 3)\n",
            "3\n",
            "3\n",
            "1\n",
            "(1, 2, 3, 4, 5, 6)\n"
          ],
          "name": "stdout"
        }
      ]
    }
  ]
}