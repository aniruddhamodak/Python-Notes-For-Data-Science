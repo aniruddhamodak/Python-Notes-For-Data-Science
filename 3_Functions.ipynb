{
  "nbformat": 4,
  "nbformat_minor": 0,
  "metadata": {
    "kernelspec": {
      "display_name": "Python 3",
      "language": "python",
      "name": "python3"
    },
    "language_info": {
      "codemirror_mode": {
        "name": "ipython",
        "version": 3
      },
      "file_extension": ".py",
      "mimetype": "text/x-python",
      "name": "python",
      "nbconvert_exporter": "python",
      "pygments_lexer": "ipython3",
      "version": "3.7.4"
    },
    "toc": {
      "base_numbering": 1,
      "nav_menu": {},
      "number_sections": true,
      "sideBar": true,
      "skip_h1_title": false,
      "title_cell": "Table of Contents",
      "title_sidebar": "Contents",
      "toc_cell": false,
      "toc_position": {},
      "toc_section_display": true,
      "toc_window_display": false
    },
    "colab": {
      "name": "3 Functions.ipynb",
      "provenance": [],
      "include_colab_link": true
    }
  },
  "cells": [
    {
      "cell_type": "markdown",
      "metadata": {
        "id": "view-in-github",
        "colab_type": "text"
      },
      "source": [
        "<a href=\"https://colab.research.google.com/github/aniruddhamodak/Python-Notes-For-Data-Science/blob/master/3_Functions.ipynb\" target=\"_parent\"><img src=\"https://colab.research.google.com/assets/colab-badge.svg\" alt=\"Open In Colab\"/></a>"
      ]
    },
    {
      "cell_type": "markdown",
      "metadata": {
        "id": "An4vxakWxy5S",
        "colab_type": "text"
      },
      "source": [
        "Functions:\n",
        "--\n",
        "Function is a named sequence of statements that performs a computation."
      ]
    },
    {
      "cell_type": "code",
      "metadata": {
        "id": "4nhDOaZnxy5T",
        "colab_type": "code",
        "colab": {},
        "outputId": "5c18385b-6b0f-4088-ab37-27a6832a074b"
      },
      "source": [
        "# Type Conversion Functions\n",
        "int('32') # convert str to int"
      ],
      "execution_count": 0,
      "outputs": [
        {
          "output_type": "execute_result",
          "data": {
            "text/plain": [
              "32"
            ]
          },
          "metadata": {
            "tags": []
          },
          "execution_count": 1
        }
      ]
    },
    {
      "cell_type": "code",
      "metadata": {
        "id": "tKSD-wbTxy5Z",
        "colab_type": "code",
        "colab": {},
        "outputId": "c9754a7b-2ec1-439a-c290-cbdb4dcce708"
      },
      "source": [
        "int(3.88888)"
      ],
      "execution_count": 0,
      "outputs": [
        {
          "output_type": "execute_result",
          "data": {
            "text/plain": [
              "3"
            ]
          },
          "metadata": {
            "tags": []
          },
          "execution_count": 2
        }
      ]
    },
    {
      "cell_type": "code",
      "metadata": {
        "id": "teB8DAhGxy5c",
        "colab_type": "code",
        "colab": {},
        "outputId": "07ad3a39-e04c-4bf5-f27e-1cd090d54c3a"
      },
      "source": [
        "int(-2.33)"
      ],
      "execution_count": 0,
      "outputs": [
        {
          "output_type": "execute_result",
          "data": {
            "text/plain": [
              "-2"
            ]
          },
          "metadata": {
            "tags": []
          },
          "execution_count": 3
        }
      ]
    },
    {
      "cell_type": "code",
      "metadata": {
        "id": "n9U6Xmw3xy5g",
        "colab_type": "code",
        "colab": {},
        "outputId": "90dd4274-37e2-4aef-a7b3-f5afc14b3ef0"
      },
      "source": [
        "int('Hello')"
      ],
      "execution_count": 0,
      "outputs": [
        {
          "output_type": "error",
          "ename": "ValueError",
          "evalue": "invalid literal for int() with base 10: 'Hello'",
          "traceback": [
            "\u001b[1;31m---------------------------------------------------------------------------\u001b[0m",
            "\u001b[1;31mValueError\u001b[0m                                Traceback (most recent call last)",
            "\u001b[1;32m<ipython-input-4-6765ce49acfe>\u001b[0m in \u001b[0;36m<module>\u001b[1;34m\u001b[0m\n\u001b[1;32m----> 1\u001b[1;33m \u001b[0mint\u001b[0m\u001b[1;33m(\u001b[0m\u001b[1;34m'Hello'\u001b[0m\u001b[1;33m)\u001b[0m\u001b[1;33m\u001b[0m\u001b[1;33m\u001b[0m\u001b[0m\n\u001b[0m",
            "\u001b[1;31mValueError\u001b[0m: invalid literal for int() with base 10: 'Hello'"
          ]
        }
      ]
    },
    {
      "cell_type": "code",
      "metadata": {
        "id": "JX8QwaW3xy5k",
        "colab_type": "code",
        "colab": {},
        "outputId": "92d8e04c-d251-498e-d0db-cc1e161e7466"
      },
      "source": [
        "float(32)"
      ],
      "execution_count": 0,
      "outputs": [
        {
          "output_type": "execute_result",
          "data": {
            "text/plain": [
              "32.0"
            ]
          },
          "metadata": {
            "tags": []
          },
          "execution_count": 5
        }
      ]
    },
    {
      "cell_type": "code",
      "metadata": {
        "id": "HNp2-qAFxy5n",
        "colab_type": "code",
        "colab": {},
        "outputId": "f8c9ae3f-3c5a-4c94-9370-d8345bf277b9"
      },
      "source": [
        "float(12.7576)"
      ],
      "execution_count": 0,
      "outputs": [
        {
          "output_type": "execute_result",
          "data": {
            "text/plain": [
              "12.7576"
            ]
          },
          "metadata": {
            "tags": []
          },
          "execution_count": 6
        }
      ]
    },
    {
      "cell_type": "code",
      "metadata": {
        "id": "NNJYpgvAxy5q",
        "colab_type": "code",
        "colab": {},
        "outputId": "ceedeaf9-32b7-4aec-9057-0a7b23c6c479"
      },
      "source": [
        "str(32)"
      ],
      "execution_count": 0,
      "outputs": [
        {
          "output_type": "execute_result",
          "data": {
            "text/plain": [
              "'32'"
            ]
          },
          "metadata": {
            "tags": []
          },
          "execution_count": 9
        }
      ]
    },
    {
      "cell_type": "markdown",
      "metadata": {
        "id": "95UBMFqExy5w",
        "colab_type": "text"
      },
      "source": [
        "Math Functions:\n",
        "--\n",
        " Import module 'math' for this"
      ]
    },
    {
      "cell_type": "code",
      "metadata": {
        "id": "u-kaS8Qvxy5x",
        "colab_type": "code",
        "colab": {},
        "outputId": "4a94a0ee-f24b-496f-90be-6eab7a8b9b66"
      },
      "source": [
        "# type your code here\n",
        "import math\n",
        "math.sin(90)"
      ],
      "execution_count": 0,
      "outputs": [
        {
          "output_type": "execute_result",
          "data": {
            "text/plain": [
              "0.8939966636005579"
            ]
          },
          "metadata": {
            "tags": []
          },
          "execution_count": 14
        }
      ]
    },
    {
      "cell_type": "code",
      "metadata": {
        "id": "4wMsOmXVxy50",
        "colab_type": "code",
        "colab": {},
        "outputId": "2a5256e0-bb53-4fc7-8233-61894bf19f1d"
      },
      "source": [
        "# It is used with dot notations\n",
        "# type your code here\n",
        "a=2*math.tan(90)\n",
        "print(a)"
      ],
      "execution_count": 0,
      "outputs": [
        {
          "output_type": "stream",
          "text": [
            "-3.990400824416484\n"
          ],
          "name": "stdout"
        }
      ]
    },
    {
      "cell_type": "code",
      "metadata": {
        "id": "jJiXl66vxy53",
        "colab_type": "code",
        "colab": {},
        "outputId": "b8b5d135-5cc0-4ac9-fe63-f024265fd505"
      },
      "source": [
        "# type your code here\n",
        "import math as m\n",
        "a = 2*m.tan(90)\n",
        "print(a)"
      ],
      "execution_count": 0,
      "outputs": [
        {
          "output_type": "stream",
          "text": [
            "-3.990400824416484\n"
          ],
          "name": "stdout"
        }
      ]
    },
    {
      "cell_type": "code",
      "metadata": {
        "id": "wmQUh4lSxy56",
        "colab_type": "code",
        "colab": {},
        "outputId": "fc8ffa7f-3627-4ac4-85d6-2858942cf008"
      },
      "source": [
        "print(m.sqrt(4)) \n",
        "print(m.ceil(5.1))\n",
        "# type your code here\n",
        "print(m.floor(5.1))\n",
        "print(m.exp(3.0))\n",
        "print(m.log(3))\n",
        "# type your code here\n",
        "print(m.log10(3))\n",
        "\n",
        "print(m.pow(2,3))"
      ],
      "execution_count": 0,
      "outputs": [
        {
          "output_type": "stream",
          "text": [
            "2.0\n",
            "6\n",
            "5\n",
            "20.085536923187668\n",
            "1.0986122886681098\n",
            "0.47712125471966244\n",
            "8.0\n"
          ],
          "name": "stdout"
        }
      ]
    },
    {
      "cell_type": "code",
      "metadata": {
        "id": "nwt9crxRxy5_",
        "colab_type": "code",
        "colab": {},
        "outputId": "8c266831-1192-4227-e5cf-b66b5d8ce366"
      },
      "source": [
        "m.sqrt(144)"
      ],
      "execution_count": 0,
      "outputs": [
        {
          "output_type": "execute_result",
          "data": {
            "text/plain": [
              "12.0"
            ]
          },
          "metadata": {
            "tags": []
          },
          "execution_count": 18
        }
      ]
    },
    {
      "cell_type": "code",
      "metadata": {
        "id": "4grZ9c2-xy6C",
        "colab_type": "code",
        "colab": {},
        "outputId": "bacd6a9c-1c09-4e3a-87dd-35e5113fb02c"
      },
      "source": [
        "# type your code here\n",
        "from math import sqrt,sin,tanh\n",
        "math.sqrt(100)"
      ],
      "execution_count": 0,
      "outputs": [
        {
          "output_type": "execute_result",
          "data": {
            "text/plain": [
              "10.0"
            ]
          },
          "metadata": {
            "tags": []
          },
          "execution_count": 20
        }
      ]
    },
    {
      "cell_type": "code",
      "metadata": {
        "id": "6urX1Zr_xy6F",
        "colab_type": "code",
        "colab": {},
        "outputId": "dbcae6a1-2f51-4736-eb69-2e52cf975ad8"
      },
      "source": [
        "from math import *\n",
        "math.sqrt(100)"
      ],
      "execution_count": 0,
      "outputs": [
        {
          "output_type": "execute_result",
          "data": {
            "text/plain": [
              "10.0"
            ]
          },
          "metadata": {
            "tags": []
          },
          "execution_count": 21
        }
      ]
    },
    {
      "cell_type": "markdown",
      "metadata": {
        "id": "JHzSoy3Jxy6H",
        "colab_type": "text"
      },
      "source": [
        "Composition\n",
        "--\n",
        "\n",
        ">It is the ability to take small building blocks and compose them. "
      ]
    },
    {
      "cell_type": "code",
      "metadata": {
        "id": "nzRQxPr2xy6K",
        "colab_type": "code",
        "colab": {},
        "outputId": "b66b7442-53da-42b7-c621-600e4130b730"
      },
      "source": [
        "import math as m\n",
        "# type your code here\n",
        "m.sqrt(m.pow(m.sqrt(144),2))"
      ],
      "execution_count": 0,
      "outputs": [
        {
          "output_type": "execute_result",
          "data": {
            "text/plain": [
              "12.0"
            ]
          },
          "metadata": {
            "tags": []
          },
          "execution_count": 24
        }
      ]
    },
    {
      "cell_type": "code",
      "metadata": {
        "id": "029d3pvAxy6N",
        "colab_type": "code",
        "colab": {},
        "outputId": "74747ec8-258d-454e-9a81-47f1989d7edf"
      },
      "source": [
        "m.sin(m.sinh(30))"
      ],
      "execution_count": 0,
      "outputs": [
        {
          "output_type": "execute_result",
          "data": {
            "text/plain": [
              "-0.9992995815615756"
            ]
          },
          "metadata": {
            "tags": []
          },
          "execution_count": 13
        }
      ]
    },
    {
      "cell_type": "markdown",
      "metadata": {
        "id": "nZ6Jcys-xy6Q",
        "colab_type": "text"
      },
      "source": [
        "User Defined Functions:\n",
        "--\n",
        "\n",
        "'def' keyword is used for this"
      ]
    },
    {
      "cell_type": "code",
      "metadata": {
        "id": "vMisvXK7xy6R",
        "colab_type": "code",
        "colab": {},
        "outputId": "24c8c18f-b5fe-4458-83c3-d10f407aafc8"
      },
      "source": [
        "# type your code here\n",
        "def abc():\n",
        "    print(\"Hi\")\n",
        "    print(\"Dr. Ingle\")\n",
        "\n",
        "x=2\n",
        "y=3\n",
        "z=x+y # 5\n",
        "print(z)\n",
        "abc()"
      ],
      "execution_count": 0,
      "outputs": [
        {
          "output_type": "stream",
          "text": [
            "5\n",
            "Hi\n",
            "Dr. Ingle\n"
          ],
          "name": "stdout"
        }
      ]
    },
    {
      "cell_type": "code",
      "metadata": {
        "id": "svlLlUd5xy6U",
        "colab_type": "code",
        "colab": {},
        "outputId": "b6991ad0-c5a1-4eeb-ef68-b2ac133eadf6"
      },
      "source": [
        "# type your code here\n",
        "def xyz():\n",
        "    print(\"In xyz\")\n",
        "    abc()\n",
        "    print(\"Leaving xyz\")\n",
        "\n",
        "xyz()\n",
        "print(\"Hi, I am Main\")\n",
        "\n"
      ],
      "execution_count": 0,
      "outputs": [
        {
          "output_type": "stream",
          "text": [
            "In xyz\n",
            "Hi\n",
            "Dr. Ingle\n",
            "Leaving xyz\n",
            "Hi, I am Main\n"
          ],
          "name": "stdout"
        }
      ]
    },
    {
      "cell_type": "markdown",
      "metadata": {
        "id": "orVWwy96xy6X",
        "colab_type": "text"
      },
      "source": [
        "Parameter passing and Arguments:\n",
        "--\n"
      ]
    },
    {
      "cell_type": "code",
      "metadata": {
        "id": "rDUYgycvxy6X",
        "colab_type": "code",
        "colab": {},
        "outputId": "b2f06b8e-cc00-40f5-a404-34af73c5e02b"
      },
      "source": [
        "def mno(a):\n",
        "    print(a)\n",
        "\n",
        "mno(233)\n",
        "mno(33.5116)\n",
        "# type your code here\n",
        "mno(\"String\")\n",
        "mno(m.pi)\n",
        "\n"
      ],
      "execution_count": 0,
      "outputs": [
        {
          "output_type": "stream",
          "text": [
            "233\n",
            "33.5116\n",
            "String\n",
            "3.141592653589793\n"
          ],
          "name": "stdout"
        }
      ]
    },
    {
      "cell_type": "code",
      "metadata": {
        "id": "dNnUh9trxy6a",
        "colab_type": "code",
        "colab": {},
        "outputId": "6b5c5dfe-e043-4952-c76f-4175f178d11d"
      },
      "source": [
        "def add(x,y):\n",
        "    c=x+y\n",
        "    print(c)\n",
        "\n",
        "\n",
        "a=1\n",
        "b=4\n",
        "add(a,b)\n",
        "print(\"EOP\")"
      ],
      "execution_count": 0,
      "outputs": [
        {
          "output_type": "stream",
          "text": [
            "5\n",
            "EOP\n"
          ],
          "name": "stdout"
        }
      ]
    },
    {
      "cell_type": "code",
      "metadata": {
        "id": "cz8yEJhuxy6e",
        "colab_type": "code",
        "colab": {},
        "outputId": "fd5aafaf-a6cc-4f88-9d18-48d1c9a09ceb"
      },
      "source": [
        "def mno(a):\n",
        "    a = a**2\n",
        "    return a\n",
        "    \n",
        "\n",
        "x = mno(5)\n",
        "# type your code here\n",
        "print(x)\n"
      ],
      "execution_count": 0,
      "outputs": [
        {
          "output_type": "stream",
          "text": [
            "25\n"
          ],
          "name": "stdout"
        }
      ]
    },
    {
      "cell_type": "code",
      "metadata": {
        "id": "AXQW72b_xy6j",
        "colab_type": "code",
        "colab": {},
        "outputId": "fd155a31-ec2d-4d15-ad18-cc4fe91228c2"
      },
      "source": [
        "# Modulus Operator\n",
        "print(7/3)\n",
        "print(7%3)\n",
        "print(7//3)"
      ],
      "execution_count": 0,
      "outputs": [
        {
          "output_type": "stream",
          "text": [
            "2.3333333333333335\n",
            "1\n",
            "2\n"
          ],
          "name": "stdout"
        }
      ]
    },
    {
      "cell_type": "code",
      "metadata": {
        "id": "v-QTxkztxy6p",
        "colab_type": "code",
        "colab": {},
        "outputId": "acbeb60e-41e5-47d3-dc01-417d578efef8"
      },
      "source": [
        "# Boolean Operator\n",
        "print(5==5)\n",
        "print('5==6')\n",
        "print('Hi'=='Hi')\n",
        "print('hi'=='Hi')\n",
        "print(type(False))"
      ],
      "execution_count": 0,
      "outputs": [
        {
          "output_type": "stream",
          "text": [
            "True\n",
            "5==6\n",
            "True\n",
            "False\n",
            "<class 'bool'>\n"
          ],
          "name": "stdout"
        }
      ]
    },
    {
      "cell_type": "code",
      "metadata": {
        "id": "EvFruW2exy6u",
        "colab_type": "code",
        "colab": {}
      },
      "source": [
        "# Relational Operators\n",
        "# > < >= <= == !=\n",
        "a = 5>6\n",
        "# type your code here\n",
        "\n"
      ],
      "execution_count": 0,
      "outputs": []
    },
    {
      "cell_type": "code",
      "metadata": {
        "id": "EJYP_xIPxy6z",
        "colab_type": "code",
        "colab": {},
        "outputId": "b2de9f53-5fbd-4af0-9964-0d330b727e2f"
      },
      "source": [
        "# Logical Operators\n",
        "# and, or\n",
        "\n",
        "# type your code here\n",
        "print(177987 and True)\n"
      ],
      "execution_count": 0,
      "outputs": [
        {
          "output_type": "stream",
          "text": [
            "True\n"
          ],
          "name": "stdout"
        }
      ]
    },
    {
      "cell_type": "markdown",
      "metadata": {
        "id": "WHTOzhg0xy63",
        "colab_type": "text"
      },
      "source": [
        "Variables and parameters are local.\n",
        "--"
      ]
    },
    {
      "cell_type": "code",
      "metadata": {
        "id": "b_qdJ6Znxy64",
        "colab_type": "code",
        "colab": {},
        "outputId": "446e3dce-d224-4e4a-b88d-e517230787cc"
      },
      "source": [
        "def loc_var_ex(parta,partartb):\n",
        "    new_var=parta+partartb\n",
        "    print(new_var)\n",
        "\n",
        "a=\"Darshan\"\n",
        "b=\"Ingle\"\n",
        "loc_var_ex(a,b)\n",
        "# type your code here\n",
        "print(new_var)\n"
      ],
      "execution_count": 0,
      "outputs": [
        {
          "output_type": "stream",
          "text": [
            "DarshanIngle\n"
          ],
          "name": "stdout"
        },
        {
          "output_type": "error",
          "ename": "NameError",
          "evalue": "name 'new_var' is not defined",
          "traceback": [
            "\u001b[1;31m---------------------------------------------------------------------------\u001b[0m",
            "\u001b[1;31mNameError\u001b[0m                                 Traceback (most recent call last)",
            "\u001b[1;32m<ipython-input-46-25bea6328a93>\u001b[0m in \u001b[0;36m<module>\u001b[1;34m\u001b[0m\n\u001b[0;32m      7\u001b[0m \u001b[0mloc_var_ex\u001b[0m\u001b[1;33m(\u001b[0m\u001b[0ma\u001b[0m\u001b[1;33m,\u001b[0m\u001b[0mb\u001b[0m\u001b[1;33m)\u001b[0m\u001b[1;33m\u001b[0m\u001b[1;33m\u001b[0m\u001b[0m\n\u001b[0;32m      8\u001b[0m \u001b[1;31m# type your code here\u001b[0m\u001b[1;33m\u001b[0m\u001b[1;33m\u001b[0m\u001b[1;33m\u001b[0m\u001b[0m\n\u001b[1;32m----> 9\u001b[1;33m \u001b[0mprint\u001b[0m\u001b[1;33m(\u001b[0m\u001b[0mnew_var\u001b[0m\u001b[1;33m)\u001b[0m\u001b[1;33m\u001b[0m\u001b[1;33m\u001b[0m\u001b[0m\n\u001b[0m",
            "\u001b[1;31mNameError\u001b[0m: name 'new_var' is not defined"
          ]
        }
      ]
    },
    {
      "cell_type": "markdown",
      "metadata": {
        "id": "JhZZrytrxy68",
        "colab_type": "text"
      },
      "source": [
        "Taking input from the user\n",
        "--"
      ]
    },
    {
      "cell_type": "code",
      "metadata": {
        "id": "gM-InFucxy69",
        "colab_type": "code",
        "colab": {},
        "outputId": "2ca664e9-a2cf-42ea-aec9-b9d8955ba3bd"
      },
      "source": [
        "# type your code here\n",
        "print(\"Enter a no:\")\n",
        "a=input()\n",
        "print(\"a is \",a)"
      ],
      "execution_count": 0,
      "outputs": [
        {
          "output_type": "stream",
          "text": [
            "Enter a no:\n",
            "59\n",
            "a is  59\n"
          ],
          "name": "stdout"
        }
      ]
    },
    {
      "cell_type": "code",
      "metadata": {
        "id": "9VcOX0mQxy7C",
        "colab_type": "code",
        "colab": {},
        "outputId": "6ed073fa-a965-403a-ff57-6ccf09dec831"
      },
      "source": [
        "\n",
        "# type your code here\n",
        "a=int(input(\"Enter 1st no: \"))\n",
        "b=int(input(\"Enter 2nd no: \"))\n",
        "c=a+b\n",
        "print(\"Add is\",c)\n",
        "\n",
        "\n"
      ],
      "execution_count": 0,
      "outputs": [
        {
          "output_type": "stream",
          "text": [
            "Enter 1st no: 50\n",
            "Enter 2nd no: 49\n",
            "Add is 99\n"
          ],
          "name": "stdout"
        }
      ]
    },
    {
      "cell_type": "code",
      "metadata": {
        "id": "umGyspSaxy7I",
        "colab_type": "code",
        "colab": {},
        "outputId": "4bda422f-c325-404e-c096-9e0cee033237"
      },
      "source": [
        "type(c)"
      ],
      "execution_count": 0,
      "outputs": [
        {
          "output_type": "execute_result",
          "data": {
            "text/plain": [
              "str"
            ]
          },
          "metadata": {
            "tags": []
          },
          "execution_count": 49
        }
      ]
    },
    {
      "cell_type": "code",
      "metadata": {
        "id": "i7oW7mO_xy7O",
        "colab_type": "code",
        "colab": {},
        "outputId": "e47d330a-b35c-47e2-b1b3-4cb52d24b77e"
      },
      "source": [
        "print(\"Enter two nos: \")\n",
        "# type your code here\n",
        "\n",
        "\n",
        "\n",
        "c=a+b\n",
        "print(\"Add is: \",c)"
      ],
      "execution_count": 0,
      "outputs": [
        {
          "output_type": "stream",
          "text": [
            "Enter two nos: \n",
            "Add is:  DarshanIngle\n"
          ],
          "name": "stdout"
        }
      ]
    },
    {
      "cell_type": "code",
      "metadata": {
        "id": "Kaicsuvhxy7S",
        "colab_type": "code",
        "colab": {}
      },
      "source": [
        "type(c)"
      ],
      "execution_count": 0,
      "outputs": []
    },
    {
      "cell_type": "code",
      "metadata": {
        "id": "uSnWXmsixy7Y",
        "colab_type": "code",
        "colab": {}
      },
      "source": [
        "print(\"Enter 1st nos: \")\n",
        "a=int(input())\n",
        "print(\"Enter 2nd nos: \")\n",
        "b=int(input())\n",
        "# type your code here\n",
        "\n",
        "\n",
        "print(\"Add is: \",c)"
      ],
      "execution_count": 0,
      "outputs": []
    },
    {
      "cell_type": "code",
      "metadata": {
        "id": "7aHMDY8Kxy7a",
        "colab_type": "code",
        "colab": {},
        "outputId": "7accfb0f-55c2-4672-b358-c62dd865693d"
      },
      "source": [
        "# type your code here\n",
        "\n",
        "\n",
        "\n",
        "c=a+b\n",
        "print(\"Add is: \",c)"
      ],
      "execution_count": 0,
      "outputs": [
        {
          "output_type": "stream",
          "text": [
            "Add is:  3\n"
          ],
          "name": "stdout"
        }
      ]
    },
    {
      "cell_type": "markdown",
      "metadata": {
        "id": "dMiyt3Ijxy7d",
        "colab_type": "text"
      },
      "source": [
        "Conditional execution\n",
        "--\n"
      ]
    },
    {
      "cell_type": "code",
      "metadata": {
        "id": "JvwvJO0Oxy7e",
        "colab_type": "code",
        "colab": {},
        "outputId": "7ea68558-bdcd-43f2-8c9e-8cfb043b7c8e"
      },
      "source": [
        "x=int(input())\n",
        "if x>0:\n",
        "    print(x)"
      ],
      "execution_count": 0,
      "outputs": [
        {
          "output_type": "stream",
          "text": [
            "0\n"
          ],
          "name": "stdout"
        }
      ]
    },
    {
      "cell_type": "code",
      "metadata": {
        "id": "76thj23lxy7g",
        "colab_type": "code",
        "colab": {},
        "outputId": "22c1499a-b6a8-4377-83f3-8922d3b97df0"
      },
      "source": [
        "x=int(input())\n",
        "if x%2==0:\n",
        "    print(x,\" is even\")\n",
        "else:\n",
        "    print(x,\" is odd\")"
      ],
      "execution_count": 0,
      "outputs": [
        {
          "output_type": "stream",
          "text": [
            "89\n",
            "89  is odd\n"
          ],
          "name": "stdout"
        }
      ]
    },
    {
      "cell_type": "code",
      "metadata": {
        "id": "GxYVc9LExy7m",
        "colab_type": "code",
        "colab": {}
      },
      "source": [
        "x=2\n",
        "if x<0:\n",
        "    print(x)"
      ],
      "execution_count": 0,
      "outputs": []
    },
    {
      "cell_type": "code",
      "metadata": {
        "id": "uTJitTTwxy7q",
        "colab_type": "code",
        "colab": {},
        "outputId": "e3f0b6a1-ca8f-4cf3-b7f9-6b0dda81a106"
      },
      "source": [
        "# if statement\n",
        "x = int(input())\n",
        "if x>35:\n",
        "    print(x,\"is greater that 35\")\n",
        "else:\n",
        "    print(x,\"is less than or equal to 35\")"
      ],
      "execution_count": 0,
      "outputs": [
        {
          "output_type": "stream",
          "text": [
            "40 is greater that 35\n"
          ],
          "name": "stdout"
        }
      ]
    },
    {
      "cell_type": "code",
      "metadata": {
        "id": "oqbTqAWIxy7t",
        "colab_type": "code",
        "colab": {},
        "outputId": "20756687-d8c6-4ff4-ce45-8fb35a44ec69"
      },
      "source": [
        "# Chained Conditionals\n",
        "x = int(input())\n",
        "if x>35:\n",
        "    print(x,\"is greater that 35\")\n",
        "elif x<35:\n",
        "    print(x,\"is less than 35\")\n",
        "else:\n",
        "    print(x,\"is equal to 35\")"
      ],
      "execution_count": 0,
      "outputs": [
        {
          "output_type": "stream",
          "text": [
            "35 is equal to 35\n"
          ],
          "name": "stdout"
        }
      ]
    },
    {
      "cell_type": "code",
      "metadata": {
        "id": "K-keRv_Xxy7z",
        "colab_type": "code",
        "colab": {},
        "outputId": "7eb91abe-a7d5-4119-f9fc-953aa42c1c89"
      },
      "source": [
        "# Nested Conditionals\n",
        "x = int(input())\n",
        "if x>35:\n",
        "    print(x,\"is greater that 35\")\n",
        "else:\n",
        "    if x<35:\n",
        "        print(x,\"is less than 35\")\n",
        "    else:\n",
        "        print(x,\"is equal to 35\")"
      ],
      "execution_count": 0,
      "outputs": [
        {
          "output_type": "stream",
          "text": [
            "35 is equal to 35\n"
          ],
          "name": "stdout"
        }
      ]
    },
    {
      "cell_type": "code",
      "metadata": {
        "id": "eKK5W94gxy73",
        "colab_type": "code",
        "colab": {},
        "outputId": "68119fee-252d-4597-dfe8-162b1f805f71"
      },
      "source": [
        "# Nested Conditionals\n",
        "x = 35\n",
        "if x<35:\n",
        "    if x==35:\n",
        "        print(x,\"is equal to 35\")\n",
        "    else:\n",
        "        print(x,\"is less than 35\")\n",
        "else:\n",
        "    print(x,\"is greater than 35\")"
      ],
      "execution_count": 0,
      "outputs": [
        {
          "output_type": "stream",
          "text": [
            "35 is greater than 35\n"
          ],
          "name": "stdout"
        }
      ]
    },
    {
      "cell_type": "markdown",
      "metadata": {
        "id": "VV2YT4Q3xy77",
        "colab_type": "raw"
      },
      "source": [
        "If there is an else clause, it has to be at the end, but there doesnt have to be one."
      ]
    },
    {
      "cell_type": "code",
      "metadata": {
        "id": "Vdh6V1Xpxy78",
        "colab_type": "code",
        "colab": {},
        "outputId": "80d537f1-8674-4034-c98f-4b09c687ead0"
      },
      "source": [
        "x=input()\n",
        "if x=='a':\n",
        "    print(\"x is: \",x)\n",
        "elif x=='b':\n",
        "    print(\"x is: \",x)"
      ],
      "execution_count": 0,
      "outputs": [
        {
          "output_type": "stream",
          "text": [
            "a\n",
            "x is:  a\n"
          ],
          "name": "stdout"
        }
      ]
    },
    {
      "cell_type": "code",
      "metadata": {
        "id": "ouWZ9ihwxy7_",
        "colab_type": "code",
        "colab": {}
      },
      "source": [
        "# Recu\n",
        "\n",
        "\n",
        "\n"
      ],
      "execution_count": 0,
      "outputs": []
    },
    {
      "cell_type": "code",
      "metadata": {
        "id": "ztXVtpfrxy8C",
        "colab_type": "code",
        "colab": {},
        "outputId": "f9f43a57-6dcf-4f36-9bb2-22bf4a2d7f2f"
      },
      "source": [
        ""
      ],
      "execution_count": 0,
      "outputs": [
        {
          "output_type": "stream",
          "text": [
            "5\n",
            "4\n",
            "3\n",
            "2\n",
            "1\n",
            "Blast Off!!!!!\n"
          ],
          "name": "stdout"
        }
      ]
    },
    {
      "cell_type": "code",
      "metadata": {
        "id": "DWxEDOBaxy8H",
        "colab_type": "code",
        "colab": {},
        "outputId": "fea4a0a8-84e4-47e2-9821-4fc18b70fb41"
      },
      "source": [
        "1+2"
      ],
      "execution_count": 0,
      "outputs": [
        {
          "output_type": "execute_result",
          "data": {
            "text/plain": [
              "3"
            ]
          },
          "metadata": {
            "tags": []
          },
          "execution_count": 31
        }
      ]
    },
    {
      "cell_type": "markdown",
      "metadata": {
        "id": "x7Vz_x42xy8L",
        "colab_type": "raw"
      },
      "source": [
        "Arithmetic Operators\n",
        "\n",
        "+ \n",
        "- \n",
        "* \n",
        "/ \n",
        "%\n",
        "// -Floor Division 4//6 = 0\n",
        "** Exponentiation 2**3 = 8"
      ]
    },
    {
      "cell_type": "code",
      "metadata": {
        "id": "T3F61dWMxy8L",
        "colab_type": "code",
        "colab": {},
        "outputId": "c7c1d413-642e-4d87-8323-f3272c6ff127"
      },
      "source": [
        "# Membership Operators\n",
        "s = [1,2,3,4]\n",
        "1 in s"
      ],
      "execution_count": 0,
      "outputs": [
        {
          "output_type": "execute_result",
          "data": {
            "text/plain": [
              "True"
            ]
          },
          "metadata": {
            "tags": []
          },
          "execution_count": 32
        }
      ]
    },
    {
      "cell_type": "code",
      "metadata": {
        "id": "f8JpO0nnxy8O",
        "colab_type": "code",
        "colab": {},
        "outputId": "d2d55f2e-cfde-4cb3-98a5-9d5a973028fc"
      },
      "source": [
        "# Membership Operators\n",
        "s = [1,2,3,4]\n",
        "1 not in s"
      ],
      "execution_count": 0,
      "outputs": [
        {
          "output_type": "execute_result",
          "data": {
            "text/plain": [
              "False"
            ]
          },
          "metadata": {
            "tags": []
          },
          "execution_count": 55
        }
      ]
    },
    {
      "cell_type": "markdown",
      "metadata": {
        "id": "6kVAf-nMxy8R",
        "colab_type": "text"
      },
      "source": [
        "Return Values\n",
        "--"
      ]
    },
    {
      "cell_type": "code",
      "metadata": {
        "id": "FYnKm2AExy8R",
        "colab_type": "code",
        "colab": {},
        "outputId": "ce871868-7b8e-4910-bb88-0f46e87cdeac"
      },
      "source": [
        "def area(radius):\n",
        "    a=m.pi*radius*radius\n",
        "    return a\n",
        "\n",
        "\n",
        "# type your code here\n",
        "\n"
      ],
      "execution_count": 0,
      "outputs": [
        {
          "output_type": "stream",
          "text": [
            "Enter radius of circle: 5.7\n",
            "102.07034531513239\n"
          ],
          "name": "stdout"
        }
      ]
    },
    {
      "cell_type": "code",
      "metadata": {
        "id": "uLn9mbebxy8T",
        "colab_type": "code",
        "colab": {},
        "outputId": "d7226747-1bca-44ce-e3b3-e30059b138ac"
      },
      "source": [
        "import math as m\n",
        "def area(radius):\n",
        "    a=m.pi*radius*radius\n",
        "    return a\n",
        "\n",
        "# type your code here\n",
        "\n"
      ],
      "execution_count": 0,
      "outputs": [
        {
          "output_type": "stream",
          "text": [
            "Enter radius of circle: 2.4\n",
            "Area of circle is:  18.09557368467721\n"
          ],
          "name": "stdout"
        }
      ]
    },
    {
      "cell_type": "code",
      "metadata": {
        "id": "PDg2VawPxy8W",
        "colab_type": "code",
        "colab": {},
        "outputId": "3a6f9c9a-11fe-4559-a910-1d275cf1e723"
      },
      "source": [
        "# Boolean Functions\n",
        "def is_divisible(x,y):\n",
        "    if x%y==0:\n",
        "        return True\n",
        "    else:\n",
        "        return False\n",
        "# type your code here\n",
        "\n",
        "is_divisible(6,2)"
      ],
      "execution_count": 0,
      "outputs": [
        {
          "output_type": "execute_result",
          "data": {
            "text/plain": [
              "True"
            ]
          },
          "metadata": {
            "tags": []
          },
          "execution_count": 57
        }
      ]
    },
    {
      "cell_type": "code",
      "metadata": {
        "id": "hA9QoJ1uxy8a",
        "colab_type": "code",
        "colab": {}
      },
      "source": [
        "# Some more Rec\n",
        "\n"
      ],
      "execution_count": 0,
      "outputs": []
    },
    {
      "cell_type": "code",
      "metadata": {
        "id": "uh5EOGLDxy8g",
        "colab_type": "code",
        "colab": {},
        "outputId": "349fefba-4ba6-4d42-eae3-f6a51dd53de2"
      },
      "source": [
        ""
      ],
      "execution_count": 0,
      "outputs": [
        {
          "output_type": "execute_result",
          "data": {
            "text/plain": [
              "13"
            ]
          },
          "metadata": {
            "tags": []
          },
          "execution_count": 6
        }
      ]
    },
    {
      "cell_type": "code",
      "metadata": {
        "id": "BsKCvyEwxy8n",
        "colab_type": "code",
        "colab": {},
        "outputId": "7b350a09-31dc-4c17-dac8-7c57f7e8cb52"
      },
      "source": [
        "# Program to fing average of 3 numbers\n",
        "def avg(n1, n2, n3):\n",
        "    sum = n1+n2+n3\n",
        "    print(sum/3)\n",
        "\n",
        "# type your code here\n",
        "avg(10,20,30)\n",
        "avg(1,2,3)\n"
      ],
      "execution_count": 0,
      "outputs": [
        {
          "output_type": "stream",
          "text": [
            "20.0\n",
            "2.0\n"
          ],
          "name": "stdout"
        }
      ]
    },
    {
      "cell_type": "code",
      "metadata": {
        "id": "W99K_Wj1xy8t",
        "colab_type": "code",
        "colab": {},
        "outputId": "f5f93fd4-1fef-401d-bb01-9df920399185"
      },
      "source": [
        "def avg(n1=2, n2=1, n3=0):\n",
        "    sum = n1+n2+n3\n",
        "    print(sum/3)\n",
        "\n",
        "# type your code here\n",
        "\n",
        "avg(10,20)\n",
        "avg()\n",
        "avg(55)\n",
        "avg(n1=3,n3=4)"
      ],
      "execution_count": 0,
      "outputs": [
        {
          "output_type": "stream",
          "text": [
            "10.0\n",
            "1.0\n",
            "18.666666666666668\n",
            "2.6666666666666665\n"
          ],
          "name": "stdout"
        }
      ]
    }
  ]
}