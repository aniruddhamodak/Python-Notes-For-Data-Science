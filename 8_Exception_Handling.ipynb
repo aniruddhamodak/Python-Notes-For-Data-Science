{
  "nbformat": 4,
  "nbformat_minor": 0,
  "metadata": {
    "kernelspec": {
      "display_name": "Python 3",
      "language": "python",
      "name": "python3"
    },
    "language_info": {
      "codemirror_mode": {
        "name": "ipython",
        "version": 3
      },
      "file_extension": ".py",
      "mimetype": "text/x-python",
      "name": "python",
      "nbconvert_exporter": "python",
      "pygments_lexer": "ipython3",
      "version": "3.7.4"
    },
    "toc": {
      "base_numbering": 1,
      "nav_menu": {},
      "number_sections": true,
      "sideBar": true,
      "skip_h1_title": false,
      "title_cell": "Table of Contents",
      "title_sidebar": "Contents",
      "toc_cell": false,
      "toc_position": {},
      "toc_section_display": true,
      "toc_window_display": false
    },
    "colab": {
      "name": "8 Exception Handling.ipynb",
      "provenance": [],
      "include_colab_link": true
    }
  },
  "cells": [
    {
      "cell_type": "markdown",
      "metadata": {
        "id": "view-in-github",
        "colab_type": "text"
      },
      "source": [
        "<a href=\"https://colab.research.google.com/github/aniruddhamodak/Python-Notes-For-Data-Science/blob/master/8_Exception_Handling.ipynb\" target=\"_parent\"><img src=\"https://colab.research.google.com/assets/colab-badge.svg\" alt=\"Open In Colab\"/></a>"
      ]
    },
    {
      "cell_type": "markdown",
      "metadata": {
        "id": "KWf2H4KSuc33",
        "colab_type": "text"
      },
      "source": [
        ">Exception is an abnormal condition in a program.\n",
        "\n",
        ">It is a run time error.\n",
        "\n",
        ">If we raise an exception, we can prevent the program from crashing."
      ]
    },
    {
      "cell_type": "markdown",
      "metadata": {
        "id": "Ag97J29Guc35",
        "colab_type": "text"
      },
      "source": [
        "Built-in Exceptions for Python\n",
        "--\n",
        "\n",
        "Exception - Base class for all exceptions\n",
        "\n",
        "ArithmeticError - numeric caluclations\n",
        "\n",
        "OverflowError - maximum limit for numeric type\n",
        "\n",
        "ZeroDivisionError - divide by zero\n",
        "\n",
        "ImportError - when import fails\n",
        "\n",
        "KeyboardInterrupt - usually when the user interrupts the program execution by pressing Ctrl+c\n",
        "\n",
        "IndexError - index not found in the sequence\n",
        "\n",
        "KeyError - key not found in the sequence\n",
        "\n",
        "OSError - OS related errors\n",
        "\n",
        "ValueError, TypeError and so on."
      ]
    },
    {
      "cell_type": "markdown",
      "metadata": {
        "id": "Tv-NupLWuc36",
        "colab_type": "text"
      },
      "source": [
        "try - except\n",
        "--"
      ]
    },
    {
      "cell_type": "code",
      "metadata": {
        "id": "nqy-O52auc36",
        "colab_type": "code",
        "colab": {},
        "outputId": "bb7e8e3c-a5a1-4817-db6f-212cc8afb513"
      },
      "source": [
        "a=int(input(\"Enter a no: \"))\n",
        "b=int(input(\"Enter a no: \"))\n",
        "c=a/b\n",
        "print(c)"
      ],
      "execution_count": 0,
      "outputs": [
        {
          "output_type": "stream",
          "text": [
            "Enter a no: 4\n",
            "Enter a no: 2\n",
            "2.0\n"
          ],
          "name": "stdout"
        }
      ]
    },
    {
      "cell_type": "code",
      "metadata": {
        "id": "f9Fl_TgEuc4C",
        "colab_type": "code",
        "colab": {},
        "outputId": "360a3609-eaba-4dca-aed7-2f4d012b560d"
      },
      "source": [
        "#type your code here\n",
        "try:\n",
        "    a=int(input(\"Enter a no: \"))\n",
        "    b=int(input(\"Enter a no: \"))\n",
        "    c=a/b\n",
        "    print(c)\n",
        "except ZeroDivisionError:\n",
        "    print(\"Cannot div by 0\")\n",
        "except ValueError:\n",
        "    print(\"Pl enetr an integer no\")"
      ],
      "execution_count": 0,
      "outputs": [
        {
          "output_type": "stream",
          "text": [
            "Enter a no: pradnya\n",
            "Pl enetr an integer no\n"
          ],
          "name": "stdout"
        }
      ]
    },
    {
      "cell_type": "code",
      "metadata": {
        "id": "cH7_1jBOuc4H",
        "colab_type": "code",
        "colab": {},
        "outputId": "94cfdf6d-eb39-4f30-a17a-0a5194857727"
      },
      "source": [
        "#type your code here\n",
        "try:\n",
        "    a=int(input(\"Enter a no: \"))\n",
        "    b=int(input(\"Enter a no: \"))\n",
        "    c=a/b\n",
        "    print(c)\n",
        "except (ZeroDivisionError,ValueError):\n",
        "    print(\"Something is Wrong\")"
      ],
      "execution_count": 0,
      "outputs": [
        {
          "output_type": "stream",
          "text": [
            "Enter a no: pradnya\n",
            "Something is Wrong\n"
          ],
          "name": "stdout"
        }
      ]
    },
    {
      "cell_type": "code",
      "metadata": {
        "id": "zuUJiUWjuc4L",
        "colab_type": "code",
        "colab": {},
        "outputId": "7bce0eae-c570-4be6-ca92-d83236f0a9d4"
      },
      "source": [
        "#type your code here\n",
        "try:\n",
        "    a=int(input(\"Enter a no: \"))\n",
        "    b=int(input(\"Enter a no: \"))\n",
        "    c=a/b\n",
        "    print(c)\n",
        "except:\n",
        "    print(\"Something is Wrong\")"
      ],
      "execution_count": 0,
      "outputs": [
        {
          "output_type": "stream",
          "text": [
            "Enter a no: pradnya\n",
            "Something is Wrong\n"
          ],
          "name": "stdout"
        }
      ]
    },
    {
      "cell_type": "code",
      "metadata": {
        "id": "g6_GIBeIuc4O",
        "colab_type": "code",
        "colab": {}
      },
      "source": [
        "#type your code here\n",
        "try:\n",
        "    a=int(input(\"Enter a no: \"))\n",
        "    b=int(input(\"Enter a no: \"))\n",
        "    c=a/b\n",
        "    print(c)\n",
        "except ZeroDivisionError:\n",
        "    print(\"Divide by 0 is not possible. Try again\")\n",
        "except ValueError:\n",
        "    print(\"Please eneter numeric values. Try again\")"
      ],
      "execution_count": 0,
      "outputs": []
    },
    {
      "cell_type": "code",
      "metadata": {
        "id": "XStgy8Bnuc4S",
        "colab_type": "code",
        "colab": {},
        "outputId": "2dbe5a59-246e-4d79-fdcf-1dbf48540e60"
      },
      "source": [
        "#type your code here\n",
        "try:\n",
        "    a=int(input(\"Enter a no: \"))\n",
        "    b=int(input(\"Enter a no: \"))\n",
        "    c=a/b\n",
        "    \n",
        "except ZeroDivisionError:\n",
        "    print(\"Divide by 0 is not possible. Try again\")\n",
        "except ValueError:\n",
        "    print(\"Please eneter numeric values. Try again\")\n",
        "else:\n",
        "    print(c)"
      ],
      "execution_count": 0,
      "outputs": [
        {
          "output_type": "stream",
          "text": [
            "Enter a no: pradnya\n",
            "Please eneter numeric values. Try again\n"
          ],
          "name": "stdout"
        }
      ]
    },
    {
      "cell_type": "code",
      "metadata": {
        "id": "3ud35TyAuc4c",
        "colab_type": "code",
        "colab": {},
        "outputId": "e21da1fb-5bab-4168-f087-fe2c863987e4"
      },
      "source": [
        "#type your code here\n",
        "try:\n",
        "    a=int(input(\"Enter a no: \"))\n",
        "    b=int(input(\"Enter a no: \"))\n",
        "    c=a/b    \n",
        "except ZeroDivisionError:\n",
        "    print(\"Divide by 0 is not possible. Try again\")\n",
        "except ValueError:\n",
        "    print(\"Please eneter numeric values. Try again\")\n",
        "else:\n",
        "    print(c)\n",
        "finally:\n",
        "    print(\"HEY, YOU ENETERED FINALLY CLAUSE\")\n",
        "    print(\"I will be definitely called always\")"
      ],
      "execution_count": 0,
      "outputs": [
        {
          "output_type": "stream",
          "text": [
            "Enter a no: 5\n",
            "Enter a no: 4\n",
            "1.25\n",
            "HEY, YOU ENETERED FINALLY CLAUSE\n",
            "I will be definitely called always\n"
          ],
          "name": "stdout"
        }
      ]
    }
  ]
}