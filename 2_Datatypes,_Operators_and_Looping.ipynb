{
  "nbformat": 4,
  "nbformat_minor": 0,
  "metadata": {
    "kernelspec": {
      "display_name": "Python 3",
      "language": "python",
      "name": "python3"
    },
    "language_info": {
      "codemirror_mode": {
        "name": "ipython",
        "version": 3
      },
      "file_extension": ".py",
      "mimetype": "text/x-python",
      "name": "python",
      "nbconvert_exporter": "python",
      "pygments_lexer": "ipython3",
      "version": "3.8.2"
    },
    "toc": {
      "base_numbering": 1,
      "nav_menu": {},
      "number_sections": true,
      "sideBar": true,
      "skip_h1_title": false,
      "title_cell": "Table of Contents",
      "title_sidebar": "Contents",
      "toc_cell": false,
      "toc_position": {},
      "toc_section_display": true,
      "toc_window_display": false
    },
    "colab": {
      "name": "2 Datatypes, Operators and Looping.ipynb",
      "provenance": [],
      "include_colab_link": true
    }
  },
  "cells": [
    {
      "cell_type": "markdown",
      "metadata": {
        "id": "view-in-github",
        "colab_type": "text"
      },
      "source": [
        "<a href=\"https://colab.research.google.com/github/aniruddhamodak/Python-Notes-For-Data-Science/blob/master/2_Datatypes%2C_Operators_and_Looping.ipynb\" target=\"_parent\"><img src=\"https://colab.research.google.com/assets/colab-badge.svg\" alt=\"Open In Colab\"/></a>"
      ]
    },
    {
      "cell_type": "markdown",
      "metadata": {
        "id": "VUmZ2fUMvWqD",
        "colab_type": "text"
      },
      "source": [
        "Datatypes\n",
        "--\n",
        ">int - Plain integer\n",
        "\n",
        ">long - long integer, with 'L' suffix\n",
        "\n",
        ">float - Floating point number\n",
        "\n",
        ">complex - Complex no, Real and Imaginary part\n",
        "\n",
        ">boolean - True and False\n",
        "\n",
        ">sequence - string, list, tuple\n",
        "\n",
        ">mapping - Dictionary\n",
        "\n",
        ">set - unordered collection of distinct objects\n",
        "\n",
        ">file - used to make file system objects"
      ]
    },
    {
      "cell_type": "markdown",
      "metadata": {
        "id": "Wps_TcMdvWqG",
        "colab_type": "text"
      },
      "source": [
        "Typecasting\n",
        "--"
      ]
    },
    {
      "cell_type": "code",
      "metadata": {
        "id": "e5lZ4dadvWqH",
        "colab_type": "code",
        "colab": {},
        "outputId": "0a91b620-9efd-409c-c50b-82e50253a8de"
      },
      "source": [
        "# String/float to int\n",
        "str1='2017'\n",
        "print(type(str1))\n",
        "a=int(str1)\n",
        "print(type(a))"
      ],
      "execution_count": 0,
      "outputs": [
        {
          "output_type": "stream",
          "text": [
            "<class 'str'>\n",
            "<class 'int'>\n"
          ],
          "name": "stdout"
        }
      ]
    },
    {
      "cell_type": "code",
      "metadata": {
        "id": "53gp7xw1vWqO",
        "colab_type": "code",
        "colab": {},
        "outputId": "4725fd98-4121-446b-cfd5-5b2edbb3ff13"
      },
      "source": [
        "int(42.464446)"
      ],
      "execution_count": 0,
      "outputs": [
        {
          "output_type": "execute_result",
          "data": {
            "text/plain": [
              "42"
            ]
          },
          "metadata": {
            "tags": []
          },
          "execution_count": 6
        }
      ]
    },
    {
      "cell_type": "code",
      "metadata": {
        "id": "PuQmWVFVvWrA",
        "colab_type": "code",
        "colab": {},
        "outputId": "a3eae9eb-e221-44a3-e9e4-5f44fdb4563f"
      },
      "source": [
        "# type your code here\n",
        "int('12')\n"
      ],
      "execution_count": 0,
      "outputs": [
        {
          "output_type": "execute_result",
          "data": {
            "text/plain": [
              "12"
            ]
          },
          "metadata": {
            "tags": []
          },
          "execution_count": 9
        }
      ]
    },
    {
      "cell_type": "code",
      "metadata": {
        "id": "U1XSDDXbvWrQ",
        "colab_type": "code",
        "colab": {},
        "outputId": "18e6fca7-9d0e-4759-9a73-c9f09cd9241b"
      },
      "source": [
        "# String/int to float\n",
        "float(1.99)"
      ],
      "execution_count": 0,
      "outputs": [
        {
          "output_type": "execute_result",
          "data": {
            "text/plain": [
              "1.99"
            ]
          },
          "metadata": {
            "tags": []
          },
          "execution_count": 10
        }
      ]
    },
    {
      "cell_type": "code",
      "metadata": {
        "id": "jdOqvgRxvWrg",
        "colab_type": "code",
        "colab": {},
        "outputId": "bd85052c-8ab9-4afb-b913-e69bd1f2b5c8"
      },
      "source": [
        "# type your code here\n",
        "float(4)\n"
      ],
      "execution_count": 0,
      "outputs": [
        {
          "output_type": "execute_result",
          "data": {
            "text/plain": [
              "4.0"
            ]
          },
          "metadata": {
            "tags": []
          },
          "execution_count": 11
        }
      ]
    },
    {
      "cell_type": "markdown",
      "metadata": {
        "id": "eDzDq8jgvWry",
        "colab_type": "raw"
      },
      "source": [
        "# int, float, list, tuple, dictionary to string\n",
        "Note: [] is for list\n",
        "() is for tuple\n",
        "str(3.122)"
      ]
    },
    {
      "cell_type": "code",
      "metadata": {
        "id": "jdCZ2SIUvWr6",
        "colab_type": "code",
        "colab": {},
        "outputId": "fced94ee-fd31-4d5d-ae77-24df05bf03e3"
      },
      "source": [
        "l = (\"Bread\",\"Choc\",\"Rice\",\"Ice Cream\")\n",
        "print(l[-3])\n",
        "print(type(l))"
      ],
      "execution_count": 0,
      "outputs": [
        {
          "output_type": "stream",
          "text": [
            "Choc\n",
            "<class 'tuple'>\n"
          ],
          "name": "stdout"
        }
      ]
    },
    {
      "cell_type": "code",
      "metadata": {
        "id": "wVc5LTlOvWsC",
        "colab_type": "code",
        "colab": {},
        "outputId": "c440717f-c7fb-443b-8049-25ae1414985e"
      },
      "source": [
        "str([1,2,3,4])"
      ],
      "execution_count": 0,
      "outputs": [
        {
          "output_type": "execute_result",
          "data": {
            "text/plain": [
              "'[1, 2, 3, 4]'"
            ]
          },
          "metadata": {
            "tags": []
          },
          "execution_count": 17
        }
      ]
    },
    {
      "cell_type": "code",
      "metadata": {
        "id": "P1F1qMIqvWsK",
        "colab_type": "code",
        "colab": {},
        "outputId": "1ce53e83-c5b0-459f-d68b-304cf18023a5"
      },
      "source": [
        "# string, tuple, dict to list\n",
        "list('Darshan')"
      ],
      "execution_count": 0,
      "outputs": [
        {
          "output_type": "execute_result",
          "data": {
            "text/plain": [
              "['D', 'a', 'r', 's', 'h', 'a', 'n']"
            ]
          },
          "metadata": {
            "tags": []
          },
          "execution_count": 18
        }
      ]
    },
    {
      "cell_type": "code",
      "metadata": {
        "id": "ewHgX0XTvWsO",
        "colab_type": "code",
        "colab": {},
        "outputId": "19fdacbb-c436-4f5f-e7bf-96f2428938c8"
      },
      "source": [
        "list((1,2,3,4))"
      ],
      "execution_count": 0,
      "outputs": [
        {
          "output_type": "execute_result",
          "data": {
            "text/plain": [
              "[1, 2, 3, 4]"
            ]
          },
          "metadata": {
            "tags": []
          },
          "execution_count": 9
        }
      ]
    },
    {
      "cell_type": "code",
      "metadata": {
        "id": "jIKjElaavWsR",
        "colab_type": "code",
        "colab": {},
        "outputId": "90106a5b-231a-45a0-ae9d-86e2c1fa43b1"
      },
      "source": [
        "# string, list to tuple\n",
        "# type your code here\n",
        "\n",
        "tuple('Darsgkjgvjhan')"
      ],
      "execution_count": 0,
      "outputs": [
        {
          "output_type": "execute_result",
          "data": {
            "text/plain": [
              "('D', 'a', 'r', 's', 'g', 'k', 'j', 'g', 'v', 'j', 'h', 'a', 'n')"
            ]
          },
          "metadata": {
            "tags": []
          },
          "execution_count": 20
        }
      ]
    },
    {
      "cell_type": "code",
      "metadata": {
        "id": "A3D9anAwvWsv",
        "colab_type": "code",
        "colab": {},
        "outputId": "8540f499-ae18-4017-a42c-e6be797a29c9"
      },
      "source": [
        "tuple([1,2,3,4])"
      ],
      "execution_count": 0,
      "outputs": [
        {
          "output_type": "execute_result",
          "data": {
            "text/plain": [
              "(1, 2, 3, 4)"
            ]
          },
          "metadata": {
            "tags": []
          },
          "execution_count": 21
        }
      ]
    },
    {
      "cell_type": "markdown",
      "metadata": {
        "id": "E0EE6UJZvWs0",
        "colab_type": "text"
      },
      "source": [
        "Operators\n",
        "--\n",
        "\n",
        ">Arithmetic: + - * / %\n",
        ">// Floor Division\n",
        ">** exponentiation\n",
        "\n",
        ">Relational: < <= > >= != ==\n",
        "\n",
        ">Logical: and or not\n",
        "\n",
        ">Bitwise: & | ^ ~ << >>\n",
        "\n",
        ">Membership: in, not in\n",
        "\n",
        ">Identity: is,is not"
      ]
    },
    {
      "cell_type": "code",
      "metadata": {
        "id": "25v7qBpgvWs1",
        "colab_type": "code",
        "colab": {},
        "outputId": "71fbe151-223f-42ff-a896-852b1e8396e3"
      },
      "source": [
        "7//2"
      ],
      "execution_count": 0,
      "outputs": [
        {
          "output_type": "execute_result",
          "data": {
            "text/plain": [
              "3"
            ]
          },
          "metadata": {
            "tags": []
          },
          "execution_count": 27
        }
      ]
    },
    {
      "cell_type": "code",
      "metadata": {
        "id": "HaPWpuz4vWs5",
        "colab_type": "code",
        "colab": {},
        "outputId": "1e2743a3-0b49-403b-92a1-4cf5bd4d1bfd"
      },
      "source": [
        "4!=4"
      ],
      "execution_count": 0,
      "outputs": [
        {
          "output_type": "execute_result",
          "data": {
            "text/plain": [
              "False"
            ]
          },
          "metadata": {
            "tags": []
          },
          "execution_count": 33
        }
      ]
    },
    {
      "cell_type": "code",
      "metadata": {
        "id": "eXNPPx9hvWs8",
        "colab_type": "code",
        "colab": {},
        "outputId": "157b7d58-82b9-49ee-cdd8-3a72223aec8f"
      },
      "source": [
        "# type your code here\n",
        "\n"
      ],
      "execution_count": 0,
      "outputs": [
        {
          "output_type": "execute_result",
          "data": {
            "text/plain": [
              "False"
            ]
          },
          "metadata": {
            "tags": []
          },
          "execution_count": 13
        }
      ]
    },
    {
      "cell_type": "code",
      "metadata": {
        "id": "EEInrNaevWtB",
        "colab_type": "code",
        "colab": {},
        "outputId": "45b538dc-170e-46e2-bde3-b4c6e9686797"
      },
      "source": [
        "s=False\n",
        "t=True\n",
        "print(s or t )"
      ],
      "execution_count": 0,
      "outputs": [
        {
          "output_type": "stream",
          "text": [
            "True\n"
          ],
          "name": "stdout"
        }
      ]
    },
    {
      "cell_type": "code",
      "metadata": {
        "id": "unqOwoepvWtE",
        "colab_type": "code",
        "colab": {},
        "outputId": "99102361-28a3-4d88-ea46-450416ab7529"
      },
      "source": [
        "# type your code here\n",
        "not(t)\n"
      ],
      "execution_count": 0,
      "outputs": [
        {
          "output_type": "execute_result",
          "data": {
            "text/plain": [
              "False"
            ]
          },
          "metadata": {
            "tags": []
          },
          "execution_count": 39
        }
      ]
    },
    {
      "cell_type": "code",
      "metadata": {
        "id": "hIjv3QKLvWtJ",
        "colab_type": "code",
        "colab": {},
        "outputId": "3e76a0e1-91a2-4c5e-cbe2-c2a5b6743992"
      },
      "source": [
        "s=2 \n",
        "t=4 \n",
        "\n",
        "s & t"
      ],
      "execution_count": 0,
      "outputs": [
        {
          "output_type": "execute_result",
          "data": {
            "text/plain": [
              "0"
            ]
          },
          "metadata": {
            "tags": []
          },
          "execution_count": 40
        }
      ]
    },
    {
      "cell_type": "code",
      "metadata": {
        "id": "iQTthrYxvWtP",
        "colab_type": "code",
        "colab": {},
        "outputId": "98f89185-0e9e-4114-b922-de861fbd39ef"
      },
      "source": [
        "# type your code here\n",
        "s | t"
      ],
      "execution_count": 0,
      "outputs": [
        {
          "output_type": "execute_result",
          "data": {
            "text/plain": [
              "6"
            ]
          },
          "metadata": {
            "tags": []
          },
          "execution_count": 41
        }
      ]
    },
    {
      "cell_type": "code",
      "metadata": {
        "id": "3P84Md8_vWtT",
        "colab_type": "code",
        "colab": {},
        "outputId": "88b9a5d0-2c89-4cd8-a921-026030238a57"
      },
      "source": [
        "a=4\n",
        "b=9\n",
        "# type your code here\n",
        "a is b"
      ],
      "execution_count": 0,
      "outputs": [
        {
          "output_type": "execute_result",
          "data": {
            "text/plain": [
              "False"
            ]
          },
          "metadata": {
            "tags": []
          },
          "execution_count": 44
        }
      ]
    },
    {
      "cell_type": "code",
      "metadata": {
        "id": "x_sAeub_vWtW",
        "colab_type": "code",
        "colab": {},
        "outputId": "fcc87120-23e8-49e9-fa47-c2e18e337019"
      },
      "source": [
        "# type your code here\n"
      ],
      "execution_count": 0,
      "outputs": [
        {
          "output_type": "execute_result",
          "data": {
            "text/plain": [
              "True"
            ]
          },
          "metadata": {
            "tags": []
          },
          "execution_count": 19
        }
      ]
    },
    {
      "cell_type": "code",
      "metadata": {
        "id": "fWePJjp3vWte",
        "colab_type": "code",
        "colab": {},
        "outputId": "b797abdd-0347-4446-89ad-e7dd7df7ea78"
      },
      "source": [
        "a is not b"
      ],
      "execution_count": 0,
      "outputs": [
        {
          "output_type": "execute_result",
          "data": {
            "text/plain": [
              "True"
            ]
          },
          "metadata": {
            "tags": []
          },
          "execution_count": 45
        }
      ]
    },
    {
      "cell_type": "markdown",
      "metadata": {
        "id": "Ptz-ZB1avWth",
        "colab_type": "text"
      },
      "source": [
        "Looping Statements:\n",
        "    --"
      ]
    },
    {
      "cell_type": "code",
      "metadata": {
        "id": "rVgpHzw_vWti",
        "colab_type": "code",
        "colab": {},
        "outputId": "90c573f0-b997-4ef8-c14b-e9a9e613eac4"
      },
      "source": [
        "n = [1,2,3,4,5]\n",
        "for darshan in n:\n",
        "    print(darshan)\n",
        "    print(\"Hey All\")\n",
        "    a=11\n",
        "    print(a)"
      ],
      "execution_count": 0,
      "outputs": [
        {
          "output_type": "stream",
          "text": [
            "1\n",
            "Hey All\n",
            "11\n",
            "2\n",
            "Hey All\n",
            "11\n",
            "3\n",
            "Hey All\n",
            "11\n",
            "4\n",
            "Hey All\n",
            "11\n",
            "5\n",
            "Hey All\n",
            "11\n"
          ],
          "name": "stdout"
        }
      ]
    },
    {
      "cell_type": "code",
      "metadata": {
        "id": "HoYhS7PGvWtl",
        "colab_type": "code",
        "colab": {},
        "outputId": "6059a127-a0cb-4f59-c6f2-1c964c911494"
      },
      "source": [
        "# type your code here\n",
        "names = (\"Bread\",\"Choc\",\"Rice\",\"Ice Cream\")\n",
        "for i in names:\n",
        "    print(i,end=\"**\")"
      ],
      "execution_count": 0,
      "outputs": [
        {
          "output_type": "stream",
          "text": [
            "Bread**Choc**Rice**Ice Cream**"
          ],
          "name": "stdout"
        }
      ]
    },
    {
      "cell_type": "code",
      "metadata": {
        "id": "9dwJgb1avWtp",
        "colab_type": "code",
        "colab": {},
        "outputId": "2a58b5a2-f516-4bf5-bd3b-23ee13679503"
      },
      "source": [
        "# type your code here\n",
        "s=\"Dr. Darshan Ingle\"\n",
        "for i in s:\n",
        "    print(i)"
      ],
      "execution_count": 0,
      "outputs": [
        {
          "output_type": "stream",
          "text": [
            "D\n",
            "r\n",
            ".\n",
            " \n",
            "D\n",
            "a\n",
            "r\n",
            "s\n",
            "h\n",
            "a\n",
            "n\n",
            " \n",
            "I\n",
            "n\n",
            "g\n",
            "l\n",
            "e\n"
          ],
          "name": "stdout"
        }
      ]
    },
    {
      "cell_type": "markdown",
      "metadata": {
        "id": "hNcUl8XlvWtt",
        "colab_type": "text"
      },
      "source": [
        "range function:\n",
        "--\n",
        "\n",
        ">range(5): It goes from 0 to 4 to generate a sequence of numbers\n",
        "\n",
        ">range(start, stop, stepsize): Default stepsize is 1"
      ]
    },
    {
      "cell_type": "code",
      "metadata": {
        "id": "0EqWQZ60vWtt",
        "colab_type": "code",
        "colab": {},
        "outputId": "735fa115-ffa3-48d3-de06-e6afa9f2151f"
      },
      "source": [
        "range(0,7)"
      ],
      "execution_count": 0,
      "outputs": [
        {
          "output_type": "execute_result",
          "data": {
            "text/plain": [
              "range(0, 7)"
            ]
          },
          "metadata": {
            "tags": []
          },
          "execution_count": 54
        }
      ]
    },
    {
      "cell_type": "code",
      "metadata": {
        "id": "Ny8rkjz2vWtx",
        "colab_type": "code",
        "colab": {},
        "outputId": "57aec972-1014-4c56-fddd-66783fa80a9a"
      },
      "source": [
        "# Program to display sum of numbers\n",
        "# type your code here\n",
        "\n",
        "sum=0\n",
        "for i in range(5):\n",
        "    sum = sum + i\n",
        "    \n",
        "print(\"Sum= \",sum)"
      ],
      "execution_count": 0,
      "outputs": [
        {
          "output_type": "stream",
          "text": [
            "Sum=  10\n"
          ],
          "name": "stdout"
        }
      ]
    },
    {
      "cell_type": "code",
      "metadata": {
        "id": "ljk-zu6yvWt0",
        "colab_type": "code",
        "colab": {},
        "outputId": "736a8662-aa38-4be7-8a79-61039da35994"
      },
      "source": [
        "# Program to display even numbers in given range\n",
        "for i in range(2, 20, 2):\n",
        "    print(i)"
      ],
      "execution_count": 0,
      "outputs": [
        {
          "output_type": "stream",
          "text": [
            "2\n",
            "4\n",
            "6\n",
            "8\n",
            "10\n",
            "12\n",
            "14\n",
            "16\n",
            "18\n"
          ],
          "name": "stdout"
        }
      ]
    },
    {
      "cell_type": "code",
      "metadata": {
        "id": "i3r97fUWvWt3",
        "colab_type": "code",
        "colab": {},
        "outputId": "7b5a35b4-4777-4a61-97d7-b622594dd9dc"
      },
      "source": [
        "# while\n",
        "i=1\n",
        "while i<=5:\n",
        "    print(i)\n",
        "    i = i+1 # i++ doesnt exist in python"
      ],
      "execution_count": 0,
      "outputs": [
        {
          "output_type": "stream",
          "text": [
            "1\n",
            "2\n",
            "3\n",
            "4\n",
            "5\n"
          ],
          "name": "stdout"
        }
      ]
    },
    {
      "cell_type": "code",
      "metadata": {
        "id": "YeFNT1-LvWt6",
        "colab_type": "code",
        "colab": {},
        "outputId": "6b6b9fbe-aec5-4fb2-e317-cafc4ee240f2"
      },
      "source": [
        "s = \"Machine\"\n",
        "s[2]"
      ],
      "execution_count": 0,
      "outputs": [
        {
          "output_type": "execute_result",
          "data": {
            "text/plain": [
              "'c'"
            ]
          },
          "metadata": {
            "tags": []
          },
          "execution_count": 7
        }
      ]
    },
    {
      "cell_type": "code",
      "metadata": {
        "id": "YtdyYI6cvWt-",
        "colab_type": "code",
        "colab": {}
      },
      "source": [
        "s = \"Machine\"\n",
        "i=0\n",
        "while i<len(s):\n",
        "    d =s[i]\n",
        "    print(d)\n",
        "    i=i+1"
      ],
      "execution_count": 0,
      "outputs": []
    },
    {
      "cell_type": "markdown",
      "metadata": {
        "id": "xtrlwC0FvWuB",
        "colab_type": "raw"
      },
      "source": [
        "# Nested \n"
      ]
    },
    {
      "cell_type": "markdown",
      "metadata": {
        "id": "1zhfSFPZvWuC",
        "colab_type": "text"
      },
      "source": [
        "Conditional execution\n",
        "--"
      ]
    },
    {
      "cell_type": "code",
      "metadata": {
        "id": "1B8mytwqvWuC",
        "colab_type": "code",
        "colab": {},
        "outputId": "ced980b8-1158-4c64-a145-5f96896c3b26"
      },
      "source": [
        "x=-5\n",
        "if x>0:\n",
        "    print(x)\n",
        "    print(\"Hi\")\n",
        "    d=22\n",
        "    print(d+3)\n",
        "print(\"I m going\")"
      ],
      "execution_count": 0,
      "outputs": [
        {
          "output_type": "stream",
          "text": [
            "I m going\n"
          ],
          "name": "stdout"
        }
      ]
    },
    {
      "cell_type": "code",
      "metadata": {
        "id": "DfBH86PSvWuG",
        "colab_type": "code",
        "colab": {},
        "outputId": "f51e0309-2500-4a9e-daec-286bec940add"
      },
      "source": [
        "x=128\n",
        "if x%2==0:\n",
        "    print(x,\" is even\")\n",
        "else:\n",
        "    print(x,\" is odd\")"
      ],
      "execution_count": 0,
      "outputs": [
        {
          "output_type": "stream",
          "text": [
            "128  is even\n"
          ],
          "name": "stdout"
        }
      ]
    },
    {
      "cell_type": "code",
      "metadata": {
        "id": "ZxwGt_Y1vWuI",
        "colab_type": "code",
        "colab": {},
        "outputId": "a403cdac-7a03-4087-ee55-58074f59b8a5"
      },
      "source": [
        "x=2\n",
        "if x<0:\n",
        "    print(x)\n",
        "else:\n",
        "    print(\"bkjsvb\")"
      ],
      "execution_count": 0,
      "outputs": [
        {
          "output_type": "stream",
          "text": [
            "bkjsvb\n"
          ],
          "name": "stdout"
        }
      ]
    },
    {
      "cell_type": "code",
      "metadata": {
        "id": "jJ9nOtlYvWuM",
        "colab_type": "code",
        "colab": {}
      },
      "source": [
        "# if statement\n",
        "x = 40\n",
        "if x>35:\n",
        "    print(x,\"is greater that 35\")\n",
        "else:\n",
        "    print(x,\"is less than or equal to 35\")"
      ],
      "execution_count": 0,
      "outputs": []
    },
    {
      "cell_type": "code",
      "metadata": {
        "id": "hxnYDdsRvWuP",
        "colab_type": "code",
        "colab": {}
      },
      "source": [
        "# Chained Conditionals\n",
        "x = 35\n",
        "if x>35:\n",
        "    print(x,\"is greater that 35\")\n",
        "elif x<35:\n",
        "    print(x,\"is less than 35\")\n",
        "else:\n",
        "    print(x,\"is equal to 35\")"
      ],
      "execution_count": 0,
      "outputs": []
    },
    {
      "cell_type": "code",
      "metadata": {
        "id": "lOTiDO73vWuS",
        "colab_type": "code",
        "colab": {},
        "outputId": "a1a63edb-419f-43ec-c6ea-75ec6ce8c5f4"
      },
      "source": [
        "# Nested Conditionals\n",
        "x = 35\n",
        "if x>35:\n",
        "    print(x,\"is greater that 35\")\n",
        "else:\n",
        "    if x<35:\n",
        "        print(x,\"is less than 35\")\n",
        "    else:\n",
        "        print(x,\"is equal to 35\")"
      ],
      "execution_count": 0,
      "outputs": [
        {
          "output_type": "stream",
          "text": [
            "35 is equal to 35\n"
          ],
          "name": "stdout"
        }
      ]
    },
    {
      "cell_type": "code",
      "metadata": {
        "id": "ezaY7HOtvWuW",
        "colab_type": "code",
        "colab": {}
      },
      "source": [
        "# Nested Conditionals\n",
        "x = 35\n",
        "if x<35:\n",
        "    if x==35:\n",
        "        print(x,\"is equal to 35\")\n",
        "    else:\n",
        "        print(x,\"is less than 35\")\n",
        "else:\n",
        "    print(x,\"is greater than 35\")"
      ],
      "execution_count": 0,
      "outputs": []
    },
    {
      "cell_type": "markdown",
      "metadata": {
        "id": "xHBMsd7vvWuY",
        "colab_type": "raw"
      },
      "source": [
        "If there is an else clause, it has to be at the end, but there doesnt have to be one."
      ]
    },
    {
      "cell_type": "code",
      "metadata": {
        "id": "rCPKlg5jvWua",
        "colab_type": "code",
        "colab": {},
        "outputId": "bf167167-dc96-4d0b-e641-d516dbc8a1cf"
      },
      "source": [
        "# break\n",
        "n = (1,2,3,4,5)\n",
        "for i in n:\n",
        "    if(i==4):\n",
        "        continue\n",
        "    print(i)"
      ],
      "execution_count": 0,
      "outputs": [
        {
          "output_type": "stream",
          "text": [
            "1\n",
            "2\n",
            "3\n"
          ],
          "name": "stdout"
        }
      ]
    },
    {
      "cell_type": "code",
      "metadata": {
        "id": "EVt5iXRmvWuf",
        "colab_type": "code",
        "colab": {}
      },
      "source": [
        "# continue\n",
        "n = (1,2,3,4,5)\n",
        "# type your code here\n",
        "\n",
        "\n",
        "\n"
      ],
      "execution_count": 0,
      "outputs": []
    }
  ]
}