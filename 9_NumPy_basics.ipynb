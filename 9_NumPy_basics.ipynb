{
  "nbformat": 4,
  "nbformat_minor": 0,
  "metadata": {
    "kernelspec": {
      "display_name": "Python 3",
      "language": "python",
      "name": "python3"
    },
    "language_info": {
      "codemirror_mode": {
        "name": "ipython",
        "version": 3
      },
      "file_extension": ".py",
      "mimetype": "text/x-python",
      "name": "python",
      "nbconvert_exporter": "python",
      "pygments_lexer": "ipython3",
      "version": "3.7.4"
    },
    "toc": {
      "base_numbering": 1,
      "nav_menu": {},
      "number_sections": true,
      "sideBar": true,
      "skip_h1_title": false,
      "title_cell": "Table of Contents",
      "title_sidebar": "Contents",
      "toc_cell": false,
      "toc_position": {},
      "toc_section_display": true,
      "toc_window_display": false
    },
    "colab": {
      "name": "9 NumPy basics.ipynb",
      "provenance": [],
      "include_colab_link": true
    }
  },
  "cells": [
    {
      "cell_type": "markdown",
      "metadata": {
        "id": "view-in-github",
        "colab_type": "text"
      },
      "source": [
        "<a href=\"https://colab.research.google.com/github/aniruddhamodak/Python-Notes-For-Data-Science/blob/master/9_NumPy_basics.ipynb\" target=\"_parent\"><img src=\"https://colab.research.google.com/assets/colab-badge.svg\" alt=\"Open In Colab\"/></a>"
      ]
    },
    {
      "cell_type": "markdown",
      "metadata": {
        "id": "M6zfZ716yMQS",
        "colab_type": "text"
      },
      "source": [
        "# NumPy"
      ]
    },
    {
      "cell_type": "markdown",
      "metadata": {
        "id": "DqaDl6hkyMQU",
        "colab_type": "raw"
      },
      "source": [
        "!pip install numpy"
      ]
    },
    {
      "cell_type": "markdown",
      "metadata": {
        "id": "lCxtfKUAyMQV",
        "colab_type": "raw"
      },
      "source": [
        "Numpy is the backbone of Machine Learning in Python. It is one of the most important libraries in Python for numerical computations. \n",
        "\n",
        "It adds support to core Python for multi-dimensional arrays (and matrices) and \n",
        "fast vectorized operations on these arrays."
      ]
    },
    {
      "cell_type": "markdown",
      "metadata": {
        "id": "d2iLcaYtyMQW",
        "colab_type": "raw"
      },
      "source": [
        "Numpy ndarray\n",
        "-------------\n",
        "All of the numeric functionality of numpy is orchestrated by two important constituents of the numpy package, ndarray and Ufuncs (Universal function). \n",
        "\n",
        "Numpy ndarray is a multi-dimensional array object which is the core data container for all of the numpy operations."
      ]
    },
    {
      "cell_type": "code",
      "metadata": {
        "id": "S8mmqdSSyMQX",
        "colab_type": "code",
        "colab": {},
        "outputId": "c4f5a60e-6609-41bb-aeb4-7b8e211c8975"
      },
      "source": [
        "# Let’s create an numpy array.\n",
        "import numpy as np\n",
        "# [1]\n",
        "arr = np.array([2,1,3,4.48,5])\n",
        "print(arr)\n",
        "print(type(arr))\n",
        "print(arr.shape)\n",
        "print(arr.dtype)"
      ],
      "execution_count": 0,
      "outputs": [
        {
          "output_type": "stream",
          "text": [
            "[2.   1.   3.   4.48 5.  ]\n",
            "<class 'numpy.ndarray'>\n",
            "(5,)\n",
            "float64\n"
          ],
          "name": "stdout"
        }
      ]
    },
    {
      "cell_type": "code",
      "metadata": {
        "id": "LB-Cd-3lyMQd",
        "colab_type": "code",
        "colab": {},
        "outputId": "24be7f60-b957-4a4e-a683-3438161008a7"
      },
      "source": [
        "# shape attribute of the array object will tell us \n",
        "# about the dimensions of the array.\n",
        "# [2]\n",
        "arr.shape"
      ],
      "execution_count": 0,
      "outputs": [
        {
          "output_type": "execute_result",
          "data": {
            "text/plain": [
              "(5,)"
            ]
          },
          "metadata": {
            "tags": []
          },
          "execution_count": 5
        }
      ]
    },
    {
      "cell_type": "code",
      "metadata": {
        "id": "9i8h6MHZyMQh",
        "colab_type": "code",
        "colab": {},
        "outputId": "b69add9b-d961-4099-9b6b-de8a0a4ab7a8"
      },
      "source": [
        "arr.dtype"
      ],
      "execution_count": 0,
      "outputs": [
        {
          "output_type": "execute_result",
          "data": {
            "text/plain": [
              "dtype('int32')"
            ]
          },
          "metadata": {
            "tags": []
          },
          "execution_count": 6
        }
      ]
    },
    {
      "cell_type": "markdown",
      "metadata": {
        "id": "SWyMXC_9yMQn",
        "colab_type": "raw"
      },
      "source": [
        "One important thing to keep in mind is \n",
        "--------------------------------------\n",
        "that all the elements in an array must have the same data type. If you try to initialize an array in which the elements are mixed, i.e. you mix some strings with the numbers then all of the elements will get converted into a string type and we won’t be able to perform most of the numpy operations on that array. Another thing to keep in mind is that numpy is used for numerical computations, so it will be foolish enough if u think of having an array having strings"
      ]
    },
    {
      "cell_type": "code",
      "metadata": {
        "id": "x_hnPo7SyMQo",
        "colab_type": "code",
        "colab": {},
        "outputId": "20952419-4f32-46d6-f7a1-a6041d5dfbbc"
      },
      "source": [
        "arr = np.array([1,'st','er',3])\n",
        "print(arr)\n",
        "print(arr.dtype)"
      ],
      "execution_count": 0,
      "outputs": [
        {
          "output_type": "stream",
          "text": [
            "['1' 'st' 'er' '3']\n",
            "<U11\n"
          ],
          "name": "stdout"
        }
      ]
    },
    {
      "cell_type": "markdown",
      "metadata": {
        "id": "2LUSQR25yMQs",
        "colab_type": "raw"
      },
      "source": [
        "U -> stands for unicode string.\n",
        "<U11 -> stands for little endian, 11 char unicode string\n",
        "For more on data types see on \n",
        "https://docs.scipy.org/doc/numpy-1.13.0/reference/arrays.dtypes.html"
      ]
    },
    {
      "cell_type": "code",
      "metadata": {
        "id": "ELxAMZqgyMQs",
        "colab_type": "code",
        "colab": {},
        "outputId": "28cebf1a-385b-4c4c-cc9f-ccfc11e563b4"
      },
      "source": [
        "# [5]\n",
        "np.sum(arr)"
      ],
      "execution_count": 0,
      "outputs": [
        {
          "output_type": "error",
          "ename": "TypeError",
          "evalue": "cannot perform reduce with flexible type",
          "traceback": [
            "\u001b[1;31m---------------------------------------------------------------------------\u001b[0m",
            "\u001b[1;31mTypeError\u001b[0m                                 Traceback (most recent call last)",
            "\u001b[1;32m<ipython-input-16-eed730ae01f4>\u001b[0m in \u001b[0;36m<module>\u001b[1;34m\u001b[0m\n\u001b[0;32m      1\u001b[0m \u001b[1;31m# [5]\u001b[0m\u001b[1;33m\u001b[0m\u001b[1;33m\u001b[0m\u001b[1;33m\u001b[0m\u001b[0m\n\u001b[1;32m----> 2\u001b[1;33m \u001b[0mnp\u001b[0m\u001b[1;33m.\u001b[0m\u001b[0msum\u001b[0m\u001b[1;33m(\u001b[0m\u001b[0marr\u001b[0m\u001b[1;33m)\u001b[0m\u001b[1;33m\u001b[0m\u001b[1;33m\u001b[0m\u001b[0m\n\u001b[0m",
            "\u001b[1;32m<__array_function__ internals>\u001b[0m in \u001b[0;36msum\u001b[1;34m(*args, **kwargs)\u001b[0m\n",
            "\u001b[1;32mc:\\users\\lenovo\\appdata\\local\\programs\\python\\python37-32\\lib\\site-packages\\numpy\\core\\fromnumeric.py\u001b[0m in \u001b[0;36msum\u001b[1;34m(a, axis, dtype, out, keepdims, initial, where)\u001b[0m\n\u001b[0;32m   2180\u001b[0m \u001b[1;33m\u001b[0m\u001b[0m\n\u001b[0;32m   2181\u001b[0m     return _wrapreduction(a, np.add, 'sum', axis, dtype, out, keepdims=keepdims,\n\u001b[1;32m-> 2182\u001b[1;33m                           initial=initial, where=where)\n\u001b[0m\u001b[0;32m   2183\u001b[0m \u001b[1;33m\u001b[0m\u001b[0m\n\u001b[0;32m   2184\u001b[0m \u001b[1;33m\u001b[0m\u001b[0m\n",
            "\u001b[1;32mc:\\users\\lenovo\\appdata\\local\\programs\\python\\python37-32\\lib\\site-packages\\numpy\\core\\fromnumeric.py\u001b[0m in \u001b[0;36m_wrapreduction\u001b[1;34m(obj, ufunc, method, axis, dtype, out, **kwargs)\u001b[0m\n\u001b[0;32m     88\u001b[0m                 \u001b[1;32mreturn\u001b[0m \u001b[0mreduction\u001b[0m\u001b[1;33m(\u001b[0m\u001b[0maxis\u001b[0m\u001b[1;33m=\u001b[0m\u001b[0maxis\u001b[0m\u001b[1;33m,\u001b[0m \u001b[0mout\u001b[0m\u001b[1;33m=\u001b[0m\u001b[0mout\u001b[0m\u001b[1;33m,\u001b[0m \u001b[1;33m**\u001b[0m\u001b[0mpasskwargs\u001b[0m\u001b[1;33m)\u001b[0m\u001b[1;33m\u001b[0m\u001b[1;33m\u001b[0m\u001b[0m\n\u001b[0;32m     89\u001b[0m \u001b[1;33m\u001b[0m\u001b[0m\n\u001b[1;32m---> 90\u001b[1;33m     \u001b[1;32mreturn\u001b[0m \u001b[0mufunc\u001b[0m\u001b[1;33m.\u001b[0m\u001b[0mreduce\u001b[0m\u001b[1;33m(\u001b[0m\u001b[0mobj\u001b[0m\u001b[1;33m,\u001b[0m \u001b[0maxis\u001b[0m\u001b[1;33m,\u001b[0m \u001b[0mdtype\u001b[0m\u001b[1;33m,\u001b[0m \u001b[0mout\u001b[0m\u001b[1;33m,\u001b[0m \u001b[1;33m**\u001b[0m\u001b[0mpasskwargs\u001b[0m\u001b[1;33m)\u001b[0m\u001b[1;33m\u001b[0m\u001b[1;33m\u001b[0m\u001b[0m\n\u001b[0m\u001b[0;32m     91\u001b[0m \u001b[1;33m\u001b[0m\u001b[0m\n\u001b[0;32m     92\u001b[0m \u001b[1;33m\u001b[0m\u001b[0m\n",
            "\u001b[1;31mTypeError\u001b[0m: cannot perform reduce with flexible type"
          ]
        }
      ]
    },
    {
      "cell_type": "code",
      "metadata": {
        "id": "AekqtxTzyMQw",
        "colab_type": "code",
        "colab": {},
        "outputId": "b89bfb4c-68ae-4fb1-a34f-1bc05f3e1e9d"
      },
      "source": [
        "arr = np.array([1,2,3,4])\n",
        "print(arr)\n",
        "print(arr.dtype)\n",
        "print(np.sum(arr))"
      ],
      "execution_count": 0,
      "outputs": [
        {
          "output_type": "stream",
          "text": [
            "[1 2 3 4]\n",
            "int32\n",
            "10\n"
          ],
          "name": "stdout"
        }
      ]
    },
    {
      "cell_type": "markdown",
      "metadata": {
        "id": "BrUlg-1oyMQ3",
        "colab_type": "raw"
      },
      "source": [
        "Creating Arrays\n",
        "---------------\n",
        "\n",
        "Arrays can be created in multiple ways in numpy. \n",
        "One of the ways was demonstrated earlier to create a single dimensional\n",
        "array. \n",
        "\n",
        "Similarly we can stack up multiple lists to create a multidimensional array."
      ]
    },
    {
      "cell_type": "code",
      "metadata": {
        "id": "LvzPniaWyMQ4",
        "colab_type": "code",
        "colab": {},
        "outputId": "2969f96d-b7b3-4dca-8c28-aa9f3ca8a5b0"
      },
      "source": [
        "# [6]\n",
        "arr = np.array([  [1,2,3],  [4,5,6],  [7,8,9]  ])\n",
        "arr"
      ],
      "execution_count": 0,
      "outputs": [
        {
          "output_type": "execute_result",
          "data": {
            "text/plain": [
              "array([[1, 2, 3],\n",
              "       [4, 5, 6],\n",
              "       [7, 8, 9]])"
            ]
          },
          "metadata": {
            "tags": []
          },
          "execution_count": 19
        }
      ]
    },
    {
      "cell_type": "code",
      "metadata": {
        "id": "m2ep7rUnyMQ7",
        "colab_type": "code",
        "colab": {},
        "outputId": "4168de3d-c906-42b2-8d2d-c68e5442e831"
      },
      "source": [
        "arr.shape"
      ],
      "execution_count": 0,
      "outputs": [
        {
          "output_type": "execute_result",
          "data": {
            "text/plain": [
              "(3, 3)"
            ]
          },
          "metadata": {
            "tags": []
          },
          "execution_count": 20
        }
      ]
    },
    {
      "cell_type": "code",
      "metadata": {
        "id": "Wj6RH9pZyMQ_",
        "colab_type": "code",
        "colab": {},
        "outputId": "8ebe5d25-65f2-4389-d2d0-7ad50e43662e"
      },
      "source": [
        "arr1 = np.array([[1,2,3],[2,4,6],[8,8]])\n",
        "print(\"arr1= \",arr1)\n",
        "print(\"Shape= \",arr1.shape)"
      ],
      "execution_count": 0,
      "outputs": [
        {
          "output_type": "stream",
          "text": [
            "arr1=  [list([1, 2, 3]) list([2, 4, 6]) list([8, 8])]\n",
            "Shape=  (3,)\n"
          ],
          "name": "stdout"
        }
      ]
    },
    {
      "cell_type": "code",
      "metadata": {
        "id": "C8XbmgIRyMRC",
        "colab_type": "code",
        "colab": {},
        "outputId": "79bdcf6d-c3e8-4b32-ce61-fb44e267e893"
      },
      "source": [
        "arr2 = np.array([[1,2,3],[2,4,6],[8,None,None]])\n",
        "print(arr2)\n",
        "print(\"Shape= \",arr2.shape)"
      ],
      "execution_count": 0,
      "outputs": [
        {
          "output_type": "stream",
          "text": [
            "[[1 2 3]\n",
            " [2 4 6]\n",
            " [8 None None]]\n",
            "Shape=  (3, 3)\n"
          ],
          "name": "stdout"
        }
      ]
    },
    {
      "cell_type": "code",
      "metadata": {
        "id": "d5F0hppZyMRH",
        "colab_type": "code",
        "colab": {},
        "outputId": "b1dbb353-1b14-4dfa-b2b5-abedcd275e41"
      },
      "source": [
        "arr"
      ],
      "execution_count": 0,
      "outputs": [
        {
          "output_type": "execute_result",
          "data": {
            "text/plain": [
              "array([[1, 2, 3],\n",
              "       [4, 5, 6],\n",
              "       [7, 8, 9]])"
            ]
          },
          "metadata": {
            "tags": []
          },
          "execution_count": 23
        }
      ]
    },
    {
      "cell_type": "markdown",
      "metadata": {
        "id": "SGTr3o2PyMRL",
        "colab_type": "raw"
      },
      "source": [
        "In addition to this we can create arrays using a bunch of special functions provided by numpy.\n",
        "\n",
        "np.zeros \n",
        "--------\n",
        "Creates a matrix of specified dimensions containing only zeroes."
      ]
    },
    {
      "cell_type": "code",
      "metadata": {
        "id": "2iTn9MA5yMRL",
        "colab_type": "code",
        "colab": {},
        "outputId": "ce3df934-4195-4311-8239-fa3bb7876f73"
      },
      "source": [
        "# [10]\n",
        "arr = np.zeros( (2,4) )\n",
        "arr"
      ],
      "execution_count": 0,
      "outputs": [
        {
          "output_type": "execute_result",
          "data": {
            "text/plain": [
              "array([[0., 0., 0., 0.],\n",
              "       [0., 0., 0., 0.]])"
            ]
          },
          "metadata": {
            "tags": []
          },
          "execution_count": 25
        }
      ]
    },
    {
      "cell_type": "code",
      "metadata": {
        "id": "nomjSIZZyMRO",
        "colab_type": "code",
        "colab": {},
        "outputId": "1e2b391f-97b1-4ae5-edd2-fb5e8e6d911d"
      },
      "source": [
        "# [11]\n",
        "arr3 = np.ones([3,5])\n",
        "arr3"
      ],
      "execution_count": 0,
      "outputs": [
        {
          "output_type": "execute_result",
          "data": {
            "text/plain": [
              "array([[1., 1., 1., 1., 1.],\n",
              "       [1., 1., 1., 1., 1.],\n",
              "       [1., 1., 1., 1., 1.]])"
            ]
          },
          "metadata": {
            "tags": []
          },
          "execution_count": 30
        }
      ]
    },
    {
      "cell_type": "code",
      "metadata": {
        "id": "QNXSZ4KjyMRR",
        "colab_type": "code",
        "colab": {},
        "outputId": "f5ce9722-b7bd-462b-d35c-ec784840c83f"
      },
      "source": [
        "# [12]\n",
        "arr3 = np.threes( (3,5) )\n",
        "arr3"
      ],
      "execution_count": 0,
      "outputs": [
        {
          "output_type": "error",
          "ename": "AttributeError",
          "evalue": "module 'numpy' has no attribute 'threes'",
          "traceback": [
            "\u001b[1;31m---------------------------------------------------------------------------\u001b[0m",
            "\u001b[1;31mAttributeError\u001b[0m                            Traceback (most recent call last)",
            "\u001b[1;32m<ipython-input-28-b1cd9c035dd9>\u001b[0m in \u001b[0;36m<module>\u001b[1;34m\u001b[0m\n\u001b[0;32m      1\u001b[0m \u001b[1;31m# [12]\u001b[0m\u001b[1;33m\u001b[0m\u001b[1;33m\u001b[0m\u001b[1;33m\u001b[0m\u001b[0m\n\u001b[1;32m----> 2\u001b[1;33m \u001b[0marr3\u001b[0m \u001b[1;33m=\u001b[0m \u001b[0mnp\u001b[0m\u001b[1;33m.\u001b[0m\u001b[0mthrees\u001b[0m\u001b[1;33m(\u001b[0m \u001b[1;33m(\u001b[0m\u001b[1;36m3\u001b[0m\u001b[1;33m,\u001b[0m\u001b[1;36m5\u001b[0m\u001b[1;33m)\u001b[0m \u001b[1;33m)\u001b[0m\u001b[1;33m\u001b[0m\u001b[1;33m\u001b[0m\u001b[0m\n\u001b[0m\u001b[0;32m      3\u001b[0m \u001b[0marr3\u001b[0m\u001b[1;33m\u001b[0m\u001b[1;33m\u001b[0m\u001b[0m\n",
            "\u001b[1;31mAttributeError\u001b[0m: module 'numpy' has no attribute 'threes'"
          ]
        }
      ]
    },
    {
      "cell_type": "markdown",
      "metadata": {
        "id": "snAYt7sqyMRW",
        "colab_type": "raw"
      },
      "source": [
        "np.identity \n",
        "-----------\n",
        "Creates an identity matrix of specified dimensions:"
      ]
    },
    {
      "cell_type": "code",
      "metadata": {
        "id": "YcR0DfjjyMRW",
        "colab_type": "code",
        "colab": {},
        "outputId": "fde79e2f-d321-458c-9148-26bdebb2a823"
      },
      "source": [
        "# [13]\n",
        "arr  = np.identity(5)\n",
        "arr"
      ],
      "execution_count": 0,
      "outputs": [
        {
          "output_type": "execute_result",
          "data": {
            "text/plain": [
              "array([[1., 0., 0., 0., 0.],\n",
              "       [0., 1., 0., 0., 0.],\n",
              "       [0., 0., 1., 0., 0.],\n",
              "       [0., 0., 0., 1., 0.],\n",
              "       [0., 0., 0., 0., 1.]])"
            ]
          },
          "metadata": {
            "tags": []
          },
          "execution_count": 33
        }
      ]
    },
    {
      "cell_type": "markdown",
      "metadata": {
        "id": "-LshU2BUyMRa",
        "colab_type": "raw"
      },
      "source": [
        "Creating and Assigning an Array with random values :\n",
        "---------------------------------------------------\n",
        "Often, an important requirement is to initialize an array of a specified dimension with random values.\n",
        "\n",
        "This can be done easily by using the randn function from the \n",
        "numpy.random package:"
      ]
    },
    {
      "cell_type": "code",
      "metadata": {
        "id": "Ud0jzXN5yMRb",
        "colab_type": "code",
        "colab": {},
        "outputId": "d8c8ced1-9929-469c-9d40-b367b0f0ef5e"
      },
      "source": [
        "arr = np.random.randn(5,7)\n",
        "arr"
      ],
      "execution_count": 0,
      "outputs": [
        {
          "output_type": "execute_result",
          "data": {
            "text/plain": [
              "array([[ 0.75649387, -0.72012717, -1.89766957,  0.31468033,  1.02235771,\n",
              "         0.19548638,  1.5433681 ],\n",
              "       [ 1.54907033,  0.38889501,  0.32446754,  0.58071144, -1.19860533,\n",
              "        -2.23585907,  1.07478287],\n",
              "       [-0.8261365 , -0.44507826, -1.80489152,  1.11510269,  0.90658101,\n",
              "        -1.38436254, -0.17473888],\n",
              "       [-0.01217872,  0.05652854, -0.32267872, -2.78808271,  1.46390245,\n",
              "        -0.27571375, -0.79922546],\n",
              "       [ 0.38184212, -0.83155019,  0.83598305, -0.01430201, -0.21569448,\n",
              "        -0.96465669, -0.49189765]])"
            ]
          },
          "metadata": {
            "tags": []
          },
          "execution_count": 35
        }
      ]
    },
    {
      "cell_type": "code",
      "metadata": {
        "id": "IXkWj-a6yMRh",
        "colab_type": "code",
        "colab": {},
        "outputId": "661b89ff-d237-4021-9991-ab2cbacd2c51"
      },
      "source": [
        "# One-Dimensional List to Array\n",
        "# one dimensional example\n",
        "from numpy import array\n",
        "# list of data\n",
        "data = [11, 22, 33, 44, 55]\n",
        "# array of data\n",
        "data = array(data)\n",
        "print(data)\n",
        "print(type(data))\n",
        "print(data.shape)"
      ],
      "execution_count": 0,
      "outputs": [
        {
          "output_type": "stream",
          "text": [
            "[11 22 33 44 55]\n",
            "<class 'numpy.ndarray'>\n"
          ],
          "name": "stdout"
        }
      ]
    },
    {
      "cell_type": "code",
      "metadata": {
        "id": "NsatncKFyMRm",
        "colab_type": "code",
        "colab": {},
        "outputId": "73384d46-8f9f-438b-d949-baf88c579875"
      },
      "source": [
        "# Two-Dimensional List of Lists to Array\n",
        "# two dimensional example\n",
        "from numpy import array\n",
        "# list of data\n",
        "data = [[11, 22],    [33, 44],      [55, 66]]\n",
        "# array of data\n",
        "data = array(data)\n",
        "print(data)\n",
        "print(type(data))\n",
        "print(data.shape)"
      ],
      "execution_count": 0,
      "outputs": [
        {
          "output_type": "stream",
          "text": [
            "[[11 22]\n",
            " [33 44]\n",
            " [55 66]]\n",
            "<class 'numpy.ndarray'>\n",
            "(3, 2)\n"
          ],
          "name": "stdout"
        }
      ]
    },
    {
      "cell_type": "markdown",
      "metadata": {
        "id": "p8aQU_qayMRq",
        "colab_type": "text"
      },
      "source": [
        "# Basic Indexing and Slicing"
      ]
    },
    {
      "cell_type": "code",
      "metadata": {
        "id": "VHzxP5lJyMRr",
        "colab_type": "code",
        "colab": {},
        "outputId": "5772c78b-d787-4bce-abef-c2164e6420ef"
      },
      "source": [
        "#### Accessing array elements\n",
        "#### Simple indexing\n",
        "arr = np.array([[1,2,3],[2,4,6],[8,8,8]])\n",
        "print(\"arr\\n\",arr)\n",
        "print(\"\\nshape:\\n\",arr.shape)\n",
        "print(\"\\narr1:\\n\",arr[2])"
      ],
      "execution_count": 0,
      "outputs": [
        {
          "output_type": "stream",
          "text": [
            "arr\n",
            " [[1 2 3]\n",
            " [2 4 6]\n",
            " [8 8 8]]\n",
            "\n",
            "shape:\n",
            " (3, 3)\n",
            "\n",
            "arr1:\n",
            " [8 8 8]\n"
          ],
          "name": "stdout"
        }
      ]
    },
    {
      "cell_type": "code",
      "metadata": {
        "id": "_K0q9pViyMRt",
        "colab_type": "code",
        "colab": {},
        "outputId": "42500224-041d-4fbb-cb25-1fe8a34cc2d7"
      },
      "source": [
        "# [19]\n",
        "np.arange(12)"
      ],
      "execution_count": 0,
      "outputs": [
        {
          "output_type": "execute_result",
          "data": {
            "text/plain": [
              "array([ 0,  1,  2,  3,  4,  5,  6,  7,  8,  9, 10, 11])"
            ]
          },
          "metadata": {
            "tags": []
          },
          "execution_count": 49
        }
      ]
    },
    {
      "cell_type": "code",
      "metadata": {
        "id": "SegF8E8ZyMRw",
        "colab_type": "code",
        "colab": {},
        "outputId": "81611f29-3903-4cde-86aa-c65017ca7d7b"
      },
      "source": [
        "# [20]\n",
        "arr = np.arange(12).reshape(2,2,3)\n",
        "\n",
        "arr"
      ],
      "execution_count": 0,
      "outputs": [
        {
          "output_type": "execute_result",
          "data": {
            "text/plain": [
              "array([[[ 0,  1,  2],\n",
              "        [ 3,  4,  5]],\n",
              "\n",
              "       [[ 6,  7,  8],\n",
              "        [ 9, 10, 11]]])"
            ]
          },
          "metadata": {
            "tags": []
          },
          "execution_count": 52
        }
      ]
    },
    {
      "cell_type": "code",
      "metadata": {
        "id": "S7U9uw5yyMR0",
        "colab_type": "code",
        "colab": {},
        "outputId": "e806fda6-a439-4327-b3fc-b33325df09bb"
      },
      "source": [
        "arr[0]  # prints the 0th array"
      ],
      "execution_count": 0,
      "outputs": [
        {
          "output_type": "execute_result",
          "data": {
            "text/plain": [
              "array([[0, 1, 2],\n",
              "       [3, 4, 5]])"
            ]
          },
          "metadata": {
            "tags": []
          },
          "execution_count": 53
        }
      ]
    },
    {
      "cell_type": "code",
      "metadata": {
        "id": "xnZ5q2oryMR4",
        "colab_type": "code",
        "colab": {},
        "outputId": "a72fe502-9650-4664-b8e0-9a44c5f31795"
      },
      "source": [
        "arr[1]  # prints the 1st array"
      ],
      "execution_count": 0,
      "outputs": [
        {
          "output_type": "execute_result",
          "data": {
            "text/plain": [
              "array([[ 6,  7,  8],\n",
              "       [ 9, 10, 11]])"
            ]
          },
          "metadata": {
            "tags": []
          },
          "execution_count": 54
        }
      ]
    },
    {
      "cell_type": "code",
      "metadata": {
        "id": "RnESRpc-yMR-",
        "colab_type": "code",
        "colab": {},
        "outputId": "fa6d9992-d084-4d17-fa92-994b020826d4"
      },
      "source": [
        "# concept of slicing arrays \n",
        "arr = np.arange(10)\n",
        "print(arr)\n",
        "arr[5:]  "
      ],
      "execution_count": 0,
      "outputs": [
        {
          "output_type": "stream",
          "text": [
            "[0 1 2 3 4 5 6 7 8 9]\n"
          ],
          "name": "stdout"
        },
        {
          "output_type": "execute_result",
          "data": {
            "text/plain": [
              "array([5, 6, 7, 8, 9])"
            ]
          },
          "metadata": {
            "tags": []
          },
          "execution_count": 55
        }
      ]
    },
    {
      "cell_type": "code",
      "metadata": {
        "id": "YyTk8kAiyMSB",
        "colab_type": "code",
        "colab": {},
        "outputId": "67dbd270-dbc2-45f0-e250-2d25e4f71067"
      },
      "source": [
        "arr1 = np.arange(10)\n",
        "arr1[10:]"
      ],
      "execution_count": 0,
      "outputs": [
        {
          "output_type": "execute_result",
          "data": {
            "text/plain": [
              "array([], dtype=int32)"
            ]
          },
          "metadata": {
            "tags": []
          },
          "execution_count": 56
        }
      ]
    },
    {
      "cell_type": "code",
      "metadata": {
        "id": "N1-OBbisyMSF",
        "colab_type": "code",
        "colab": {},
        "outputId": "b10f4e7d-1be1-432a-cd1a-f50f7fe7d9cd"
      },
      "source": [
        "arr2 = np.arange(10)\n",
        "arr[10:15]"
      ],
      "execution_count": 0,
      "outputs": [
        {
          "output_type": "execute_result",
          "data": {
            "text/plain": [
              "array([], dtype=int32)"
            ]
          },
          "metadata": {
            "tags": []
          },
          "execution_count": 57
        }
      ]
    },
    {
      "cell_type": "code",
      "metadata": {
        "id": "htIraHj_yMSI",
        "colab_type": "code",
        "colab": {},
        "outputId": "cf16d6d4-e298-4bc7-8ada-beb6aa537475"
      },
      "source": [
        "print(arr)\n",
        "arr[5:8]  # slice elements from 5 to (8-1) i.e 5 to (endindex-1)"
      ],
      "execution_count": 0,
      "outputs": [
        {
          "output_type": "stream",
          "text": [
            "[0 1 2 3 4 5 6 7 8 9]\n"
          ],
          "name": "stdout"
        },
        {
          "output_type": "execute_result",
          "data": {
            "text/plain": [
              "array([5, 6, 7])"
            ]
          },
          "metadata": {
            "tags": []
          },
          "execution_count": 58
        }
      ]
    },
    {
      "cell_type": "code",
      "metadata": {
        "id": "DUiyrC-lyMSL",
        "colab_type": "code",
        "colab": {},
        "outputId": "0fd5b6cf-bd56-42a6-fd95-bb4f295576a9"
      },
      "source": [
        "print(arr)\n",
        "arr[:-5] "
      ],
      "execution_count": 0,
      "outputs": [
        {
          "output_type": "stream",
          "text": [
            "[0 1 2 3 4 5 6 7 8 9]\n"
          ],
          "name": "stdout"
        },
        {
          "output_type": "execute_result",
          "data": {
            "text/plain": [
              "array([0, 1, 2, 3, 4])"
            ]
          },
          "metadata": {
            "tags": []
          },
          "execution_count": 59
        }
      ]
    },
    {
      "cell_type": "code",
      "metadata": {
        "id": "gehIWmHJyMST",
        "colab_type": "code",
        "colab": {},
        "outputId": "c85e6979-0a48-4fcc-b819-90ad702dfa0e"
      },
      "source": [
        "arr[-4:]"
      ],
      "execution_count": 0,
      "outputs": [
        {
          "output_type": "execute_result",
          "data": {
            "text/plain": [
              "array([6, 7, 8, 9])"
            ]
          },
          "metadata": {
            "tags": []
          },
          "execution_count": 60
        }
      ]
    },
    {
      "cell_type": "code",
      "metadata": {
        "id": "6Ni6byiLyMSW",
        "colab_type": "code",
        "colab": {},
        "outputId": "14b08246-f3cd-4740-ac7e-8e3daf5041dd"
      },
      "source": [
        "arr[1:-4]"
      ],
      "execution_count": 0,
      "outputs": [
        {
          "output_type": "execute_result",
          "data": {
            "text/plain": [
              "array([1, 2, 3, 4, 5])"
            ]
          },
          "metadata": {
            "tags": []
          },
          "execution_count": 61
        }
      ]
    },
    {
      "cell_type": "code",
      "metadata": {
        "id": "pCeOvr5ZyMSa",
        "colab_type": "code",
        "colab": {},
        "outputId": "4257de9a-e046-49da-c56a-d774cd9d331c"
      },
      "source": [
        "arr = np.arange(12).reshape(2,2,3)\n",
        "arr"
      ],
      "execution_count": 0,
      "outputs": [
        {
          "output_type": "execute_result",
          "data": {
            "text/plain": [
              "array([[[ 0,  1,  2],\n",
              "        [ 3,  4,  5]],\n",
              "\n",
              "       [[ 6,  7,  8],\n",
              "        [ 9, 10, 11]]])"
            ]
          },
          "metadata": {
            "tags": []
          },
          "execution_count": 62
        }
      ]
    },
    {
      "cell_type": "code",
      "metadata": {
        "id": "1nnJoGk1yMSd",
        "colab_type": "code",
        "colab": {},
        "outputId": "715582d2-9606-4c56-bc33-434e47fb84e1"
      },
      "source": [
        "arr[0:1]"
      ],
      "execution_count": 0,
      "outputs": [
        {
          "output_type": "execute_result",
          "data": {
            "text/plain": [
              "array([[[0, 1, 2],\n",
              "        [3, 4, 5]]])"
            ]
          },
          "metadata": {
            "tags": []
          },
          "execution_count": 63
        }
      ]
    },
    {
      "cell_type": "code",
      "metadata": {
        "id": "O7hq1t0yyMSg",
        "colab_type": "code",
        "colab": {},
        "outputId": "619868c8-0f96-4306-c79f-e69b49c899da"
      },
      "source": [
        "arr[1:2]"
      ],
      "execution_count": 0,
      "outputs": [
        {
          "output_type": "execute_result",
          "data": {
            "text/plain": [
              "array([[[ 6,  7,  8],\n",
              "        [ 9, 10, 11]]])"
            ]
          },
          "metadata": {
            "tags": []
          },
          "execution_count": 64
        }
      ]
    },
    {
      "cell_type": "code",
      "metadata": {
        "id": "gbLmbKiCyMSk",
        "colab_type": "code",
        "colab": {},
        "outputId": "3713c78a-beba-4a11-afe5-c6db888a1b51"
      },
      "source": [
        "arr[0:2]"
      ],
      "execution_count": 0,
      "outputs": [
        {
          "output_type": "execute_result",
          "data": {
            "text/plain": [
              "array([[[ 0,  1,  2],\n",
              "        [ 3,  4,  5]],\n",
              "\n",
              "       [[ 6,  7,  8],\n",
              "        [ 9, 10, 11]]])"
            ]
          },
          "metadata": {
            "tags": []
          },
          "execution_count": 65
        }
      ]
    },
    {
      "cell_type": "code",
      "metadata": {
        "id": "tUUIavyDyMSo",
        "colab_type": "code",
        "colab": {},
        "outputId": "4e7aae8d-e619-4c8a-aef1-00b216a997f5"
      },
      "source": [
        "arr"
      ],
      "execution_count": 0,
      "outputs": [
        {
          "output_type": "execute_result",
          "data": {
            "text/plain": [
              "array([[[ 0,  1,  2],\n",
              "        [ 3,  4,  5]],\n",
              "\n",
              "       [[ 6,  7,  8],\n",
              "        [ 9, 10, 11]]])"
            ]
          },
          "metadata": {
            "tags": []
          },
          "execution_count": 66
        }
      ]
    },
    {
      "cell_type": "code",
      "metadata": {
        "id": "TJTPO-5myMSv",
        "colab_type": "code",
        "colab": {},
        "outputId": "cb68ddf3-6053-4544-e14c-b1abc10c6fd6"
      },
      "source": [
        "arr[:,:,2]   # accessing the 2nd column from all the arrays."
      ],
      "execution_count": 0,
      "outputs": [
        {
          "output_type": "execute_result",
          "data": {
            "text/plain": [
              "array([[ 2,  5],\n",
              "       [ 8, 11]])"
            ]
          },
          "metadata": {
            "tags": []
          },
          "execution_count": 67
        }
      ]
    },
    {
      "cell_type": "code",
      "metadata": {
        "id": "aEkM9UJcyMSy",
        "colab_type": "code",
        "colab": {},
        "outputId": "9592caba-a56a-4f83-ebe2-90668d8fb9a0"
      },
      "source": [
        "arr[...,2] # using dot notation i.e ... followed with no. of the column\n",
        "#in java, these 3 dots are called elipses"
      ],
      "execution_count": 0,
      "outputs": [
        {
          "output_type": "execute_result",
          "data": {
            "text/plain": [
              "array([[ 2,  5],\n",
              "       [ 8, 11]])"
            ]
          },
          "metadata": {
            "tags": []
          },
          "execution_count": 68
        }
      ]
    },
    {
      "cell_type": "code",
      "metadata": {
        "id": "DLN3Xwd8yMS1",
        "colab_type": "code",
        "colab": {},
        "outputId": "4469ac9e-f90d-438b-a150-6b84a24a75c8"
      },
      "source": [
        "arr[...,1] # here 1 means values of 1st column"
      ],
      "execution_count": 0,
      "outputs": [
        {
          "output_type": "execute_result",
          "data": {
            "text/plain": [
              "array([[ 1,  4],\n",
              "       [ 7, 10]])"
            ]
          },
          "metadata": {
            "tags": []
          },
          "execution_count": 70
        }
      ]
    },
    {
      "cell_type": "code",
      "metadata": {
        "id": "SM7J4GO9yMS7",
        "colab_type": "code",
        "colab": {},
        "outputId": "f9a5f368-91c9-4517-ca41-0bd8bd8d05ef"
      },
      "source": [
        "arr"
      ],
      "execution_count": 0,
      "outputs": [
        {
          "output_type": "execute_result",
          "data": {
            "text/plain": [
              "array([[[ 0,  1,  2],\n",
              "        [ 3,  4,  5]],\n",
              "\n",
              "       [[ 6,  7,  8],\n",
              "        [ 9, 10, 11]]])"
            ]
          },
          "metadata": {
            "tags": []
          },
          "execution_count": 72
        }
      ]
    },
    {
      "cell_type": "code",
      "metadata": {
        "id": "UUGSN00kyMS9",
        "colab_type": "code",
        "colab": {},
        "outputId": "12856b8a-6140-40be-bea4-0e0bacb29aab"
      },
      "source": [
        "arr[1]"
      ],
      "execution_count": 0,
      "outputs": [
        {
          "output_type": "execute_result",
          "data": {
            "text/plain": [
              "array([[ 6,  7,  8],\n",
              "       [ 9, 10, 11]])"
            ]
          },
          "metadata": {
            "tags": []
          },
          "execution_count": 73
        }
      ]
    },
    {
      "cell_type": "code",
      "metadata": {
        "id": "ZEUXfv6NyMTG",
        "colab_type": "code",
        "colab": {},
        "outputId": "c9000fc7-1ce1-4edb-deef-2558251d1d76"
      },
      "source": [
        "# [39]\n",
        "arr[1][1]"
      ],
      "execution_count": 0,
      "outputs": [
        {
          "output_type": "execute_result",
          "data": {
            "text/plain": [
              "array([ 9, 10, 11])"
            ]
          },
          "metadata": {
            "tags": []
          },
          "execution_count": 74
        }
      ]
    },
    {
      "cell_type": "code",
      "metadata": {
        "id": "XT7yoAvFyMTL",
        "colab_type": "code",
        "colab": {},
        "outputId": "6cbe8046-83ab-4262-9f0f-d8858afb7b2e"
      },
      "source": [
        "# [40]\n",
        "arr[1][1][1]"
      ],
      "execution_count": 0,
      "outputs": [
        {
          "output_type": "execute_result",
          "data": {
            "text/plain": [
              "10"
            ]
          },
          "metadata": {
            "tags": []
          },
          "execution_count": 75
        }
      ]
    },
    {
      "cell_type": "code",
      "metadata": {
        "id": "4StjmUsKyMTQ",
        "colab_type": "code",
        "colab": {},
        "outputId": "49099733-fe08-439d-b414-2b79df3ee081"
      },
      "source": [
        "arr = np.arange(9).reshape(3,3)\n",
        "arr"
      ],
      "execution_count": 0,
      "outputs": [
        {
          "output_type": "execute_result",
          "data": {
            "text/plain": [
              "array([[0, 1, 2],\n",
              "       [3, 4, 5],\n",
              "       [6, 7, 8]])"
            ]
          },
          "metadata": {
            "tags": []
          },
          "execution_count": 77
        }
      ]
    },
    {
      "cell_type": "markdown",
      "metadata": {
        "id": "mPPn3SQgyMTX",
        "colab_type": "text"
      },
      "source": [
        "Two-Dimensional Slicing\n",
        "--\n",
        "It is common to split your loaded data into input variables (X) and the output variable (y).\n",
        "\n",
        "We can do this by slicing all rows and all columns up to, but before the last column, then separately indexing the last column.\n",
        "\n",
        "For the input features, we can select all rows and all columns except the last one by specifying ‘:’ for in the rows index, and :-1 in the columns index.\n",
        "\n",
        "X = [:, :-1]\n",
        "\n",
        "For the output column, we can select all rows again using ‘:’ and index just the last column by specifying the -1 index.\n",
        "\n",
        "y = [:, -1]"
      ]
    },
    {
      "cell_type": "code",
      "metadata": {
        "id": "yd2ComDYyMTX",
        "colab_type": "code",
        "colab": {}
      },
      "source": [
        ""
      ],
      "execution_count": 0,
      "outputs": []
    },
    {
      "cell_type": "code",
      "metadata": {
        "id": "dIgca6O5yMTb",
        "colab_type": "code",
        "colab": {},
        "outputId": "b8a39f5b-ba7c-4311-cf55-d780b43c869c"
      },
      "source": [
        "from numpy import array\n",
        "# define array\n",
        "data = array([[11, 22, 33],[44, 55, 66],[77, 88, 99]])\n",
        "print(\"data=\",data)\n",
        "# separate data\n",
        "X, y = data[:, :-1], data[:, -1]\n",
        "# X = data[:, :-1]\n",
        "# y =  data[:, -1]\n",
        "print(\"X=\",X)\n",
        "print(\"---------------\")\n",
        "print(\"y=\",y)"
      ],
      "execution_count": 0,
      "outputs": [
        {
          "output_type": "stream",
          "text": [
            "data= [[11 22 33]\n",
            " [44 55 66]\n",
            " [77 88 99]]\n",
            "X= [[11 22]\n",
            " [44 55]\n",
            " [77 88]]\n",
            "---------------\n",
            "y= [33 66 99]\n"
          ],
          "name": "stdout"
        }
      ]
    },
    {
      "cell_type": "markdown",
      "metadata": {
        "id": "ukPLQpFQyMTe",
        "colab_type": "text"
      },
      "source": [
        "# Advanced Indexing"
      ]
    },
    {
      "cell_type": "markdown",
      "metadata": {
        "id": "ZZOsFTIYyMTe",
        "colab_type": "raw"
      },
      "source": [
        "This advanced indexing occurs when the reference object is also an array. \n",
        "\n",
        "The simplest type of indexing is when we provide an array that’s equal in dimensions to the array being accessed.\n",
        "\n",
        "For example:"
      ]
    },
    {
      "cell_type": "code",
      "metadata": {
        "id": "aiEpIyrLyMTf",
        "colab_type": "code",
        "colab": {},
        "outputId": "c4bf8be6-5886-4e32-8215-56c00c1cde6c"
      },
      "source": [
        "print(\"\\n\",arr)\n",
        "print(\"\\n\",arr[[0,1,2],[1,0,0]])"
      ],
      "execution_count": 0,
      "outputs": [
        {
          "output_type": "stream",
          "text": [
            "\n",
            " [[0 1 2]\n",
            " [3 4 5]\n",
            " [6 7 8]]\n",
            "\n",
            " [1 3 6]\n"
          ],
          "name": "stdout"
        }
      ]
    },
    {
      "cell_type": "markdown",
      "metadata": {
        "id": "kqffBeANyMTi",
        "colab_type": "raw"
      },
      "source": [
        "In this example we have provided an array in which the first part identifies the rows we want to access and the second identifies the columns which we want to address. i.e (0th row, 1st column) element is 1, (1st row, 0th column element is 3, (2nd row , 0th column) is 6 \n",
        "\n",
        "This is quite similar to providing a collective element-wise address."
      ]
    },
    {
      "cell_type": "markdown",
      "metadata": {
        "id": "yufJmWMgyMTi",
        "colab_type": "text"
      },
      "source": [
        "# Boolean Indexing"
      ]
    },
    {
      "cell_type": "markdown",
      "metadata": {
        "id": "xVygH5PWyMTj",
        "colab_type": "raw"
      },
      "source": [
        "Boolean indexing: \n",
        "-----------------\n",
        "This advanced indexing occurs when the reference object is an array of Boolean values. \n",
        "\n",
        "This is used when we want to access data based on some conditions, in that case, Boolean indexing can be used. \n",
        "\n",
        "We will illustrate it with an example. Suppose in one array, we have the names of some cities and in another array, we have some data related to those cities."
      ]
    },
    {
      "cell_type": "code",
      "metadata": {
        "id": "PanXBALdyMTj",
        "colab_type": "code",
        "colab": {},
        "outputId": "2c91acce-008e-45ec-f22f-5122561337d3"
      },
      "source": [
        "cities = np.array([\"delhi\",\"banglaore\",\"mumbai\",\"chennai\",\"bhopal\"])\n",
        "city_data = np.random.randn(5,3)\n",
        "print(\"\\ncity_data:\\n\",city_data)"
      ],
      "execution_count": 0,
      "outputs": [
        {
          "output_type": "stream",
          "text": [
            "\n",
            "city_data:\n",
            " [[-0.5878923   1.72427524 -0.47744438]\n",
            " [-0.16022939  1.09435198  1.4904848 ]\n",
            " [-0.44973243 -0.6255381  -0.49365635]\n",
            " [-0.96386459 -0.75903213 -0.29638631]\n",
            " [ 0.40346108 -1.78832138  0.05078257]]\n"
          ],
          "name": "stdout"
        }
      ]
    },
    {
      "cell_type": "code",
      "metadata": {
        "id": "A-phFr5cyMTm",
        "colab_type": "code",
        "colab": {},
        "outputId": "6b801879-c11d-4aac-8748-2ba198b0b37e"
      },
      "source": [
        "cities"
      ],
      "execution_count": 0,
      "outputs": [
        {
          "output_type": "execute_result",
          "data": {
            "text/plain": [
              "array(['delhi', 'banglaore', 'mumbai', 'chennai', 'bhopal'], dtype='<U9')"
            ]
          },
          "metadata": {
            "tags": []
          },
          "execution_count": 84
        }
      ]
    },
    {
      "cell_type": "code",
      "metadata": {
        "id": "ltPXlAxXyMTq",
        "colab_type": "code",
        "colab": {},
        "outputId": "e3654b42-c263-4a65-85f2-05a91f5de150"
      },
      "source": [
        "print(cities ==\"mumbra\")"
      ],
      "execution_count": 0,
      "outputs": [
        {
          "output_type": "stream",
          "text": [
            "[False False False False False]\n"
          ],
          "name": "stdout"
        }
      ]
    },
    {
      "cell_type": "code",
      "metadata": {
        "id": "vVPqi13OyMTz",
        "colab_type": "code",
        "colab": {},
        "outputId": "69de7dff-4d7e-4fc2-b2c2-4b201ab803b2"
      },
      "source": [
        "city_data[cities ==\"mumbai\"] \n",
        "# depending on which index is True, it prints that row\n",
        "# In this case, mumbai is at index 2, therefore row no. 2 will be printed"
      ],
      "execution_count": 0,
      "outputs": [
        {
          "output_type": "execute_result",
          "data": {
            "text/plain": [
              "array([[-0.44973243, -0.6255381 , -0.49365635]])"
            ]
          },
          "metadata": {
            "tags": []
          },
          "execution_count": 86
        }
      ]
    },
    {
      "cell_type": "code",
      "metadata": {
        "id": "JbLy4nGvyMT-",
        "colab_type": "code",
        "colab": {},
        "outputId": "f80575d8-f3bf-408f-9766-ad78c5d4e9f0"
      },
      "source": [
        "# if the match does not happen , then all values are false.\n",
        "city_data[cities ==\"mumbra\"] \n",
        "# the o/p in such a case is indicating shape as(0 rows, 3 features)"
      ],
      "execution_count": 0,
      "outputs": [
        {
          "output_type": "execute_result",
          "data": {
            "text/plain": [
              "array([], shape=(0, 3), dtype=float64)"
            ]
          },
          "metadata": {
            "tags": []
          },
          "execution_count": 88
        }
      ]
    },
    {
      "cell_type": "markdown",
      "metadata": {
        "id": "Tu64kO0DyMUE",
        "colab_type": "raw"
      },
      "source": [
        "We can also use Boolean indexing for selecting some elements of an array that satisfy a particular condition. For example, in the previous array suppose we want to only select non-zero elements. \n",
        "\n",
        "We can do that easily using the following code."
      ]
    },
    {
      "cell_type": "code",
      "metadata": {
        "id": "826Fg9DtyMUH",
        "colab_type": "code",
        "colab": {},
        "outputId": "a89605e3-2eae-48bb-8ade-1d665edcb95c"
      },
      "source": [
        "city_data"
      ],
      "execution_count": 0,
      "outputs": [
        {
          "output_type": "execute_result",
          "data": {
            "text/plain": [
              "array([[-0.5878923 ,  1.72427524, -0.47744438],\n",
              "       [-0.16022939,  1.09435198,  1.4904848 ],\n",
              "       [-0.44973243, -0.6255381 , -0.49365635],\n",
              "       [-0.96386459, -0.75903213, -0.29638631],\n",
              "       [ 0.40346108, -1.78832138,  0.05078257]])"
            ]
          },
          "metadata": {
            "tags": []
          },
          "execution_count": 89
        }
      ]
    },
    {
      "cell_type": "code",
      "metadata": {
        "id": "6x2eBuVPyMUO",
        "colab_type": "code",
        "colab": {},
        "outputId": "7bf1f0bf-300a-486c-f950-d597f0fa3fc4"
      },
      "source": [
        "# [48]\n",
        "city_data[ city_data>0  ]"
      ],
      "execution_count": 0,
      "outputs": [
        {
          "output_type": "execute_result",
          "data": {
            "text/plain": [
              "array([1.72427524, 1.09435198, 1.4904848 , 0.40346108, 0.05078257])"
            ]
          },
          "metadata": {
            "tags": []
          },
          "execution_count": 90
        }
      ]
    },
    {
      "cell_type": "code",
      "metadata": {
        "id": "OZ4C6LuwyMUS",
        "colab_type": "code",
        "colab": {},
        "outputId": "26bd819a-a9f9-4ec8-a50f-6e1132b6c5b8"
      },
      "source": [
        "# [49]\n",
        "city_data[ city_data>0  ] =0\n",
        "city_data"
      ],
      "execution_count": 0,
      "outputs": [
        {
          "output_type": "execute_result",
          "data": {
            "text/plain": [
              "array([[-0.5878923 ,  0.        , -0.47744438],\n",
              "       [-0.16022939,  0.        ,  0.        ],\n",
              "       [-0.44973243, -0.6255381 , -0.49365635],\n",
              "       [-0.96386459, -0.75903213, -0.29638631],\n",
              "       [ 0.        , -1.78832138,  0.        ]])"
            ]
          },
          "metadata": {
            "tags": []
          },
          "execution_count": 91
        }
      ]
    },
    {
      "cell_type": "markdown",
      "metadata": {
        "id": "NiiCJ1CvyMUV",
        "colab_type": "text"
      },
      "source": [
        "# Operations on Arrays"
      ]
    },
    {
      "cell_type": "markdown",
      "metadata": {
        "id": "H3HxOhEhyMUV",
        "colab_type": "raw"
      },
      "source": [
        "Most of the operations on the numpy arrays is achieved by using Universal functions (Ufuncs). \n",
        "\n",
        "Numpy provides a rich set of functions that we can leverage for various\n",
        "operations on arrays. We only cover some of those functions here.\n",
        "\n",
        "Universal functions are functions that operate on arrays in an element by element fashion. The implementation of Ufunc is vectorized, which means that the execution of Ufuncs on arrays is quite fast. The Ufuncs implemented in the numpy package are implemented in compiled C code for speed and efficiency."
      ]
    },
    {
      "cell_type": "code",
      "metadata": {
        "id": "5VChdocQyMUW",
        "colab_type": "code",
        "colab": {},
        "outputId": "6e00ddb0-e229-431d-ea1c-264f7b3774e3"
      },
      "source": [
        "arr = np.arange(15).reshape(3,5)\n",
        "arr"
      ],
      "execution_count": 0,
      "outputs": [
        {
          "output_type": "execute_result",
          "data": {
            "text/plain": [
              "array([[ 0,  1,  2,  3,  4],\n",
              "       [ 5,  6,  7,  8,  9],\n",
              "       [10, 11, 12, 13, 14]])"
            ]
          },
          "metadata": {
            "tags": []
          },
          "execution_count": 92
        }
      ]
    },
    {
      "cell_type": "code",
      "metadata": {
        "id": "_DaUKnvnyMUb",
        "colab_type": "code",
        "colab": {},
        "outputId": "1b69ff4e-2ae4-4383-b906-d11d369751c9"
      },
      "source": [
        "# we are adding a constant to all elements of the array\n",
        "arr + 5  # most Ufunc return a array \n",
        "#the above concept is called BROADCAST which converts single element '5' \n",
        "# into an array.\n",
        "#Broadcasting happens on its own"
      ],
      "execution_count": 0,
      "outputs": [
        {
          "output_type": "execute_result",
          "data": {
            "text/plain": [
              "array([[ 5,  6,  7,  8,  9],\n",
              "       [10, 11, 12, 13, 14],\n",
              "       [15, 16, 17, 18, 19]])"
            ]
          },
          "metadata": {
            "tags": []
          },
          "execution_count": 93
        }
      ]
    },
    {
      "cell_type": "code",
      "metadata": {
        "id": "XjxEwHvKyMUi",
        "colab_type": "code",
        "colab": {},
        "outputId": "a9b66d3a-538b-451b-a9ca-05986f6b2cc4"
      },
      "source": [
        "arr * 2"
      ],
      "execution_count": 0,
      "outputs": [
        {
          "output_type": "execute_result",
          "data": {
            "text/plain": [
              "array([[ 0,  2,  4,  6,  8],\n",
              "       [10, 12, 14, 16, 18],\n",
              "       [20, 22, 24, 26, 28]])"
            ]
          },
          "metadata": {
            "tags": []
          },
          "execution_count": 94
        }
      ]
    },
    {
      "cell_type": "code",
      "metadata": {
        "id": "-nTUi9c2yMUn",
        "colab_type": "code",
        "colab": {},
        "outputId": "26695c53-42b5-4ead-b10e-36c745055914"
      },
      "source": [
        "arr1 = np.arange(15).reshape(5,3)\n",
        "arr2 = np.arange(5).reshape(5,1)\n",
        "print(\"arr1\\n\",arr1)\n",
        "print(\"arr2\\n\",arr2)\n",
        "# [53]\n",
        "arr2+arr1"
      ],
      "execution_count": 0,
      "outputs": [
        {
          "output_type": "stream",
          "text": [
            "arr1\n",
            " [[ 0  1  2]\n",
            " [ 3  4  5]\n",
            " [ 6  7  8]\n",
            " [ 9 10 11]\n",
            " [12 13 14]]\n",
            "arr2\n",
            " [[0]\n",
            " [1]\n",
            " [2]\n",
            " [3]\n",
            " [4]]\n"
          ],
          "name": "stdout"
        },
        {
          "output_type": "execute_result",
          "data": {
            "text/plain": [
              "array([[ 0,  1,  2],\n",
              "       [ 4,  5,  6],\n",
              "       [ 8,  9, 10],\n",
              "       [12, 13, 14],\n",
              "       [16, 17, 18]])"
            ]
          },
          "metadata": {
            "tags": []
          },
          "execution_count": 96
        }
      ]
    },
    {
      "cell_type": "markdown",
      "metadata": {
        "id": "T6Cs6dC4yMUr",
        "colab_type": "raw"
      },
      "source": [
        "Here we see that we were able to add up two arrays even when they were of different sizes. This is achieved by the concept of broadcasting.\n",
        "\n",
        ">>> Concept of broadcasting -> later, after Linear Algebra topic."
      ]
    },
    {
      "cell_type": "markdown",
      "metadata": {
        "id": "4WE5eXEgyMUr",
        "colab_type": "text"
      },
      "source": [
        "# Linear Algebra Using numpy"
      ]
    },
    {
      "cell_type": "code",
      "metadata": {
        "id": "Djk-m75lyMUr",
        "colab_type": "code",
        "colab": {},
        "outputId": "074d35ca-a0e4-46ce-953b-bbfa9959609a"
      },
      "source": [
        "# #### Linear algebra using numpy\n",
        "\n",
        "A = np.array([[1,2,3],[4,5,6],[7,8,9]])\n",
        "B = np.array([[9,8,7],[6,5,4],[1,2,3]])\n",
        "print(\"A=\",A)\n",
        "print(\"B=\",B)\n",
        "# [54]\n",
        "A.dot(B)"
      ],
      "execution_count": 0,
      "outputs": [
        {
          "output_type": "stream",
          "text": [
            "A= [[1 2 3]\n",
            " [4 5 6]\n",
            " [7 8 9]]\n",
            "B= [[9 8 7]\n",
            " [6 5 4]\n",
            " [1 2 3]]\n"
          ],
          "name": "stdout"
        },
        {
          "output_type": "execute_result",
          "data": {
            "text/plain": [
              "array([[ 24,  24,  24],\n",
              "       [ 72,  69,  66],\n",
              "       [120, 114, 108]])"
            ]
          },
          "metadata": {
            "tags": []
          },
          "execution_count": 97
        }
      ]
    },
    {
      "cell_type": "code",
      "metadata": {
        "id": "LR_L9j9VyMUy",
        "colab_type": "code",
        "colab": {},
        "outputId": "91bccd49-3604-4536-9812-a7a28d5092c1"
      },
      "source": [
        "# taking Transpose\n",
        "A = np.arange(15).reshape(3,5)  # 3 rows and 5 columns each\n",
        "print(A)\n",
        "print(\"\\n\")\n",
        "# [55]\n",
        "A.T"
      ],
      "execution_count": 0,
      "outputs": [
        {
          "output_type": "stream",
          "text": [
            "[[ 0  1  2  3  4]\n",
            " [ 5  6  7  8  9]\n",
            " [10 11 12 13 14]]\n",
            "\n",
            "\n"
          ],
          "name": "stdout"
        },
        {
          "output_type": "execute_result",
          "data": {
            "text/plain": [
              "array([[ 0,  5, 10],\n",
              "       [ 1,  6, 11],\n",
              "       [ 2,  7, 12],\n",
              "       [ 3,  8, 13],\n",
              "       [ 4,  9, 14]])"
            ]
          },
          "metadata": {
            "tags": []
          },
          "execution_count": 98
        }
      ]
    },
    {
      "cell_type": "markdown",
      "metadata": {
        "id": "yO3Qzb9pyMU0",
        "colab_type": "raw"
      },
      "source": [
        "Oftentimes, we need to find out decomposition of a matrix into its constituents factors. \n",
        "\n",
        "This is called matrix factorization. \n",
        "\n",
        "A popular matrix factorization method is SVD (singular value decomposition) factorization , which returns decomposition of a matrix into three different matrices. This can be done using linalg.svd function."
      ]
    },
    {
      "cell_type": "code",
      "metadata": {
        "id": "EJhKrXSbyMU1",
        "colab_type": "code",
        "colab": {},
        "outputId": "0c2e0b3d-6329-4499-b83a-849f09a96072"
      },
      "source": [
        "np.linalg.svd(A)  # linalg is the Linear Algebra package"
      ],
      "execution_count": 0,
      "outputs": [
        {
          "output_type": "execute_result",
          "data": {
            "text/plain": [
              "(array([[-0.15425367,  0.89974393,  0.40824829],\n",
              "        [-0.50248417,  0.28432901, -0.81649658],\n",
              "        [-0.85071468, -0.3310859 ,  0.40824829]]),\n",
              " array([3.17420265e+01, 2.72832424e+00, 8.10792259e-16]),\n",
              " array([[-0.34716018, -0.39465093, -0.44214167, -0.48963242, -0.53712316],\n",
              "        [-0.69244481, -0.37980343, -0.06716206,  0.24547932,  0.55812069],\n",
              "        [ 0.49916309, -0.8355069 ,  0.19887686,  0.1121146 ,  0.02535234],\n",
              "        [-0.30036899, -0.03396104,  0.33716014,  0.62903881, -0.63186892],\n",
              "        [-0.24620048, -0.02783651,  0.80422076, -0.54013007,  0.0099463 ]]))"
            ]
          },
          "metadata": {
            "tags": []
          },
          "execution_count": 99
        }
      ]
    },
    {
      "cell_type": "markdown",
      "metadata": {
        "id": "mp3Sn-JpyMU2",
        "colab_type": "text"
      },
      "source": [
        "Why SVD is used?\n",
        "--\n",
        "Matrix decomposition, also known as matrix factorization, involves describing a given matrix using its constituent elements.\n",
        "\n",
        "Perhaps the most known and widely used matrix decomposition method is the Singular-Value Decomposition, or SVD. All matrices have an SVD, which makes it more stable than other methods, such as the eigendecomposition. As such, it is often used in a wide array of applications including compressing, denoising, and data reduction.\n",
        "\n",
        "https://machinelearningmastery.com/singular-value-decomposition-for-machine-learning/"
      ]
    },
    {
      "cell_type": "markdown",
      "metadata": {
        "id": "Z65gh92WyMU3",
        "colab_type": "raw"
      },
      "source": [
        "\n",
        "Consider the system of equations:\n",
        "7x + 5y -3z = 16\n",
        "3x - 5y + 2z = -8\n",
        "5x + 3y - 7z = 0"
      ]
    },
    {
      "cell_type": "code",
      "metadata": {
        "id": "kyBN5x4HyMU3",
        "colab_type": "code",
        "colab": {},
        "outputId": "3999ea66-ebca-44cf-8752-cf3c52625274"
      },
      "source": [
        "a = np.array([[7,5,-3], [3,-5,2],[5,3,-7]])\n",
        "b = np.array([16,-8,0])\n",
        "# [57]\n",
        "x = np.linalg.solve(a,b)\n",
        "x                             # will print the values of x,y, and z"
      ],
      "execution_count": 0,
      "outputs": [
        {
          "output_type": "execute_result",
          "data": {
            "text/plain": [
              "array([1., 3., 2.])"
            ]
          },
          "metadata": {
            "tags": []
          },
          "execution_count": 100
        }
      ]
    },
    {
      "cell_type": "code",
      "metadata": {
        "scrolled": false,
        "id": "0009DbWWyMU6",
        "colab_type": "code",
        "colab": {},
        "outputId": "5c1a1c1d-c90f-48cc-aab6-7e09b19968c7"
      },
      "source": [
        "# Finding the Inverse of a Matrix\n",
        "# The NumPy library contains the ìnv function in the linalg module.\n",
        "\n",
        "# let's find the inverse of a 2x2 matrix.\n",
        "Y = np.array(([1,2], [3,4]))  \n",
        "# [58]\n",
        "Z = np.linalg.inv(Y)\n",
        "print(Y)\n",
        "print(\"\\n\")\n",
        "print(Z)  \n",
        "\n",
        "# How to find the inverse or determinant of a matrix ?\n",
        "# https://www.mathsisfun.com/algebra/matrix-inverse.html"
      ],
      "execution_count": 0,
      "outputs": [
        {
          "output_type": "stream",
          "text": [
            "[[1 2]\n",
            " [3 4]]\n",
            "\n",
            "\n",
            "[[-2.   1. ]\n",
            " [ 1.5 -0.5]]\n"
          ],
          "name": "stdout"
        }
      ]
    },
    {
      "cell_type": "code",
      "metadata": {
        "id": "2GoExlFCyMU_",
        "colab_type": "code",
        "colab": {},
        "outputId": "b1fe4067-4b24-4cf9-bd84-9022200e6250"
      },
      "source": [
        "# Finding the Determinant of a Matrix\n",
        "# The determinant of a matrix can be calculated using the det method \n",
        "\n",
        "X = np.array(([1,2,3], [4,5,6], [7,8,9]))\n",
        "# [59]\n",
        "Z = np.linalg.det(X)\n",
        "print(X)\n",
        "print(\"\\n\")\n",
        "print(Z)  "
      ],
      "execution_count": 0,
      "outputs": [
        {
          "output_type": "stream",
          "text": [
            "[[1 2 3]\n",
            " [4 5 6]\n",
            " [7 8 9]]\n",
            "\n",
            "\n",
            "6.66133814775094e-16\n"
          ],
          "name": "stdout"
        }
      ]
    },
    {
      "cell_type": "code",
      "metadata": {
        "id": "i-eQAkJYyMVC",
        "colab_type": "code",
        "colab": {},
        "outputId": "154f98d4-2ad6-4485-9e8f-628fff1412db"
      },
      "source": [
        "# Finding the Trace of a Matrix\n",
        "# The trace of a matrix is the sum of all the elements in the diagonal \n",
        "# of a matrix. The NumPy library contains trace function that can be \n",
        "# used to find the trace of a matrix.\n",
        "\n",
        "X = np.array(([1,2,3], [4,5,6], [7,8,9]))\n",
        "# [60]\n",
        "Z = np.trace(X)\n",
        "print(X)\n",
        "print(\"\\n\")\n",
        "print(Z)  "
      ],
      "execution_count": 0,
      "outputs": [
        {
          "output_type": "stream",
          "text": [
            "[[1 2 3]\n",
            " [4 5 6]\n",
            " [7 8 9]]\n",
            "\n",
            "\n",
            "15\n"
          ],
          "name": "stdout"
        }
      ]
    },
    {
      "cell_type": "markdown",
      "metadata": {
        "id": "m4h3JkMEyMVE",
        "colab_type": "text"
      },
      "source": [
        "# Working of NumPy’s broadcasting functionality"
      ]
    },
    {
      "cell_type": "markdown",
      "metadata": {
        "id": "CWeuK_pYyMVH",
        "colab_type": "raw"
      },
      "source": [
        "Recall that for arrays of the same size, binary operations are performed on an\n",
        "element-by-element basis:"
      ]
    },
    {
      "cell_type": "code",
      "metadata": {
        "id": "oVD5pvxXyMVH",
        "colab_type": "code",
        "colab": {},
        "outputId": "24cd7446-67d9-4627-d115-fbad03a6f509"
      },
      "source": [
        "import numpy as np\n",
        "\n",
        "a = np.array([0, 1, 2])\n",
        "b = np.array([5, 5, 5])\n",
        "\n",
        "a + b"
      ],
      "execution_count": 0,
      "outputs": [
        {
          "output_type": "execute_result",
          "data": {
            "text/plain": [
              "array([5, 6, 7])"
            ]
          },
          "metadata": {
            "tags": []
          },
          "execution_count": 104
        }
      ]
    },
    {
      "cell_type": "markdown",
      "metadata": {
        "id": "RpmcbYjnyMVJ",
        "colab_type": "raw"
      },
      "source": [
        "Broadcasting allows these types of binary operations to be performed on arrays of different sizes—for example, we can just as easily add a scalar to an array:"
      ]
    },
    {
      "cell_type": "code",
      "metadata": {
        "id": "zHvKLildyMVK",
        "colab_type": "code",
        "colab": {},
        "outputId": "3370be13-a1a8-47c3-e139-fd28b7f005ef"
      },
      "source": [
        "a"
      ],
      "execution_count": 0,
      "outputs": [
        {
          "output_type": "execute_result",
          "data": {
            "text/plain": [
              "array([0, 1, 2])"
            ]
          },
          "metadata": {
            "tags": []
          },
          "execution_count": 105
        }
      ]
    },
    {
      "cell_type": "code",
      "metadata": {
        "id": "Ng0AjZYyyMVN",
        "colab_type": "code",
        "colab": {},
        "outputId": "a658efe2-4caa-41e1-f51f-4a13cd10fc9a"
      },
      "source": [
        "a + 5"
      ],
      "execution_count": 0,
      "outputs": [
        {
          "output_type": "execute_result",
          "data": {
            "text/plain": [
              "array([5, 6, 7])"
            ]
          },
          "metadata": {
            "tags": []
          },
          "execution_count": 106
        }
      ]
    },
    {
      "cell_type": "code",
      "metadata": {
        "id": "DXbsdSuhyMVQ",
        "colab_type": "code",
        "colab": {},
        "outputId": "867134a8-9ab0-45ab-8668-10a4991da8fa"
      },
      "source": [
        "M = np.ones((3, 3))\n",
        "M"
      ],
      "execution_count": 0,
      "outputs": [
        {
          "output_type": "execute_result",
          "data": {
            "text/plain": [
              "array([[1., 1., 1.],\n",
              "       [1., 1., 1.],\n",
              "       [1., 1., 1.]])"
            ]
          },
          "metadata": {
            "tags": []
          },
          "execution_count": 107
        }
      ]
    },
    {
      "cell_type": "code",
      "metadata": {
        "id": "FeLRoylTyMVV",
        "colab_type": "code",
        "colab": {},
        "outputId": "a4859e7e-a2f2-4408-b7c3-291af557d3de"
      },
      "source": [
        "M + a"
      ],
      "execution_count": 0,
      "outputs": [
        {
          "output_type": "execute_result",
          "data": {
            "text/plain": [
              "array([[1., 2., 3.],\n",
              "       [1., 2., 3.],\n",
              "       [1., 2., 3.]])"
            ]
          },
          "metadata": {
            "tags": []
          },
          "execution_count": 108
        }
      ]
    },
    {
      "cell_type": "markdown",
      "metadata": {
        "id": "kQENDyAxyMVZ",
        "colab_type": "raw"
      },
      "source": [
        "Here the one-dimensional array a is stretched, or broadcast, across the second\n",
        "dimension in order to match the shape of M.\n",
        "\n",
        "\n",
        "Consider the following example:"
      ]
    },
    {
      "cell_type": "code",
      "metadata": {
        "id": "I62l8XgyyMVa",
        "colab_type": "code",
        "colab": {},
        "outputId": "60545c05-4ab0-4c43-efa0-8b35afe6602c"
      },
      "source": [
        "a = np.arange(3)\n",
        "b = np.arange(3)[:, np.newaxis]\n",
        "\n",
        "print(a)\n",
        "print(\"\\n\")\n",
        "print(b)"
      ],
      "execution_count": 0,
      "outputs": [
        {
          "output_type": "stream",
          "text": [
            "[0 1 2]\n",
            "\n",
            "\n",
            "[[0]\n",
            " [1]\n",
            " [2]]\n"
          ],
          "name": "stdout"
        }
      ]
    },
    {
      "cell_type": "code",
      "metadata": {
        "id": "T5SEzSi5yMVe",
        "colab_type": "code",
        "colab": {},
        "outputId": "bd712fcb-0ad4-45a0-eeb5-81e724b1c590"
      },
      "source": [
        "a + b"
      ],
      "execution_count": 0,
      "outputs": [
        {
          "output_type": "execute_result",
          "data": {
            "text/plain": [
              "array([[0, 1, 2],\n",
              "       [1, 2, 3],\n",
              "       [2, 3, 4]])"
            ]
          },
          "metadata": {
            "tags": []
          },
          "execution_count": 110
        }
      ]
    },
    {
      "cell_type": "markdown",
      "metadata": {
        "id": "eY4e5_0dyMVk",
        "colab_type": "raw"
      },
      "source": [
        "Just as before we stretched or broadcasted one value to match the shape of the other, here we’ve stretched both a and b to match a common shape, and the result is a two dimensional array! \n",
        "\n",
        "The geometry of these examples is visualized in below figure."
      ]
    },
    {
      "cell_type": "markdown",
      "metadata": {
        "id": "OmtK095IyMVl",
        "colab_type": "text"
      },
      "source": [
        "![image for visualising Broadcasting](datasets_n_images/images/broadcasting_visual.png \"Broadcasting Images\" )"
      ]
    }
  ]
}