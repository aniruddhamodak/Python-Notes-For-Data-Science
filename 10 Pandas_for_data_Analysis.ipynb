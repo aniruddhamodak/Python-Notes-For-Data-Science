{
  "nbformat": 4,
  "nbformat_minor": 0,
  "metadata": {
    "kernelspec": {
      "display_name": "Python 3",
      "language": "python",
      "name": "python3"
    },
    "language_info": {
      "codemirror_mode": {
        "name": "ipython",
        "version": 3
      },
      "file_extension": ".py",
      "mimetype": "text/x-python",
      "name": "python",
      "nbconvert_exporter": "python",
      "pygments_lexer": "ipython3",
      "version": "3.7.4"
    },
    "toc": {
      "base_numbering": 1,
      "nav_menu": {},
      "number_sections": true,
      "sideBar": true,
      "skip_h1_title": false,
      "title_cell": "Table of Contents",
      "title_sidebar": "Contents",
      "toc_cell": false,
      "toc_position": {},
      "toc_section_display": true,
      "toc_window_display": false
    },
    "colab": {
      "name": "10 Pandas for data Analysis.ipynb",
      "provenance": [],
      "include_colab_link": true
    }
  },
  "cells": [
    {
      "cell_type": "markdown",
      "metadata": {
        "id": "view-in-github",
        "colab_type": "text"
      },
      "source": [
        "<a href=\"https://colab.research.google.com/github/aniruddhamodak/Python-Notes-For-Data-Science/blob/master/10_Pandas_for_data_Analysis.ipynb\" target=\"_parent\"><img src=\"https://colab.research.google.com/assets/colab-badge.svg\" alt=\"Open In Colab\"/></a>"
      ]
    },
    {
      "cell_type": "markdown",
      "metadata": {
        "id": "il9ENZhCzLRz",
        "colab_type": "text"
      },
      "source": [
        "# Pandas"
      ]
    },
    {
      "cell_type": "markdown",
      "metadata": {
        "id": "KhjX4nrQzLR1",
        "colab_type": "raw"
      },
      "source": [
        "# Pandas is an important Python library for data manipulation, wrangling, \n",
        "# and analysis. It functions as an intuitive and easy-to-use set of tools \n",
        "# for performing operations on any kind of data.\n",
        "\n",
        "Data Structures of Pandas\n",
        "-------------------------\n",
        "All the data representation in pandas is done using two primary data structures:\n",
        "• Series\n",
        "• Dataframes"
      ]
    },
    {
      "cell_type": "markdown",
      "metadata": {
        "id": "RBsvK79azLR1",
        "colab_type": "raw"
      },
      "source": [
        "Series\n",
        "1> Series in pandas is a one-dimensional ndarray with an axis label. It means that in functionality, it is almost similar to a simple array. The values in a series will have an index that needs to be hashable. \n",
        "2> This requirement is needed when we perform manipulation and summarization on data contained in a series data structure. Series objects can be used to represent time series data also. In this case, the index is a datetime object."
      ]
    },
    {
      "cell_type": "markdown",
      "metadata": {
        "id": "Vh5a-Mh-zLR3",
        "colab_type": "raw"
      },
      "source": [
        "Dataframe\n",
        "1> Dataframe is the most important and useful data structure, which is used for almost all kind of data representation and manipulation in pandas. Unlike numpy arrays (in general) a dataframe can contain heterogeneous data. \n",
        "2> Typically tabular data is represented using dataframes, which is analogous to an Excel sheet or a SQL table. This is extremely useful in representing raw datasets as well as processed feature sets in Machine Learning and Data Science. \n",
        "3> All the operations can be performed along the axes, rows, and\n",
        "columns, in a dataframe."
      ]
    },
    {
      "cell_type": "code",
      "metadata": {
        "id": "SOTW5cpdzLR4",
        "colab_type": "code",
        "colab": {},
        "outputId": "3d29eba4-97fa-4cce-e37b-635f9be76ec0"
      },
      "source": [
        "#   Tip :\n",
        "# ---------\n",
        "import pandas\n",
        "# [1]\n",
        "pandas.__version__"
      ],
      "execution_count": 0,
      "outputs": [
        {
          "output_type": "execute_result",
          "data": {
            "text/plain": [
              "'0.25.1'"
            ]
          },
          "metadata": {
            "tags": []
          },
          "execution_count": 1
        }
      ]
    },
    {
      "cell_type": "code",
      "metadata": {
        "id": "psUlT689zLR9",
        "colab_type": "code",
        "colab": {}
      },
      "source": [
        "# Just as we generally import NumPy under the alias np, \n",
        "# we will import Pandas under the alias pd:\n",
        "\n",
        "# [2]\n",
        "import pandas as pd"
      ],
      "execution_count": 0,
      "outputs": []
    },
    {
      "cell_type": "code",
      "metadata": {
        "id": "QVuDpWxFzLSC",
        "colab_type": "code",
        "colab": {},
        "outputId": "d0e5abe2-eda8-43b3-f103-b70fa54a41f3"
      },
      "source": [
        "population_dict = {'California': 38332521,\n",
        "'Texas': 26448193,\n",
        "'New York': 19651127,\n",
        "'Florida': 19552860,\n",
        "'Illinois': 12882135}\n",
        "\n",
        "population_dict"
      ],
      "execution_count": 0,
      "outputs": [
        {
          "output_type": "execute_result",
          "data": {
            "text/plain": [
              "{'California': 38332521,\n",
              " 'Texas': 26448193,\n",
              " 'New York': 19651127,\n",
              " 'Florida': 19552860,\n",
              " 'Illinois': 12882135}"
            ]
          },
          "metadata": {
            "tags": []
          },
          "execution_count": 4
        }
      ]
    },
    {
      "cell_type": "code",
      "metadata": {
        "id": "RRGXrlnizLSG",
        "colab_type": "code",
        "colab": {},
        "outputId": "6234950e-f401-40da-a589-791858281f33"
      },
      "source": [
        "# Example of series data type \n",
        "\n",
        "population_dict = {'California': 38332521,\n",
        "'Texas': 26448193,\n",
        "'New York': 19651127,\n",
        "'Florida': 19552860,\n",
        "'Illinois': 12882135}\n",
        "population = pd.Series(population_dict)\n",
        "population"
      ],
      "execution_count": 0,
      "outputs": [
        {
          "output_type": "execute_result",
          "data": {
            "text/plain": [
              "California    38332521\n",
              "Texas         26448193\n",
              "New York      19651127\n",
              "Florida       19552860\n",
              "Illinois      12882135\n",
              "dtype: int64"
            ]
          },
          "metadata": {
            "tags": []
          },
          "execution_count": 7
        }
      ]
    },
    {
      "cell_type": "code",
      "metadata": {
        "id": "m5T1AIOozLSK",
        "colab_type": "code",
        "colab": {},
        "outputId": "705fefe1-6328-4d52-fe61-cd10ebe00f04"
      },
      "source": [
        "population['California':'Illinois']"
      ],
      "execution_count": 0,
      "outputs": [
        {
          "output_type": "execute_result",
          "data": {
            "text/plain": [
              "California    38332521\n",
              "Texas         26448193\n",
              "New York      19651127\n",
              "Florida       19552860\n",
              "Illinois      12882135\n",
              "dtype: int64"
            ]
          },
          "metadata": {
            "tags": []
          },
          "execution_count": 8
        }
      ]
    },
    {
      "cell_type": "markdown",
      "metadata": {
        "id": "Z5Z_vImdzLSO",
        "colab_type": "raw"
      },
      "source": [
        "Constructing Series objects\n",
        "---------------------------\n",
        "We’ve already seen ways of constructing a Pandas Series from scratch; all of\n",
        "them are some version of the following:\n",
        "\n",
        ">>> pd.Series(data, index=index)\n",
        "\n",
        "where index is an optional argument, and data can be one of many entities.\n",
        "\n",
        "For example, data can be a list or NumPy array, in which case index defaults to an integer sequence:"
      ]
    },
    {
      "cell_type": "code",
      "metadata": {
        "id": "u1_nqZmnzLSP",
        "colab_type": "code",
        "colab": {},
        "outputId": "2a25e4c9-e590-4c2a-ae9a-033625593e63"
      },
      "source": [
        "# [5]\n",
        "pd.Series( [2,4,6] ,index=['A', 'B','C'] )"
      ],
      "execution_count": 0,
      "outputs": [
        {
          "output_type": "execute_result",
          "data": {
            "text/plain": [
              "A    2\n",
              "B    4\n",
              "C    6\n",
              "dtype: int64"
            ]
          },
          "metadata": {
            "tags": []
          },
          "execution_count": 12
        }
      ]
    },
    {
      "cell_type": "code",
      "metadata": {
        "id": "EyU3lW6mzLSU",
        "colab_type": "code",
        "colab": {},
        "outputId": "1af5a61d-ef98-4494-c0dd-f52386b86863"
      },
      "source": [
        "# [6]\n",
        "pd.Series( 5, index=['A', 'B','C']  )"
      ],
      "execution_count": 0,
      "outputs": [
        {
          "output_type": "execute_result",
          "data": {
            "text/plain": [
              "A    5\n",
              "B    5\n",
              "C    5\n",
              "dtype: int64"
            ]
          },
          "metadata": {
            "tags": []
          },
          "execution_count": 13
        }
      ]
    },
    {
      "cell_type": "code",
      "metadata": {
        "id": "oOcMXxMZzLSY",
        "colab_type": "code",
        "colab": {},
        "outputId": "3ff53a55-01ff-4853-a27a-f6a9fd0725b1"
      },
      "source": [
        "# data can be a dictionary, in which index defaults \n",
        "# to the sorted dictionary keys:\n",
        "pd.Series({2:'a', 1:'b', 3:'c'})"
      ],
      "execution_count": 0,
      "outputs": [
        {
          "output_type": "execute_result",
          "data": {
            "text/plain": [
              "2    a\n",
              "1    b\n",
              "3    c\n",
              "dtype: object"
            ]
          },
          "metadata": {
            "tags": []
          },
          "execution_count": 14
        }
      ]
    },
    {
      "cell_type": "code",
      "metadata": {
        "id": "w3mpgd2QzLSc",
        "colab_type": "code",
        "colab": {},
        "outputId": "2b9f3763-168b-484e-9b3d-18b18cdc1e60"
      },
      "source": [
        "# In each case, the index can be explicitly set \n",
        "# if a different result is preferred:\n",
        "pd.Series({2:'a', 1:'b', 3:'c'}, index=[3, 2])"
      ],
      "execution_count": 0,
      "outputs": [
        {
          "output_type": "execute_result",
          "data": {
            "text/plain": [
              "3    c\n",
              "2    a\n",
              "dtype: object"
            ]
          },
          "metadata": {
            "tags": []
          },
          "execution_count": 16
        }
      ]
    },
    {
      "cell_type": "markdown",
      "metadata": {
        "id": "goVV4AnwzLSg",
        "colab_type": "raw"
      },
      "source": [
        "Constructing Dataframes\n",
        "-----------------------\n",
        "The next fundamental structure in Pandas is the DataFrame. \n",
        "Like the Series object, the DataFrame can be thought of either as a generalization of a NumPy array, or as a specialization of a Python dictionary.\n",
        "\n",
        "A Pandas DataFrame can be constructed in a variety of ways. \n",
        "Here we’ll give several examples.\n",
        "\n",
        "> From a single Series object. \n",
        "A DataFrame is a collection of Series objects, and a single column\n",
        "DataFrame can be constructed from a single Series:"
      ]
    },
    {
      "cell_type": "code",
      "metadata": {
        "id": "pHi4EoiWzLSh",
        "colab_type": "code",
        "colab": {},
        "outputId": "c696000d-691c-4af7-8549-e557d868585b"
      },
      "source": [
        "population"
      ],
      "execution_count": 0,
      "outputs": [
        {
          "output_type": "execute_result",
          "data": {
            "text/plain": [
              "California    38332521\n",
              "Texas         26448193\n",
              "New York      19651127\n",
              "Florida       19552860\n",
              "Illinois      12882135\n",
              "dtype: int64"
            ]
          },
          "metadata": {
            "tags": []
          },
          "execution_count": 19
        }
      ]
    },
    {
      "cell_type": "code",
      "metadata": {
        "id": "5c4EP4fszLSn",
        "colab_type": "code",
        "colab": {},
        "outputId": "74a6e4cd-57ad-4105-de55-ad97d74098b0"
      },
      "source": [
        "pd.DataFrame(population,  columns=['population'])"
      ],
      "execution_count": 0,
      "outputs": [
        {
          "output_type": "execute_result",
          "data": {
            "text/html": [
              "<div>\n",
              "<style scoped>\n",
              "    .dataframe tbody tr th:only-of-type {\n",
              "        vertical-align: middle;\n",
              "    }\n",
              "\n",
              "    .dataframe tbody tr th {\n",
              "        vertical-align: top;\n",
              "    }\n",
              "\n",
              "    .dataframe thead th {\n",
              "        text-align: right;\n",
              "    }\n",
              "</style>\n",
              "<table border=\"1\" class=\"dataframe\">\n",
              "  <thead>\n",
              "    <tr style=\"text-align: right;\">\n",
              "      <th></th>\n",
              "      <th>population</th>\n",
              "    </tr>\n",
              "  </thead>\n",
              "  <tbody>\n",
              "    <tr>\n",
              "      <td>California</td>\n",
              "      <td>38332521</td>\n",
              "    </tr>\n",
              "    <tr>\n",
              "      <td>Texas</td>\n",
              "      <td>26448193</td>\n",
              "    </tr>\n",
              "    <tr>\n",
              "      <td>New York</td>\n",
              "      <td>19651127</td>\n",
              "    </tr>\n",
              "    <tr>\n",
              "      <td>Florida</td>\n",
              "      <td>19552860</td>\n",
              "    </tr>\n",
              "    <tr>\n",
              "      <td>Illinois</td>\n",
              "      <td>12882135</td>\n",
              "    </tr>\n",
              "  </tbody>\n",
              "</table>\n",
              "</div>"
            ],
            "text/plain": [
              "            population\n",
              "California    38332521\n",
              "Texas         26448193\n",
              "New York      19651127\n",
              "Florida       19552860\n",
              "Illinois      12882135"
            ]
          },
          "metadata": {
            "tags": []
          },
          "execution_count": 22
        }
      ]
    },
    {
      "cell_type": "markdown",
      "metadata": {
        "id": "JeydDZtGzLSt",
        "colab_type": "text"
      },
      "source": [
        "From a list of dicts. Any list of dictionaries can be made into a DataFrame. We’ll use a simple list comprehension to create some data\n",
        "--"
      ]
    },
    {
      "cell_type": "code",
      "metadata": {
        "id": "PiAqwbJczLSt",
        "colab_type": "code",
        "colab": {},
        "outputId": "2025b29f-837c-457c-d631-14409553b849"
      },
      "source": [
        "data = [{'a': i, 'b': 2 * i} for i in range(3)]\n",
        "print(data)\n",
        "df=pd.DataFrame(data,index=['X','Y','Z'])\n",
        "#try this   df=pd.DataFrame(data,index=['X','Y','Z'])\n",
        "print(df)"
      ],
      "execution_count": 0,
      "outputs": [
        {
          "output_type": "stream",
          "text": [
            "[{'a': 0, 'b': 0}, {'a': 1, 'b': 2}, {'a': 2, 'b': 4}]\n",
            "   a  b\n",
            "X  0  0\n",
            "Y  1  2\n",
            "Z  2  4\n"
          ],
          "name": "stdout"
        }
      ]
    },
    {
      "cell_type": "code",
      "metadata": {
        "id": "9UUOSi6yzLSw",
        "colab_type": "code",
        "colab": {},
        "outputId": "d4f3b3f2-e5f9-4a8d-d16a-46ba4fb69f0a"
      },
      "source": [
        "df.columns=['Indranil','Nitin']\n",
        "df"
      ],
      "execution_count": 0,
      "outputs": [
        {
          "output_type": "execute_result",
          "data": {
            "text/html": [
              "<div>\n",
              "<style scoped>\n",
              "    .dataframe tbody tr th:only-of-type {\n",
              "        vertical-align: middle;\n",
              "    }\n",
              "\n",
              "    .dataframe tbody tr th {\n",
              "        vertical-align: top;\n",
              "    }\n",
              "\n",
              "    .dataframe thead th {\n",
              "        text-align: right;\n",
              "    }\n",
              "</style>\n",
              "<table border=\"1\" class=\"dataframe\">\n",
              "  <thead>\n",
              "    <tr style=\"text-align: right;\">\n",
              "      <th></th>\n",
              "      <th>Indranil</th>\n",
              "      <th>Nitin</th>\n",
              "    </tr>\n",
              "  </thead>\n",
              "  <tbody>\n",
              "    <tr>\n",
              "      <td>X</td>\n",
              "      <td>0</td>\n",
              "      <td>0</td>\n",
              "    </tr>\n",
              "    <tr>\n",
              "      <td>Y</td>\n",
              "      <td>1</td>\n",
              "      <td>2</td>\n",
              "    </tr>\n",
              "    <tr>\n",
              "      <td>Z</td>\n",
              "      <td>2</td>\n",
              "      <td>4</td>\n",
              "    </tr>\n",
              "  </tbody>\n",
              "</table>\n",
              "</div>"
            ],
            "text/plain": [
              "   Indranil  Nitin\n",
              "X         0      0\n",
              "Y         1      2\n",
              "Z         2      4"
            ]
          },
          "metadata": {
            "tags": []
          },
          "execution_count": 25
        }
      ]
    },
    {
      "cell_type": "code",
      "metadata": {
        "id": "4zhfuc6wzLSz",
        "colab_type": "code",
        "colab": {},
        "outputId": "195b54a8-c030-4dbe-d311-c5440d859db0"
      },
      "source": [
        "# Even if some keys in the dictionary are missing, \n",
        "# Pandas will fill them in with NaN (i.e., “not a number”) values:\n",
        "\n",
        "pd.DataFrame([{'a': 1, 'b': 2}, {'b': 3, 'c': 4}])"
      ],
      "execution_count": 0,
      "outputs": [
        {
          "output_type": "execute_result",
          "data": {
            "text/html": [
              "<div>\n",
              "<style scoped>\n",
              "    .dataframe tbody tr th:only-of-type {\n",
              "        vertical-align: middle;\n",
              "    }\n",
              "\n",
              "    .dataframe tbody tr th {\n",
              "        vertical-align: top;\n",
              "    }\n",
              "\n",
              "    .dataframe thead th {\n",
              "        text-align: right;\n",
              "    }\n",
              "</style>\n",
              "<table border=\"1\" class=\"dataframe\">\n",
              "  <thead>\n",
              "    <tr style=\"text-align: right;\">\n",
              "      <th></th>\n",
              "      <th>a</th>\n",
              "      <th>b</th>\n",
              "      <th>c</th>\n",
              "    </tr>\n",
              "  </thead>\n",
              "  <tbody>\n",
              "    <tr>\n",
              "      <td>0</td>\n",
              "      <td>1.0</td>\n",
              "      <td>2</td>\n",
              "      <td>NaN</td>\n",
              "    </tr>\n",
              "    <tr>\n",
              "      <td>1</td>\n",
              "      <td>NaN</td>\n",
              "      <td>3</td>\n",
              "      <td>4.0</td>\n",
              "    </tr>\n",
              "  </tbody>\n",
              "</table>\n",
              "</div>"
            ],
            "text/plain": [
              "     a  b    c\n",
              "0  1.0  2  NaN\n",
              "1  NaN  3  4.0"
            ]
          },
          "metadata": {
            "tags": []
          },
          "execution_count": 26
        }
      ]
    },
    {
      "cell_type": "markdown",
      "metadata": {
        "id": "uZORGkTSzLS2",
        "colab_type": "raw"
      },
      "source": [
        "Making a data frame from a two-dimensional NumPy array. \n",
        "-------------------------------------------------------\n",
        "\n",
        "Given a two-dimensional array of data, we can create a DataFrame with any specified column and index names. If omitted, an integer index will be used for each:"
      ]
    },
    {
      "cell_type": "code",
      "metadata": {
        "id": "JwBuDqnFzLS3",
        "colab_type": "code",
        "colab": {},
        "outputId": "f825bb04-f505-4a5b-a662-2121ada8b5d0"
      },
      "source": [
        "import numpy as np\n",
        "# [14]\n",
        "pd.DataFrame(np.random.randn(3,2), index=['a','b','c'] , columns=['foo','bar']  )\n"
      ],
      "execution_count": 0,
      "outputs": [
        {
          "output_type": "execute_result",
          "data": {
            "text/html": [
              "<div>\n",
              "<style scoped>\n",
              "    .dataframe tbody tr th:only-of-type {\n",
              "        vertical-align: middle;\n",
              "    }\n",
              "\n",
              "    .dataframe tbody tr th {\n",
              "        vertical-align: top;\n",
              "    }\n",
              "\n",
              "    .dataframe thead th {\n",
              "        text-align: right;\n",
              "    }\n",
              "</style>\n",
              "<table border=\"1\" class=\"dataframe\">\n",
              "  <thead>\n",
              "    <tr style=\"text-align: right;\">\n",
              "      <th></th>\n",
              "      <th>foo</th>\n",
              "      <th>bar</th>\n",
              "    </tr>\n",
              "  </thead>\n",
              "  <tbody>\n",
              "    <tr>\n",
              "      <td>a</td>\n",
              "      <td>-1.477521</td>\n",
              "      <td>0.667910</td>\n",
              "    </tr>\n",
              "    <tr>\n",
              "      <td>b</td>\n",
              "      <td>0.179146</td>\n",
              "      <td>-1.342865</td>\n",
              "    </tr>\n",
              "    <tr>\n",
              "      <td>c</td>\n",
              "      <td>1.622788</td>\n",
              "      <td>0.190100</td>\n",
              "    </tr>\n",
              "  </tbody>\n",
              "</table>\n",
              "</div>"
            ],
            "text/plain": [
              "        foo       bar\n",
              "a -1.477521  0.667910\n",
              "b  0.179146 -1.342865\n",
              "c  1.622788  0.190100"
            ]
          },
          "metadata": {
            "tags": []
          },
          "execution_count": 32
        }
      ]
    },
    {
      "cell_type": "markdown",
      "metadata": {
        "id": "uaWd1pxYzLS9",
        "colab_type": "text"
      },
      "source": [
        "# Note on : Indexers: loc and iloc"
      ]
    },
    {
      "cell_type": "markdown",
      "metadata": {
        "id": "SJ5EGRDjzLS-",
        "colab_type": "raw"
      },
      "source": [
        "These slicing and indexing conventions can be a source of confusion. For example, if your Series has an explicit integer index, an indexing operation such as data[1] will use the explicit indices, while a slicing operation like data[1:3] will use the implicit Python-style index."
      ]
    },
    {
      "cell_type": "code",
      "metadata": {
        "id": "VDW7KrC_zLS_",
        "colab_type": "code",
        "colab": {},
        "outputId": "75e030f5-5122-4167-ebf6-4aad715334f3"
      },
      "source": [
        "data = pd.Series(['a', 'b', 'c'], index=[1, 3, 5])\n",
        "data"
      ],
      "execution_count": 0,
      "outputs": [
        {
          "output_type": "execute_result",
          "data": {
            "text/plain": [
              "1    a\n",
              "3    b\n",
              "5    c\n",
              "dtype: object"
            ]
          },
          "metadata": {
            "tags": []
          },
          "execution_count": 34
        }
      ]
    },
    {
      "cell_type": "code",
      "metadata": {
        "id": "oYxlk5yZzLTE",
        "colab_type": "code",
        "colab": {},
        "outputId": "91d276a0-7f80-498c-fe36-d0ec1e9a31fa"
      },
      "source": [
        "# explicit index when indexing\n",
        "data[1]"
      ],
      "execution_count": 0,
      "outputs": [
        {
          "output_type": "execute_result",
          "data": {
            "text/plain": [
              "'a'"
            ]
          },
          "metadata": {
            "tags": []
          },
          "execution_count": 37
        }
      ]
    },
    {
      "cell_type": "code",
      "metadata": {
        "id": "lgx5jRGozLTH",
        "colab_type": "code",
        "colab": {},
        "outputId": "6da8f4d4-be00-41a0-e7b1-2208317bebd3"
      },
      "source": [
        "# implicit index when slicing\n",
        "data[1:3]"
      ],
      "execution_count": 0,
      "outputs": [
        {
          "output_type": "execute_result",
          "data": {
            "text/plain": [
              "3    b\n",
              "5    c\n",
              "dtype: object"
            ]
          },
          "metadata": {
            "tags": []
          },
          "execution_count": 38
        }
      ]
    },
    {
      "cell_type": "markdown",
      "metadata": {
        "id": "7X3BoILazLTL",
        "colab_type": "raw"
      },
      "source": [
        "Because of this potential confusion in the case of integer indexes, Pandas provides some special indexer attributes that explicitly expose certain indexing schemes. These are not functional methods, but attributes that expose a particular slicing interface to the data in the Series.\n",
        "\n",
        "First, the loc attribute allows indexing and slicing that always references the explicit index:"
      ]
    },
    {
      "cell_type": "code",
      "metadata": {
        "id": "CIw5qs6PzLTL",
        "colab_type": "code",
        "colab": {},
        "outputId": "600e0c3e-75d9-424d-c13d-4e2fc0906277"
      },
      "source": [
        "data"
      ],
      "execution_count": 0,
      "outputs": [
        {
          "output_type": "execute_result",
          "data": {
            "text/plain": [
              "1    a\n",
              "3    b\n",
              "5    c\n",
              "dtype: object"
            ]
          },
          "metadata": {
            "tags": []
          },
          "execution_count": 39
        }
      ]
    },
    {
      "cell_type": "code",
      "metadata": {
        "id": "4NMflCOrzLTO",
        "colab_type": "code",
        "colab": {},
        "outputId": "4ca40133-abf4-42a6-cad1-1e43060125e8"
      },
      "source": [
        "# [19]\n",
        "data.loc[1]"
      ],
      "execution_count": 0,
      "outputs": [
        {
          "output_type": "execute_result",
          "data": {
            "text/plain": [
              "'a'"
            ]
          },
          "metadata": {
            "tags": []
          },
          "execution_count": 40
        }
      ]
    },
    {
      "cell_type": "code",
      "metadata": {
        "id": "qC5UdjkhzLTR",
        "colab_type": "code",
        "colab": {},
        "outputId": "45d6bf12-9fb7-4ffe-9d28-3da535436a9b"
      },
      "source": [
        "# [20]\n",
        "data.loc[1:3]"
      ],
      "execution_count": 0,
      "outputs": [
        {
          "output_type": "execute_result",
          "data": {
            "text/plain": [
              "1    a\n",
              "3    b\n",
              "dtype: object"
            ]
          },
          "metadata": {
            "tags": []
          },
          "execution_count": 41
        }
      ]
    },
    {
      "cell_type": "markdown",
      "metadata": {
        "id": "dW4E6VjdzLTU",
        "colab_type": "raw"
      },
      "source": [
        "The iloc attribute allows indexing and slicing that always \n",
        "references the implicit Python-style index:"
      ]
    },
    {
      "cell_type": "code",
      "metadata": {
        "id": "JKB4gLIDzLTV",
        "colab_type": "code",
        "colab": {},
        "outputId": "1738b621-1b67-4102-e107-76dfcb464a07"
      },
      "source": [
        "data"
      ],
      "execution_count": 0,
      "outputs": [
        {
          "output_type": "execute_result",
          "data": {
            "text/plain": [
              "1    a\n",
              "3    b\n",
              "5    c\n",
              "dtype: object"
            ]
          },
          "metadata": {
            "tags": []
          },
          "execution_count": 42
        }
      ]
    },
    {
      "cell_type": "code",
      "metadata": {
        "id": "bdQtwT7OzLTY",
        "colab_type": "code",
        "colab": {},
        "outputId": "0b5168ef-1138-4787-9e0d-32a90d10944f"
      },
      "source": [
        "# [22]\n",
        "data.iloc[1]"
      ],
      "execution_count": 0,
      "outputs": [
        {
          "output_type": "execute_result",
          "data": {
            "text/plain": [
              "'b'"
            ]
          },
          "metadata": {
            "tags": []
          },
          "execution_count": 43
        }
      ]
    },
    {
      "cell_type": "code",
      "metadata": {
        "id": "WFGZomlEzLTe",
        "colab_type": "code",
        "colab": {},
        "outputId": "50bdca56-c3a5-410d-898e-a4be3494e653"
      },
      "source": [
        "# [23]\n",
        "data.iloc[1:3]"
      ],
      "execution_count": 0,
      "outputs": [
        {
          "output_type": "execute_result",
          "data": {
            "text/plain": [
              "3    b\n",
              "5    c\n",
              "dtype: object"
            ]
          },
          "metadata": {
            "tags": []
          },
          "execution_count": 45
        }
      ]
    },
    {
      "cell_type": "markdown",
      "metadata": {
        "id": "8D9_eC9XzLTh",
        "colab_type": "text"
      },
      "source": [
        "# Data Retrieval"
      ]
    },
    {
      "cell_type": "markdown",
      "metadata": {
        "id": "1iK2hLwKzLTi",
        "colab_type": "raw"
      },
      "source": [
        "Data Retrieval\n",
        "--------------\n",
        "Pandas provides numerous ways to retrieve and read in data. We can convert data from CSV files, databases, flat files, and so on into dataframes. We can also convert a list of dictionaries (Python dict) into a dataframe.\n",
        "\n",
        "We will cover three of the most important data sources:\n",
        "• List of dictionaries\n",
        "• CSV files\n",
        "• Databases"
      ]
    },
    {
      "cell_type": "code",
      "metadata": {
        "id": "BBXGUJMezLTi",
        "colab_type": "code",
        "colab": {},
        "outputId": "946d5529-52b6-42b7-da17-85bf61944d0c"
      },
      "source": [
        "# List of Dictionaries to Dataframe\n",
        "\n",
        "import pandas as pd\n",
        "d =  [{'city':'Delhi',\"data\":1000},\n",
        "      {'city':'Banglaore',\"data\":2000},\n",
        "      {'city':'Mumbai',\"data\":1000}]\n",
        "pd.DataFrame(d)  \n",
        "\n",
        "# Two important things to note here: \n",
        "# first,  the keys of dictionary are picked up as the column names \n",
        "# in the dataframe \n",
        "# secondly, it picks up the default index of normal arrays."
      ],
      "execution_count": 0,
      "outputs": [
        {
          "output_type": "execute_result",
          "data": {
            "text/html": [
              "<div>\n",
              "<style scoped>\n",
              "    .dataframe tbody tr th:only-of-type {\n",
              "        vertical-align: middle;\n",
              "    }\n",
              "\n",
              "    .dataframe tbody tr th {\n",
              "        vertical-align: top;\n",
              "    }\n",
              "\n",
              "    .dataframe thead th {\n",
              "        text-align: right;\n",
              "    }\n",
              "</style>\n",
              "<table border=\"1\" class=\"dataframe\">\n",
              "  <thead>\n",
              "    <tr style=\"text-align: right;\">\n",
              "      <th></th>\n",
              "      <th>city</th>\n",
              "      <th>data</th>\n",
              "    </tr>\n",
              "  </thead>\n",
              "  <tbody>\n",
              "    <tr>\n",
              "      <td>0</td>\n",
              "      <td>Delhi</td>\n",
              "      <td>1000</td>\n",
              "    </tr>\n",
              "    <tr>\n",
              "      <td>1</td>\n",
              "      <td>Banglaore</td>\n",
              "      <td>2000</td>\n",
              "    </tr>\n",
              "    <tr>\n",
              "      <td>2</td>\n",
              "      <td>Mumbai</td>\n",
              "      <td>1000</td>\n",
              "    </tr>\n",
              "  </tbody>\n",
              "</table>\n",
              "</div>"
            ],
            "text/plain": [
              "        city  data\n",
              "0      Delhi  1000\n",
              "1  Banglaore  2000\n",
              "2     Mumbai  1000"
            ]
          },
          "metadata": {
            "tags": []
          },
          "execution_count": 48
        }
      ]
    },
    {
      "cell_type": "code",
      "metadata": {
        "id": "U5Xmv6pvzLTl",
        "colab_type": "code",
        "colab": {},
        "outputId": "05c829a6-38af-456b-e3e3-f1fe19467fae"
      },
      "source": [
        "# CSV Files to Dataframe  -> read student_records.csv file\n",
        "\n",
        "data=pd.read_csv('./datasets_n_images/datasets_module_1/student_records.csv')\n",
        "data.head()"
      ],
      "execution_count": 0,
      "outputs": [
        {
          "output_type": "execute_result",
          "data": {
            "text/html": [
              "<div>\n",
              "<style scoped>\n",
              "    .dataframe tbody tr th:only-of-type {\n",
              "        vertical-align: middle;\n",
              "    }\n",
              "\n",
              "    .dataframe tbody tr th {\n",
              "        vertical-align: top;\n",
              "    }\n",
              "\n",
              "    .dataframe thead th {\n",
              "        text-align: right;\n",
              "    }\n",
              "</style>\n",
              "<table border=\"1\" class=\"dataframe\">\n",
              "  <thead>\n",
              "    <tr style=\"text-align: right;\">\n",
              "      <th></th>\n",
              "      <th>Name</th>\n",
              "      <th>OverallGrade</th>\n",
              "      <th>Obedient</th>\n",
              "      <th>ResearchScore</th>\n",
              "      <th>ProjectScore</th>\n",
              "      <th>Recommend</th>\n",
              "    </tr>\n",
              "  </thead>\n",
              "  <tbody>\n",
              "    <tr>\n",
              "      <td>0</td>\n",
              "      <td>Henry</td>\n",
              "      <td>A</td>\n",
              "      <td>Y</td>\n",
              "      <td>90</td>\n",
              "      <td>85</td>\n",
              "      <td>Yes</td>\n",
              "    </tr>\n",
              "    <tr>\n",
              "      <td>1</td>\n",
              "      <td>John</td>\n",
              "      <td>C</td>\n",
              "      <td>N</td>\n",
              "      <td>85</td>\n",
              "      <td>51</td>\n",
              "      <td>Yes</td>\n",
              "    </tr>\n",
              "    <tr>\n",
              "      <td>2</td>\n",
              "      <td>David</td>\n",
              "      <td>F</td>\n",
              "      <td>N</td>\n",
              "      <td>10</td>\n",
              "      <td>17</td>\n",
              "      <td>No</td>\n",
              "    </tr>\n",
              "    <tr>\n",
              "      <td>3</td>\n",
              "      <td>Holmes</td>\n",
              "      <td>B</td>\n",
              "      <td>Y</td>\n",
              "      <td>75</td>\n",
              "      <td>71</td>\n",
              "      <td>No</td>\n",
              "    </tr>\n",
              "    <tr>\n",
              "      <td>4</td>\n",
              "      <td>Marvin</td>\n",
              "      <td>E</td>\n",
              "      <td>N</td>\n",
              "      <td>20</td>\n",
              "      <td>30</td>\n",
              "      <td>No</td>\n",
              "    </tr>\n",
              "  </tbody>\n",
              "</table>\n",
              "</div>"
            ],
            "text/plain": [
              "     Name OverallGrade Obedient  ResearchScore  ProjectScore Recommend\n",
              "0   Henry            A        Y             90            85       Yes\n",
              "1    John            C        N             85            51       Yes\n",
              "2   David            F        N             10            17        No\n",
              "3  Holmes            B        Y             75            71        No\n",
              "4  Marvin            E        N             20            30        No"
            ]
          },
          "metadata": {
            "tags": []
          },
          "execution_count": 54
        }
      ]
    },
    {
      "cell_type": "code",
      "metadata": {
        "id": "T2nrVVeOzLTp",
        "colab_type": "code",
        "colab": {},
        "outputId": "e037b53a-b879-4249-8bd2-d264a60606a1"
      },
      "source": [
        "# [26]\n",
        "data.tail()"
      ],
      "execution_count": 0,
      "outputs": [
        {
          "output_type": "execute_result",
          "data": {
            "text/html": [
              "<div>\n",
              "<style scoped>\n",
              "    .dataframe tbody tr th:only-of-type {\n",
              "        vertical-align: middle;\n",
              "    }\n",
              "\n",
              "    .dataframe tbody tr th {\n",
              "        vertical-align: top;\n",
              "    }\n",
              "\n",
              "    .dataframe thead th {\n",
              "        text-align: right;\n",
              "    }\n",
              "</style>\n",
              "<table border=\"1\" class=\"dataframe\">\n",
              "  <thead>\n",
              "    <tr style=\"text-align: right;\">\n",
              "      <th></th>\n",
              "      <th>Name</th>\n",
              "      <th>OverallGrade</th>\n",
              "      <th>Obedient</th>\n",
              "      <th>ResearchScore</th>\n",
              "      <th>ProjectScore</th>\n",
              "      <th>Recommend</th>\n",
              "    </tr>\n",
              "  </thead>\n",
              "  <tbody>\n",
              "    <tr>\n",
              "      <td>3</td>\n",
              "      <td>Holmes</td>\n",
              "      <td>B</td>\n",
              "      <td>Y</td>\n",
              "      <td>75</td>\n",
              "      <td>71</td>\n",
              "      <td>No</td>\n",
              "    </tr>\n",
              "    <tr>\n",
              "      <td>4</td>\n",
              "      <td>Marvin</td>\n",
              "      <td>E</td>\n",
              "      <td>N</td>\n",
              "      <td>20</td>\n",
              "      <td>30</td>\n",
              "      <td>No</td>\n",
              "    </tr>\n",
              "    <tr>\n",
              "      <td>5</td>\n",
              "      <td>Simon</td>\n",
              "      <td>A</td>\n",
              "      <td>Y</td>\n",
              "      <td>92</td>\n",
              "      <td>79</td>\n",
              "      <td>Yes</td>\n",
              "    </tr>\n",
              "    <tr>\n",
              "      <td>6</td>\n",
              "      <td>Robert</td>\n",
              "      <td>B</td>\n",
              "      <td>Y</td>\n",
              "      <td>60</td>\n",
              "      <td>59</td>\n",
              "      <td>No</td>\n",
              "    </tr>\n",
              "    <tr>\n",
              "      <td>7</td>\n",
              "      <td>Trent</td>\n",
              "      <td>C</td>\n",
              "      <td>Y</td>\n",
              "      <td>75</td>\n",
              "      <td>33</td>\n",
              "      <td>No</td>\n",
              "    </tr>\n",
              "  </tbody>\n",
              "</table>\n",
              "</div>"
            ],
            "text/plain": [
              "     Name OverallGrade Obedient  ResearchScore  ProjectScore Recommend\n",
              "3  Holmes            B        Y             75            71        No\n",
              "4  Marvin            E        N             20            30        No\n",
              "5   Simon            A        Y             92            79       Yes\n",
              "6  Robert            B        Y             60            59        No\n",
              "7   Trent            C        Y             75            33        No"
            ]
          },
          "metadata": {
            "tags": []
          },
          "execution_count": 55
        }
      ]
    },
    {
      "cell_type": "markdown",
      "metadata": {
        "id": "9lfmCCjAzLTu",
        "colab_type": "raw"
      },
      "source": [
        "# Databases to Dataframe\n",
        "\n",
        "import cx_Oracle\n",
        "\n",
        "server = 'xxxxxxxx' # Address of the database server\n",
        "user = 'xxxxxx'     # the username for the database server\n",
        "password = 'xxxxx'  # Password for the above user\n",
        "\n",
        "\n",
        "conn = cx_Oracle.connect(server=server, user=user, password=password)\n",
        "\n",
        "query = \"select * from some_table\"\n",
        "\n",
        "df = pd.read_sql(query, conn)"
      ]
    },
    {
      "cell_type": "markdown",
      "metadata": {
        "id": "dNR4mX_ezLTv",
        "colab_type": "text"
      },
      "source": [
        "# Data Access"
      ]
    },
    {
      "cell_type": "markdown",
      "metadata": {
        "id": "y-lIK2PozLTv",
        "colab_type": "raw"
      },
      "source": [
        "Data Access\n",
        "------------\n",
        "The most important part after reading in our data is that of accessing that data using the data structure’s access mechanisms. \n",
        "\n",
        "Accessing data in the pandas dataframe and series objects is very much similar to the access mechanism that exist for Python lists or numpy arrays."
      ]
    },
    {
      "cell_type": "code",
      "metadata": {
        "id": "YIjnL82uzLTw",
        "colab_type": "code",
        "colab": {},
        "outputId": "49b42ae0-533b-41b1-9ec9-1fa44ad0e53a"
      },
      "source": [
        "# [27]\n",
        "data"
      ],
      "execution_count": 0,
      "outputs": [
        {
          "output_type": "execute_result",
          "data": {
            "text/html": [
              "<div>\n",
              "<style scoped>\n",
              "    .dataframe tbody tr th:only-of-type {\n",
              "        vertical-align: middle;\n",
              "    }\n",
              "\n",
              "    .dataframe tbody tr th {\n",
              "        vertical-align: top;\n",
              "    }\n",
              "\n",
              "    .dataframe thead th {\n",
              "        text-align: right;\n",
              "    }\n",
              "</style>\n",
              "<table border=\"1\" class=\"dataframe\">\n",
              "  <thead>\n",
              "    <tr style=\"text-align: right;\">\n",
              "      <th></th>\n",
              "      <th>Name</th>\n",
              "      <th>OverallGrade</th>\n",
              "      <th>Obedient</th>\n",
              "      <th>ResearchScore</th>\n",
              "      <th>ProjectScore</th>\n",
              "      <th>Recommend</th>\n",
              "    </tr>\n",
              "  </thead>\n",
              "  <tbody>\n",
              "    <tr>\n",
              "      <td>0</td>\n",
              "      <td>Henry</td>\n",
              "      <td>A</td>\n",
              "      <td>Y</td>\n",
              "      <td>90</td>\n",
              "      <td>85</td>\n",
              "      <td>Yes</td>\n",
              "    </tr>\n",
              "    <tr>\n",
              "      <td>1</td>\n",
              "      <td>John</td>\n",
              "      <td>C</td>\n",
              "      <td>N</td>\n",
              "      <td>85</td>\n",
              "      <td>51</td>\n",
              "      <td>Yes</td>\n",
              "    </tr>\n",
              "    <tr>\n",
              "      <td>2</td>\n",
              "      <td>David</td>\n",
              "      <td>F</td>\n",
              "      <td>N</td>\n",
              "      <td>10</td>\n",
              "      <td>17</td>\n",
              "      <td>No</td>\n",
              "    </tr>\n",
              "    <tr>\n",
              "      <td>3</td>\n",
              "      <td>Holmes</td>\n",
              "      <td>B</td>\n",
              "      <td>Y</td>\n",
              "      <td>75</td>\n",
              "      <td>71</td>\n",
              "      <td>No</td>\n",
              "    </tr>\n",
              "    <tr>\n",
              "      <td>4</td>\n",
              "      <td>Marvin</td>\n",
              "      <td>E</td>\n",
              "      <td>N</td>\n",
              "      <td>20</td>\n",
              "      <td>30</td>\n",
              "      <td>No</td>\n",
              "    </tr>\n",
              "    <tr>\n",
              "      <td>5</td>\n",
              "      <td>Simon</td>\n",
              "      <td>A</td>\n",
              "      <td>Y</td>\n",
              "      <td>92</td>\n",
              "      <td>79</td>\n",
              "      <td>Yes</td>\n",
              "    </tr>\n",
              "    <tr>\n",
              "      <td>6</td>\n",
              "      <td>Robert</td>\n",
              "      <td>B</td>\n",
              "      <td>Y</td>\n",
              "      <td>60</td>\n",
              "      <td>59</td>\n",
              "      <td>No</td>\n",
              "    </tr>\n",
              "    <tr>\n",
              "      <td>7</td>\n",
              "      <td>Trent</td>\n",
              "      <td>C</td>\n",
              "      <td>Y</td>\n",
              "      <td>75</td>\n",
              "      <td>33</td>\n",
              "      <td>No</td>\n",
              "    </tr>\n",
              "  </tbody>\n",
              "</table>\n",
              "</div>"
            ],
            "text/plain": [
              "     Name OverallGrade Obedient  ResearchScore  ProjectScore Recommend\n",
              "0   Henry            A        Y             90            85       Yes\n",
              "1    John            C        N             85            51       Yes\n",
              "2   David            F        N             10            17        No\n",
              "3  Holmes            B        Y             75            71        No\n",
              "4  Marvin            E        N             20            30        No\n",
              "5   Simon            A        Y             92            79       Yes\n",
              "6  Robert            B        Y             60            59        No\n",
              "7   Trent            C        Y             75            33        No"
            ]
          },
          "metadata": {
            "tags": []
          },
          "execution_count": 56
        }
      ]
    },
    {
      "cell_type": "code",
      "metadata": {
        "id": "SmEypnCjzLTy",
        "colab_type": "code",
        "colab": {},
        "outputId": "aa853344-a47a-4628-bbea-5ffc7ff23020"
      },
      "source": [
        "# [28]\n",
        "series_es = data.ProjectScore\n",
        "series_es"
      ],
      "execution_count": 0,
      "outputs": [
        {
          "output_type": "execute_result",
          "data": {
            "text/plain": [
              "0    85\n",
              "1    51\n",
              "2    17\n",
              "3    71\n",
              "4    30\n",
              "5    79\n",
              "6    59\n",
              "7    33\n",
              "Name: ProjectScore, dtype: int64"
            ]
          },
          "metadata": {
            "tags": []
          },
          "execution_count": 59
        }
      ]
    },
    {
      "cell_type": "code",
      "metadata": {
        "id": "7TC9rJv-zLT1",
        "colab_type": "code",
        "colab": {},
        "outputId": "1b616c97-3f58-4a0a-94a1-dea6a76d05b4"
      },
      "source": [
        "series_es[1:7]"
      ],
      "execution_count": 0,
      "outputs": [
        {
          "output_type": "execute_result",
          "data": {
            "text/plain": [
              "1    51\n",
              "2    17\n",
              "3    71\n",
              "4    30\n",
              "5    79\n",
              "6    59\n",
              "Name: ProjectScore, dtype: int64"
            ]
          },
          "metadata": {
            "tags": []
          },
          "execution_count": 60
        }
      ]
    },
    {
      "cell_type": "code",
      "metadata": {
        "id": "DFbqM16ZzLT3",
        "colab_type": "code",
        "colab": {},
        "outputId": "b7e0860b-3e81-492b-c87f-d692e3f35858"
      },
      "source": [
        "# [29]\n",
        "series_es[1:7:2]"
      ],
      "execution_count": 0,
      "outputs": [
        {
          "output_type": "execute_result",
          "data": {
            "text/plain": [
              "1    51\n",
              "3    71\n",
              "5    79\n",
              "Name: ProjectScore, dtype: int64"
            ]
          },
          "metadata": {
            "tags": []
          },
          "execution_count": 61
        }
      ]
    },
    {
      "cell_type": "code",
      "metadata": {
        "id": "46CB9RLPzLT6",
        "colab_type": "code",
        "colab": {},
        "outputId": "737cc2e9-a18f-47f0-f421-8bb6da8cbd7d"
      },
      "source": [
        "series_es[:5] "
      ],
      "execution_count": 0,
      "outputs": [
        {
          "output_type": "execute_result",
          "data": {
            "text/plain": [
              "0    85\n",
              "1    51\n",
              "2    17\n",
              "3    71\n",
              "4    30\n",
              "Name: ProjectScore, dtype: int64"
            ]
          },
          "metadata": {
            "tags": []
          },
          "execution_count": 62
        }
      ]
    },
    {
      "cell_type": "code",
      "metadata": {
        "id": "zZzcos0LzLT_",
        "colab_type": "code",
        "colab": {},
        "outputId": "18eb3d1a-e1c2-4b23-fc9a-84997f0061fc"
      },
      "source": [
        "series_es"
      ],
      "execution_count": 0,
      "outputs": [
        {
          "output_type": "execute_result",
          "data": {
            "text/plain": [
              "0    85\n",
              "1    51\n",
              "2    17\n",
              "3    71\n",
              "4    30\n",
              "5    79\n",
              "6    59\n",
              "7    33\n",
              "Name: ProjectScore, dtype: int64"
            ]
          },
          "metadata": {
            "tags": []
          },
          "execution_count": 63
        }
      ]
    },
    {
      "cell_type": "code",
      "metadata": {
        "id": "lUW-fVK6zLUC",
        "colab_type": "code",
        "colab": {},
        "outputId": "3089f9db-0f0d-4f40-feef-2db605004e1d"
      },
      "source": [
        "series_es[:-5] "
      ],
      "execution_count": 0,
      "outputs": [
        {
          "output_type": "execute_result",
          "data": {
            "text/plain": [
              "0    85\n",
              "1    51\n",
              "2    17\n",
              "Name: ProjectScore, dtype: int64"
            ]
          },
          "metadata": {
            "tags": []
          },
          "execution_count": 64
        }
      ]
    },
    {
      "cell_type": "code",
      "metadata": {
        "id": "lUJfL5Q6zLUG",
        "colab_type": "code",
        "colab": {},
        "outputId": "fc816d9c-fb4e-4be4-b848-110e7a3cd612"
      },
      "source": [
        "data"
      ],
      "execution_count": 0,
      "outputs": [
        {
          "output_type": "execute_result",
          "data": {
            "text/html": [
              "<div>\n",
              "<style scoped>\n",
              "    .dataframe tbody tr th:only-of-type {\n",
              "        vertical-align: middle;\n",
              "    }\n",
              "\n",
              "    .dataframe tbody tr th {\n",
              "        vertical-align: top;\n",
              "    }\n",
              "\n",
              "    .dataframe thead th {\n",
              "        text-align: right;\n",
              "    }\n",
              "</style>\n",
              "<table border=\"1\" class=\"dataframe\">\n",
              "  <thead>\n",
              "    <tr style=\"text-align: right;\">\n",
              "      <th></th>\n",
              "      <th>Name</th>\n",
              "      <th>OverallGrade</th>\n",
              "      <th>Obedient</th>\n",
              "      <th>ResearchScore</th>\n",
              "      <th>ProjectScore</th>\n",
              "      <th>Recommend</th>\n",
              "    </tr>\n",
              "  </thead>\n",
              "  <tbody>\n",
              "    <tr>\n",
              "      <td>0</td>\n",
              "      <td>Henry</td>\n",
              "      <td>A</td>\n",
              "      <td>Y</td>\n",
              "      <td>90</td>\n",
              "      <td>85</td>\n",
              "      <td>Yes</td>\n",
              "    </tr>\n",
              "    <tr>\n",
              "      <td>1</td>\n",
              "      <td>John</td>\n",
              "      <td>C</td>\n",
              "      <td>N</td>\n",
              "      <td>85</td>\n",
              "      <td>51</td>\n",
              "      <td>Yes</td>\n",
              "    </tr>\n",
              "    <tr>\n",
              "      <td>2</td>\n",
              "      <td>David</td>\n",
              "      <td>F</td>\n",
              "      <td>N</td>\n",
              "      <td>10</td>\n",
              "      <td>17</td>\n",
              "      <td>No</td>\n",
              "    </tr>\n",
              "    <tr>\n",
              "      <td>3</td>\n",
              "      <td>Holmes</td>\n",
              "      <td>B</td>\n",
              "      <td>Y</td>\n",
              "      <td>75</td>\n",
              "      <td>71</td>\n",
              "      <td>No</td>\n",
              "    </tr>\n",
              "    <tr>\n",
              "      <td>4</td>\n",
              "      <td>Marvin</td>\n",
              "      <td>E</td>\n",
              "      <td>N</td>\n",
              "      <td>20</td>\n",
              "      <td>30</td>\n",
              "      <td>No</td>\n",
              "    </tr>\n",
              "    <tr>\n",
              "      <td>5</td>\n",
              "      <td>Simon</td>\n",
              "      <td>A</td>\n",
              "      <td>Y</td>\n",
              "      <td>92</td>\n",
              "      <td>79</td>\n",
              "      <td>Yes</td>\n",
              "    </tr>\n",
              "    <tr>\n",
              "      <td>6</td>\n",
              "      <td>Robert</td>\n",
              "      <td>B</td>\n",
              "      <td>Y</td>\n",
              "      <td>60</td>\n",
              "      <td>59</td>\n",
              "      <td>No</td>\n",
              "    </tr>\n",
              "    <tr>\n",
              "      <td>7</td>\n",
              "      <td>Trent</td>\n",
              "      <td>C</td>\n",
              "      <td>Y</td>\n",
              "      <td>75</td>\n",
              "      <td>33</td>\n",
              "      <td>No</td>\n",
              "    </tr>\n",
              "  </tbody>\n",
              "</table>\n",
              "</div>"
            ],
            "text/plain": [
              "     Name OverallGrade Obedient  ResearchScore  ProjectScore Recommend\n",
              "0   Henry            A        Y             90            85       Yes\n",
              "1    John            C        N             85            51       Yes\n",
              "2   David            F        N             10            17        No\n",
              "3  Holmes            B        Y             75            71        No\n",
              "4  Marvin            E        N             20            30        No\n",
              "5   Simon            A        Y             92            79       Yes\n",
              "6  Robert            B        Y             60            59        No\n",
              "7   Trent            C        Y             75            33        No"
            ]
          },
          "metadata": {
            "tags": []
          },
          "execution_count": 66
        }
      ]
    },
    {
      "cell_type": "code",
      "metadata": {
        "id": "0r0oJvqszLUJ",
        "colab_type": "code",
        "colab": {},
        "outputId": "21bc91e8-1785-41d6-a353-e17069fc1922"
      },
      "source": [
        "# [32]\n",
        "data.iloc[ :5, :2 ]"
      ],
      "execution_count": 0,
      "outputs": [
        {
          "output_type": "execute_result",
          "data": {
            "text/html": [
              "<div>\n",
              "<style scoped>\n",
              "    .dataframe tbody tr th:only-of-type {\n",
              "        vertical-align: middle;\n",
              "    }\n",
              "\n",
              "    .dataframe tbody tr th {\n",
              "        vertical-align: top;\n",
              "    }\n",
              "\n",
              "    .dataframe thead th {\n",
              "        text-align: right;\n",
              "    }\n",
              "</style>\n",
              "<table border=\"1\" class=\"dataframe\">\n",
              "  <thead>\n",
              "    <tr style=\"text-align: right;\">\n",
              "      <th></th>\n",
              "      <th>Name</th>\n",
              "      <th>OverallGrade</th>\n",
              "    </tr>\n",
              "  </thead>\n",
              "  <tbody>\n",
              "    <tr>\n",
              "      <td>0</td>\n",
              "      <td>Henry</td>\n",
              "      <td>A</td>\n",
              "    </tr>\n",
              "    <tr>\n",
              "      <td>1</td>\n",
              "      <td>John</td>\n",
              "      <td>C</td>\n",
              "    </tr>\n",
              "    <tr>\n",
              "      <td>2</td>\n",
              "      <td>David</td>\n",
              "      <td>F</td>\n",
              "    </tr>\n",
              "    <tr>\n",
              "      <td>3</td>\n",
              "      <td>Holmes</td>\n",
              "      <td>B</td>\n",
              "    </tr>\n",
              "    <tr>\n",
              "      <td>4</td>\n",
              "      <td>Marvin</td>\n",
              "      <td>E</td>\n",
              "    </tr>\n",
              "  </tbody>\n",
              "</table>\n",
              "</div>"
            ],
            "text/plain": [
              "     Name OverallGrade\n",
              "0   Henry            A\n",
              "1    John            C\n",
              "2   David            F\n",
              "3  Holmes            B\n",
              "4  Marvin            E"
            ]
          },
          "metadata": {
            "tags": []
          },
          "execution_count": 67
        }
      ]
    },
    {
      "cell_type": "code",
      "metadata": {
        "id": "pcGoCEXlzLUN",
        "colab_type": "code",
        "colab": {},
        "outputId": "2798604d-16ff-4494-b5d0-efed0c581fcc"
      },
      "source": [
        "# Another access mechanism is Boolean based access to the dataframe rows \n",
        "# or columns.  \n",
        "# Let’s consider the following example in which we want to select students \n",
        "# that have ResearchScore of more than 60 and their name starts with 'H':\n",
        "\n",
        "import warnings; warnings.simplefilter('ignore')  # to suppress warnings\n",
        "\n",
        "#data[data['ResearchScore'] > 60] [data['Name'].startswith('h')] #AttributeError: 'Series' object has no attribute 'startswith'\n",
        "\n",
        "data[data['ResearchScore'] > 60] [data['Name'].str.startswith('H')]"
      ],
      "execution_count": 0,
      "outputs": [
        {
          "output_type": "execute_result",
          "data": {
            "text/html": [
              "<div>\n",
              "<style scoped>\n",
              "    .dataframe tbody tr th:only-of-type {\n",
              "        vertical-align: middle;\n",
              "    }\n",
              "\n",
              "    .dataframe tbody tr th {\n",
              "        vertical-align: top;\n",
              "    }\n",
              "\n",
              "    .dataframe thead th {\n",
              "        text-align: right;\n",
              "    }\n",
              "</style>\n",
              "<table border=\"1\" class=\"dataframe\">\n",
              "  <thead>\n",
              "    <tr style=\"text-align: right;\">\n",
              "      <th></th>\n",
              "      <th>Name</th>\n",
              "      <th>OverallGrade</th>\n",
              "      <th>Obedient</th>\n",
              "      <th>ResearchScore</th>\n",
              "      <th>ProjectScore</th>\n",
              "      <th>Recommend</th>\n",
              "    </tr>\n",
              "  </thead>\n",
              "  <tbody>\n",
              "    <tr>\n",
              "      <td>0</td>\n",
              "      <td>Henry</td>\n",
              "      <td>A</td>\n",
              "      <td>Y</td>\n",
              "      <td>90</td>\n",
              "      <td>85</td>\n",
              "      <td>Yes</td>\n",
              "    </tr>\n",
              "    <tr>\n",
              "      <td>3</td>\n",
              "      <td>Holmes</td>\n",
              "      <td>B</td>\n",
              "      <td>Y</td>\n",
              "      <td>75</td>\n",
              "      <td>71</td>\n",
              "      <td>No</td>\n",
              "    </tr>\n",
              "  </tbody>\n",
              "</table>\n",
              "</div>"
            ],
            "text/plain": [
              "     Name OverallGrade Obedient  ResearchScore  ProjectScore Recommend\n",
              "0   Henry            A        Y             90            85       Yes\n",
              "3  Holmes            B        Y             75            71        No"
            ]
          },
          "metadata": {
            "tags": []
          },
          "execution_count": 70
        }
      ]
    },
    {
      "cell_type": "markdown",
      "metadata": {
        "id": "NJ_4s4PlzLUR",
        "colab_type": "raw"
      },
      "source": [
        "When we select data based on some condition, we always get the part of dataframe that satisfies the condition supplied. \n",
        "\n",
        "Sometimes we want to test a condition against a dataframe but want to preserve the shape of the dataframe. In these cases, we can use the where function."
      ]
    },
    {
      "cell_type": "code",
      "metadata": {
        "id": "nE9G5PyrzLUR",
        "colab_type": "code",
        "colab": {},
        "outputId": "e6195608-d2ce-4f69-c6b0-c7a1f91f65fa"
      },
      "source": [
        "data"
      ],
      "execution_count": 0,
      "outputs": [
        {
          "output_type": "execute_result",
          "data": {
            "text/html": [
              "<div>\n",
              "<style scoped>\n",
              "    .dataframe tbody tr th:only-of-type {\n",
              "        vertical-align: middle;\n",
              "    }\n",
              "\n",
              "    .dataframe tbody tr th {\n",
              "        vertical-align: top;\n",
              "    }\n",
              "\n",
              "    .dataframe thead th {\n",
              "        text-align: right;\n",
              "    }\n",
              "</style>\n",
              "<table border=\"1\" class=\"dataframe\">\n",
              "  <thead>\n",
              "    <tr style=\"text-align: right;\">\n",
              "      <th></th>\n",
              "      <th>Name</th>\n",
              "      <th>OverallGrade</th>\n",
              "      <th>Obedient</th>\n",
              "      <th>ResearchScore</th>\n",
              "      <th>ProjectScore</th>\n",
              "      <th>Recommend</th>\n",
              "    </tr>\n",
              "  </thead>\n",
              "  <tbody>\n",
              "    <tr>\n",
              "      <td>0</td>\n",
              "      <td>Henry</td>\n",
              "      <td>A</td>\n",
              "      <td>Y</td>\n",
              "      <td>90</td>\n",
              "      <td>85</td>\n",
              "      <td>Yes</td>\n",
              "    </tr>\n",
              "    <tr>\n",
              "      <td>1</td>\n",
              "      <td>John</td>\n",
              "      <td>C</td>\n",
              "      <td>N</td>\n",
              "      <td>85</td>\n",
              "      <td>51</td>\n",
              "      <td>Yes</td>\n",
              "    </tr>\n",
              "    <tr>\n",
              "      <td>2</td>\n",
              "      <td>David</td>\n",
              "      <td>F</td>\n",
              "      <td>N</td>\n",
              "      <td>10</td>\n",
              "      <td>17</td>\n",
              "      <td>No</td>\n",
              "    </tr>\n",
              "    <tr>\n",
              "      <td>3</td>\n",
              "      <td>Holmes</td>\n",
              "      <td>B</td>\n",
              "      <td>Y</td>\n",
              "      <td>75</td>\n",
              "      <td>71</td>\n",
              "      <td>No</td>\n",
              "    </tr>\n",
              "    <tr>\n",
              "      <td>4</td>\n",
              "      <td>Marvin</td>\n",
              "      <td>E</td>\n",
              "      <td>N</td>\n",
              "      <td>20</td>\n",
              "      <td>30</td>\n",
              "      <td>No</td>\n",
              "    </tr>\n",
              "    <tr>\n",
              "      <td>5</td>\n",
              "      <td>Simon</td>\n",
              "      <td>A</td>\n",
              "      <td>Y</td>\n",
              "      <td>92</td>\n",
              "      <td>79</td>\n",
              "      <td>Yes</td>\n",
              "    </tr>\n",
              "    <tr>\n",
              "      <td>6</td>\n",
              "      <td>Robert</td>\n",
              "      <td>B</td>\n",
              "      <td>Y</td>\n",
              "      <td>60</td>\n",
              "      <td>59</td>\n",
              "      <td>No</td>\n",
              "    </tr>\n",
              "    <tr>\n",
              "      <td>7</td>\n",
              "      <td>Trent</td>\n",
              "      <td>C</td>\n",
              "      <td>Y</td>\n",
              "      <td>75</td>\n",
              "      <td>33</td>\n",
              "      <td>No</td>\n",
              "    </tr>\n",
              "  </tbody>\n",
              "</table>\n",
              "</div>"
            ],
            "text/plain": [
              "     Name OverallGrade Obedient  ResearchScore  ProjectScore Recommend\n",
              "0   Henry            A        Y             90            85       Yes\n",
              "1    John            C        N             85            51       Yes\n",
              "2   David            F        N             10            17        No\n",
              "3  Holmes            B        Y             75            71        No\n",
              "4  Marvin            E        N             20            30        No\n",
              "5   Simon            A        Y             92            79       Yes\n",
              "6  Robert            B        Y             60            59        No\n",
              "7   Trent            C        Y             75            33        No"
            ]
          },
          "metadata": {
            "tags": []
          },
          "execution_count": 71
        }
      ]
    },
    {
      "cell_type": "code",
      "metadata": {
        "id": "Mq-A8WpazLUV",
        "colab_type": "code",
        "colab": {},
        "outputId": "61f41cd6-5085-4bc9-bba3-14b15c46c657"
      },
      "source": [
        "data[data['ResearchScore'] > 79]"
      ],
      "execution_count": 0,
      "outputs": [
        {
          "output_type": "execute_result",
          "data": {
            "text/html": [
              "<div>\n",
              "<style scoped>\n",
              "    .dataframe tbody tr th:only-of-type {\n",
              "        vertical-align: middle;\n",
              "    }\n",
              "\n",
              "    .dataframe tbody tr th {\n",
              "        vertical-align: top;\n",
              "    }\n",
              "\n",
              "    .dataframe thead th {\n",
              "        text-align: right;\n",
              "    }\n",
              "</style>\n",
              "<table border=\"1\" class=\"dataframe\">\n",
              "  <thead>\n",
              "    <tr style=\"text-align: right;\">\n",
              "      <th></th>\n",
              "      <th>Name</th>\n",
              "      <th>OverallGrade</th>\n",
              "      <th>Obedient</th>\n",
              "      <th>ResearchScore</th>\n",
              "      <th>ProjectScore</th>\n",
              "      <th>Recommend</th>\n",
              "    </tr>\n",
              "  </thead>\n",
              "  <tbody>\n",
              "    <tr>\n",
              "      <td>0</td>\n",
              "      <td>Henry</td>\n",
              "      <td>A</td>\n",
              "      <td>Y</td>\n",
              "      <td>90</td>\n",
              "      <td>85</td>\n",
              "      <td>Yes</td>\n",
              "    </tr>\n",
              "    <tr>\n",
              "      <td>1</td>\n",
              "      <td>John</td>\n",
              "      <td>C</td>\n",
              "      <td>N</td>\n",
              "      <td>85</td>\n",
              "      <td>51</td>\n",
              "      <td>Yes</td>\n",
              "    </tr>\n",
              "    <tr>\n",
              "      <td>5</td>\n",
              "      <td>Simon</td>\n",
              "      <td>A</td>\n",
              "      <td>Y</td>\n",
              "      <td>92</td>\n",
              "      <td>79</td>\n",
              "      <td>Yes</td>\n",
              "    </tr>\n",
              "  </tbody>\n",
              "</table>\n",
              "</div>"
            ],
            "text/plain": [
              "    Name OverallGrade Obedient  ResearchScore  ProjectScore Recommend\n",
              "0  Henry            A        Y             90            85       Yes\n",
              "1   John            C        N             85            51       Yes\n",
              "5  Simon            A        Y             92            79       Yes"
            ]
          },
          "metadata": {
            "tags": []
          },
          "execution_count": 74
        }
      ]
    },
    {
      "cell_type": "code",
      "metadata": {
        "id": "zuODesDPzLUY",
        "colab_type": "code",
        "colab": {},
        "outputId": "7f78ced0-3798-4aa4-a193-b6e8b8cf6dae"
      },
      "source": [
        "_greater_80  = data.where(data.ResearchScore > 79)\n",
        "_greater_80"
      ],
      "execution_count": 0,
      "outputs": [
        {
          "output_type": "execute_result",
          "data": {
            "text/html": [
              "<div>\n",
              "<style scoped>\n",
              "    .dataframe tbody tr th:only-of-type {\n",
              "        vertical-align: middle;\n",
              "    }\n",
              "\n",
              "    .dataframe tbody tr th {\n",
              "        vertical-align: top;\n",
              "    }\n",
              "\n",
              "    .dataframe thead th {\n",
              "        text-align: right;\n",
              "    }\n",
              "</style>\n",
              "<table border=\"1\" class=\"dataframe\">\n",
              "  <thead>\n",
              "    <tr style=\"text-align: right;\">\n",
              "      <th></th>\n",
              "      <th>Name</th>\n",
              "      <th>OverallGrade</th>\n",
              "      <th>Obedient</th>\n",
              "      <th>ResearchScore</th>\n",
              "      <th>ProjectScore</th>\n",
              "      <th>Recommend</th>\n",
              "    </tr>\n",
              "  </thead>\n",
              "  <tbody>\n",
              "    <tr>\n",
              "      <td>0</td>\n",
              "      <td>Henry</td>\n",
              "      <td>A</td>\n",
              "      <td>Y</td>\n",
              "      <td>90.0</td>\n",
              "      <td>85.0</td>\n",
              "      <td>Yes</td>\n",
              "    </tr>\n",
              "    <tr>\n",
              "      <td>1</td>\n",
              "      <td>John</td>\n",
              "      <td>C</td>\n",
              "      <td>N</td>\n",
              "      <td>85.0</td>\n",
              "      <td>51.0</td>\n",
              "      <td>Yes</td>\n",
              "    </tr>\n",
              "    <tr>\n",
              "      <td>2</td>\n",
              "      <td>NaN</td>\n",
              "      <td>NaN</td>\n",
              "      <td>NaN</td>\n",
              "      <td>NaN</td>\n",
              "      <td>NaN</td>\n",
              "      <td>NaN</td>\n",
              "    </tr>\n",
              "    <tr>\n",
              "      <td>3</td>\n",
              "      <td>NaN</td>\n",
              "      <td>NaN</td>\n",
              "      <td>NaN</td>\n",
              "      <td>NaN</td>\n",
              "      <td>NaN</td>\n",
              "      <td>NaN</td>\n",
              "    </tr>\n",
              "    <tr>\n",
              "      <td>4</td>\n",
              "      <td>NaN</td>\n",
              "      <td>NaN</td>\n",
              "      <td>NaN</td>\n",
              "      <td>NaN</td>\n",
              "      <td>NaN</td>\n",
              "      <td>NaN</td>\n",
              "    </tr>\n",
              "    <tr>\n",
              "      <td>5</td>\n",
              "      <td>Simon</td>\n",
              "      <td>A</td>\n",
              "      <td>Y</td>\n",
              "      <td>92.0</td>\n",
              "      <td>79.0</td>\n",
              "      <td>Yes</td>\n",
              "    </tr>\n",
              "    <tr>\n",
              "      <td>6</td>\n",
              "      <td>NaN</td>\n",
              "      <td>NaN</td>\n",
              "      <td>NaN</td>\n",
              "      <td>NaN</td>\n",
              "      <td>NaN</td>\n",
              "      <td>NaN</td>\n",
              "    </tr>\n",
              "    <tr>\n",
              "      <td>7</td>\n",
              "      <td>NaN</td>\n",
              "      <td>NaN</td>\n",
              "      <td>NaN</td>\n",
              "      <td>NaN</td>\n",
              "      <td>NaN</td>\n",
              "      <td>NaN</td>\n",
              "    </tr>\n",
              "  </tbody>\n",
              "</table>\n",
              "</div>"
            ],
            "text/plain": [
              "    Name OverallGrade Obedient  ResearchScore  ProjectScore Recommend\n",
              "0  Henry            A        Y           90.0          85.0       Yes\n",
              "1   John            C        N           85.0          51.0       Yes\n",
              "2    NaN          NaN      NaN            NaN           NaN       NaN\n",
              "3    NaN          NaN      NaN            NaN           NaN       NaN\n",
              "4    NaN          NaN      NaN            NaN           NaN       NaN\n",
              "5  Simon            A        Y           92.0          79.0       Yes\n",
              "6    NaN          NaN      NaN            NaN           NaN       NaN\n",
              "7    NaN          NaN      NaN            NaN           NaN       NaN"
            ]
          },
          "metadata": {
            "tags": []
          },
          "execution_count": 75
        }
      ]
    },
    {
      "cell_type": "markdown",
      "metadata": {
        "id": "4y1ej08wzLUg",
        "colab_type": "text"
      },
      "source": [
        "# Data Operations"
      ]
    },
    {
      "cell_type": "markdown",
      "metadata": {
        "id": "Ct5_nj5NzLUi",
        "colab_type": "raw"
      },
      "source": [
        "Data Operations\n",
        "---------------\n",
        "The pandas dataframe will be our data structure of choice for most data\n",
        "processing and wrangling operations. \n",
        "\n",
        "Hence lets look at some most common data Operations."
      ]
    },
    {
      "cell_type": "code",
      "metadata": {
        "id": "WJqM1SHxzLUj",
        "colab_type": "code",
        "colab": {},
        "outputId": "246e640f-0e38-40ce-da11-d53c5f776583"
      },
      "source": [
        "# creating a dataframe from NumPy array. Also adding column names.\n",
        "df = pd.DataFrame(np.random.randn(8,3),columns=['A', 'B', 'C'])\n",
        "df"
      ],
      "execution_count": 0,
      "outputs": [
        {
          "output_type": "execute_result",
          "data": {
            "text/html": [
              "<div>\n",
              "<style scoped>\n",
              "    .dataframe tbody tr th:only-of-type {\n",
              "        vertical-align: middle;\n",
              "    }\n",
              "\n",
              "    .dataframe tbody tr th {\n",
              "        vertical-align: top;\n",
              "    }\n",
              "\n",
              "    .dataframe thead th {\n",
              "        text-align: right;\n",
              "    }\n",
              "</style>\n",
              "<table border=\"1\" class=\"dataframe\">\n",
              "  <thead>\n",
              "    <tr style=\"text-align: right;\">\n",
              "      <th></th>\n",
              "      <th>A</th>\n",
              "      <th>B</th>\n",
              "      <th>C</th>\n",
              "    </tr>\n",
              "  </thead>\n",
              "  <tbody>\n",
              "    <tr>\n",
              "      <td>0</td>\n",
              "      <td>1.284617</td>\n",
              "      <td>0.287388</td>\n",
              "      <td>0.182762</td>\n",
              "    </tr>\n",
              "    <tr>\n",
              "      <td>1</td>\n",
              "      <td>-0.655718</td>\n",
              "      <td>-1.044126</td>\n",
              "      <td>1.095444</td>\n",
              "    </tr>\n",
              "    <tr>\n",
              "      <td>2</td>\n",
              "      <td>1.255730</td>\n",
              "      <td>-1.822431</td>\n",
              "      <td>-0.394681</td>\n",
              "    </tr>\n",
              "    <tr>\n",
              "      <td>3</td>\n",
              "      <td>-0.462172</td>\n",
              "      <td>-0.516358</td>\n",
              "      <td>0.854182</td>\n",
              "    </tr>\n",
              "    <tr>\n",
              "      <td>4</td>\n",
              "      <td>0.488400</td>\n",
              "      <td>-0.288360</td>\n",
              "      <td>0.716196</td>\n",
              "    </tr>\n",
              "    <tr>\n",
              "      <td>5</td>\n",
              "      <td>-0.827228</td>\n",
              "      <td>0.017311</td>\n",
              "      <td>-0.013777</td>\n",
              "    </tr>\n",
              "    <tr>\n",
              "      <td>6</td>\n",
              "      <td>0.441104</td>\n",
              "      <td>2.067603</td>\n",
              "      <td>-0.796823</td>\n",
              "    </tr>\n",
              "    <tr>\n",
              "      <td>7</td>\n",
              "      <td>-1.082415</td>\n",
              "      <td>-0.249487</td>\n",
              "      <td>0.630423</td>\n",
              "    </tr>\n",
              "  </tbody>\n",
              "</table>\n",
              "</div>"
            ],
            "text/plain": [
              "          A         B         C\n",
              "0  1.284617  0.287388  0.182762\n",
              "1 -0.655718 -1.044126  1.095444\n",
              "2  1.255730 -1.822431 -0.394681\n",
              "3 -0.462172 -0.516358  0.854182\n",
              "4  0.488400 -0.288360  0.716196\n",
              "5 -0.827228  0.017311 -0.013777\n",
              "6  0.441104  2.067603 -0.796823\n",
              "7 -1.082415 -0.249487  0.630423"
            ]
          },
          "metadata": {
            "tags": []
          },
          "execution_count": 88
        }
      ]
    },
    {
      "cell_type": "code",
      "metadata": {
        "id": "iDv2O7qjzLUo",
        "colab_type": "code",
        "colab": {},
        "outputId": "164ceadc-9f3e-4124-d1d9-7c8321e33d10"
      },
      "source": [
        "# we can extract all values from the data frame and get a np array. \n",
        "nparray = df.values\n",
        "print(type(nparray))\n",
        "print(nparray)"
      ],
      "execution_count": 0,
      "outputs": [
        {
          "output_type": "stream",
          "text": [
            "<class 'numpy.ndarray'>\n",
            "[[-0.92155889  0.23325035  0.08320728]\n",
            " [-0.44043599 -0.84780274 -1.23021559]\n",
            " [-0.40332846  0.26030774  0.6726008 ]\n",
            " [-0.56453507  1.0922182   0.00408954]\n",
            " [-1.75911716 -0.70283644  0.10297385]\n",
            " [-0.83939998  0.48219343  0.64833252]\n",
            " [ 0.62382478  0.09636796 -0.26564996]\n",
            " [-0.26392261 -1.64738304  0.32003693]]\n"
          ],
          "name": "stdout"
        }
      ]
    },
    {
      "cell_type": "markdown",
      "metadata": {
        "id": "6N-FuxIfzLUr",
        "colab_type": "raw"
      },
      "source": [
        "Missing Data and the fillna Function\n",
        "------------------------------------\n",
        "In real-world datasets, the data is seldom clean and polished. \n",
        "\n",
        "We usually will have a lot of issues with data quality (missing values, wrong values and so on). \n",
        "\n",
        "One of the most common data quality issues is that of missing data. \n",
        "\n",
        "Pandas provides us with a convenient function that allows us to handle the missing values of a dataframe."
      ]
    },
    {
      "cell_type": "code",
      "metadata": {
        "id": "1t0OaGytzLUs",
        "colab_type": "code",
        "colab": {},
        "outputId": "41bf207c-7ded-4a7d-f434-429d55a94cd7"
      },
      "source": [
        "df"
      ],
      "execution_count": 0,
      "outputs": [
        {
          "output_type": "execute_result",
          "data": {
            "text/html": [
              "<div>\n",
              "<style scoped>\n",
              "    .dataframe tbody tr th:only-of-type {\n",
              "        vertical-align: middle;\n",
              "    }\n",
              "\n",
              "    .dataframe tbody tr th {\n",
              "        vertical-align: top;\n",
              "    }\n",
              "\n",
              "    .dataframe thead th {\n",
              "        text-align: right;\n",
              "    }\n",
              "</style>\n",
              "<table border=\"1\" class=\"dataframe\">\n",
              "  <thead>\n",
              "    <tr style=\"text-align: right;\">\n",
              "      <th></th>\n",
              "      <th>A</th>\n",
              "      <th>B</th>\n",
              "      <th>C</th>\n",
              "    </tr>\n",
              "  </thead>\n",
              "  <tbody>\n",
              "    <tr>\n",
              "      <td>0</td>\n",
              "      <td>1.284617</td>\n",
              "      <td>0.287388</td>\n",
              "      <td>0.182762</td>\n",
              "    </tr>\n",
              "    <tr>\n",
              "      <td>1</td>\n",
              "      <td>-0.655718</td>\n",
              "      <td>-1.044126</td>\n",
              "      <td>1.095444</td>\n",
              "    </tr>\n",
              "    <tr>\n",
              "      <td>2</td>\n",
              "      <td>1.255730</td>\n",
              "      <td>-1.822431</td>\n",
              "      <td>-0.394681</td>\n",
              "    </tr>\n",
              "    <tr>\n",
              "      <td>3</td>\n",
              "      <td>-0.462172</td>\n",
              "      <td>-0.516358</td>\n",
              "      <td>0.854182</td>\n",
              "    </tr>\n",
              "    <tr>\n",
              "      <td>4</td>\n",
              "      <td>0.488400</td>\n",
              "      <td>-0.288360</td>\n",
              "      <td>0.716196</td>\n",
              "    </tr>\n",
              "    <tr>\n",
              "      <td>5</td>\n",
              "      <td>-0.827228</td>\n",
              "      <td>0.017311</td>\n",
              "      <td>-0.013777</td>\n",
              "    </tr>\n",
              "    <tr>\n",
              "      <td>6</td>\n",
              "      <td>0.441104</td>\n",
              "      <td>2.067603</td>\n",
              "      <td>-0.796823</td>\n",
              "    </tr>\n",
              "    <tr>\n",
              "      <td>7</td>\n",
              "      <td>-1.082415</td>\n",
              "      <td>-0.249487</td>\n",
              "      <td>0.630423</td>\n",
              "    </tr>\n",
              "  </tbody>\n",
              "</table>\n",
              "</div>"
            ],
            "text/plain": [
              "          A         B         C\n",
              "0  1.284617  0.287388  0.182762\n",
              "1 -0.655718 -1.044126  1.095444\n",
              "2  1.255730 -1.822431 -0.394681\n",
              "3 -0.462172 -0.516358  0.854182\n",
              "4  0.488400 -0.288360  0.716196\n",
              "5 -0.827228  0.017311 -0.013777\n",
              "6  0.441104  2.067603 -0.796823\n",
              "7 -1.082415 -0.249487  0.630423"
            ]
          },
          "metadata": {
            "tags": []
          },
          "execution_count": 89
        }
      ]
    },
    {
      "cell_type": "code",
      "metadata": {
        "id": "8M79jsiNzLUx",
        "colab_type": "code",
        "colab": {},
        "outputId": "4bf7e2aa-3132-414a-c614-de74ac25a443"
      },
      "source": [
        "# make the element 4,2 as NaN\n",
        "from numpy import nan\n",
        "# [38]\n",
        "df.iloc[4,2]=nan\n",
        "df.iloc[3,1]=nan\n",
        "df.iloc[1,0]=nan\n",
        "print(df)"
      ],
      "execution_count": 0,
      "outputs": [
        {
          "output_type": "stream",
          "text": [
            "          A         B         C\n",
            "0  1.284617  0.287388  0.182762\n",
            "1       NaN -1.044126  1.095444\n",
            "2  1.255730 -1.822431 -0.394681\n",
            "3 -0.462172       NaN  0.854182\n",
            "4  0.488400 -0.288360       NaN\n",
            "5 -0.827228  0.017311 -0.013777\n",
            "6  0.441104  2.067603 -0.796823\n",
            "7 -1.082415 -0.249487  0.630423\n"
          ],
          "name": "stdout"
        }
      ]
    },
    {
      "cell_type": "code",
      "metadata": {
        "id": "sQwRvrMZzLUz",
        "colab_type": "code",
        "colab": {},
        "outputId": "057806cd-1b70-415f-d6c7-21ee93ff8546"
      },
      "source": [
        "# [39]\n",
        "df.fillna(0)"
      ],
      "execution_count": 0,
      "outputs": [
        {
          "output_type": "execute_result",
          "data": {
            "text/html": [
              "<div>\n",
              "<style scoped>\n",
              "    .dataframe tbody tr th:only-of-type {\n",
              "        vertical-align: middle;\n",
              "    }\n",
              "\n",
              "    .dataframe tbody tr th {\n",
              "        vertical-align: top;\n",
              "    }\n",
              "\n",
              "    .dataframe thead th {\n",
              "        text-align: right;\n",
              "    }\n",
              "</style>\n",
              "<table border=\"1\" class=\"dataframe\">\n",
              "  <thead>\n",
              "    <tr style=\"text-align: right;\">\n",
              "      <th></th>\n",
              "      <th>A</th>\n",
              "      <th>B</th>\n",
              "      <th>C</th>\n",
              "    </tr>\n",
              "  </thead>\n",
              "  <tbody>\n",
              "    <tr>\n",
              "      <td>0</td>\n",
              "      <td>1.284617</td>\n",
              "      <td>0.287388</td>\n",
              "      <td>0.182762</td>\n",
              "    </tr>\n",
              "    <tr>\n",
              "      <td>1</td>\n",
              "      <td>0.000000</td>\n",
              "      <td>-1.044126</td>\n",
              "      <td>1.095444</td>\n",
              "    </tr>\n",
              "    <tr>\n",
              "      <td>2</td>\n",
              "      <td>1.255730</td>\n",
              "      <td>-1.822431</td>\n",
              "      <td>-0.394681</td>\n",
              "    </tr>\n",
              "    <tr>\n",
              "      <td>3</td>\n",
              "      <td>-0.462172</td>\n",
              "      <td>0.000000</td>\n",
              "      <td>0.854182</td>\n",
              "    </tr>\n",
              "    <tr>\n",
              "      <td>4</td>\n",
              "      <td>0.488400</td>\n",
              "      <td>-0.288360</td>\n",
              "      <td>0.000000</td>\n",
              "    </tr>\n",
              "    <tr>\n",
              "      <td>5</td>\n",
              "      <td>-0.827228</td>\n",
              "      <td>0.017311</td>\n",
              "      <td>-0.013777</td>\n",
              "    </tr>\n",
              "    <tr>\n",
              "      <td>6</td>\n",
              "      <td>0.441104</td>\n",
              "      <td>2.067603</td>\n",
              "      <td>-0.796823</td>\n",
              "    </tr>\n",
              "    <tr>\n",
              "      <td>7</td>\n",
              "      <td>-1.082415</td>\n",
              "      <td>-0.249487</td>\n",
              "      <td>0.630423</td>\n",
              "    </tr>\n",
              "  </tbody>\n",
              "</table>\n",
              "</div>"
            ],
            "text/plain": [
              "          A         B         C\n",
              "0  1.284617  0.287388  0.182762\n",
              "1  0.000000 -1.044126  1.095444\n",
              "2  1.255730 -1.822431 -0.394681\n",
              "3 -0.462172  0.000000  0.854182\n",
              "4  0.488400 -0.288360  0.000000\n",
              "5 -0.827228  0.017311 -0.013777\n",
              "6  0.441104  2.067603 -0.796823\n",
              "7 -1.082415 -0.249487  0.630423"
            ]
          },
          "metadata": {
            "tags": []
          },
          "execution_count": 97
        }
      ]
    },
    {
      "cell_type": "code",
      "metadata": {
        "id": "jrdP2es5zLU2",
        "colab_type": "code",
        "colab": {},
        "outputId": "70d77db6-672a-412f-decf-423c8b3350ce"
      },
      "source": [
        "import numpy as np\n",
        "import pandas as pd\n",
        "\n",
        "vals1 = np.array([1, None, 3, 4])\n",
        "vals1"
      ],
      "execution_count": 0,
      "outputs": [
        {
          "output_type": "execute_result",
          "data": {
            "text/plain": [
              "array([1, None, 3, 4], dtype=object)"
            ]
          },
          "metadata": {
            "tags": []
          },
          "execution_count": 98
        }
      ]
    },
    {
      "cell_type": "code",
      "metadata": {
        "id": "QuXmpAhJzLU5",
        "colab_type": "code",
        "colab": {},
        "outputId": "06a930a9-985c-42f7-8808-27b464abc8e3"
      },
      "source": [
        "1 + np.nan  "
      ],
      "execution_count": 0,
      "outputs": [
        {
          "output_type": "execute_result",
          "data": {
            "text/plain": [
              "nan"
            ]
          },
          "metadata": {
            "tags": []
          },
          "execution_count": 99
        }
      ]
    },
    {
      "cell_type": "markdown",
      "metadata": {
        "id": "-A3IJJ5yzLU9",
        "colab_type": "text"
      },
      "source": [
        "NaN and None in Pandas\n",
        "----------------------\n",
        "NaN and None both have their place, and Pandas is built to handle the two of them nearly interchangeably, converting between them where appropriate.\n",
        "\n",
        "NaN can be used as a numerical value on mathematical operations, while None cannot (or at least shouldn't).\n",
        "\n",
        "NaN is a numeric value, as defined in IEEE 754 floating-point standard. None is an internal Python type (NoneType) and would be more like \"inexistent\" or \"empty\" than \"numerically invalid\" in this context.\n",
        "\n",
        "The main \"symptom\" of that is that, if you perform, say, an average or a sum on an array containing NaN, even a single one, you get NaN as a result...\n",
        "\n",
        "In the other hand, you cannot perform mathematical operations using None as operand.\n",
        "\n",
        "So, depending on the case, you could use None as a way to tell your algorithm not to consider invalid or inexistent values on computations. That would mean the algorithm should test each value to see if it is None."
      ]
    },
    {
      "cell_type": "code",
      "metadata": {
        "id": "IxaoL4ylzLU9",
        "colab_type": "code",
        "colab": {},
        "outputId": "93c8c2b0-866f-460c-ed4c-e78f17a9a177"
      },
      "source": [
        "# [42]\n",
        "pd.Series( [1, np.nan, 2, None] )"
      ],
      "execution_count": 0,
      "outputs": [
        {
          "output_type": "execute_result",
          "data": {
            "text/plain": [
              "0    1.0\n",
              "1    NaN\n",
              "2    2.0\n",
              "3    NaN\n",
              "dtype: float64"
            ]
          },
          "metadata": {
            "tags": []
          },
          "execution_count": 100
        }
      ]
    },
    {
      "cell_type": "markdown",
      "metadata": {
        "id": "UbQwvVA3zLVE",
        "colab_type": "raw"
      },
      "source": [
        "For types that don’t have an available sentinel value, Pandas automatically type-casts when NA values are present. For example, if we set a value in an integer array to np.nan, it will automatically be upcast to a floating-point type to accommodate the NA:"
      ]
    },
    {
      "cell_type": "code",
      "metadata": {
        "id": "dtZuUqLazLVF",
        "colab_type": "code",
        "colab": {},
        "outputId": "e8e33554-eedb-4da6-c522-962ae0d7b680"
      },
      "source": [
        "x = pd.Series(range(2), dtype=int)\n",
        "print(x)\n",
        "\n",
        "\n",
        "print(\"--------------\")\n",
        "x[0] = None\n",
        "print(x)\n",
        "#Note: nan dataype is float64"
      ],
      "execution_count": 0,
      "outputs": [
        {
          "output_type": "stream",
          "text": [
            "0    0\n",
            "1    1\n",
            "dtype: int32\n",
            "--------------\n",
            "0    NaN\n",
            "1    1.0\n",
            "dtype: float64\n"
          ],
          "name": "stdout"
        }
      ]
    },
    {
      "cell_type": "markdown",
      "metadata": {
        "id": "8DIuREZWzLVM",
        "colab_type": "text"
      },
      "source": [
        "# Descriptive Statistics Functions"
      ]
    },
    {
      "cell_type": "markdown",
      "metadata": {
        "id": "ZLeKO4-BzLVN",
        "colab_type": "raw"
      },
      "source": [
        "Descriptive Statistics Functions\n",
        "--------------------------------\n",
        "A general practice of dealing with datasets is to know as much about them as possible. \n",
        "\n",
        "Descriptive statistics of a dataframe give data scientists a comprehensive look into important information about any attributes and features in the dataset. \n",
        "\n",
        "Pandas packs a bunch of functions, which facilitate easy access to these statistics."
      ]
    },
    {
      "cell_type": "code",
      "metadata": {
        "id": "Q2Bs7XizzLVO",
        "colab_type": "code",
        "colab": {},
        "outputId": "799853b9-6383-4a2d-c779-b73167856174"
      },
      "source": [
        "data"
      ],
      "execution_count": 0,
      "outputs": [
        {
          "output_type": "execute_result",
          "data": {
            "text/html": [
              "<div>\n",
              "<style scoped>\n",
              "    .dataframe tbody tr th:only-of-type {\n",
              "        vertical-align: middle;\n",
              "    }\n",
              "\n",
              "    .dataframe tbody tr th {\n",
              "        vertical-align: top;\n",
              "    }\n",
              "\n",
              "    .dataframe thead th {\n",
              "        text-align: right;\n",
              "    }\n",
              "</style>\n",
              "<table border=\"1\" class=\"dataframe\">\n",
              "  <thead>\n",
              "    <tr style=\"text-align: right;\">\n",
              "      <th></th>\n",
              "      <th>Name</th>\n",
              "      <th>OverallGrade</th>\n",
              "      <th>Obedient</th>\n",
              "      <th>ResearchScore</th>\n",
              "      <th>ProjectScore</th>\n",
              "      <th>Recommend</th>\n",
              "    </tr>\n",
              "  </thead>\n",
              "  <tbody>\n",
              "    <tr>\n",
              "      <td>0</td>\n",
              "      <td>Henry</td>\n",
              "      <td>A</td>\n",
              "      <td>Y</td>\n",
              "      <td>90</td>\n",
              "      <td>85</td>\n",
              "      <td>Yes</td>\n",
              "    </tr>\n",
              "    <tr>\n",
              "      <td>1</td>\n",
              "      <td>John</td>\n",
              "      <td>C</td>\n",
              "      <td>N</td>\n",
              "      <td>85</td>\n",
              "      <td>51</td>\n",
              "      <td>Yes</td>\n",
              "    </tr>\n",
              "    <tr>\n",
              "      <td>2</td>\n",
              "      <td>David</td>\n",
              "      <td>F</td>\n",
              "      <td>N</td>\n",
              "      <td>10</td>\n",
              "      <td>17</td>\n",
              "      <td>No</td>\n",
              "    </tr>\n",
              "    <tr>\n",
              "      <td>3</td>\n",
              "      <td>Holmes</td>\n",
              "      <td>B</td>\n",
              "      <td>Y</td>\n",
              "      <td>75</td>\n",
              "      <td>71</td>\n",
              "      <td>No</td>\n",
              "    </tr>\n",
              "    <tr>\n",
              "      <td>4</td>\n",
              "      <td>Marvin</td>\n",
              "      <td>E</td>\n",
              "      <td>N</td>\n",
              "      <td>20</td>\n",
              "      <td>30</td>\n",
              "      <td>No</td>\n",
              "    </tr>\n",
              "    <tr>\n",
              "      <td>5</td>\n",
              "      <td>Simon</td>\n",
              "      <td>A</td>\n",
              "      <td>Y</td>\n",
              "      <td>92</td>\n",
              "      <td>79</td>\n",
              "      <td>Yes</td>\n",
              "    </tr>\n",
              "    <tr>\n",
              "      <td>6</td>\n",
              "      <td>Robert</td>\n",
              "      <td>B</td>\n",
              "      <td>Y</td>\n",
              "      <td>60</td>\n",
              "      <td>59</td>\n",
              "      <td>No</td>\n",
              "    </tr>\n",
              "    <tr>\n",
              "      <td>7</td>\n",
              "      <td>Trent</td>\n",
              "      <td>C</td>\n",
              "      <td>Y</td>\n",
              "      <td>75</td>\n",
              "      <td>33</td>\n",
              "      <td>No</td>\n",
              "    </tr>\n",
              "  </tbody>\n",
              "</table>\n",
              "</div>"
            ],
            "text/plain": [
              "     Name OverallGrade Obedient  ResearchScore  ProjectScore Recommend\n",
              "0   Henry            A        Y             90            85       Yes\n",
              "1    John            C        N             85            51       Yes\n",
              "2   David            F        N             10            17        No\n",
              "3  Holmes            B        Y             75            71        No\n",
              "4  Marvin            E        N             20            30        No\n",
              "5   Simon            A        Y             92            79       Yes\n",
              "6  Robert            B        Y             60            59        No\n",
              "7   Trent            C        Y             75            33        No"
            ]
          },
          "metadata": {
            "tags": []
          },
          "execution_count": 102
        }
      ]
    },
    {
      "cell_type": "code",
      "metadata": {
        "id": "AIgi6s0xzLVU",
        "colab_type": "code",
        "colab": {},
        "outputId": "acdfe177-93d8-4f8b-d3ec-df21d49b820c"
      },
      "source": [
        "# [43]\n",
        "columns_numeric = ['ResearchScore','ProjectScore']\n",
        "data[columns_numeric].mean()"
      ],
      "execution_count": 0,
      "outputs": [
        {
          "output_type": "execute_result",
          "data": {
            "text/plain": [
              "ResearchScore    63.375\n",
              "ProjectScore     53.125\n",
              "dtype: float64"
            ]
          },
          "metadata": {
            "tags": []
          },
          "execution_count": 108
        }
      ]
    },
    {
      "cell_type": "code",
      "metadata": {
        "id": "Iw6a0MFDzLVb",
        "colab_type": "code",
        "colab": {},
        "outputId": "639f648b-3558-4753-e5a9-3e18566277fc"
      },
      "source": [
        "data[columns_numeric].sum()"
      ],
      "execution_count": 0,
      "outputs": [
        {
          "output_type": "execute_result",
          "data": {
            "text/plain": [
              "ResearchScore    507\n",
              "ProjectScore     425\n",
              "dtype: int64"
            ]
          },
          "metadata": {
            "tags": []
          },
          "execution_count": 109
        }
      ]
    },
    {
      "cell_type": "code",
      "metadata": {
        "id": "QIUCzdG4zLVe",
        "colab_type": "code",
        "colab": {},
        "outputId": "cca9a7c1-277a-463f-900f-b479ab37b12f"
      },
      "source": [
        "data[columns_numeric].count() "
      ],
      "execution_count": 0,
      "outputs": [
        {
          "output_type": "execute_result",
          "data": {
            "text/plain": [
              "ResearchScore    8\n",
              "ProjectScore     8\n",
              "dtype: int64"
            ]
          },
          "metadata": {
            "tags": []
          },
          "execution_count": 110
        }
      ]
    },
    {
      "cell_type": "code",
      "metadata": {
        "id": "9eFTSetUzLVk",
        "colab_type": "code",
        "colab": {},
        "outputId": "373c9c2f-a820-4761-86ed-19e9b739eb06"
      },
      "source": [
        "data[columns_numeric].median()"
      ],
      "execution_count": 0,
      "outputs": [
        {
          "output_type": "execute_result",
          "data": {
            "text/plain": [
              "ResearchScore    75.0\n",
              "ProjectScore     55.0\n",
              "dtype: float64"
            ]
          },
          "metadata": {
            "tags": []
          },
          "execution_count": 111
        }
      ]
    },
    {
      "cell_type": "code",
      "metadata": {
        "id": "nhjUtwvazLVp",
        "colab_type": "code",
        "colab": {},
        "outputId": "56553e45-c2d6-4883-8e3f-16b78221f56c"
      },
      "source": [
        "data[columns_numeric].quantile(0.8)  "
      ],
      "execution_count": 0,
      "outputs": [
        {
          "output_type": "execute_result",
          "data": {
            "text/plain": [
              "ResearchScore    88.0\n",
              "ProjectScore     75.8\n",
              "Name: 0.8, dtype: float64"
            ]
          },
          "metadata": {
            "tags": []
          },
          "execution_count": 112
        }
      ]
    },
    {
      "cell_type": "markdown",
      "metadata": {
        "id": "VJGnzGL_zLVt",
        "colab_type": "raw"
      },
      "source": [
        "All these basic stats operations were applied to each of the columns, the default behavior. ( i.e axis = 0 )\n",
        "\n",
        "We can also get all these statistics for each row by using a different axis.\n",
        " ( specify axis = 1 )"
      ]
    },
    {
      "cell_type": "code",
      "metadata": {
        "id": "SYZfljkBzLVu",
        "colab_type": "code",
        "colab": {},
        "outputId": "5052d087-e67c-44a9-d2d8-93b38b66587c"
      },
      "source": [
        "data[columns_numeric]"
      ],
      "execution_count": 0,
      "outputs": [
        {
          "output_type": "execute_result",
          "data": {
            "text/html": [
              "<div>\n",
              "<style scoped>\n",
              "    .dataframe tbody tr th:only-of-type {\n",
              "        vertical-align: middle;\n",
              "    }\n",
              "\n",
              "    .dataframe tbody tr th {\n",
              "        vertical-align: top;\n",
              "    }\n",
              "\n",
              "    .dataframe thead th {\n",
              "        text-align: right;\n",
              "    }\n",
              "</style>\n",
              "<table border=\"1\" class=\"dataframe\">\n",
              "  <thead>\n",
              "    <tr style=\"text-align: right;\">\n",
              "      <th></th>\n",
              "      <th>ResearchScore</th>\n",
              "      <th>ProjectScore</th>\n",
              "    </tr>\n",
              "  </thead>\n",
              "  <tbody>\n",
              "    <tr>\n",
              "      <td>0</td>\n",
              "      <td>90</td>\n",
              "      <td>85</td>\n",
              "    </tr>\n",
              "    <tr>\n",
              "      <td>1</td>\n",
              "      <td>85</td>\n",
              "      <td>51</td>\n",
              "    </tr>\n",
              "    <tr>\n",
              "      <td>2</td>\n",
              "      <td>10</td>\n",
              "      <td>17</td>\n",
              "    </tr>\n",
              "    <tr>\n",
              "      <td>3</td>\n",
              "      <td>75</td>\n",
              "      <td>71</td>\n",
              "    </tr>\n",
              "    <tr>\n",
              "      <td>4</td>\n",
              "      <td>20</td>\n",
              "      <td>30</td>\n",
              "    </tr>\n",
              "    <tr>\n",
              "      <td>5</td>\n",
              "      <td>92</td>\n",
              "      <td>79</td>\n",
              "    </tr>\n",
              "    <tr>\n",
              "      <td>6</td>\n",
              "      <td>60</td>\n",
              "      <td>59</td>\n",
              "    </tr>\n",
              "    <tr>\n",
              "      <td>7</td>\n",
              "      <td>75</td>\n",
              "      <td>33</td>\n",
              "    </tr>\n",
              "  </tbody>\n",
              "</table>\n",
              "</div>"
            ],
            "text/plain": [
              "   ResearchScore  ProjectScore\n",
              "0             90            85\n",
              "1             85            51\n",
              "2             10            17\n",
              "3             75            71\n",
              "4             20            30\n",
              "5             92            79\n",
              "6             60            59\n",
              "7             75            33"
            ]
          },
          "metadata": {
            "tags": []
          },
          "execution_count": 113
        }
      ]
    },
    {
      "cell_type": "code",
      "metadata": {
        "id": "aCMFPjI2zLVx",
        "colab_type": "code",
        "colab": {},
        "outputId": "cd895c81-c2dd-4161-be4f-81a81a768a0e"
      },
      "source": [
        "data[columns_numeric].sum(axis = 1)  # adds ResearchScore and Project Score"
      ],
      "execution_count": 0,
      "outputs": [
        {
          "output_type": "execute_result",
          "data": {
            "text/plain": [
              "0    175\n",
              "1    136\n",
              "2     27\n",
              "3    146\n",
              "4     50\n",
              "5    171\n",
              "6    119\n",
              "7    108\n",
              "dtype: int64"
            ]
          },
          "metadata": {
            "tags": []
          },
          "execution_count": 114
        }
      ]
    },
    {
      "cell_type": "code",
      "metadata": {
        "id": "iT94T6CvzLV1",
        "colab_type": "code",
        "colab": {}
      },
      "source": [
        "data[columns_numeric].describe()"
      ],
      "execution_count": 0,
      "outputs": []
    },
    {
      "cell_type": "markdown",
      "metadata": {
        "id": "Ze2c_XD9zLV4",
        "colab_type": "text"
      },
      "source": [
        "# Concatenating Dataframes"
      ]
    },
    {
      "cell_type": "markdown",
      "metadata": {
        "id": "v3u0VQvLzLV5",
        "colab_type": "raw"
      },
      "source": [
        "Concatenating Using the concat Method\n",
        "-------------------------------------\n",
        "Most Data Science projects will have data from more than one data source. \n",
        "\n",
        "These data sources will mostly have data that’s related in some way to each other and data analysis will require them to be concatenated or joined. \n",
        "\n",
        "Pandas provides a rich set of functions that allow us to merge different\n",
        "data sources."
      ]
    },
    {
      "cell_type": "code",
      "metadata": {
        "id": "e_FE3Zp_zLV6",
        "colab_type": "code",
        "colab": {},
        "outputId": "711c33fe-6f06-4b09-e2c8-318cf02fd73e"
      },
      "source": [
        "## Let’s look at some examples to understand how the concat method works.\n",
        "\n",
        "data1 = data.sample(3)  # random subset of main data frame\n",
        "data2 = data.sample(3)\n",
        "print(data1,\"\\n\")\n",
        "print(data2)\n",
        "\n",
        "### Concatanating data frames\n",
        "data_combine = pd.concat([data1,data2])\n",
        "data_combine"
      ],
      "execution_count": 0,
      "outputs": [
        {
          "output_type": "stream",
          "text": [
            "     Name OverallGrade Obedient  ResearchScore  ProjectScore Recommend\n",
            "7   Trent            C        Y             75            33        No\n",
            "5   Simon            A        Y             92            79       Yes\n",
            "6  Robert            B        Y             60            59        No \n",
            "\n",
            "     Name OverallGrade Obedient  ResearchScore  ProjectScore Recommend\n",
            "3  Holmes            B        Y             75            71        No\n",
            "2   David            F        N             10            17        No\n",
            "1    John            C        N             85            51       Yes\n"
          ],
          "name": "stdout"
        },
        {
          "output_type": "execute_result",
          "data": {
            "text/html": [
              "<div>\n",
              "<style scoped>\n",
              "    .dataframe tbody tr th:only-of-type {\n",
              "        vertical-align: middle;\n",
              "    }\n",
              "\n",
              "    .dataframe tbody tr th {\n",
              "        vertical-align: top;\n",
              "    }\n",
              "\n",
              "    .dataframe thead th {\n",
              "        text-align: right;\n",
              "    }\n",
              "</style>\n",
              "<table border=\"1\" class=\"dataframe\">\n",
              "  <thead>\n",
              "    <tr style=\"text-align: right;\">\n",
              "      <th></th>\n",
              "      <th>Name</th>\n",
              "      <th>OverallGrade</th>\n",
              "      <th>Obedient</th>\n",
              "      <th>ResearchScore</th>\n",
              "      <th>ProjectScore</th>\n",
              "      <th>Recommend</th>\n",
              "    </tr>\n",
              "  </thead>\n",
              "  <tbody>\n",
              "    <tr>\n",
              "      <td>7</td>\n",
              "      <td>Trent</td>\n",
              "      <td>C</td>\n",
              "      <td>Y</td>\n",
              "      <td>75</td>\n",
              "      <td>33</td>\n",
              "      <td>No</td>\n",
              "    </tr>\n",
              "    <tr>\n",
              "      <td>5</td>\n",
              "      <td>Simon</td>\n",
              "      <td>A</td>\n",
              "      <td>Y</td>\n",
              "      <td>92</td>\n",
              "      <td>79</td>\n",
              "      <td>Yes</td>\n",
              "    </tr>\n",
              "    <tr>\n",
              "      <td>6</td>\n",
              "      <td>Robert</td>\n",
              "      <td>B</td>\n",
              "      <td>Y</td>\n",
              "      <td>60</td>\n",
              "      <td>59</td>\n",
              "      <td>No</td>\n",
              "    </tr>\n",
              "    <tr>\n",
              "      <td>3</td>\n",
              "      <td>Holmes</td>\n",
              "      <td>B</td>\n",
              "      <td>Y</td>\n",
              "      <td>75</td>\n",
              "      <td>71</td>\n",
              "      <td>No</td>\n",
              "    </tr>\n",
              "    <tr>\n",
              "      <td>2</td>\n",
              "      <td>David</td>\n",
              "      <td>F</td>\n",
              "      <td>N</td>\n",
              "      <td>10</td>\n",
              "      <td>17</td>\n",
              "      <td>No</td>\n",
              "    </tr>\n",
              "    <tr>\n",
              "      <td>1</td>\n",
              "      <td>John</td>\n",
              "      <td>C</td>\n",
              "      <td>N</td>\n",
              "      <td>85</td>\n",
              "      <td>51</td>\n",
              "      <td>Yes</td>\n",
              "    </tr>\n",
              "  </tbody>\n",
              "</table>\n",
              "</div>"
            ],
            "text/plain": [
              "     Name OverallGrade Obedient  ResearchScore  ProjectScore Recommend\n",
              "7   Trent            C        Y             75            33        No\n",
              "5   Simon            A        Y             92            79       Yes\n",
              "6  Robert            B        Y             60            59        No\n",
              "3  Holmes            B        Y             75            71        No\n",
              "2   David            F        N             10            17        No\n",
              "1    John            C        N             85            51       Yes"
            ]
          },
          "metadata": {
            "tags": []
          },
          "execution_count": 116
        }
      ]
    },
    {
      "cell_type": "code",
      "metadata": {
        "id": "VnsmBiIGzLV8",
        "colab_type": "code",
        "colab": {},
        "outputId": "4b4ff724-e71d-409d-c7ca-344077ab196e"
      },
      "source": [
        "# Another common scenario of concatenating is when we have information \n",
        "# about the columns of same dataframe split across different dataframes. \n",
        "\n",
        "# Then we can use the concat method again to combine all the dataframes. \n",
        "\n",
        "### Consider the following example.\n",
        "\n",
        "## we are making a new dataframe\n",
        "df1 = pd.DataFrame({'col1': ['col10', 'col11', 'col12', 'col13'],\n",
        "                    'col2': ['col20', 'col21', 'col22', 'col23'],\n",
        "                    'col3': ['col30', 'col31', 'col32', 'col33'],\n",
        "                    'col4': ['col40', 'col41', 'col42', 'col43']},\n",
        "                   index=[0, 1, 2, 3])\n",
        "df1"
      ],
      "execution_count": 0,
      "outputs": [
        {
          "output_type": "execute_result",
          "data": {
            "text/html": [
              "<div>\n",
              "<style scoped>\n",
              "    .dataframe tbody tr th:only-of-type {\n",
              "        vertical-align: middle;\n",
              "    }\n",
              "\n",
              "    .dataframe tbody tr th {\n",
              "        vertical-align: top;\n",
              "    }\n",
              "\n",
              "    .dataframe thead th {\n",
              "        text-align: right;\n",
              "    }\n",
              "</style>\n",
              "<table border=\"1\" class=\"dataframe\">\n",
              "  <thead>\n",
              "    <tr style=\"text-align: right;\">\n",
              "      <th></th>\n",
              "      <th>col1</th>\n",
              "      <th>col2</th>\n",
              "      <th>col3</th>\n",
              "      <th>col4</th>\n",
              "    </tr>\n",
              "  </thead>\n",
              "  <tbody>\n",
              "    <tr>\n",
              "      <td>0</td>\n",
              "      <td>col10</td>\n",
              "      <td>col20</td>\n",
              "      <td>col30</td>\n",
              "      <td>col40</td>\n",
              "    </tr>\n",
              "    <tr>\n",
              "      <td>1</td>\n",
              "      <td>col11</td>\n",
              "      <td>col21</td>\n",
              "      <td>col31</td>\n",
              "      <td>col41</td>\n",
              "    </tr>\n",
              "    <tr>\n",
              "      <td>2</td>\n",
              "      <td>col12</td>\n",
              "      <td>col22</td>\n",
              "      <td>col32</td>\n",
              "      <td>col42</td>\n",
              "    </tr>\n",
              "    <tr>\n",
              "      <td>3</td>\n",
              "      <td>col13</td>\n",
              "      <td>col23</td>\n",
              "      <td>col33</td>\n",
              "      <td>col43</td>\n",
              "    </tr>\n",
              "  </tbody>\n",
              "</table>\n",
              "</div>"
            ],
            "text/plain": [
              "    col1   col2   col3   col4\n",
              "0  col10  col20  col30  col40\n",
              "1  col11  col21  col31  col41\n",
              "2  col12  col22  col32  col42\n",
              "3  col13  col23  col33  col43"
            ]
          },
          "metadata": {
            "tags": []
          },
          "execution_count": 117
        }
      ]
    },
    {
      "cell_type": "code",
      "metadata": {
        "id": "3pQpi6UxzLV-",
        "colab_type": "code",
        "colab": {},
        "outputId": "bc138885-e705-46bf-8464-1fbfd58625fd"
      },
      "source": [
        "# making another data frame\n",
        "df4 = pd.DataFrame({'col2': ['col22', 'col23', 'col26', 'col27'],\n",
        "                    'Col4': ['Col42', 'Col43', 'Col46', 'Col47'],\n",
        "                    'col6': ['col62', 'col63', 'col66', 'col67']},\n",
        "                   index=[2, 3, 6, 7])\n",
        "print(df4)"
      ],
      "execution_count": 0,
      "outputs": [
        {
          "output_type": "stream",
          "text": [
            "    col2   Col4   col6\n",
            "2  col22  Col42  col62\n",
            "3  col23  Col43  col63\n",
            "6  col26  Col46  col66\n",
            "7  col27  Col47  col67\n"
          ],
          "name": "stdout"
        }
      ]
    },
    {
      "cell_type": "code",
      "metadata": {
        "id": "3P7xTcqozLWC",
        "colab_type": "code",
        "colab": {},
        "outputId": "e14330a7-68b4-48e0-e3a0-98f7261a50e2"
      },
      "source": [
        "# [54]\n",
        "pd.concat([df1,df4], axis=1)"
      ],
      "execution_count": 0,
      "outputs": [
        {
          "output_type": "execute_result",
          "data": {
            "text/html": [
              "<div>\n",
              "<style scoped>\n",
              "    .dataframe tbody tr th:only-of-type {\n",
              "        vertical-align: middle;\n",
              "    }\n",
              "\n",
              "    .dataframe tbody tr th {\n",
              "        vertical-align: top;\n",
              "    }\n",
              "\n",
              "    .dataframe thead th {\n",
              "        text-align: right;\n",
              "    }\n",
              "</style>\n",
              "<table border=\"1\" class=\"dataframe\">\n",
              "  <thead>\n",
              "    <tr style=\"text-align: right;\">\n",
              "      <th></th>\n",
              "      <th>col1</th>\n",
              "      <th>col2</th>\n",
              "      <th>col3</th>\n",
              "      <th>col4</th>\n",
              "      <th>col2</th>\n",
              "      <th>Col4</th>\n",
              "      <th>col6</th>\n",
              "    </tr>\n",
              "  </thead>\n",
              "  <tbody>\n",
              "    <tr>\n",
              "      <td>0</td>\n",
              "      <td>col10</td>\n",
              "      <td>col20</td>\n",
              "      <td>col30</td>\n",
              "      <td>col40</td>\n",
              "      <td>NaN</td>\n",
              "      <td>NaN</td>\n",
              "      <td>NaN</td>\n",
              "    </tr>\n",
              "    <tr>\n",
              "      <td>1</td>\n",
              "      <td>col11</td>\n",
              "      <td>col21</td>\n",
              "      <td>col31</td>\n",
              "      <td>col41</td>\n",
              "      <td>NaN</td>\n",
              "      <td>NaN</td>\n",
              "      <td>NaN</td>\n",
              "    </tr>\n",
              "    <tr>\n",
              "      <td>2</td>\n",
              "      <td>col12</td>\n",
              "      <td>col22</td>\n",
              "      <td>col32</td>\n",
              "      <td>col42</td>\n",
              "      <td>col22</td>\n",
              "      <td>Col42</td>\n",
              "      <td>col62</td>\n",
              "    </tr>\n",
              "    <tr>\n",
              "      <td>3</td>\n",
              "      <td>col13</td>\n",
              "      <td>col23</td>\n",
              "      <td>col33</td>\n",
              "      <td>col43</td>\n",
              "      <td>col23</td>\n",
              "      <td>Col43</td>\n",
              "      <td>col63</td>\n",
              "    </tr>\n",
              "    <tr>\n",
              "      <td>6</td>\n",
              "      <td>NaN</td>\n",
              "      <td>NaN</td>\n",
              "      <td>NaN</td>\n",
              "      <td>NaN</td>\n",
              "      <td>col26</td>\n",
              "      <td>Col46</td>\n",
              "      <td>col66</td>\n",
              "    </tr>\n",
              "    <tr>\n",
              "      <td>7</td>\n",
              "      <td>NaN</td>\n",
              "      <td>NaN</td>\n",
              "      <td>NaN</td>\n",
              "      <td>NaN</td>\n",
              "      <td>col27</td>\n",
              "      <td>Col47</td>\n",
              "      <td>col67</td>\n",
              "    </tr>\n",
              "  </tbody>\n",
              "</table>\n",
              "</div>"
            ],
            "text/plain": [
              "    col1   col2   col3   col4   col2   Col4   col6\n",
              "0  col10  col20  col30  col40    NaN    NaN    NaN\n",
              "1  col11  col21  col31  col41    NaN    NaN    NaN\n",
              "2  col12  col22  col32  col42  col22  Col42  col62\n",
              "3  col13  col23  col33  col43  col23  Col43  col63\n",
              "6    NaN    NaN    NaN    NaN  col26  Col46  col66\n",
              "7    NaN    NaN    NaN    NaN  col27  Col47  col67"
            ]
          },
          "metadata": {
            "tags": []
          },
          "execution_count": 119
        }
      ]
    },
    {
      "cell_type": "code",
      "metadata": {
        "id": "e2Kb0NWizLWE",
        "colab_type": "code",
        "colab": {},
        "outputId": "165c783c-4593-4bf4-ef2c-cbea350e96df"
      },
      "source": [
        "print(df1,\"\\n\")\n",
        "print(df4)\n",
        "# [55]\n",
        "pd.concat([df1,df4], axis=0)"
      ],
      "execution_count": 0,
      "outputs": [
        {
          "output_type": "stream",
          "text": [
            "    col1   col2   col3   col4\n",
            "0  col10  col20  col30  col40\n",
            "1  col11  col21  col31  col41\n",
            "2  col12  col22  col32  col42\n",
            "3  col13  col23  col33  col43 \n",
            "\n",
            "    col2   Col4   col6\n",
            "2  col22  Col42  col62\n",
            "3  col23  Col43  col63\n",
            "6  col26  Col46  col66\n",
            "7  col27  Col47  col67\n"
          ],
          "name": "stdout"
        },
        {
          "output_type": "execute_result",
          "data": {
            "text/html": [
              "<div>\n",
              "<style scoped>\n",
              "    .dataframe tbody tr th:only-of-type {\n",
              "        vertical-align: middle;\n",
              "    }\n",
              "\n",
              "    .dataframe tbody tr th {\n",
              "        vertical-align: top;\n",
              "    }\n",
              "\n",
              "    .dataframe thead th {\n",
              "        text-align: right;\n",
              "    }\n",
              "</style>\n",
              "<table border=\"1\" class=\"dataframe\">\n",
              "  <thead>\n",
              "    <tr style=\"text-align: right;\">\n",
              "      <th></th>\n",
              "      <th>Col4</th>\n",
              "      <th>col1</th>\n",
              "      <th>col2</th>\n",
              "      <th>col3</th>\n",
              "      <th>col4</th>\n",
              "      <th>col6</th>\n",
              "    </tr>\n",
              "  </thead>\n",
              "  <tbody>\n",
              "    <tr>\n",
              "      <td>0</td>\n",
              "      <td>NaN</td>\n",
              "      <td>col10</td>\n",
              "      <td>col20</td>\n",
              "      <td>col30</td>\n",
              "      <td>col40</td>\n",
              "      <td>NaN</td>\n",
              "    </tr>\n",
              "    <tr>\n",
              "      <td>1</td>\n",
              "      <td>NaN</td>\n",
              "      <td>col11</td>\n",
              "      <td>col21</td>\n",
              "      <td>col31</td>\n",
              "      <td>col41</td>\n",
              "      <td>NaN</td>\n",
              "    </tr>\n",
              "    <tr>\n",
              "      <td>2</td>\n",
              "      <td>NaN</td>\n",
              "      <td>col12</td>\n",
              "      <td>col22</td>\n",
              "      <td>col32</td>\n",
              "      <td>col42</td>\n",
              "      <td>NaN</td>\n",
              "    </tr>\n",
              "    <tr>\n",
              "      <td>3</td>\n",
              "      <td>NaN</td>\n",
              "      <td>col13</td>\n",
              "      <td>col23</td>\n",
              "      <td>col33</td>\n",
              "      <td>col43</td>\n",
              "      <td>NaN</td>\n",
              "    </tr>\n",
              "    <tr>\n",
              "      <td>2</td>\n",
              "      <td>Col42</td>\n",
              "      <td>NaN</td>\n",
              "      <td>col22</td>\n",
              "      <td>NaN</td>\n",
              "      <td>NaN</td>\n",
              "      <td>col62</td>\n",
              "    </tr>\n",
              "    <tr>\n",
              "      <td>3</td>\n",
              "      <td>Col43</td>\n",
              "      <td>NaN</td>\n",
              "      <td>col23</td>\n",
              "      <td>NaN</td>\n",
              "      <td>NaN</td>\n",
              "      <td>col63</td>\n",
              "    </tr>\n",
              "    <tr>\n",
              "      <td>6</td>\n",
              "      <td>Col46</td>\n",
              "      <td>NaN</td>\n",
              "      <td>col26</td>\n",
              "      <td>NaN</td>\n",
              "      <td>NaN</td>\n",
              "      <td>col66</td>\n",
              "    </tr>\n",
              "    <tr>\n",
              "      <td>7</td>\n",
              "      <td>Col47</td>\n",
              "      <td>NaN</td>\n",
              "      <td>col27</td>\n",
              "      <td>NaN</td>\n",
              "      <td>NaN</td>\n",
              "      <td>col67</td>\n",
              "    </tr>\n",
              "  </tbody>\n",
              "</table>\n",
              "</div>"
            ],
            "text/plain": [
              "    Col4   col1   col2   col3   col4   col6\n",
              "0    NaN  col10  col20  col30  col40    NaN\n",
              "1    NaN  col11  col21  col31  col41    NaN\n",
              "2    NaN  col12  col22  col32  col42    NaN\n",
              "3    NaN  col13  col23  col33  col43    NaN\n",
              "2  Col42    NaN  col22    NaN    NaN  col62\n",
              "3  Col43    NaN  col23    NaN    NaN  col63\n",
              "6  Col46    NaN  col26    NaN    NaN  col66\n",
              "7  Col47    NaN  col27    NaN    NaN  col67"
            ]
          },
          "metadata": {
            "tags": []
          },
          "execution_count": 120
        }
      ]
    },
    {
      "cell_type": "markdown",
      "metadata": {
        "id": "Ssdp-58mzLWG",
        "colab_type": "text"
      },
      "source": [
        "# Combining Datasets: Merge and Join"
      ]
    },
    {
      "cell_type": "markdown",
      "metadata": {
        "id": "GScNs9vyzLWH",
        "colab_type": "raw"
      },
      "source": [
        "The pd.merge() function implements a number of types of joins: \n",
        "a> one-to-one join\n",
        "b> many-to-one join, and \n",
        "c> many-to-many join. \n",
        "\n",
        "All three types of joins are accessed via an identical call to the pd.merge() interface; the type of join performed depends on the form of the input data."
      ]
    },
    {
      "cell_type": "markdown",
      "metadata": {
        "id": "6xHf5AI5zLWH",
        "colab_type": "raw"
      },
      "source": [
        "One-to-one joins"
      ]
    },
    {
      "cell_type": "markdown",
      "metadata": {
        "id": "GhhQob92zLWH",
        "colab_type": "raw"
      },
      "source": [
        "One-to-one join, is similar to the column-wise concatenation."
      ]
    },
    {
      "cell_type": "code",
      "metadata": {
        "id": "WNUudeulzLWI",
        "colab_type": "code",
        "colab": {},
        "outputId": "5fe56995-9fd2-4e62-8d9e-9b160bfdddd1"
      },
      "source": [
        "df1 = pd.DataFrame({'employee': ['Bob', 'Jake', 'Lisa', 'Sue'],\n",
        "    'group': ['Accounting', 'Engineering', 'Engineering', 'HR']})\n",
        "df2 = pd.DataFrame({'employee': ['Lisa', 'Bob', 'Jake', 'Sue'],\n",
        "    'hire_date': [2004, 2008, 2012, 2014]})\n",
        "print(df1); print(df2)"
      ],
      "execution_count": 0,
      "outputs": [
        {
          "output_type": "stream",
          "text": [
            "  employee        group\n",
            "0      Bob   Accounting\n",
            "1     Jake  Engineering\n",
            "2     Lisa  Engineering\n",
            "3      Sue           HR\n",
            "  employee  hire_date\n",
            "0     Lisa       2004\n",
            "1      Bob       2008\n",
            "2     Jake       2012\n",
            "3      Sue       2014\n"
          ],
          "name": "stdout"
        }
      ]
    },
    {
      "cell_type": "code",
      "metadata": {
        "id": "EyVFTfsszLWL",
        "colab_type": "code",
        "colab": {},
        "outputId": "db411612-d5d1-4b89-ff34-cd5f1bcf4af4"
      },
      "source": [
        "# [57]\n",
        "df3 = pd.merge(df1,df2)\n",
        "df3\n",
        "\n",
        "# The pd.merge() function recognizes that each DataFrame has an \n",
        "# “employee” column, and automatically joins using this column as a key."
      ],
      "execution_count": 0,
      "outputs": [
        {
          "output_type": "execute_result",
          "data": {
            "text/html": [
              "<div>\n",
              "<style scoped>\n",
              "    .dataframe tbody tr th:only-of-type {\n",
              "        vertical-align: middle;\n",
              "    }\n",
              "\n",
              "    .dataframe tbody tr th {\n",
              "        vertical-align: top;\n",
              "    }\n",
              "\n",
              "    .dataframe thead th {\n",
              "        text-align: right;\n",
              "    }\n",
              "</style>\n",
              "<table border=\"1\" class=\"dataframe\">\n",
              "  <thead>\n",
              "    <tr style=\"text-align: right;\">\n",
              "      <th></th>\n",
              "      <th>employee</th>\n",
              "      <th>group</th>\n",
              "      <th>hire_date</th>\n",
              "    </tr>\n",
              "  </thead>\n",
              "  <tbody>\n",
              "    <tr>\n",
              "      <td>0</td>\n",
              "      <td>Bob</td>\n",
              "      <td>Accounting</td>\n",
              "      <td>2008</td>\n",
              "    </tr>\n",
              "    <tr>\n",
              "      <td>1</td>\n",
              "      <td>Jake</td>\n",
              "      <td>Engineering</td>\n",
              "      <td>2012</td>\n",
              "    </tr>\n",
              "    <tr>\n",
              "      <td>2</td>\n",
              "      <td>Lisa</td>\n",
              "      <td>Engineering</td>\n",
              "      <td>2004</td>\n",
              "    </tr>\n",
              "    <tr>\n",
              "      <td>3</td>\n",
              "      <td>Sue</td>\n",
              "      <td>HR</td>\n",
              "      <td>2014</td>\n",
              "    </tr>\n",
              "  </tbody>\n",
              "</table>\n",
              "</div>"
            ],
            "text/plain": [
              "  employee        group  hire_date\n",
              "0      Bob   Accounting       2008\n",
              "1     Jake  Engineering       2012\n",
              "2     Lisa  Engineering       2004\n",
              "3      Sue           HR       2014"
            ]
          },
          "metadata": {
            "tags": []
          },
          "execution_count": 122
        }
      ]
    },
    {
      "cell_type": "markdown",
      "metadata": {
        "id": "ynJDTdcSzLWO",
        "colab_type": "raw"
      },
      "source": [
        "Many-to-one joins"
      ]
    },
    {
      "cell_type": "markdown",
      "metadata": {
        "id": "qAOpNds-zLWO",
        "colab_type": "raw"
      },
      "source": [
        "Many-to-one joins are joins in which one of the two key columns contains duplicate entries. \n",
        "\n",
        "For the many-to-one case, the resulting DataFrame will preserve those duplicate\n",
        "entries as appropriate. Consider the following example of a many-to-one join:"
      ]
    },
    {
      "cell_type": "code",
      "metadata": {
        "id": "GGyaQURbzLWO",
        "colab_type": "code",
        "colab": {},
        "outputId": "4fd1bd1b-b6a5-46fb-d329-05e283ca6894"
      },
      "source": [
        "df4 = pd.DataFrame({'group': ['Accounting', 'Engineering', 'HR'],\n",
        "'supervisor': ['Carly', 'Guido', 'Steve']})\n",
        "print(df3); print(df4); \n",
        "# [58]\n",
        "print(pd.merge(df3,df4))"
      ],
      "execution_count": 0,
      "outputs": [
        {
          "output_type": "stream",
          "text": [
            "  employee        group  hire_date\n",
            "0      Bob   Accounting       2008\n",
            "1     Jake  Engineering       2012\n",
            "2     Lisa  Engineering       2004\n",
            "3      Sue           HR       2014\n",
            "         group supervisor\n",
            "0   Accounting      Carly\n",
            "1  Engineering      Guido\n",
            "2           HR      Steve\n",
            "  employee        group  hire_date supervisor\n",
            "0      Bob   Accounting       2008      Carly\n",
            "1     Jake  Engineering       2012      Guido\n",
            "2     Lisa  Engineering       2004      Guido\n",
            "3      Sue           HR       2014      Steve\n"
          ],
          "name": "stdout"
        }
      ]
    },
    {
      "cell_type": "markdown",
      "metadata": {
        "id": "YWte2XZ1zLWT",
        "colab_type": "raw"
      },
      "source": [
        "The resulting DataFrame has an additional column with the “supervisor” information, where the information is repeated in one or more locations as required by the inputs."
      ]
    },
    {
      "cell_type": "markdown",
      "metadata": {
        "id": "ebvITQHmzLWT",
        "colab_type": "raw"
      },
      "source": [
        "Many-to-many joins"
      ]
    },
    {
      "cell_type": "markdown",
      "metadata": {
        "id": "pulDQ0IczLWT",
        "colab_type": "raw"
      },
      "source": [
        "Many-to-many joins are a bit confusing conceptually, but are nevertheless well\n",
        "defined. If the key column in both the left and right array contains duplicates, then the result is a many-to-many merge."
      ]
    },
    {
      "cell_type": "code",
      "metadata": {
        "id": "b5y6ZTqPzLWU",
        "colab_type": "code",
        "colab": {},
        "outputId": "e4afe889-8ddf-433a-e329-2accb5bf1c25"
      },
      "source": [
        "df5 = pd.DataFrame({'group': ['Accounting', 'Accounting',\n",
        "'Engineering', 'Engineering', 'HR', 'HR'],\n",
        "'skills': ['math', 'spreadsheets', 'coding', 'linux',\n",
        "'spreadsheets', 'organization']})\n",
        "\n",
        "print(df1,\"\\n\"); print(df5,\"\\n\"); \n",
        "print(pd.merge(df1, df5))"
      ],
      "execution_count": 0,
      "outputs": [
        {
          "output_type": "stream",
          "text": [
            "  employee        group\n",
            "0      Bob   Accounting\n",
            "1     Jake  Engineering\n",
            "2     Lisa  Engineering\n",
            "3      Sue           HR \n",
            "\n",
            "         group        skills\n",
            "0   Accounting          math\n",
            "1   Accounting  spreadsheets\n",
            "2  Engineering        coding\n",
            "3  Engineering         linux\n",
            "4           HR  spreadsheets\n",
            "5           HR  organization \n",
            "\n",
            "  employee        group        skills\n",
            "0      Bob   Accounting          math\n",
            "1      Bob   Accounting  spreadsheets\n",
            "2     Jake  Engineering        coding\n",
            "3     Jake  Engineering         linux\n",
            "4     Lisa  Engineering        coding\n",
            "5     Lisa  Engineering         linux\n",
            "6      Sue           HR  spreadsheets\n",
            "7      Sue           HR  organization\n"
          ],
          "name": "stdout"
        }
      ]
    },
    {
      "cell_type": "markdown",
      "metadata": {
        "id": "YuyKOLrozLWW",
        "colab_type": "raw"
      },
      "source": [
        "Note 1 : Specification of the Merge Key : \n",
        "We’ve already seen the default behavior of pd.merge(): it looks for one or more\n",
        "matching column names between the two inputs, and uses this as the key. However, often the column names will not match so nicely.\n",
        "\n",
        "Solution : Use on keyword\n",
        "Most simply, you can explicitly specify the name of the key column using the on keyword, which takes a column name or a list of column names:"
      ]
    },
    {
      "cell_type": "code",
      "metadata": {
        "id": "4z1rv5tbzLWX",
        "colab_type": "code",
        "colab": {},
        "outputId": "0c93fc49-3eee-461e-f370-dd3c73a81511"
      },
      "source": [
        "print(df1); print(df2);"
      ],
      "execution_count": 0,
      "outputs": [
        {
          "output_type": "stream",
          "text": [
            "  employee        group\n",
            "0      Bob   Accounting\n",
            "1     Jake  Engineering\n",
            "2     Lisa  Engineering\n",
            "3      Sue           HR\n",
            "  employee  hire_date\n",
            "0     Lisa       2004\n",
            "1      Bob       2008\n",
            "2     Jake       2012\n",
            "3      Sue       2014\n"
          ],
          "name": "stdout"
        }
      ]
    },
    {
      "cell_type": "code",
      "metadata": {
        "id": "40K_H8IVzLWb",
        "colab_type": "code",
        "colab": {},
        "outputId": "99f6f35a-05e7-4ad3-8af3-2dae1d1c74d8"
      },
      "source": [
        "print(df1); print(df2); print(pd.merge(df1, df2, on='employee'))"
      ],
      "execution_count": 0,
      "outputs": [
        {
          "output_type": "stream",
          "text": [
            "  employee        group\n",
            "0      Bob   Accounting\n",
            "1     Jake  Engineering\n",
            "2     Lisa  Engineering\n",
            "3      Sue           HR\n",
            "  employee  hire_date\n",
            "0     Lisa       2004\n",
            "1      Bob       2008\n",
            "2     Jake       2012\n",
            "3      Sue       2014\n",
            "  employee        group  hire_date\n",
            "0      Bob   Accounting       2008\n",
            "1     Jake  Engineering       2012\n",
            "2     Lisa  Engineering       2004\n",
            "3      Sue           HR       2014\n"
          ],
          "name": "stdout"
        }
      ]
    },
    {
      "cell_type": "markdown",
      "metadata": {
        "id": "0Jrply7vzLWd",
        "colab_type": "raw"
      },
      "source": [
        "The left_on and right_on keywords\n",
        "\n",
        "At times you may wish to merge two datasets with different column names; for example, we may have a dataset in which the employee name is labeled as “name” rather than “employee”. In this case, we can use the left_on and right_on keywords to specify the two column names:"
      ]
    },
    {
      "cell_type": "code",
      "metadata": {
        "id": "VsTNdD0_zLWe",
        "colab_type": "code",
        "colab": {},
        "outputId": "388aa2e7-b08d-4f10-9897-d39a2d265ba2"
      },
      "source": [
        "df3 = pd.DataFrame({'name': ['Bob', 'Jake', 'Lisa', 'Sue'],\n",
        "'salary': [70000, 80000, 120000, 90000]})\n",
        "\n",
        "print(df1,\"\\n\"); print(df3,\"\\n\");\n",
        "\n",
        "print(pd.merge(df1, df3, left_on=\"employee\", right_on=\"name\"))"
      ],
      "execution_count": 0,
      "outputs": [
        {
          "output_type": "stream",
          "text": [
            "  employee        group\n",
            "0      Bob   Accounting\n",
            "1     Jake  Engineering\n",
            "2     Lisa  Engineering\n",
            "3      Sue           HR \n",
            "\n",
            "   name  salary\n",
            "0   Bob   70000\n",
            "1  Jake   80000\n",
            "2  Lisa  120000\n",
            "3   Sue   90000 \n",
            "\n",
            "  employee        group  name  salary\n",
            "0      Bob   Accounting   Bob   70000\n",
            "1     Jake  Engineering  Jake   80000\n",
            "2     Lisa  Engineering  Lisa  120000\n",
            "3      Sue           HR   Sue   90000\n"
          ],
          "name": "stdout"
        }
      ]
    },
    {
      "cell_type": "markdown",
      "metadata": {
        "id": "r8O3FNfpzLWg",
        "colab_type": "raw"
      },
      "source": [
        "Inner and Outer Join"
      ]
    },
    {
      "cell_type": "markdown",
      "metadata": {
        "id": "ReWtq-orzLWg",
        "colab_type": "raw"
      },
      "source": [
        "Upto now, we have merged two datasets using Inner join.\n",
        "\n",
        "for example :"
      ]
    },
    {
      "cell_type": "code",
      "metadata": {
        "id": "Vhi3_uiBzLWh",
        "colab_type": "code",
        "colab": {},
        "outputId": "1199a7f4-7e8c-41b5-9923-0b526ea25824"
      },
      "source": [
        "df6 = pd.DataFrame({'name': ['Peter', 'Paul', 'Mary'],\n",
        "    'food': ['fish', 'beans', 'bread']},\n",
        "    columns=['name', 'food'])\n",
        "\n",
        "df7 = pd.DataFrame({'name': ['Mary', 'Joseph'],\n",
        "    'drink': ['wine', 'beer']},\n",
        "    columns=['name', 'drink'])\n",
        "\n",
        "print(df6,\"\\n\"); print(df7); \n",
        "pd.merge(df6, df7) #by default, this takes the inner join"
      ],
      "execution_count": 0,
      "outputs": [
        {
          "output_type": "stream",
          "text": [
            "    name   food\n",
            "0  Peter   fish\n",
            "1   Paul  beans\n",
            "2   Mary  bread \n",
            "\n",
            "     name drink\n",
            "0    Mary  wine\n",
            "1  Joseph  beer\n"
          ],
          "name": "stdout"
        },
        {
          "output_type": "execute_result",
          "data": {
            "text/html": [
              "<div>\n",
              "<style scoped>\n",
              "    .dataframe tbody tr th:only-of-type {\n",
              "        vertical-align: middle;\n",
              "    }\n",
              "\n",
              "    .dataframe tbody tr th {\n",
              "        vertical-align: top;\n",
              "    }\n",
              "\n",
              "    .dataframe thead th {\n",
              "        text-align: right;\n",
              "    }\n",
              "</style>\n",
              "<table border=\"1\" class=\"dataframe\">\n",
              "  <thead>\n",
              "    <tr style=\"text-align: right;\">\n",
              "      <th></th>\n",
              "      <th>name</th>\n",
              "      <th>food</th>\n",
              "      <th>drink</th>\n",
              "    </tr>\n",
              "  </thead>\n",
              "  <tbody>\n",
              "    <tr>\n",
              "      <td>0</td>\n",
              "      <td>Mary</td>\n",
              "      <td>bread</td>\n",
              "      <td>wine</td>\n",
              "    </tr>\n",
              "  </tbody>\n",
              "</table>\n",
              "</div>"
            ],
            "text/plain": [
              "   name   food drink\n",
              "0  Mary  bread  wine"
            ]
          },
          "metadata": {
            "tags": []
          },
          "execution_count": 132
        }
      ]
    },
    {
      "cell_type": "code",
      "metadata": {
        "id": "M7pAaG2RzLWk",
        "colab_type": "code",
        "colab": {}
      },
      "source": [
        "pd.merge(df6, df7, how='inner')"
      ],
      "execution_count": 0,
      "outputs": []
    },
    {
      "cell_type": "markdown",
      "metadata": {
        "id": "vEM5z_JxzLWn",
        "colab_type": "raw"
      },
      "source": [
        "Other options for the how keyword are 'outer', 'left', and 'right'. \n",
        "\n",
        "An outer join returns a join over the union of the input columns, and fills in all missing values with NAs."
      ]
    },
    {
      "cell_type": "code",
      "metadata": {
        "id": "JAC8KS0ZzLWo",
        "colab_type": "code",
        "colab": {},
        "outputId": "288b49d6-bff8-407c-c1fc-8908f34f0b66"
      },
      "source": [
        "print(df6);  print(\"--------------\"); print(df7); \n",
        "\n",
        "pd.merge(df6, df7, how='outer')"
      ],
      "execution_count": 0,
      "outputs": [
        {
          "output_type": "stream",
          "text": [
            "    name   food\n",
            "0  Peter   fish\n",
            "1   Paul  beans\n",
            "2   Mary  bread\n",
            "--------------\n",
            "     name drink\n",
            "0    Mary  wine\n",
            "1  Joseph  beer\n"
          ],
          "name": "stdout"
        },
        {
          "output_type": "execute_result",
          "data": {
            "text/html": [
              "<div>\n",
              "<style scoped>\n",
              "    .dataframe tbody tr th:only-of-type {\n",
              "        vertical-align: middle;\n",
              "    }\n",
              "\n",
              "    .dataframe tbody tr th {\n",
              "        vertical-align: top;\n",
              "    }\n",
              "\n",
              "    .dataframe thead th {\n",
              "        text-align: right;\n",
              "    }\n",
              "</style>\n",
              "<table border=\"1\" class=\"dataframe\">\n",
              "  <thead>\n",
              "    <tr style=\"text-align: right;\">\n",
              "      <th></th>\n",
              "      <th>name</th>\n",
              "      <th>food</th>\n",
              "      <th>drink</th>\n",
              "    </tr>\n",
              "  </thead>\n",
              "  <tbody>\n",
              "    <tr>\n",
              "      <td>0</td>\n",
              "      <td>Peter</td>\n",
              "      <td>fish</td>\n",
              "      <td>NaN</td>\n",
              "    </tr>\n",
              "    <tr>\n",
              "      <td>1</td>\n",
              "      <td>Paul</td>\n",
              "      <td>beans</td>\n",
              "      <td>NaN</td>\n",
              "    </tr>\n",
              "    <tr>\n",
              "      <td>2</td>\n",
              "      <td>Mary</td>\n",
              "      <td>bread</td>\n",
              "      <td>wine</td>\n",
              "    </tr>\n",
              "    <tr>\n",
              "      <td>3</td>\n",
              "      <td>Joseph</td>\n",
              "      <td>NaN</td>\n",
              "      <td>beer</td>\n",
              "    </tr>\n",
              "  </tbody>\n",
              "</table>\n",
              "</div>"
            ],
            "text/plain": [
              "     name   food drink\n",
              "0   Peter   fish   NaN\n",
              "1    Paul  beans   NaN\n",
              "2    Mary  bread  wine\n",
              "3  Joseph    NaN  beer"
            ]
          },
          "metadata": {
            "tags": []
          },
          "execution_count": 133
        }
      ]
    },
    {
      "cell_type": "markdown",
      "metadata": {
        "id": "GxojZKBizLWs",
        "colab_type": "text"
      },
      "source": [
        "# Practice Problems"
      ]
    },
    {
      "cell_type": "code",
      "metadata": {
        "id": "dKsg-2sUzLWt",
        "colab_type": "code",
        "colab": {},
        "outputId": "bc547701-45ad-4721-b7c7-09cb8d6f30a6"
      },
      "source": [
        "# Because Pandas is designed to work with NumPy, \n",
        "# any NumPy ufunc will work on Pandas Series and DataFrame objects\n",
        "# all missing values are filled in with NaN by default:\n",
        "\n",
        "# What is the o/p ?\n",
        "A = pd.Series([2, 4, 6], index=[0, 1, 2])\n",
        "B = pd.Series([1, 3, 5], index=[1, 2, 3])\n",
        "print(A);print(\"----------------------\");print(B)\n",
        "\n",
        "A + B"
      ],
      "execution_count": 0,
      "outputs": [
        {
          "output_type": "stream",
          "text": [
            "0    2\n",
            "1    4\n",
            "2    6\n",
            "dtype: int64\n",
            "----------------------\n",
            "1    1\n",
            "2    3\n",
            "3    5\n",
            "dtype: int64\n"
          ],
          "name": "stdout"
        },
        {
          "output_type": "execute_result",
          "data": {
            "text/plain": [
              "0    NaN\n",
              "1    5.0\n",
              "2    9.0\n",
              "3    NaN\n",
              "dtype: float64"
            ]
          },
          "metadata": {
            "tags": []
          },
          "execution_count": 134
        }
      ]
    },
    {
      "cell_type": "code",
      "metadata": {
        "id": "DdWGolmBzLWy",
        "colab_type": "code",
        "colab": {},
        "outputId": "147b8180-9b4f-4afc-f330-9cb985812f76"
      },
      "source": [
        "# add two series and fill missing value with 0, instead of NaN\n",
        "A = pd.Series([2, 4, 6], index=[0, 1, 2])\n",
        "B = pd.Series([1, 3, 5], index=[1, 2, 3])\n",
        "print(A);print(\"----------------------\");print(B)\n",
        "\n",
        "A.add(B, fill_value=0)"
      ],
      "execution_count": 0,
      "outputs": [
        {
          "output_type": "stream",
          "text": [
            "0    2\n",
            "1    4\n",
            "2    6\n",
            "dtype: int64\n",
            "----------------------\n",
            "1    1\n",
            "2    3\n",
            "3    5\n",
            "dtype: int64\n"
          ],
          "name": "stdout"
        },
        {
          "output_type": "execute_result",
          "data": {
            "text/plain": [
              "0    2.0\n",
              "1    5.0\n",
              "2    9.0\n",
              "3    5.0\n",
              "dtype: float64"
            ]
          },
          "metadata": {
            "tags": []
          },
          "execution_count": 136
        }
      ]
    },
    {
      "cell_type": "markdown",
      "metadata": {
        "id": "K8rln9yVzLW1",
        "colab_type": "raw"
      },
      "source": [
        ">> Detecting null values \n",
        "Pandas data structures have two useful methods for detecting null data: \n",
        "    isnull() and notnull(). \n",
        "Either one will return a Boolean mask over the data."
      ]
    },
    {
      "cell_type": "code",
      "metadata": {
        "id": "I3JzfdPOzLW2",
        "colab_type": "code",
        "colab": {},
        "outputId": "3d71fcfa-6969-4d30-e247-ad0fe891830f"
      },
      "source": [
        "# What is the output ?\n",
        "#None and nan both are considered as null by isnull()\n",
        "data = pd.Series([1, np.nan, 'hello', None])\n",
        "data.isnull()"
      ],
      "execution_count": 0,
      "outputs": [
        {
          "output_type": "execute_result",
          "data": {
            "text/plain": [
              "0    False\n",
              "1     True\n",
              "2    False\n",
              "3     True\n",
              "dtype: bool"
            ]
          },
          "metadata": {
            "tags": []
          },
          "execution_count": 137
        }
      ]
    },
    {
      "cell_type": "code",
      "metadata": {
        "id": "bxMl-bJrzLW6",
        "colab_type": "code",
        "colab": {},
        "outputId": "ea69ba35-cb00-4198-825d-12a346830e04"
      },
      "source": [
        "# for the series \n",
        "data = pd.Series([1, np.nan, 2, None, 3], index=list('abcde'))\n",
        "#or data = pd.Series([1, np.nan, 2, None, 3], index=list(['a','b','c','d','e']))\n",
        "\n",
        "print(data)\n",
        "# [71]\n",
        "data.fillna(method= 'ffill')"
      ],
      "execution_count": 0,
      "outputs": [
        {
          "output_type": "stream",
          "text": [
            "a    1.0\n",
            "b    NaN\n",
            "c    2.0\n",
            "d    NaN\n",
            "e    3.0\n",
            "dtype: float64\n"
          ],
          "name": "stdout"
        },
        {
          "output_type": "execute_result",
          "data": {
            "text/plain": [
              "a    1.0\n",
              "b    1.0\n",
              "c    2.0\n",
              "d    2.0\n",
              "e    3.0\n",
              "dtype: float64"
            ]
          },
          "metadata": {
            "tags": []
          },
          "execution_count": 145
        }
      ]
    },
    {
      "cell_type": "code",
      "metadata": {
        "id": "6zIHvjsxzLW-",
        "colab_type": "code",
        "colab": {},
        "outputId": "6ab38b2e-218e-4f6f-b4f1-06cd4d97a049"
      },
      "source": [
        "# specify a back-fill to propagate the next values backward:\n",
        "data.fillna(method='bfill')"
      ],
      "execution_count": 0,
      "outputs": [
        {
          "output_type": "execute_result",
          "data": {
            "text/plain": [
              "a    1.0\n",
              "b    2.0\n",
              "c    2.0\n",
              "d    3.0\n",
              "e    3.0\n",
              "dtype: float64"
            ]
          },
          "metadata": {
            "tags": []
          },
          "execution_count": 146
        }
      ]
    },
    {
      "cell_type": "markdown",
      "metadata": {
        "id": "Jm8oyxjtzLXB",
        "colab_type": "text"
      },
      "source": [
        "# GroupBy: Split, Apply, Combine"
      ]
    },
    {
      "cell_type": "markdown",
      "metadata": {
        "id": "DmtTLTTnzLXC",
        "colab_type": "text"
      },
      "source": [
        "![Split Apply Combine Diagram](datasets_n_images/images/split_apply_combine.png \"Split Apply Combine Image\")"
      ]
    },
    {
      "cell_type": "code",
      "metadata": {
        "id": "iQdXwYXzzLXC",
        "colab_type": "code",
        "colab": {},
        "outputId": "81c713b7-2f4a-4403-9962-9a816def2a14"
      },
      "source": [
        "# an example of split - apply - combine \n",
        "df = pd.DataFrame({'key': ['A', 'B', 'C', 'A', 'B', 'C'],\n",
        "                    'data': [1,2,3,4,5,6]}, columns=['key', 'data'])\n",
        "\n",
        "df"
      ],
      "execution_count": 0,
      "outputs": [
        {
          "output_type": "execute_result",
          "data": {
            "text/html": [
              "<div>\n",
              "<style scoped>\n",
              "    .dataframe tbody tr th:only-of-type {\n",
              "        vertical-align: middle;\n",
              "    }\n",
              "\n",
              "    .dataframe tbody tr th {\n",
              "        vertical-align: top;\n",
              "    }\n",
              "\n",
              "    .dataframe thead th {\n",
              "        text-align: right;\n",
              "    }\n",
              "</style>\n",
              "<table border=\"1\" class=\"dataframe\">\n",
              "  <thead>\n",
              "    <tr style=\"text-align: right;\">\n",
              "      <th></th>\n",
              "      <th>key</th>\n",
              "      <th>data</th>\n",
              "    </tr>\n",
              "  </thead>\n",
              "  <tbody>\n",
              "    <tr>\n",
              "      <td>0</td>\n",
              "      <td>A</td>\n",
              "      <td>1</td>\n",
              "    </tr>\n",
              "    <tr>\n",
              "      <td>1</td>\n",
              "      <td>B</td>\n",
              "      <td>2</td>\n",
              "    </tr>\n",
              "    <tr>\n",
              "      <td>2</td>\n",
              "      <td>C</td>\n",
              "      <td>3</td>\n",
              "    </tr>\n",
              "    <tr>\n",
              "      <td>3</td>\n",
              "      <td>A</td>\n",
              "      <td>4</td>\n",
              "    </tr>\n",
              "    <tr>\n",
              "      <td>4</td>\n",
              "      <td>B</td>\n",
              "      <td>5</td>\n",
              "    </tr>\n",
              "    <tr>\n",
              "      <td>5</td>\n",
              "      <td>C</td>\n",
              "      <td>6</td>\n",
              "    </tr>\n",
              "  </tbody>\n",
              "</table>\n",
              "</div>"
            ],
            "text/plain": [
              "  key  data\n",
              "0   A     1\n",
              "1   B     2\n",
              "2   C     3\n",
              "3   A     4\n",
              "4   B     5\n",
              "5   C     6"
            ]
          },
          "metadata": {
            "tags": []
          },
          "execution_count": 148
        }
      ]
    },
    {
      "cell_type": "code",
      "metadata": {
        "id": "ZWgidHcXzLXG",
        "colab_type": "code",
        "colab": {},
        "outputId": "c16cb219-14b9-48dc-9465-b9b93e6c405a"
      },
      "source": [
        "# [95]\n",
        "df.groupby('key')"
      ],
      "execution_count": 0,
      "outputs": [
        {
          "output_type": "execute_result",
          "data": {
            "text/plain": [
              "<pandas.core.groupby.generic.DataFrameGroupBy object at 0x14471910>"
            ]
          },
          "metadata": {
            "tags": []
          },
          "execution_count": 149
        }
      ]
    },
    {
      "cell_type": "code",
      "metadata": {
        "id": "-dslmTufzLXI",
        "colab_type": "code",
        "colab": {},
        "outputId": "549c2af3-36e8-486d-b9be-22374999b098"
      },
      "source": [
        "# [96]\n",
        "df.groupby('key').sum()"
      ],
      "execution_count": 0,
      "outputs": [
        {
          "output_type": "execute_result",
          "data": {
            "text/html": [
              "<div>\n",
              "<style scoped>\n",
              "    .dataframe tbody tr th:only-of-type {\n",
              "        vertical-align: middle;\n",
              "    }\n",
              "\n",
              "    .dataframe tbody tr th {\n",
              "        vertical-align: top;\n",
              "    }\n",
              "\n",
              "    .dataframe thead th {\n",
              "        text-align: right;\n",
              "    }\n",
              "</style>\n",
              "<table border=\"1\" class=\"dataframe\">\n",
              "  <thead>\n",
              "    <tr style=\"text-align: right;\">\n",
              "      <th></th>\n",
              "      <th>data</th>\n",
              "    </tr>\n",
              "    <tr>\n",
              "      <th>key</th>\n",
              "      <th></th>\n",
              "    </tr>\n",
              "  </thead>\n",
              "  <tbody>\n",
              "    <tr>\n",
              "      <td>A</td>\n",
              "      <td>5</td>\n",
              "    </tr>\n",
              "    <tr>\n",
              "      <td>B</td>\n",
              "      <td>7</td>\n",
              "    </tr>\n",
              "    <tr>\n",
              "      <td>C</td>\n",
              "      <td>9</td>\n",
              "    </tr>\n",
              "  </tbody>\n",
              "</table>\n",
              "</div>"
            ],
            "text/plain": [
              "     data\n",
              "key      \n",
              "A       5\n",
              "B       7\n",
              "C       9"
            ]
          },
          "metadata": {
            "tags": []
          },
          "execution_count": 150
        }
      ]
    },
    {
      "cell_type": "markdown",
      "metadata": {
        "id": "7BNtKeU9zLXL",
        "colab_type": "raw"
      },
      "source": [
        "Aggregate, filter, transform, apply : more examples ....\n",
        "---------------------------------------------------------\n",
        "In particular, GroupBy objects have aggregate(), filter(), transform(), and apply() methods that efficiently implement a variety of useful operations before combining the grouped data."
      ]
    },
    {
      "cell_type": "code",
      "metadata": {
        "id": "J9kEVVuszLXL",
        "colab_type": "code",
        "colab": {}
      },
      "source": [
        "rng = np.random.RandomState(0)\n",
        "\n",
        "df = pd.DataFrame({'key': ['A', 'B', 'C', 'A', 'B', 'C'],\n",
        "                    'data1': range(6),\n",
        "                    'data2': rng.randint(0, 10, 6)},\n",
        "                     columns = ['key', 'data1', 'data2'])\n",
        "\n",
        "df"
      ],
      "execution_count": 0,
      "outputs": []
    },
    {
      "cell_type": "markdown",
      "metadata": {
        "id": "ZxmM4gytzLXN",
        "colab_type": "raw"
      },
      "source": [
        "Aggregation \n",
        "-----------\n",
        "We’re now familiar with GroupBy aggregations like sum(), median(),\n",
        "and the like, but the aggregate() method allows for even more flexibility. \n",
        "\n",
        "It can take a string, a function, or a list thereof, and compute all the aggregates at once. \n",
        "\n",
        "Here is a quick example combining all these:"
      ]
    },
    {
      "cell_type": "code",
      "metadata": {
        "id": "KCZMYuMTzLXN",
        "colab_type": "code",
        "colab": {}
      },
      "source": [
        "# [99]\n"
      ],
      "execution_count": 0,
      "outputs": []
    },
    {
      "cell_type": "markdown",
      "metadata": {
        "id": "J4PGVc3HzLXQ",
        "colab_type": "raw"
      },
      "source": [
        "Filtering. A filtering operation allows you to drop data based on the group properties.\n",
        "\n",
        "For example, we might want to keep all groups in which the standard deviation is larger than some critical value:"
      ]
    },
    {
      "cell_type": "code",
      "metadata": {
        "id": "bKzaRbCBzLXQ",
        "colab_type": "code",
        "colab": {}
      },
      "source": [
        "def filter_func(x):\n",
        " return x['data2'].std() > 4\n",
        "\n",
        "# prints the data frame\n",
        "print(df); \n",
        "print(\"------------------------\")\n",
        "\n",
        "# prints the data frame grouped on key and std deviation per group\n",
        "print(df.groupby('key').std());\n",
        "print(\"------------------------\")\n",
        "\n",
        "# prints the data frame\n",
        "print(df.groupby('key').filter(filter_func))"
      ],
      "execution_count": 0,
      "outputs": []
    },
    {
      "cell_type": "markdown",
      "metadata": {
        "id": "vb1ud-ZPzLXS",
        "colab_type": "raw"
      },
      "source": [
        "The apply() method. \n",
        "-------------------\n",
        "The apply() method lets you apply an arbitrary function to the group results. \n",
        "\n",
        "The function should take a DataFrame, and return either a Pandas object \n",
        "(e.g., DataFrame, Series) or a scalar; the combine operation will be tailored to the type of output returned.\n",
        "\n",
        "For example, here is an apply() that normalizes the first column by the sum of the second:"
      ]
    },
    {
      "cell_type": "code",
      "metadata": {
        "id": "ZFHJBzD9zLXT",
        "colab_type": "code",
        "colab": {}
      },
      "source": [
        "def norm_by_data2(x):\n",
        " # x is a DataFrame of group values\n",
        " x['data1'] /= x['data2'].sum()\n",
        " return x\n",
        "\n",
        "print(df); \n",
        "print(\"----------------\")\n",
        "print(df.groupby('key').apply(norm_by_data2))"
      ],
      "execution_count": 0,
      "outputs": []
    },
    {
      "cell_type": "markdown",
      "metadata": {
        "id": "GpNBpLlUzLXV",
        "colab_type": "raw"
      },
      "source": [
        "Note : apply() within a GroupBy is quite flexible: the only criterion is that the function takes a DataFrame and returns a Pandas object or scalar; what you do in the middle is up to you!"
      ]
    },
    {
      "cell_type": "markdown",
      "metadata": {
        "id": "I4y0K1qezLXX",
        "colab_type": "text"
      },
      "source": [
        "# Making Pivot Tables"
      ]
    },
    {
      "cell_type": "code",
      "metadata": {
        "id": "CO7_mrpizLXX",
        "colab_type": "code",
        "colab": {}
      },
      "source": [
        "# For the examples in this section, we’ll use the database of passengers \n",
        "# on the Titanic, available through the Seaborn library\n",
        "\n",
        "import numpy as np\n",
        "import pandas as pd\n",
        "import seaborn as sns\n",
        "\n",
        "titanic = sns.load_dataset('titanic')\n",
        "titanic.head()"
      ],
      "execution_count": 0,
      "outputs": []
    },
    {
      "cell_type": "markdown",
      "metadata": {
        "id": "jWZb5qkwzLXa",
        "colab_type": "raw"
      },
      "source": [
        "This contains a wealth of information on each passenger of that ill-fated voyage, including gender, age, class, fare paid, and much more.\n",
        "-----------------------------------------------------------------------------\n",
        "\n",
        "To start learning more about this data, we might begin by grouping it according to gender, survival status, or some combination thereof. If you have read the previous section, you might be tempted to apply a GroupBy operation—for example, let’s look at survival rate by gender:"
      ]
    },
    {
      "cell_type": "code",
      "metadata": {
        "id": "YkzAiXvZzLXd",
        "colab_type": "code",
        "colab": {}
      },
      "source": [
        "titanic.groupby('sex')['survived'].mean()"
      ],
      "execution_count": 0,
      "outputs": []
    },
    {
      "cell_type": "code",
      "metadata": {
        "id": "2P4ksubAzLXe",
        "colab_type": "code",
        "colab": {}
      },
      "source": [
        "titanic.groupby('sex')[['survived']].mean()"
      ],
      "execution_count": 0,
      "outputs": []
    },
    {
      "cell_type": "markdown",
      "metadata": {
        "id": "Y_lyZncZzLXh",
        "colab_type": "raw"
      },
      "source": [
        "This immediately gives us some insight: overall, three of every four females on board survived, while only one in five males survived!\n",
        "\n",
        "This is useful, but we might like to go one step deeper and look at survival by both sex and, say, class. \n",
        "\n",
        "Using the vocabulary of GroupBy, we might proceed using something like this: we group by class and gender, select survival, apply a mean aggregate, combine\n",
        "the resulting groups, and then unstack the hierarchical index to reveal the hidden multidimensionality. In code:"
      ]
    },
    {
      "cell_type": "code",
      "metadata": {
        "id": "h5LC1MEkzLXi",
        "colab_type": "code",
        "colab": {}
      },
      "source": [
        "# Pivot Table Syntax\n",
        "# Here is the equivalent to the preceding operation using \n",
        "# the pivot_table method of DataFrames:\n",
        "\n",
        "titanic.pivot_table('survived', index='sex', columns='class')\n",
        "\n",
        "# This is eminently more readable than the GroupBy approach, \n",
        "# and produces the same result."
      ],
      "execution_count": 0,
      "outputs": []
    },
    {
      "cell_type": "markdown",
      "metadata": {
        "id": "x-wNVbkuzLXk",
        "colab_type": "raw"
      },
      "source": [
        "This gives us a better idea of how both gender and class affected survival, but the code is starting to look a bit garbled. While each step of this pipeline makes sense in light of the tools we’ve previously discussed, the long string of code is not particularly easy to read or use. \n",
        "\n",
        "Pandas includes a convenience routine, pivot_table, which easily handles this type of multidimensional aggregation."
      ]
    },
    {
      "cell_type": "markdown",
      "metadata": {
        "id": "moY7x2O9zLXl",
        "colab_type": "raw"
      },
      "source": [
        "The full call signature of the pivot_table method of DataFrames is as follows:\n",
        "\n",
        "DataFrame.pivot_table(data, values=None, index=None, columns=None,\n",
        "aggfunc='mean', fill_value=None, margins=False,\n",
        "dropna=True, margins_name='All')\n",
        "\n",
        "For further reading on \"Pandas Pivot Tables\" see\n",
        "https://pbpython.com/pandas-pivot-table-explained.html"
      ]
    }
  ]
}
