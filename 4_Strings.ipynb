{
  "nbformat": 4,
  "nbformat_minor": 0,
  "metadata": {
    "kernelspec": {
      "display_name": "Python 3",
      "language": "python",
      "name": "python3"
    },
    "language_info": {
      "codemirror_mode": {
        "name": "ipython",
        "version": 3
      },
      "file_extension": ".py",
      "mimetype": "text/x-python",
      "name": "python",
      "nbconvert_exporter": "python",
      "pygments_lexer": "ipython3",
      "version": "3.7.4"
    },
    "toc": {
      "base_numbering": 1,
      "nav_menu": {},
      "number_sections": true,
      "sideBar": true,
      "skip_h1_title": false,
      "title_cell": "Table of Contents",
      "title_sidebar": "Contents",
      "toc_cell": false,
      "toc_position": {},
      "toc_section_display": true,
      "toc_window_display": false
    },
    "colab": {
      "name": "4 Strings.ipynb",
      "provenance": [],
      "include_colab_link": true
    }
  },
  "cells": [
    {
      "cell_type": "markdown",
      "metadata": {
        "id": "view-in-github",
        "colab_type": "text"
      },
      "source": [
        "<a href=\"https://colab.research.google.com/github/aniruddhamodak/Python-Notes-For-Data-Science/blob/master/4_Strings.ipynb\" target=\"_parent\"><img src=\"https://colab.research.google.com/assets/colab-badge.svg\" alt=\"Open In Colab\"/></a>"
      ]
    },
    {
      "cell_type": "markdown",
      "metadata": {
        "id": "iBPuWUnMx8-P",
        "colab_type": "text"
      },
      "source": [
        "String is a collection of characters.\n",
        "--"
      ]
    },
    {
      "cell_type": "code",
      "metadata": {
        "id": "ghqhlbFTx8-X",
        "colab_type": "code",
        "colab": {},
        "outputId": "8335b503-91bc-4b10-ed61-609463715e69"
      },
      "source": [
        "s=\"Darshan\"\n",
        "# type your code here\n",
        "\n",
        "type(s)"
      ],
      "execution_count": 0,
      "outputs": [
        {
          "output_type": "execute_result",
          "data": {
            "text/plain": [
              "str"
            ]
          },
          "metadata": {
            "tags": []
          },
          "execution_count": 1
        }
      ]
    },
    {
      "cell_type": "markdown",
      "metadata": {
        "id": "4dkknUD6x9Ag",
        "colab_type": "raw"
      },
      "source": [
        "Both forward and backward indexing work."
      ]
    },
    {
      "cell_type": "code",
      "metadata": {
        "id": "vVtdFak1x9Ai",
        "colab_type": "code",
        "colab": {},
        "outputId": "dbba6ea3-5555-4a13-f499-112dfc916c2f"
      },
      "source": [
        "s[1]"
      ],
      "execution_count": 0,
      "outputs": [
        {
          "output_type": "execute_result",
          "data": {
            "text/plain": [
              "'a'"
            ]
          },
          "metadata": {
            "tags": []
          },
          "execution_count": 2
        }
      ]
    },
    {
      "cell_type": "code",
      "metadata": {
        "id": "4qxQOmQYx9Ao",
        "colab_type": "code",
        "colab": {},
        "outputId": "bcc8be63-7dcd-4e70-c9cc-95e65e5b783e"
      },
      "source": [
        "# type your code here\n",
        "s[-3]\n"
      ],
      "execution_count": 0,
      "outputs": [
        {
          "output_type": "execute_result",
          "data": {
            "text/plain": [
              "'h'"
            ]
          },
          "metadata": {
            "tags": []
          },
          "execution_count": 3
        }
      ]
    },
    {
      "cell_type": "code",
      "metadata": {
        "id": "ssXkbmNWx9B9",
        "colab_type": "code",
        "colab": {},
        "outputId": "850571a2-60cd-4090-e1f4-9c5f5129062b"
      },
      "source": [
        "# String Slicing\n",
        "s = \"Machine Learning\"\n",
        "# type your code here\n",
        "\n",
        "s[::-1]\n",
        "\n",
        "\n"
      ],
      "execution_count": 0,
      "outputs": [
        {
          "output_type": "execute_result",
          "data": {
            "text/plain": [
              "'gninraeL enihcaM'"
            ]
          },
          "metadata": {
            "tags": []
          },
          "execution_count": 8
        }
      ]
    },
    {
      "cell_type": "code",
      "metadata": {
        "id": "5xQKYF1zx9Cn",
        "colab_type": "code",
        "colab": {},
        "outputId": "ad85f360-1573-42a1-bb70-efb7af49fb8c"
      },
      "source": [
        "# Program to demonstarte various string functions\n",
        "s1 = \"Hello World\"\n",
        "s2 = \"Machine Learning\"\n",
        "s3 = \"Darshan\"\n",
        "print(s1+s2)\n",
        "print(s3*3)\n",
        "print(s2.swapcase())\n",
        "print(s1.lower())\n",
        "print(s3.upper())\n",
        "print(max(s3))\n",
        "print(min(s3))\n",
        "print(\"s1.isdigit(): \",s1.isalpha())\n",
        "s4=\"an apple a day keeps the doctor away \"\n",
        "print(s4.capitalize())\n",
        "print(len(s4))\n",
        "print(s4.replace('a','e'))"
      ],
      "execution_count": 0,
      "outputs": [
        {
          "output_type": "stream",
          "text": [
            "Hello WorldMachine Learning\n",
            "DarshanDarshanDarshan\n",
            "mACHINE lEARNING\n",
            "hello world\n",
            "DARSHAN\n",
            "s\n",
            "D\n",
            "s1.isdigit():  False\n",
            "An apple a day keeps the doctor away \n",
            "37\n",
            "en epple e dey keeps the doctor ewey \n"
          ],
          "name": "stdout"
        }
      ]
    },
    {
      "cell_type": "code",
      "metadata": {
        "id": "GwYgxMhWx9Cr",
        "colab_type": "code",
        "colab": {},
        "outputId": "bffe48bd-9a53-40f6-a697-25e5c49fb609"
      },
      "source": [
        "# 'in' and 'not in' operator\n",
        "s = \"Machine\"\n",
        "# type your code here\n",
        "'M' in s"
      ],
      "execution_count": 0,
      "outputs": [
        {
          "output_type": "execute_result",
          "data": {
            "text/plain": [
              "True"
            ]
          },
          "metadata": {
            "tags": []
          },
          "execution_count": 22
        }
      ]
    },
    {
      "cell_type": "code",
      "metadata": {
        "id": "iMDsCO_Ux9C0",
        "colab_type": "code",
        "colab": {},
        "outputId": "e9f15259-4284-40ae-d2b7-53513352cc32"
      },
      "source": [
        "# Traversal with for loop\n",
        "st=\"Darshan\"\n",
        "for i in st:\n",
        "    print(i)"
      ],
      "execution_count": 0,
      "outputs": [
        {
          "output_type": "stream",
          "text": [
            "D\n",
            "a\n",
            "r\n",
            "s\n",
            "h\n",
            "a\n",
            "n\n"
          ],
          "name": "stdout"
        }
      ]
    },
    {
      "cell_type": "code",
      "metadata": {
        "id": "Hk57PbH3x9C_",
        "colab_type": "code",
        "colab": {}
      },
      "source": [
        "# Traversal \n",
        "\n"
      ],
      "execution_count": 0,
      "outputs": []
    },
    {
      "cell_type": "code",
      "metadata": {
        "id": "ltnkp7pDx9DH",
        "colab_type": "code",
        "colab": {}
      },
      "source": [
        "# Strings are immutable, means you cant change an existing string\n",
        "st=\"Darshan\"\n"
      ],
      "execution_count": 0,
      "outputs": []
    },
    {
      "cell_type": "code",
      "metadata": {
        "id": "b1SV1JWMx9DK",
        "colab_type": "code",
        "colab": {},
        "outputId": "f5b0bd4f-cdaa-4eb8-a495-bbcce60be086"
      },
      "source": [
        "# Above thing can be achieved with a slight modification\n",
        "st=\"Darshan\"\n",
        "st=\"Y\"+st[1:]\n",
        "print(st)"
      ],
      "execution_count": 0,
      "outputs": [
        {
          "output_type": "stream",
          "text": [
            "Yarshan\n"
          ],
          "name": "stdout"
        }
      ]
    },
    {
      "cell_type": "code",
      "metadata": {
        "id": "TP0om5Pox9DO",
        "colab_type": "code",
        "colab": {},
        "outputId": "594ffa2e-cd4e-40e5-c00d-f75bf3b722fc"
      },
      "source": [
        "# str.find(str,begin,end)\n",
        "f=\"Doctorate of Philosophy\"\n",
        "f.find('c')"
      ],
      "execution_count": 0,
      "outputs": [
        {
          "output_type": "execute_result",
          "data": {
            "text/plain": [
              "2"
            ]
          },
          "metadata": {
            "tags": []
          },
          "execution_count": 12
        }
      ]
    },
    {
      "cell_type": "code",
      "metadata": {
        "id": "5NHKIpcDx9DX",
        "colab_type": "code",
        "colab": {},
        "outputId": "656aaf2b-0717-4bc4-f09e-69d918b3704a"
      },
      "source": [
        "# type your code here\n",
        "\n"
      ],
      "execution_count": 0,
      "outputs": [
        {
          "output_type": "execute_result",
          "data": {
            "text/plain": [
              "3"
            ]
          },
          "metadata": {
            "tags": []
          },
          "execution_count": 13
        }
      ]
    },
    {
      "cell_type": "code",
      "metadata": {
        "id": "JQdQh3f2x9Da",
        "colab_type": "code",
        "colab": {},
        "outputId": "58d0f048-d416-4fe5-bd2c-bf94e81ea947"
      },
      "source": [
        "# type your code here\n",
        "\n"
      ],
      "execution_count": 0,
      "outputs": [
        {
          "output_type": "execute_result",
          "data": {
            "text/plain": [
              "7"
            ]
          },
          "metadata": {
            "tags": []
          },
          "execution_count": 14
        }
      ]
    },
    {
      "cell_type": "code",
      "metadata": {
        "id": "Tk19Z769x9De",
        "colab_type": "code",
        "colab": {},
        "outputId": "e0b486eb-a9fc-4531-c429-45fd863e2405"
      },
      "source": [
        "f.find('o',2,6)"
      ],
      "execution_count": 0,
      "outputs": [
        {
          "output_type": "execute_result",
          "data": {
            "text/plain": [
              "4"
            ]
          },
          "metadata": {
            "tags": []
          },
          "execution_count": 17
        }
      ]
    },
    {
      "cell_type": "code",
      "metadata": {
        "id": "fCKriXJIx9Di",
        "colab_type": "code",
        "colab": {},
        "outputId": "1faff797-6ed3-4c12-d6fe-16c6a866bf72"
      },
      "source": [
        "# Program to "
      ],
      "execution_count": 0,
      "outputs": [
        {
          "output_type": "stream",
          "text": [
            "2\n"
          ],
          "name": "stdout"
        }
      ]
    },
    {
      "cell_type": "code",
      "metadata": {
        "id": "X5gWIzA1x9Do",
        "colab_type": "code",
        "colab": {},
        "outputId": "dd28b6c5-b68b-41f5-8bb3-d59f51193aa4"
      },
      "source": [
        "# Program to count the no of times a letter appears in a string\n",
        "t=\"Darshan Ingle is a Data Science Trainer\"\n",
        "count=0\n",
        "for i in t:\n",
        "    if i=='a':\n",
        "        count=count+1\n",
        "# type your code here\n",
        "print(count)"
      ],
      "execution_count": 0,
      "outputs": [
        {
          "output_type": "stream",
          "text": [
            "6\n"
          ],
          "name": "stdout"
        }
      ]
    },
    {
      "cell_type": "code",
      "metadata": {
        "id": "_kNq30FRx9Dr",
        "colab_type": "code",
        "colab": {}
      },
      "source": [
        "# rfind() will do reverse find"
      ],
      "execution_count": 0,
      "outputs": []
    },
    {
      "cell_type": "code",
      "metadata": {
        "id": "6f5hfD5kx9Du",
        "colab_type": "code",
        "colab": {},
        "outputId": "2f78854d-b9dc-4c6e-d199-be243fc941c6"
      },
      "source": [
        "st=\"darshan\"\n",
        "st.isalpha()"
      ],
      "execution_count": 0,
      "outputs": [
        {
          "output_type": "execute_result",
          "data": {
            "text/plain": [
              "True"
            ]
          },
          "metadata": {
            "tags": []
          },
          "execution_count": 23
        }
      ]
    },
    {
      "cell_type": "code",
      "metadata": {
        "id": "OAUaUdOix9Dy",
        "colab_type": "code",
        "colab": {},
        "outputId": "2d2f938f-c3bb-48b8-8a9f-3d40863fd682"
      },
      "source": [
        "st=\"darshan\"\n",
        "# type your code here\n"
      ],
      "execution_count": 0,
      "outputs": [
        {
          "output_type": "execute_result",
          "data": {
            "text/plain": [
              "False"
            ]
          },
          "metadata": {
            "tags": []
          },
          "execution_count": 24
        }
      ]
    },
    {
      "cell_type": "code",
      "metadata": {
        "id": "ERK3Lqajx9D3",
        "colab_type": "code",
        "colab": {}
      },
      "source": [
        "# Program for string concatenation\n",
        "s1=\"ABTNSKL\"\n",
        "s2=\"AM\"\n",
        "for i in s1:\n",
        "    print(i+s2)"
      ],
      "execution_count": 0,
      "outputs": []
    },
    {
      "cell_type": "code",
      "metadata": {
        "id": "p5SjjDsIx9D6",
        "colab_type": "code",
        "colab": {},
        "outputId": "b35a40fd-7b53-4532-a11f-59d3715480d1"
      },
      "source": [
        "# Palindrome\n",
        "s1=\"malayalam\" #try using input()\n",
        "s2=s1[::-1]\n",
        "if s1==s2:\n",
        "    print(s1,\" is a palindrome\")\n",
        "else:\n",
        "    print(s1,\" is not a palindrome\")"
      ],
      "execution_count": 0,
      "outputs": [
        {
          "output_type": "stream",
          "text": [
            "malayalam  is a palindrome\n"
          ],
          "name": "stdout"
        }
      ]
    },
    {
      "cell_type": "code",
      "metadata": {
        "id": "sVd5iFrQyEGL",
        "colab_type": "code",
        "colab": {}
      },
      "source": [
        ""
      ],
      "execution_count": 0,
      "outputs": []
    }
  ]
}