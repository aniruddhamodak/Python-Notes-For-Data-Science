{
  "nbformat": 4,
  "nbformat_minor": 0,
  "metadata": {
    "kernelspec": {
      "display_name": "Python 3",
      "language": "python",
      "name": "python3"
    },
    "language_info": {
      "codemirror_mode": {
        "name": "ipython",
        "version": 3
      },
      "file_extension": ".py",
      "mimetype": "text/x-python",
      "name": "python",
      "nbconvert_exporter": "python",
      "pygments_lexer": "ipython3",
      "version": "3.7.4"
    },
    "toc": {
      "base_numbering": 1,
      "nav_menu": {},
      "number_sections": true,
      "sideBar": true,
      "skip_h1_title": false,
      "title_cell": "Table of Contents",
      "title_sidebar": "Contents",
      "toc_cell": false,
      "toc_position": {},
      "toc_section_display": true,
      "toc_window_display": false
    },
    "colab": {
      "name": "6 Dictionary, Random Module.ipynb",
      "provenance": [],
      "include_colab_link": true
    }
  },
  "cells": [
    {
      "cell_type": "markdown",
      "metadata": {
        "id": "view-in-github",
        "colab_type": "text"
      },
      "source": [
        "<a href=\"https://colab.research.google.com/github/aniruddhamodak/Python-Notes-For-Data-Science/blob/master/6_Dictionary%2C_Random_Module.ipynb\" target=\"_parent\"><img src=\"https://colab.research.google.com/assets/colab-badge.svg\" alt=\"Open In Colab\"/></a>"
      ]
    },
    {
      "cell_type": "markdown",
      "metadata": {
        "id": "yXT2Ugfazbcs",
        "colab_type": "text"
      },
      "source": [
        "Dictionary/Associative Array:\n",
        "--\n",
        "\n",
        "> Python provides a dictionary structure to deal with unordered set of key value pairs.\n",
        "\n",
        "> The key and value pair is called as item.\n",
        "\n",
        "> The values in the dictionary are mutable i.e can be changed\n",
        "\n",
        "> The keys in the dictionary are immutable i.e cannot be changed\n",
        "\n",
        "> It is also called as an Associative array because the key works as an Index and they are decided by the user."
      ]
    },
    {
      "cell_type": "code",
      "metadata": {
        "id": "f6Hz-u-_zbcv",
        "colab_type": "code",
        "colab": {},
        "outputId": "1c001e05-0d49-4fbe-8016-ddd1bd4dbc34"
      },
      "source": [
        "d = {1:\"COMP\", 2: \"IT\", 3:\"EXTC\"}\n",
        "print(d[2])"
      ],
      "execution_count": 0,
      "outputs": [
        {
          "output_type": "stream",
          "text": [
            "IT\n"
          ],
          "name": "stdout"
        }
      ]
    },
    {
      "cell_type": "code",
      "metadata": {
        "id": "_NMeC8s6zbc1",
        "colab_type": "code",
        "colab": {},
        "outputId": "41146017-8208-4cc1-ee49-f63c90080f7a"
      },
      "source": [
        "# [70]\n",
        "d1 = {\"COMP\": 1, \"IT\":2, \"EXTC\":3}\n",
        "print(d1['IT'])"
      ],
      "execution_count": 0,
      "outputs": [
        {
          "output_type": "stream",
          "text": [
            "2\n"
          ],
          "name": "stdout"
        }
      ]
    },
    {
      "cell_type": "code",
      "metadata": {
        "id": "HNStx-LVzbc5",
        "colab_type": "code",
        "colab": {},
        "outputId": "0ba8b9c9-3fed-489d-bb17-9cd920f5da82"
      },
      "source": [
        "d = {1:\"COMP\", 2: \"IT\", 3:\"EXTC\"}\n",
        "print(d[1])\n",
        "d[1]=\"MACHINE\"\n",
        "print(d[1])\n",
        "print(d)\n",
        "del d[1]\n",
        "print(d)\n",
        "d.clear()\n",
        "print(d)"
      ],
      "execution_count": 0,
      "outputs": [
        {
          "output_type": "stream",
          "text": [
            "COMP\n",
            "MACHINE\n",
            "{1: 'MACHINE', 2: 'IT', 3: 'EXTC'}\n",
            "{2: 'IT', 3: 'EXTC'}\n",
            "{}\n"
          ],
          "name": "stdout"
        }
      ]
    },
    {
      "cell_type": "code",
      "metadata": {
        "id": "lqBSl6VXzbc9",
        "colab_type": "code",
        "colab": {},
        "outputId": "b4a958ab-297b-49d7-c758-2fab3cfb938b"
      },
      "source": [
        "t=('A','B','C')\n",
        "print(t)\n",
        "t = tuple('X',) + t[1:]\n",
        "print(t)"
      ],
      "execution_count": 0,
      "outputs": [
        {
          "output_type": "stream",
          "text": [
            "('A', 'B', 'C')\n",
            "('X', 'B', 'C')\n"
          ],
          "name": "stdout"
        }
      ]
    },
    {
      "cell_type": "code",
      "metadata": {
        "id": "s5ifS13qzbdB",
        "colab_type": "code",
        "colab": {},
        "outputId": "2369365d-366f-4196-a02e-fe4ab51a0b38"
      },
      "source": [
        "d = {1:\"COMP\", 2: \"IT\", 3:\"EXTC\"}\n",
        "print(3 in d)\n",
        "print(str(d))\n",
        "print(len(d))\n",
        "# [72]\n",
        "print(d.keys())\n",
        "print(d.values())"
      ],
      "execution_count": 0,
      "outputs": [
        {
          "output_type": "stream",
          "text": [
            "True\n",
            "{1: 'COMP', 2: 'IT', 3: 'EXTC'}\n",
            "3\n",
            "dict_keys([1, 2, 3])\n",
            "dict_values(['COMP', 'IT', 'EXTC'])\n"
          ],
          "name": "stdout"
        }
      ]
    },
    {
      "cell_type": "code",
      "metadata": {
        "id": "0OhrAV5SzbdF",
        "colab_type": "code",
        "colab": {},
        "outputId": "6e0e3b89-c5f1-43de-ac5e-30d3bb7ad1e3"
      },
      "source": [
        "d1 = {1:\"COMP\", 2: \"IT\", 3:\"EXTC\"}\n",
        "d2 = {100:\"CHEM\"}\n",
        "print(d1)\n",
        "print(d2)\n",
        "# [73]\n",
        "d1.update(d2)\n",
        "print(d1)"
      ],
      "execution_count": 0,
      "outputs": [
        {
          "output_type": "stream",
          "text": [
            "{1: 'COMP', 2: 'IT', 3: 'EXTC'}\n",
            "{100: 'CHEM'}\n",
            "{1: 'COMP', 2: 'IT', 3: 'EXTC', 100: 'CHEM'}\n"
          ],
          "name": "stdout"
        }
      ]
    },
    {
      "cell_type": "code",
      "metadata": {
        "id": "0qTC_Fs4zbdI",
        "colab_type": "code",
        "colab": {},
        "outputId": "8059e3a9-6281-44a2-eef5-1d3bcf0a7ca6"
      },
      "source": [
        "d1 = {\"COMP\" : 3, \"IT\": 1, \"EXTC\":2}\n",
        "print(d1.get(\"IT\"))\n",
        "print(d1['IT'])"
      ],
      "execution_count": 0,
      "outputs": [
        {
          "output_type": "stream",
          "text": [
            "1\n",
            "1\n"
          ],
          "name": "stdout"
        }
      ]
    },
    {
      "cell_type": "markdown",
      "metadata": {
        "id": "cst4dZH6zbdP",
        "colab_type": "text"
      },
      "source": [
        "Random Module\n",
        "--\n",
        "\n",
        "It is used to deal with numbers in random manner."
      ]
    },
    {
      "cell_type": "code",
      "metadata": {
        "id": "RHJWCrnMzbdP",
        "colab_type": "code",
        "colab": {},
        "outputId": "20ad5643-e39b-4a6a-9986-3c31d863bf41"
      },
      "source": [
        "import random\n",
        "print(random.choice((1,2,3,4,5,6)))\n",
        "print(random.choice([11,22,33,44,55,66]))\n",
        "print(random.choice('Darshan'))\n",
        "print(random.randrange(100,1000,2))\n",
        "print(random.random())"
      ],
      "execution_count": 0,
      "outputs": [
        {
          "output_type": "stream",
          "text": [
            "3\n",
            "44\n",
            "n\n",
            "346\n",
            "0.4874141737907042\n"
          ],
          "name": "stdout"
        }
      ]
    },
    {
      "cell_type": "code",
      "metadata": {
        "id": "AHhx7Fj9zbdV",
        "colab_type": "code",
        "colab": {},
        "outputId": "d5e32ab9-e64a-41aa-81b3-dc7f1868bed3"
      },
      "source": [
        "import random\n",
        "print(random.choice('Darshan'))"
      ],
      "execution_count": 0,
      "outputs": [
        {
          "output_type": "stream",
          "text": [
            "a\n"
          ],
          "name": "stdout"
        }
      ]
    },
    {
      "cell_type": "code",
      "metadata": {
        "id": "62axMlUAzbdZ",
        "colab_type": "code",
        "colab": {},
        "outputId": "f334a3ca-6526-4d92-e8d0-83ba9e86562c"
      },
      "source": [
        "st=[1,3,2,6]\n",
        "random.shuffle(st)\n",
        "print(st)\n",
        "#Try executing\n",
        "#print(random.shuffle(st))\n",
        "print(random.uniform(7,14)) # uniform(x,y) gives a number n such that x <= n < y\n",
        "print(random.uniform(7,14))"
      ],
      "execution_count": 0,
      "outputs": [
        {
          "output_type": "stream",
          "text": [
            "[3, 2, 1, 6]\n",
            "7.94209339521996\n",
            "13.128581309360033\n"
          ],
          "name": "stdout"
        }
      ]
    },
    {
      "cell_type": "code",
      "metadata": {
        "id": "aZMUXRANzbde",
        "colab_type": "code",
        "colab": {},
        "outputId": "f6d2d2d8-26cd-46d7-9626-8bb9a8434218"
      },
      "source": [
        "# Dictionary can contain lists\n",
        "l = {1: ['1',2], 2: ('1', '2'), 3: ['2', '3'], 4: ['3']}\n",
        "print(l)\n",
        "print(type(l[2]))"
      ],
      "execution_count": 0,
      "outputs": [
        {
          "output_type": "stream",
          "text": [
            "{1: ['1', 2], 2: ('1', '2'), 3: ['2', '3'], 4: ['3']}\n",
            "<class 'tuple'>\n"
          ],
          "name": "stdout"
        }
      ]
    },
    {
      "cell_type": "code",
      "metadata": {
        "id": "WkgO9zwGzbdi",
        "colab_type": "code",
        "colab": {},
        "outputId": "91242ccd-82af-4f17-98c8-355cd3f6ecfd"
      },
      "source": [
        "# Dictionary can contain tuples\n",
        "l = {1: ('1',2), 2: ('1', '2'), 3: ('2', '3'), 4: ('3')}\n",
        "print(l)\n",
        "print(type(l))\n",
        "print(type(l[4]))"
      ],
      "execution_count": 0,
      "outputs": [
        {
          "output_type": "stream",
          "text": [
            "{1: ('1', 2), 2: ('1', '2'), 3: ('2', '3'), 4: '3'}\n",
            "<class 'dict'>\n",
            "<class 'str'>\n"
          ],
          "name": "stdout"
        }
      ]
    },
    {
      "cell_type": "code",
      "metadata": {
        "id": "2-DfgjxQzbdm",
        "colab_type": "code",
        "colab": {},
        "outputId": "154dd004-58ee-4a6e-b7f4-c452e6dc87bd"
      },
      "source": [
        "# Dictionary can contain tuples\n",
        "l = {1: ('1',2), 2: ('1', '2'), 3: ('2', '3'), 4: ('3',)}\n",
        "print(l)\n",
        "print(type(l))\n",
        "print(type(l[4]))"
      ],
      "execution_count": 0,
      "outputs": [
        {
          "output_type": "stream",
          "text": [
            "{1: ('1', 2), 2: ('1', '2'), 3: ('2', '3'), 4: ('3',)}\n",
            "<class 'dict'>\n",
            "<class 'tuple'>\n"
          ],
          "name": "stdout"
        }
      ]
    },
    {
      "cell_type": "code",
      "metadata": {
        "id": "XT70LQB2zbdo",
        "colab_type": "code",
        "colab": {},
        "outputId": "4cb5c99d-6423-4dcb-b986-b674bc92ef25"
      },
      "source": [
        "# Dictionary can contain dictionaries\n",
        "l = {1: ('1',2), 2: ('1', '2'), 100:{444: ('1',2), 445: ('1', '2'), 446: ('2', '3')},3: ('2', '3'), 4: ('3')}\n",
        "print(l)\n",
        "print(type(l))\n",
        "print(\"l[1]= \",l[1])\n",
        "print(\"l[100]= \",l[100])"
      ],
      "execution_count": 0,
      "outputs": [
        {
          "output_type": "stream",
          "text": [
            "{1: ('1', 2), 2: ('1', '2'), 100: {444: ('1', 2), 445: ('1', '2'), 446: ('2', '3')}, 3: ('2', '3'), 4: '3'}\n",
            "<class 'dict'>\n",
            "l[1]=  ('1', 2)\n",
            "l[100]=  {444: ('1', 2), 445: ('1', '2'), 446: ('2', '3')}\n"
          ],
          "name": "stdout"
        }
      ]
    },
    {
      "cell_type": "code",
      "metadata": {
        "scrolled": true,
        "id": "bvQn1S8zzbdr",
        "colab_type": "code",
        "colab": {},
        "outputId": "4c0bdf80-1365-4308-f86f-13e76a858cff"
      },
      "source": [
        "# List can contain tuples\n",
        "l=[1,2,(999,888),3,4]\n",
        "print(l)\n",
        "print(l[2])\n",
        "print(type(l))\n",
        "print(type(l[2]))"
      ],
      "execution_count": 0,
      "outputs": [
        {
          "output_type": "stream",
          "text": [
            "[1, 2, (999, 888), 3, 4]\n",
            "(999, 888)\n",
            "<class 'list'>\n",
            "<class 'tuple'>\n"
          ],
          "name": "stdout"
        }
      ]
    },
    {
      "cell_type": "code",
      "metadata": {
        "id": "ipEKdmVuzbdv",
        "colab_type": "code",
        "colab": {},
        "outputId": "1cafce7b-922e-4cb4-8ca6-5e21ac9a522b"
      },
      "source": [
        "# Tuple can contain lists\n",
        "l = (1,2,[999,888],3,4)\n",
        "print(l)\n",
        "print(l[2])\n",
        "print(type(l))\n",
        "print(type(l[2]))"
      ],
      "execution_count": 0,
      "outputs": [
        {
          "output_type": "stream",
          "text": [
            "(1, 2, [999, 888], 3, 4)\n",
            "[999, 888]\n",
            "<class 'tuple'>\n",
            "<class 'list'>\n"
          ],
          "name": "stdout"
        }
      ]
    }
  ]
}